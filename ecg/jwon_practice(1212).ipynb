{
 "cells": [
  {
   "cell_type": "code",
   "execution_count": 1,
   "metadata": {},
   "outputs": [
    {
     "name": "stderr",
     "output_type": "stream",
     "text": [
      "/usr/lib/python3/dist-packages/requests/__init__.py:89: RequestsDependencyWarning: urllib3 (2.1.0) or chardet (5.2.0) doesn't match a supported version!\n",
      "  warnings.warn(\"urllib3 ({}) or chardet ({}) doesn't match a supported \"\n",
      "/usr/local/lib/python3.8/dist-packages/tqdm/auto.py:21: TqdmWarning: IProgress not found. Please update jupyter and ipywidgets. See https://ipywidgets.readthedocs.io/en/stable/user_install.html\n",
      "  from .autonotebook import tqdm as notebook_tqdm\n"
     ]
    }
   ],
   "source": [
    "import torch\n",
    "import torch.nn as nn\n",
    "import torch.nn.functional as F\n",
    "import torch.optim as optim\n",
    "from torch.utils.data import DataLoader, TensorDataset\n",
    "\n",
    "import numpy as np\n",
    "import pandas as pd\n",
    "from sklearn.model_selection import train_test_split\n",
    "from sklearn.metrics import (\n",
    "    roc_auc_score, accuracy_score, precision_recall_curve, \n",
    "    precision_score, recall_score, f1_score, confusion_matrix, roc_curve, average_precision_score\n",
    ")\n",
    "\n",
    "import seaborn as sns\n",
    "import matplotlib.pyplot as plt\n",
    "from matplotlib.ticker import FixedLocator\n",
    "from tqdm import tqdm\n",
    "\n",
    "\n",
    "import json\n",
    "import yaml\n",
    "import random\n",
    "import wandb\n",
    "import ast\n",
    "import optuna"
   ]
  },
  {
   "cell_type": "markdown",
   "metadata": {},
   "source": [
    "# Data Load"
   ]
  },
  {
   "cell_type": "code",
   "execution_count": 2,
   "metadata": {},
   "outputs": [],
   "source": [
    "def load_ptb_data():\n",
    "    # PTB-XL 데이터셋 로드 및 전처리\n",
    "    df_ptb = pd.read_csv('./ptb_xl_data/ptbxl_database.csv', index_col='ecg_id')\n",
    "    df_ptb.scp_codes = df_ptb.scp_codes.apply(lambda x: ast.literal_eval(x))\n",
    "    df_ptb.scp_codes = df_ptb.scp_codes.apply(lambda x: list(x.keys()))\n",
    "    df_ptb['label'] = df_ptb.scp_codes.apply(lambda arr: 1 if 'AFIB' in arr else 0)\n",
    "    # 총 21799개 중 AFIB 라벨이 있는 샘플은 1514개로 6.95%에 해당, 샘플 불균형 존재\n",
    "\n",
    "    labels = df_ptb['label'].values\n",
    "    lead1_signals = np.load('./custom_file/annie_ptb_xl_lead1.npy')\n",
    "\n",
    "\n",
    "    # 데이터 정규화 (전체)\n",
    "    lead1_signals_normalized = (lead1_signals - lead1_signals.mean()) / (lead1_signals.std()+1e-7)\n",
    "\n",
    "    # 데이터셋을 텐서로 변환\n",
    "    X = torch.Tensor(lead1_signals_normalized)\n",
    "    y = torch.Tensor(labels).long()\n",
    "\n",
    "    # 데이터 분할 (훈련:검증:테스트 = 8:1:1)\n",
    "    X_train, X_temp, y_train, y_temp = train_test_split(X, y, test_size=0.2, random_state=42, stratify=y)\n",
    "    X_val, X_test, y_val, y_test = train_test_split(X_temp, y_temp, test_size=0.5, random_state=42, stratify=y_temp)\n",
    "\n",
    "    # 채널 수를 1로 추가\n",
    "    X_train = X_train.unsqueeze(1)\n",
    "    X_val = X_val.unsqueeze(1)\n",
    "    X_test = X_test.unsqueeze(1)\n",
    "\n",
    "    return X_train, X_val, X_test, y_train, y_val, y_test\n",
    "\n",
    "\n",
    "\n",
    "def create_dataloaders(batch_size=64):\n",
    "    # DataLoader 생성, batch_size를 변경하려면 함수 호출 시 파라미터 변경\n",
    "    X_train, X_val, X_test, y_train, y_val, y_test = load_ptb_data()\n",
    "\n",
    "    # DataLoader 생성\n",
    "    train_data = TensorDataset(X_train, y_train)\n",
    "    val_data = TensorDataset(X_val, y_val)\n",
    "    test_data = TensorDataset(X_test, y_test)\n",
    "\n",
    "    train_loader = DataLoader(train_data, shuffle=True, batch_size=batch_size)\n",
    "    val_loader = DataLoader(val_data, batch_size=batch_size)\n",
    "    test_loader = DataLoader(test_data, batch_size=batch_size)\n",
    "\n",
    "    return train_loader, val_loader, test_loader\n",
    "\n",
    "\n",
    "\n",
    "def load_sph_data(batch_size=64):\n",
    "    # SPH 데이터 로드 및 전처리\n",
    "    df_sph = pd.read_csv(\"./sph_data/metadata.csv\", index_col='ECG_ID')\n",
    "    # 'AHA_Code' 컬럼의 각 값에 대해 '50'이 포함되어 있는지 확인하고, 'label' 컬럼 생성\n",
    "    def check_contains_50(code):\n",
    "        numbers = code.replace(' ', '').replace('+', ';').split(';')\n",
    "        return '50' in numbers\n",
    "\n",
    "    df_sph['label'] = df_sph['AHA_Code'].apply(check_contains_50).astype(int)\n",
    "    \n",
    "    sph_labels = df_sph['label'].values\n",
    "\n",
    "    sph_signals = np.load('./custom_file/annie_sph_lead1.npy')\n",
    "    sph_signals_float = sph_signals.astype(np.float32)\n",
    "    mean = np.mean(sph_signals_float)\n",
    "    std = np.std(sph_signals_float)\n",
    "    sph_signals_normalized = (sph_signals_float - mean) / (std + 1e-7)\n",
    "\n",
    "\n",
    "    # 데이터 정규화 및 텐서 변환\n",
    "    X_sph = torch.Tensor(sph_signals_normalized)\n",
    "    y_sph = torch.Tensor(df_sph['label'].values).long()\n",
    "\n",
    "    X_sph = X_sph.unsqueeze(1)\n",
    "\n",
    "    sph_data = TensorDataset(X_sph, y_sph)\n",
    "    sph_loader = DataLoader(sph_data, batch_size=batch_size)\n",
    "\n",
    "    return sph_loader\n",
    "\n"
   ]
  },
  {
   "cell_type": "markdown",
   "metadata": {},
   "source": [
    "# 1D CNN Modeling"
   ]
  },
  {
   "cell_type": "code",
   "execution_count": 3,
   "metadata": {},
   "outputs": [],
   "source": [
    "# SimpleCNN\n",
    "\n",
    "class SimpleCNN(nn.Module):\n",
    "    def __init__(self):\n",
    "        super(SimpleCNN, self).__init__()\n",
    "        self.conv1 = nn.Conv1d(1, 32, kernel_size=5, stride=2) \n",
    "        self.pool = nn.MaxPool1d(kernel_size=5, stride=1) \n",
    "        self.conv2 = nn.Conv1d(32, 64, kernel_size=5) \n",
    "        self.fc1 = nn.Linear(64 * 2486, 1000) \n",
    "        self.fc2 = nn.Linear(1000, 500)\n",
    "        self.fc3 = nn.Linear(500, 1)\n",
    "\n",
    "    def forward(self, x):\n",
    "        x = self.pool(nn.functional.leaky_relu(self.conv1(x)))\n",
    "        x = self.pool(nn.functional.leaky_relu(self.conv2(x)))\n",
    "        x = x.view(-1, 64 * 2486)\n",
    "        x = nn.functional.leaky_relu(self.fc1(x))\n",
    "        x = nn.functional.leaky_relu(self.fc2(x))\n",
    "        x = self.fc3(x)\n",
    "        return x\n",
    "\n",
    "\n",
    "\n",
    "# 충원님 코드\n",
    "\n",
    "class Custom1DCNN(nn.Module):\n",
    "    def __init__(self):\n",
    "        super(Custom1DCNN, self).__init__()\n",
    "\n",
    "        # Convolutional Blocks\n",
    "        self.conv1 = nn.Conv1d(1, 32, kernel_size=5)\n",
    "        self.bn1 = nn.BatchNorm1d(32)\n",
    "        self.relu = nn.ReLU()\n",
    "        self.maxpool1 = nn.MaxPool1d(2)\n",
    "\n",
    "        self.conv2 = nn.Conv1d(32, 32, kernel_size=5)\n",
    "        self.maxpool2 = nn.MaxPool1d(2)\n",
    "\n",
    "        self.conv3 = nn.Conv1d(32, 64, kernel_size=5)\n",
    "        self.maxpool3 = nn.MaxPool1d(2)\n",
    "\n",
    "        self.conv4 = nn.Conv1d(64, 64, kernel_size=5)\n",
    "        self.maxpool4 = nn.MaxPool1d(2)\n",
    "\n",
    "        self.conv5 = nn.Conv1d(64, 128, kernel_size=5)\n",
    "        self.maxpool5 = nn.MaxPool1d(2)\n",
    "\n",
    "        self.conv6 = nn.Conv1d(128, 128, kernel_size=5)\n",
    "        self.maxpool6 = nn.MaxPool1d(2)\n",
    "\n",
    "        self.dropout1 = nn.Dropout(0.5)\n",
    "\n",
    "        self.conv7 = nn.Conv1d(128, 256, kernel_size=5)\n",
    "        self.maxpool7 = nn.MaxPool1d(2)\n",
    "\n",
    "        self.conv8 = nn.Conv1d(256, 256, kernel_size=5)\n",
    "        self.maxpool8 = nn.MaxPool1d(2)\n",
    "\n",
    "        self.dropout2 = nn.Dropout(0.5)\n",
    "\n",
    "        self.conv9 = nn.Conv1d(256, 512, kernel_size=5)\n",
    "        self.maxpool9 = nn.MaxPool1d(2)\n",
    "\n",
    "        self.dropout3 = nn.Dropout(0.5)\n",
    "\n",
    "        self.conv10 = nn.Conv1d(512, 512, kernel_size=5)\n",
    "\n",
    "        # Fully Connected Blocks\n",
    "        self.flatten = nn.Flatten()\n",
    "\n",
    "        self.dense1 = nn.Linear(512, 128)\n",
    "        self.batch_norm_dense1 = nn.BatchNorm1d(128)  # BatchNorm1d for Dense1\n",
    "        self.dropout4 = nn.Dropout(0.5)\n",
    "\n",
    "        self.dense2 = nn.Linear(128, 32)\n",
    "        self.batch_norm_dense2 = nn.BatchNorm1d(32)  # BatchNorm1d for Dense2\n",
    "\n",
    "        self.dense3 = nn.Linear(32, 1)\n",
    "        \n",
    "\n",
    "    def forward(self, x):\n",
    "        # Convolutional Blocks\n",
    "        x = self.maxpool1(self.relu(self.bn1(self.conv1(x))))\n",
    "        x = self.maxpool2(self.relu(self.conv2(x)))\n",
    "        x = self.maxpool3(self.relu(self.conv3(x)))\n",
    "        x = self.maxpool4(self.relu(self.conv4(x)))\n",
    "        x = self.maxpool5(self.relu(self.conv5(x)))\n",
    "        x = self.maxpool6(self.relu(self.conv6(x)))\n",
    "        x = self.dropout1(x)\n",
    "        x = self.maxpool7(self.relu(self.conv7(x)))\n",
    "        x = self.maxpool8(self.relu(self.conv8(x)))\n",
    "        x = self.dropout2(x)\n",
    "        x = self.maxpool9(self.relu(self.conv9(x)))\n",
    "        x = self.dropout3(x)\n",
    "        x = self.conv10(x)\n",
    "\n",
    "        # Fully Connected Blocks\n",
    "        x = self.flatten(x)\n",
    "        x = self.dropout4(self.relu(self.batch_norm_dense1(self.dense1(x))))\n",
    "        x = self.relu(self.batch_norm_dense2(self.dense2(x)))\n",
    "        x = self.dense3(x)\n",
    "\n",
    "        return x"
   ]
  },
  {
   "cell_type": "markdown",
   "metadata": {},
   "source": [
    "# 1D CNN + LSTM Modeling"
   ]
  },
  {
   "cell_type": "code",
   "execution_count": 4,
   "metadata": {},
   "outputs": [],
   "source": [
    "\n",
    "class CNNLSTMModel(nn.Module):\n",
    "    def __init__(self):\n",
    "        super(CNNLSTMModel, self).__init__()\n",
    "        \n",
    "        # 첫번째 Convolutional Block\n",
    "        self.conv1 = nn.Conv1d(in_channels=1, out_channels=64, kernel_size=5, stride=1)\n",
    "        self.bn1 = nn.BatchNorm1d(64)\n",
    "\n",
    "        self.relu1 = nn.ReLU()\n",
    "        self.maxpool1 = nn.MaxPool1d(kernel_size=2, stride=2)\n",
    "        self.dropout1 = nn.Dropout(p=0.1)\n",
    "\n",
    "        # 두번째 Convolutional Block\n",
    "        self.conv2 = nn.Conv1d(in_channels=64, out_channels=32, kernel_size=5, stride=1)\n",
    "        self.bn2 = nn.BatchNorm1d(32)  # 배치 정규화 추가\n",
    "\n",
    "        self.relu2 = nn.ReLU()\n",
    "        self.maxpool2 = nn.MaxPool1d(kernel_size=2, stride=2)\n",
    "        self.dropout2 = nn.Dropout(p=0.1)\n",
    "\n",
    "        # 세번째 Convolutional Block\n",
    "        self.conv3 = nn.Conv1d(in_channels=32, out_channels=16, kernel_size=5, stride=1)\n",
    "        self.bn3 = nn.BatchNorm1d(16)  # 배치 정규화 추가\n",
    "\n",
    "        self.relu3 = nn.ReLU()\n",
    "        self.maxpool3 = nn.MaxPool1d(kernel_size=2, stride=2)\n",
    "        self.dropout3 = nn.Dropout(p=0.1)\n",
    "\n",
    "        # LSTM Block\n",
    "        self.lstm = nn.LSTM(input_size=16, hidden_size=32, batch_first=True)\n",
    "        self.dropout_lstm = nn.Dropout(p=0.1)\n",
    "\n",
    "        # Dense Layers\n",
    "        self.dense1 = nn.Linear(32, 32)\n",
    "        self.relu_dense1 = nn.ReLU()\n",
    "        self.dropout_dense1 = nn.Dropout(p=0.1)\n",
    "\n",
    "        self.dense2 = nn.Linear(32, 16)\n",
    "        self.relu_dense2 = nn.ReLU()\n",
    "\n",
    "        # Output Layer - 이중분류를 위해 출력 유닛을 1로 설정\n",
    "        self.output = nn.Linear(16, 1)\n",
    "\n",
    "    def forward(self, x):\n",
    "        # x: ECG 데이터 (Batch Size, Channels, Length)\n",
    "        \n",
    "        # Convolutional Blocks\n",
    "        x = self.dropout1(self.maxpool1(self.relu1(self.bn1(self.conv1(x)))))  # 배치 정규화 적용\n",
    "        x = self.dropout2(self.maxpool2(self.relu2(self.bn2(self.conv2(x)))))  # 배치 정규화 적용\n",
    "        x = self.dropout3(self.maxpool3(self.relu3(self.bn3(self.conv3(x))))) \n",
    "\n",
    "        # print(x.shape) # (32, 16, 591)\n",
    "\n",
    "        # LSTM Layer - LSTM은 추가적인 차원을 요구하기 때문에 차원 조정이 필요합니다.\n",
    "        x = x.permute(0, 2, 1) # (Batch Size, Sequence Length, Features)\n",
    "        x, (hn, cn) = self.lstm(x)\n",
    "        x = self.dropout_lstm(x[:, -1, :]) # 마지막 시퀀스의 출력만 사용\n",
    "\n",
    "        # Dense Layers\n",
    "        x = self.dropout_dense1(self.relu_dense1(self.dense1(x)))\n",
    "        x = self.relu_dense2(self.dense2(x))\n",
    "\n",
    "        # Output Layer - 시그모이드 활성화 함수를 사용하여 0과 1 사이의 값을 출력\n",
    "        x = torch.sigmoid(self.output(x))\n",
    "        return x\n"
   ]
  },
  {
   "cell_type": "code",
   "execution_count": 4,
   "metadata": {},
   "outputs": [],
   "source": [
    "class SimplifiedCNNLSTMModel(nn.Module):\n",
    "    def __init__(self):\n",
    "        super(SimplifiedCNNLSTMModel, self).__init__()\n",
    "        \n",
    "        # 첫번째 Convolutional Block\n",
    "        self.conv1 = nn.Conv1d(in_channels=1, out_channels=32, kernel_size=5, stride=1)\n",
    "        self.bn1 = nn.BatchNorm1d(32)\n",
    "        self.relu1 = nn.ReLU()\n",
    "        self.maxpool1 = nn.MaxPool1d(kernel_size=2, stride=2)\n",
    "        self.dropout1 = nn.Dropout(p=0.1)\n",
    "\n",
    "        # 두번째 Convolutional Block\n",
    "        self.conv2 = nn.Conv1d(in_channels=32, out_channels=16, kernel_size=5, stride=1)\n",
    "        self.bn2 = nn.BatchNorm1d(16)\n",
    "        self.relu2 = nn.ReLU()\n",
    "        self.maxpool2 = nn.MaxPool1d(kernel_size=2, stride=2)\n",
    "        self.dropout2 = nn.Dropout(p=0.1)\n",
    "\n",
    "        # LSTM Block\n",
    "        self.lstm = nn.LSTM(input_size=16, hidden_size=16, batch_first=True)\n",
    "        self.dropout_lstm = nn.Dropout(p=0.1)\n",
    "\n",
    "        # Dense Layer\n",
    "        self.dense = nn.Linear(16, 16)\n",
    "        self.relu_dense = nn.ReLU()\n",
    "\n",
    "        # Output Layer\n",
    "        self.output = nn.Linear(16, 1)\n",
    "\n",
    "    def forward(self, x):\n",
    "        # Convolutional Blocks\n",
    "        x = self.dropout1(self.maxpool1(self.relu1(self.bn1(self.conv1(x)))))\n",
    "        x = self.dropout2(self.maxpool2(self.relu2(self.bn2(self.conv2(x)))))\n",
    "\n",
    "        # LSTM Layer\n",
    "        x = x.permute(0, 2, 1)\n",
    "        x, (hn, cn) = self.lstm(x)\n",
    "        x = self.dropout_lstm(x[:, -1, :])\n",
    "\n",
    "        # Dense Layer\n",
    "        x = self.relu_dense(self.dense(x))\n",
    "\n",
    "        # Output Layer\n",
    "        x = torch.sigmoid(self.output(x))\n",
    "        return x\n"
   ]
  },
  {
   "cell_type": "markdown",
   "metadata": {},
   "source": [
    "# Transformer model"
   ]
  },
  {
   "cell_type": "code",
   "execution_count": null,
   "metadata": {},
   "outputs": [],
   "source": [
    "import torch\n",
    "import torch.nn as nn\n",
    "from torch.nn import TransformerEncoder, TransformerEncoderLayer\n",
    "import math\n",
    "\n",
    "from model_utils import PositionalEncoding, SelfAttentionPooling\n",
    "\n",
    "class TransformerModel(nn.Module):\n",
    "\n",
    "    def __init__(self, d_model, nhead, dim_feedforward, nlayers, n_conv_layers=2, n_class=2, dropout=0.5, dropout_other=0.1):\n",
    "        super(TransformerModel, self).__init__()\n",
    "        self.model_type = 'Transformer'\n",
    "        self.n_class = n_class\n",
    "        self.n_conv_layers = n_conv_layers\n",
    "        self.relu = torch.nn.ReLU()\n",
    "        self.pos_encoder = PositionalEncoding(d_model, dropout)  # 차원을 d_model로 통일\n",
    "        self.self_att_pool = SelfAttentionPooling(d_model)\n",
    "        encoder_layers = TransformerEncoderLayer(d_model=d_model, \n",
    "                                                 nhead=nhead, \n",
    "                                                 dim_feedforward=dim_feedforward, \n",
    "                                                 dropout=dropout)\n",
    "        self.transformer_encoder = TransformerEncoder(encoder_layers, nlayers)\n",
    "        self.d_model = d_model\n",
    "        self.flatten_layer = torch.nn.Flatten()\n",
    "\n",
    "        # 이진 분류를 위한 선형 출력 레이어 정의\n",
    "        self.decoder = nn.Sequential(nn.Linear(d_model, d_model), \n",
    "                                     nn.Dropout(dropout_other),\n",
    "                                     nn.Linear(d_model, d_model), \n",
    "                                     nn.Linear(d_model, 64))\n",
    "\n",
    "        # 최종 출력 레이어에서 시그모이드 함수 사용\n",
    "        self.fc_out1 = torch.nn.Linear(64, 64)\n",
    "        self.fc_out2 = torch.nn.Linear(64, 1)  # 이진 분류 문제\n",
    "        self.sigmoid = torch.nn.Sigmoid()\n",
    "\n",
    "        # 컨볼루션 레이어와 RRI 레이어 정의\n",
    "        self.conv_layers = nn.ModuleList([torch.nn.Conv1d(in_channels=d_model, out_channels=d_model, kernel_size=3, stride=1, padding=0) for _ in range(n_conv_layers)])\n",
    "        self.conv1_rri = torch.nn.Conv1d(in_channels=1, out_channels=128, kernel_size=3, stride=2)  # RRI 데이터에 적합한 커널 크기와 스트라이드 설정\n",
    "        self.conv2_rri = torch.nn.Conv1d(in_channels=128, out_channels=d_model, kernel_size=3, stride=2)\n",
    "\n",
    "        self.maxpool = torch.nn.MaxPool1d(kernel_size=2)\n",
    "        self.dropout = torch.nn.Dropout(p=0.1)\n",
    "\n",
    "        self.init_weights()  # 가중치 초기화 메소드 활성화\n",
    "\n",
    "    def init_weights(self):\n",
    "        initrange = 0.1\n",
    "        for conv_layer in self.conv_layers:\n",
    "            conv_layer.weight.data.uniform_(-initrange, initrange)\n",
    "            conv_layer.bias.data.zero_()\n",
    "        self.decoder[0].weight.data.uniform_(-initrange, initrange)\n",
    "        self.decoder[2].weight.data.uniform_(-initrange, initrange)\n",
    "\n",
    "    def forward(self, src, src2):\n",
    "        src = src.view(-1, 1, src.shape[1]) \n",
    "        src = self.relu(self.conv_layers[0](src))\n",
    "        for conv_layer in self.conv_layers[1:]:\n",
    "            src = self.relu(conv_layer(src))\n",
    "            src = self.maxpool(src)\n",
    "\n",
    "        src = self.pos_encoder(src)\n",
    "        src = src.permute(2, 0, 1)\n",
    "        output = self.transformer_encoder(src)\n",
    "        output = output.permute(1, 0, 2)\n",
    "        output = self.self_att_pool(output)\n",
    "        logits = self.decoder(output)\n",
    "\n",
    "        src2 = src2.view(-1, 1, src2.shape[1]) \n",
    "        src2 = self.relu(self.conv1_rri(src2))\n",
    "        src2 = self.relu(self.conv2_rri(src2))\n",
    "\n",
    "        # 나머지 RRI 처리 및 출력 레이어 코드\n",
    "\n",
    "        logits = self.sigmoid(self.fc_out2(self.dropout(self.relu(self.fc_out1(logits)))))  # 시그모이드 활성화 함수 적용\n",
    "        return logits\n"
   ]
  },
  {
   "cell_type": "markdown",
   "metadata": {},
   "source": [
    "# Training"
   ]
  },
  {
   "cell_type": "code",
   "execution_count": 7,
   "metadata": {},
   "outputs": [],
   "source": [
    "# 사용자 정의 모듈을 임포트합니다.\n",
    "from annie_data_prep import create_dataloaders, load_sph_data\n",
    "from annie_cnn_model import SimpleCNN, Custom1DCNN, Custom1DCNNWithBatchNormAndDropout\n",
    "from annie_cnnlstm_model import CNNLSTMModel\n",
    "\n",
    "\n",
    "\n",
    "def objective(trial):\n",
    "    ## 모델 시드 고정 \n",
    "    seed = 42\n",
    "    torch.manual_seed(seed)\n",
    "    np.random.seed(seed)\n",
    "    random.seed(seed)\n",
    "    if torch.cuda.is_available():\n",
    "        torch.cuda.manual_seed(seed)\n",
    "        torch.cuda.manual_seed_all(seed)  # 멀티 GPU를 사용하는 경우\n",
    "        torch.backends.cudnn.deterministic = True\n",
    "        torch.backends.cudnn.benchmark = False\n",
    "    \n",
    "\n",
    "    # 옵튜나를 이용한 하이퍼파라미터 제안\n",
    "    learning_rate = trial.suggest_float('learning_rate', 1e-5, 0.01)\n",
    "    batch_size = trial.suggest_categorical('batch_size', [32, 64, 128])\n",
    "    num_epochs = trial.suggest_int('num_epochs', 50, 60)  # Epoch 수를 동적으로 선택\n",
    "    #optimizer_name = trial.suggest_categorical('optimizer', ['Adam', 'SGD'])\n",
    "\n",
    "\n",
    "    # 모델을 GPU로 옮기기\n",
    "    device = torch.device(\"cuda\" if torch.cuda.is_available() else \"cpu\")\n",
    "    model = Custom1DCNN().to(device)\n",
    "\n",
    "\n",
    "    # 손실 함수 및 옵티마이저 설정\n",
    "    criterion = nn.BCEWithLogitsLoss()\n",
    "    # if optimizer_name == 'Adam':\n",
    "    #     optimizer = optim.Adam(model.parameters(), lr=learning_rate)\n",
    "    # elif optimizer_name == 'SGD':\n",
    "    #     optimizer = optim.SGD(model.parameters(), lr=learning_rate, momentum=0.9)\n",
    "    optimizer = optim.SGD(model.parameters(), lr=learning_rate)\n",
    "    #batch_size = \n",
    "    scheduler = optim.lr_scheduler.ReduceLROnPlateau(optimizer, 'max', patience=5, factor=0.1, verbose=True)\n",
    "    \n",
    "    train_loader, val_loader, _ = create_dataloaders(batch_size)\n",
    "    \n",
    "\n",
    "    # 하이퍼파라미터 출력\n",
    "    print(\"-\"*40)\n",
    "    print(f\">>>>> Trial{trial.number+1} Start...<<<<<\")\n",
    "    print(\"-\"*40)\n",
    "    print(f\"[Learning Rate] : {learning_rate}\")\n",
    "    print(f\"[Batch Size] : {batch_size}\")\n",
    "    print(f\"[Epochs] : {num_epochs}\")  # 수정된 부분\n",
    "    print(f\"[Optimizer] : {optimizer}\")\n",
    "    print(\"-\"*23)\n",
    "    print(\">>>>> Let's GO!!! <<<<<\")\n",
    "    print(\"-\"*23)\n",
    "\n",
    "    #print(f\"Hidden Units: {hidden_units}\")\n",
    "\n",
    "\n",
    "    # 학습 및 검증 결과 기록을 위한 사전 선언\n",
    "    model_info = {}\n",
    "\n",
    "    # 학습 및 검증 과정에서의 손실과 정확도 기록\n",
    "    train_losses = []\n",
    "    train_accuracies = []\n",
    "    train_aurocs = []  # 훈련 데이터 AUROC 기록을 위한 리스트\n",
    "    train_auprcs = []  # 훈련 데이터 AUPRC 기록을 위한 리스트\n",
    "    val_losses = []\n",
    "    val_accuracies = []\n",
    "    val_aurocs = []\n",
    "    val_auprcs = []  # AUPRC 기록을 위한 리스트 추가\n",
    "\n",
    "    \n",
    "    #best_auroc = float('-inf')  # 최고 AUROC 기록을 위한 초기값 설정\n",
    "    best_auprc = float('-inf')  # 최고 AUPRC 기록을 위한 초기값 설정\n",
    "    best_auprc_info = None  # 최고 AUPRC 값을 가진 모델의 정보를 저장할 변수\n",
    "\n",
    "    epochs_no_improve = 0\n",
    "    early_stop = False\n",
    "    patience = 10\n",
    "\n",
    "    for epoch in range(num_epochs):\n",
    "        # 훈련 루프\n",
    "        model.train()\n",
    "        train_loss = 0.0\n",
    "        train_preds, train_targets = [], []\n",
    "\n",
    "        for inputs, labels in tqdm(train_loader, desc=f\"Trial {trial.number+1} - Epoch {epoch+1}/{num_epochs} - Training\"):\n",
    "            inputs, labels = inputs.to(device), labels.to(device)\n",
    "            optimizer.zero_grad()  # 그래디언트 초기화\n",
    "\n",
    "            # 순전파 및 역전파\n",
    "            outputs = model(inputs)\n",
    "            loss = criterion(outputs.view(-1), labels.float())\n",
    "            loss.backward()\n",
    "            optimizer.step()\n",
    "\n",
    "            train_loss += loss.item()\n",
    "            train_preds.extend(torch.sigmoid(outputs).view(-1).cpu().detach().numpy())\n",
    "            train_targets.extend(labels.cpu().numpy())\n",
    "\n",
    "        train_loss /= len(train_loader)\n",
    "        train_accuracy = accuracy_score(train_targets, np.round(train_preds))\n",
    "        train_auroc = roc_auc_score(train_targets, train_preds)\n",
    "        train_auprc = average_precision_score(train_targets, train_preds)\n",
    "        train_losses.append(train_loss)\n",
    "        train_accuracies.append(train_accuracy)\n",
    "        train_aurocs.append(train_auroc)\n",
    "        train_auprcs.append(train_auprc)\n",
    "        print(f\">>> [Train] AUROC: {train_auroc:.4f} / AUPRC: {train_auprc:.4f}\")\n",
    "\n",
    "\n",
    "\n",
    "        # 검증 루프\n",
    "        model.eval()\n",
    "        val_loss, val_preds, val_targets = 0.0, [], []\n",
    "\n",
    "        with torch.no_grad():\n",
    "            for inputs, labels in val_loader:\n",
    "                inputs, labels = inputs.to(device), labels.to(device)\n",
    "                outputs = model(inputs)\n",
    "                loss = criterion(outputs.view(-1), labels.float())\n",
    "                val_loss += loss.item()\n",
    "                val_preds.extend(torch.sigmoid(outputs).view(-1).cpu().detach().numpy())\n",
    "                val_targets.extend(labels.cpu().numpy())\n",
    "\n",
    "        val_loss /= len(val_loader)\n",
    "        val_accuracy = accuracy_score(val_targets, np.round(val_preds))\n",
    "        val_auroc = roc_auc_score(val_targets, val_preds)\n",
    "        val_auprc = average_precision_score(val_targets, val_preds)\n",
    "        val_losses.append(val_loss)\n",
    "        val_accuracies.append(val_accuracy)\n",
    "        val_aurocs.append(val_auroc)\n",
    "        val_auprcs.append(val_auprc)\n",
    "\n",
    "        print(f\">>> [Valid] AUROC: {val_auroc:.4f} / AUPRC: {val_auprc:.4f}\")\n",
    "\n",
    "\n",
    "        # 에포크 결과 기록\n",
    "        epoch_info = {\n",
    "            'train_loss': train_loss,\n",
    "            'valid_loss': val_loss,\n",
    "            'train_accuracy': train_accuracy,  \n",
    "            'valid_accuracy': val_accuracy,      \n",
    "            'train_auroc': train_auroc,\n",
    "            'valid_auroc': val_auroc,\n",
    "            'train_auprc': train_auprc,        \n",
    "            'valid_auprc': val_auprc\n",
    "        }\n",
    "        model_info[epoch + 1] = epoch_info\n",
    "\n",
    "\n",
    "        # 스케줄러 업데이트\n",
    "        scheduler.step(val_auprc)\n",
    "\n",
    "        # Early Stopping 체크 및 모델 저장\n",
    "        if val_auprc > best_auprc:\n",
    "            best_auprc = val_auprc\n",
    "            epochs_no_improve = 0\n",
    "            best_auprc_info = epoch_info  # 최고 AUPRC 값을 갱신할 때 정보 저장\n",
    "            torch.save(model.state_dict(), f'trial_{trial.number}_best_model.pth')\n",
    "        else:\n",
    "            epochs_no_improve += 1\n",
    "            if epochs_no_improve == patience:\n",
    "                print(\"Early stopping\")\n",
    "                break\n",
    "    \n",
    "\n",
    "    # 전체 학습 과정의 결과를 JSON 파일로 저장\n",
    "    with open('model_info.json', 'w') as f:\n",
    "        json.dump(model_info, f, indent=4)\n",
    "\n",
    "\n",
    "\n",
    "    # 최고 AUPRC 값을 가진 모델의 정보 출력\n",
    "    print(\"-\" * 42)\n",
    "    print(\"< Trial {trial.number+1}'s Best Performance>\")\n",
    "    if best_auprc_info is not None:\n",
    "        items = list(best_auprc_info.items())\n",
    "        for i, (key, value) in enumerate(items):\n",
    "            print(f\"[{key}]: {value:.4f}\" + (\" <- Pick It Up!\" if i == len(items) - 1 else \"\"))\n",
    "\n",
    "    return best_auprc\n",
    "\n"
   ]
  },
  {
   "cell_type": "code",
   "execution_count": 9,
   "metadata": {},
   "outputs": [
    {
     "name": "stderr",
     "output_type": "stream",
     "text": [
      "[I 2023-12-12 19:43:59,031] A new study created in memory with name: no-name-06d16bce-6706-45bb-92c1-33d45f73baeb\n"
     ]
    },
    {
     "name": "stdout",
     "output_type": "stream",
     "text": [
      "----------------------------------------\n",
      ">>>>> Trial1 Start...<<<<<\n",
      "----------------------------------------\n",
      "[Learning Rate] : 0.005711383403353251\n",
      "[Batch Size] : 128\n",
      "[Epochs] : 55\n",
      "[Optimizer] : Adam (\n",
      "Parameter Group 0\n",
      "    amsgrad: False\n",
      "    betas: (0.9, 0.999)\n",
      "    capturable: False\n",
      "    differentiable: False\n",
      "    eps: 1e-08\n",
      "    foreach: None\n",
      "    fused: None\n",
      "    lr: 0.005711383403353251\n",
      "    maximize: False\n",
      "    weight_decay: 0\n",
      ")\n",
      "-----------------------\n",
      ">>>>> Let's GO!!! <<<<<\n",
      "-----------------------\n"
     ]
    },
    {
     "name": "stderr",
     "output_type": "stream",
     "text": [
      "Trial 1 - Epoch 1/55 - Training: 100%|██████████| 137/137 [00:06<00:00, 19.67it/s]\n"
     ]
    },
    {
     "name": "stdout",
     "output_type": "stream",
     "text": [
      ">>> [Train] AUROC: 0.5199 / AUPRC: 0.0717\n",
      ">>> [Valid] AUROC: 0.7830 / AUPRC: 0.1933\n"
     ]
    },
    {
     "name": "stderr",
     "output_type": "stream",
     "text": [
      "Trial 1 - Epoch 2/55 - Training: 100%|██████████| 137/137 [00:06<00:00, 19.69it/s]\n"
     ]
    },
    {
     "name": "stdout",
     "output_type": "stream",
     "text": [
      ">>> [Train] AUROC: 0.8619 / AUPRC: 0.3159\n",
      ">>> [Valid] AUROC: 0.9669 / AUPRC: 0.5659\n"
     ]
    },
    {
     "name": "stderr",
     "output_type": "stream",
     "text": [
      "Trial 1 - Epoch 3/55 - Training: 100%|██████████| 137/137 [00:06<00:00, 19.64it/s]\n"
     ]
    },
    {
     "name": "stdout",
     "output_type": "stream",
     "text": [
      ">>> [Train] AUROC: 0.9498 / AUPRC: 0.5383\n",
      ">>> [Valid] AUROC: 0.9722 / AUPRC: 0.6103\n"
     ]
    },
    {
     "name": "stderr",
     "output_type": "stream",
     "text": [
      "Trial 1 - Epoch 4/55 - Training: 100%|██████████| 137/137 [00:06<00:00, 19.73it/s]\n"
     ]
    },
    {
     "name": "stdout",
     "output_type": "stream",
     "text": [
      ">>> [Train] AUROC: 0.9608 / AUPRC: 0.5804\n",
      ">>> [Valid] AUROC: 0.9695 / AUPRC: 0.6518\n"
     ]
    },
    {
     "name": "stderr",
     "output_type": "stream",
     "text": [
      "Trial 1 - Epoch 5/55 - Training: 100%|██████████| 137/137 [00:06<00:00, 19.62it/s]\n"
     ]
    },
    {
     "name": "stdout",
     "output_type": "stream",
     "text": [
      ">>> [Train] AUROC: 0.9675 / AUPRC: 0.6233\n",
      ">>> [Valid] AUROC: 0.9785 / AUPRC: 0.6730\n"
     ]
    },
    {
     "name": "stderr",
     "output_type": "stream",
     "text": [
      "Trial 1 - Epoch 6/55 - Training: 100%|██████████| 137/137 [00:07<00:00, 19.26it/s]\n"
     ]
    },
    {
     "name": "stdout",
     "output_type": "stream",
     "text": [
      ">>> [Train] AUROC: 0.9711 / AUPRC: 0.6445\n",
      ">>> [Valid] AUROC: 0.9791 / AUPRC: 0.6650\n"
     ]
    },
    {
     "name": "stderr",
     "output_type": "stream",
     "text": [
      "Trial 1 - Epoch 7/55 - Training: 100%|██████████| 137/137 [00:07<00:00, 19.19it/s]\n"
     ]
    },
    {
     "name": "stdout",
     "output_type": "stream",
     "text": [
      ">>> [Train] AUROC: 0.9714 / AUPRC: 0.6476\n",
      ">>> [Valid] AUROC: 0.9808 / AUPRC: 0.6599\n"
     ]
    },
    {
     "name": "stderr",
     "output_type": "stream",
     "text": [
      "Trial 1 - Epoch 8/55 - Training: 100%|██████████| 137/137 [00:07<00:00, 19.13it/s]\n"
     ]
    },
    {
     "name": "stdout",
     "output_type": "stream",
     "text": [
      ">>> [Train] AUROC: 0.9743 / AUPRC: 0.6666\n",
      ">>> [Valid] AUROC: 0.9804 / AUPRC: 0.6928\n"
     ]
    },
    {
     "name": "stderr",
     "output_type": "stream",
     "text": [
      "Trial 1 - Epoch 9/55 - Training: 100%|██████████| 137/137 [00:07<00:00, 19.07it/s]\n"
     ]
    },
    {
     "name": "stdout",
     "output_type": "stream",
     "text": [
      ">>> [Train] AUROC: 0.9749 / AUPRC: 0.6846\n",
      ">>> [Valid] AUROC: 0.9749 / AUPRC: 0.6914\n"
     ]
    },
    {
     "name": "stderr",
     "output_type": "stream",
     "text": [
      "Trial 1 - Epoch 10/55 - Training: 100%|██████████| 137/137 [00:07<00:00, 19.23it/s]\n"
     ]
    },
    {
     "name": "stdout",
     "output_type": "stream",
     "text": [
      ">>> [Train] AUROC: 0.9773 / AUPRC: 0.6942\n",
      ">>> [Valid] AUROC: 0.9790 / AUPRC: 0.7395\n"
     ]
    },
    {
     "name": "stderr",
     "output_type": "stream",
     "text": [
      "Trial 1 - Epoch 11/55 - Training: 100%|██████████| 137/137 [00:07<00:00, 19.54it/s]\n"
     ]
    },
    {
     "name": "stdout",
     "output_type": "stream",
     "text": [
      ">>> [Train] AUROC: 0.9777 / AUPRC: 0.7134\n",
      ">>> [Valid] AUROC: 0.9829 / AUPRC: 0.7071\n"
     ]
    },
    {
     "name": "stderr",
     "output_type": "stream",
     "text": [
      "Trial 1 - Epoch 12/55 - Training: 100%|██████████| 137/137 [00:07<00:00, 19.51it/s]\n"
     ]
    },
    {
     "name": "stdout",
     "output_type": "stream",
     "text": [
      ">>> [Train] AUROC: 0.9798 / AUPRC: 0.7229\n",
      ">>> [Valid] AUROC: 0.9778 / AUPRC: 0.6617\n"
     ]
    },
    {
     "name": "stderr",
     "output_type": "stream",
     "text": [
      "Trial 1 - Epoch 13/55 - Training: 100%|██████████| 137/137 [00:07<00:00, 19.53it/s]\n"
     ]
    },
    {
     "name": "stdout",
     "output_type": "stream",
     "text": [
      ">>> [Train] AUROC: 0.9804 / AUPRC: 0.7231\n",
      ">>> [Valid] AUROC: 0.9807 / AUPRC: 0.7353\n"
     ]
    },
    {
     "name": "stderr",
     "output_type": "stream",
     "text": [
      "Trial 1 - Epoch 14/55 - Training: 100%|██████████| 137/137 [00:07<00:00, 19.42it/s]\n"
     ]
    },
    {
     "name": "stdout",
     "output_type": "stream",
     "text": [
      ">>> [Train] AUROC: 0.9812 / AUPRC: 0.7410\n",
      ">>> [Valid] AUROC: 0.9847 / AUPRC: 0.7435\n"
     ]
    },
    {
     "name": "stderr",
     "output_type": "stream",
     "text": [
      "Trial 1 - Epoch 15/55 - Training: 100%|██████████| 137/137 [00:07<00:00, 19.39it/s]\n"
     ]
    },
    {
     "name": "stdout",
     "output_type": "stream",
     "text": [
      ">>> [Train] AUROC: 0.9818 / AUPRC: 0.7475\n",
      ">>> [Valid] AUROC: 0.9839 / AUPRC: 0.7665\n"
     ]
    },
    {
     "name": "stderr",
     "output_type": "stream",
     "text": [
      "Trial 1 - Epoch 16/55 - Training: 100%|██████████| 137/137 [00:07<00:00, 19.48it/s]\n"
     ]
    },
    {
     "name": "stdout",
     "output_type": "stream",
     "text": [
      ">>> [Train] AUROC: 0.9818 / AUPRC: 0.7459\n",
      ">>> [Valid] AUROC: 0.9821 / AUPRC: 0.7139\n"
     ]
    },
    {
     "name": "stderr",
     "output_type": "stream",
     "text": [
      "Trial 1 - Epoch 17/55 - Training: 100%|██████████| 137/137 [00:07<00:00, 19.57it/s]\n"
     ]
    },
    {
     "name": "stdout",
     "output_type": "stream",
     "text": [
      ">>> [Train] AUROC: 0.9838 / AUPRC: 0.7752\n",
      ">>> [Valid] AUROC: 0.9819 / AUPRC: 0.7818\n"
     ]
    },
    {
     "name": "stderr",
     "output_type": "stream",
     "text": [
      "Trial 1 - Epoch 18/55 - Training: 100%|██████████| 137/137 [00:07<00:00, 19.48it/s]\n"
     ]
    },
    {
     "name": "stdout",
     "output_type": "stream",
     "text": [
      ">>> [Train] AUROC: 0.9841 / AUPRC: 0.7920\n",
      ">>> [Valid] AUROC: 0.9873 / AUPRC: 0.8212\n"
     ]
    },
    {
     "name": "stderr",
     "output_type": "stream",
     "text": [
      "Trial 1 - Epoch 19/55 - Training: 100%|██████████| 137/137 [00:06<00:00, 19.61it/s]\n"
     ]
    },
    {
     "name": "stdout",
     "output_type": "stream",
     "text": [
      ">>> [Train] AUROC: 0.9838 / AUPRC: 0.7776\n",
      ">>> [Valid] AUROC: 0.9872 / AUPRC: 0.7981\n"
     ]
    },
    {
     "name": "stderr",
     "output_type": "stream",
     "text": [
      "Trial 1 - Epoch 20/55 - Training: 100%|██████████| 137/137 [00:06<00:00, 19.61it/s]\n"
     ]
    },
    {
     "name": "stdout",
     "output_type": "stream",
     "text": [
      ">>> [Train] AUROC: 0.9845 / AUPRC: 0.7815\n",
      ">>> [Valid] AUROC: 0.9848 / AUPRC: 0.8248\n"
     ]
    },
    {
     "name": "stderr",
     "output_type": "stream",
     "text": [
      "Trial 1 - Epoch 21/55 - Training: 100%|██████████| 137/137 [00:06<00:00, 19.68it/s]\n"
     ]
    },
    {
     "name": "stdout",
     "output_type": "stream",
     "text": [
      ">>> [Train] AUROC: 0.9855 / AUPRC: 0.8218\n",
      ">>> [Valid] AUROC: 0.9832 / AUPRC: 0.8120\n"
     ]
    },
    {
     "name": "stderr",
     "output_type": "stream",
     "text": [
      "Trial 1 - Epoch 22/55 - Training: 100%|██████████| 137/137 [00:06<00:00, 19.65it/s]\n"
     ]
    },
    {
     "name": "stdout",
     "output_type": "stream",
     "text": [
      ">>> [Train] AUROC: 0.9860 / AUPRC: 0.8028\n",
      ">>> [Valid] AUROC: 0.9874 / AUPRC: 0.8288\n"
     ]
    },
    {
     "name": "stderr",
     "output_type": "stream",
     "text": [
      "Trial 1 - Epoch 23/55 - Training: 100%|██████████| 137/137 [00:06<00:00, 19.72it/s]\n"
     ]
    },
    {
     "name": "stdout",
     "output_type": "stream",
     "text": [
      ">>> [Train] AUROC: 0.9881 / AUPRC: 0.8069\n",
      ">>> [Valid] AUROC: 0.9837 / AUPRC: 0.7913\n"
     ]
    },
    {
     "name": "stderr",
     "output_type": "stream",
     "text": [
      "Trial 1 - Epoch 24/55 - Training: 100%|██████████| 137/137 [00:06<00:00, 19.66it/s]\n"
     ]
    },
    {
     "name": "stdout",
     "output_type": "stream",
     "text": [
      ">>> [Train] AUROC: 0.9889 / AUPRC: 0.8266\n",
      ">>> [Valid] AUROC: 0.9877 / AUPRC: 0.8255\n"
     ]
    },
    {
     "name": "stderr",
     "output_type": "stream",
     "text": [
      "Trial 1 - Epoch 25/55 - Training: 100%|██████████| 137/137 [00:06<00:00, 19.79it/s]\n"
     ]
    },
    {
     "name": "stdout",
     "output_type": "stream",
     "text": [
      ">>> [Train] AUROC: 0.9861 / AUPRC: 0.8308\n",
      ">>> [Valid] AUROC: 0.9840 / AUPRC: 0.7656\n"
     ]
    },
    {
     "name": "stderr",
     "output_type": "stream",
     "text": [
      "Trial 1 - Epoch 26/55 - Training: 100%|██████████| 137/137 [00:07<00:00, 19.35it/s]\n"
     ]
    },
    {
     "name": "stdout",
     "output_type": "stream",
     "text": [
      ">>> [Train] AUROC: 0.9880 / AUPRC: 0.8297\n",
      ">>> [Valid] AUROC: 0.9847 / AUPRC: 0.8223\n"
     ]
    },
    {
     "name": "stderr",
     "output_type": "stream",
     "text": [
      "Trial 1 - Epoch 27/55 - Training: 100%|██████████| 137/137 [00:06<00:00, 19.72it/s]\n"
     ]
    },
    {
     "name": "stdout",
     "output_type": "stream",
     "text": [
      ">>> [Train] AUROC: 0.9881 / AUPRC: 0.8325\n",
      ">>> [Valid] AUROC: 0.9876 / AUPRC: 0.8442\n"
     ]
    },
    {
     "name": "stderr",
     "output_type": "stream",
     "text": [
      "Trial 1 - Epoch 28/55 - Training: 100%|██████████| 137/137 [00:06<00:00, 19.60it/s]\n"
     ]
    },
    {
     "name": "stdout",
     "output_type": "stream",
     "text": [
      ">>> [Train] AUROC: 0.9900 / AUPRC: 0.8590\n",
      ">>> [Valid] AUROC: 0.9850 / AUPRC: 0.8335\n"
     ]
    },
    {
     "name": "stderr",
     "output_type": "stream",
     "text": [
      "Trial 1 - Epoch 29/55 - Training: 100%|██████████| 137/137 [00:06<00:00, 19.82it/s]\n"
     ]
    },
    {
     "name": "stdout",
     "output_type": "stream",
     "text": [
      ">>> [Train] AUROC: 0.9877 / AUPRC: 0.8474\n",
      ">>> [Valid] AUROC: 0.9869 / AUPRC: 0.8054\n"
     ]
    },
    {
     "name": "stderr",
     "output_type": "stream",
     "text": [
      "Trial 1 - Epoch 30/55 - Training: 100%|██████████| 137/137 [00:07<00:00, 19.48it/s]\n"
     ]
    },
    {
     "name": "stdout",
     "output_type": "stream",
     "text": [
      ">>> [Train] AUROC: 0.9897 / AUPRC: 0.8577\n",
      ">>> [Valid] AUROC: 0.9895 / AUPRC: 0.8369\n"
     ]
    },
    {
     "name": "stderr",
     "output_type": "stream",
     "text": [
      "Trial 1 - Epoch 31/55 - Training: 100%|██████████| 137/137 [00:07<00:00, 19.19it/s]\n"
     ]
    },
    {
     "name": "stdout",
     "output_type": "stream",
     "text": [
      ">>> [Train] AUROC: 0.9893 / AUPRC: 0.8572\n",
      ">>> [Valid] AUROC: 0.9836 / AUPRC: 0.7809\n"
     ]
    },
    {
     "name": "stderr",
     "output_type": "stream",
     "text": [
      "Trial 1 - Epoch 32/55 - Training: 100%|██████████| 137/137 [00:07<00:00, 19.43it/s]\n"
     ]
    },
    {
     "name": "stdout",
     "output_type": "stream",
     "text": [
      ">>> [Train] AUROC: 0.9903 / AUPRC: 0.8699\n",
      ">>> [Valid] AUROC: 0.9843 / AUPRC: 0.8592\n"
     ]
    },
    {
     "name": "stderr",
     "output_type": "stream",
     "text": [
      "Trial 1 - Epoch 33/55 - Training: 100%|██████████| 137/137 [00:07<00:00, 19.56it/s]\n"
     ]
    },
    {
     "name": "stdout",
     "output_type": "stream",
     "text": [
      ">>> [Train] AUROC: 0.9919 / AUPRC: 0.8761\n",
      ">>> [Valid] AUROC: 0.9798 / AUPRC: 0.8399\n"
     ]
    },
    {
     "name": "stderr",
     "output_type": "stream",
     "text": [
      "Trial 1 - Epoch 34/55 - Training: 100%|██████████| 137/137 [00:07<00:00, 19.25it/s]\n"
     ]
    },
    {
     "name": "stdout",
     "output_type": "stream",
     "text": [
      ">>> [Train] AUROC: 0.9916 / AUPRC: 0.8736\n",
      ">>> [Valid] AUROC: 0.9868 / AUPRC: 0.8518\n"
     ]
    },
    {
     "name": "stderr",
     "output_type": "stream",
     "text": [
      "Trial 1 - Epoch 35/55 - Training: 100%|██████████| 137/137 [00:07<00:00, 19.23it/s]\n"
     ]
    },
    {
     "name": "stdout",
     "output_type": "stream",
     "text": [
      ">>> [Train] AUROC: 0.9922 / AUPRC: 0.8854\n",
      ">>> [Valid] AUROC: 0.9858 / AUPRC: 0.8443\n"
     ]
    },
    {
     "name": "stderr",
     "output_type": "stream",
     "text": [
      "Trial 1 - Epoch 36/55 - Training: 100%|██████████| 137/137 [00:07<00:00, 19.24it/s]\n"
     ]
    },
    {
     "name": "stdout",
     "output_type": "stream",
     "text": [
      ">>> [Train] AUROC: 0.9915 / AUPRC: 0.8814\n",
      ">>> [Valid] AUROC: 0.9838 / AUPRC: 0.8347\n"
     ]
    },
    {
     "name": "stderr",
     "output_type": "stream",
     "text": [
      "Trial 1 - Epoch 37/55 - Training: 100%|██████████| 137/137 [00:07<00:00, 19.22it/s]\n"
     ]
    },
    {
     "name": "stdout",
     "output_type": "stream",
     "text": [
      ">>> [Train] AUROC: 0.9921 / AUPRC: 0.8946\n",
      ">>> [Valid] AUROC: 0.9882 / AUPRC: 0.8639\n"
     ]
    },
    {
     "name": "stderr",
     "output_type": "stream",
     "text": [
      "Trial 1 - Epoch 38/55 - Training: 100%|██████████| 137/137 [00:07<00:00, 19.51it/s]\n"
     ]
    },
    {
     "name": "stdout",
     "output_type": "stream",
     "text": [
      ">>> [Train] AUROC: 0.9933 / AUPRC: 0.9015\n",
      ">>> [Valid] AUROC: 0.9872 / AUPRC: 0.8696\n"
     ]
    },
    {
     "name": "stderr",
     "output_type": "stream",
     "text": [
      "Trial 1 - Epoch 39/55 - Training: 100%|██████████| 137/137 [00:07<00:00, 19.56it/s]\n"
     ]
    },
    {
     "name": "stdout",
     "output_type": "stream",
     "text": [
      ">>> [Train] AUROC: 0.9929 / AUPRC: 0.9083\n",
      ">>> [Valid] AUROC: 0.9890 / AUPRC: 0.8693\n"
     ]
    },
    {
     "name": "stderr",
     "output_type": "stream",
     "text": [
      "Trial 1 - Epoch 40/55 - Training: 100%|██████████| 137/137 [00:06<00:00, 19.60it/s]\n"
     ]
    },
    {
     "name": "stdout",
     "output_type": "stream",
     "text": [
      ">>> [Train] AUROC: 0.9919 / AUPRC: 0.9004\n",
      ">>> [Valid] AUROC: 0.9905 / AUPRC: 0.8892\n"
     ]
    },
    {
     "name": "stderr",
     "output_type": "stream",
     "text": [
      "Trial 1 - Epoch 41/55 - Training: 100%|██████████| 137/137 [00:07<00:00, 19.56it/s]\n"
     ]
    },
    {
     "name": "stdout",
     "output_type": "stream",
     "text": [
      ">>> [Train] AUROC: 0.9943 / AUPRC: 0.9181\n",
      ">>> [Valid] AUROC: 0.9902 / AUPRC: 0.8728\n"
     ]
    },
    {
     "name": "stderr",
     "output_type": "stream",
     "text": [
      "Trial 1 - Epoch 42/55 - Training: 100%|██████████| 137/137 [00:06<00:00, 19.64it/s]\n"
     ]
    },
    {
     "name": "stdout",
     "output_type": "stream",
     "text": [
      ">>> [Train] AUROC: 0.9937 / AUPRC: 0.9213\n",
      ">>> [Valid] AUROC: 0.9892 / AUPRC: 0.8848\n"
     ]
    },
    {
     "name": "stderr",
     "output_type": "stream",
     "text": [
      "Trial 1 - Epoch 43/55 - Training: 100%|██████████| 137/137 [00:06<00:00, 19.63it/s]\n"
     ]
    },
    {
     "name": "stdout",
     "output_type": "stream",
     "text": [
      ">>> [Train] AUROC: 0.9942 / AUPRC: 0.9224\n",
      ">>> [Valid] AUROC: 0.9851 / AUPRC: 0.8219\n"
     ]
    },
    {
     "name": "stderr",
     "output_type": "stream",
     "text": [
      "Trial 1 - Epoch 44/55 - Training: 100%|██████████| 137/137 [00:06<00:00, 19.63it/s]\n"
     ]
    },
    {
     "name": "stdout",
     "output_type": "stream",
     "text": [
      ">>> [Train] AUROC: 0.9938 / AUPRC: 0.9263\n",
      ">>> [Valid] AUROC: 0.9867 / AUPRC: 0.8899\n"
     ]
    },
    {
     "name": "stderr",
     "output_type": "stream",
     "text": [
      "Trial 1 - Epoch 45/55 - Training: 100%|██████████| 137/137 [00:06<00:00, 19.71it/s]\n"
     ]
    },
    {
     "name": "stdout",
     "output_type": "stream",
     "text": [
      ">>> [Train] AUROC: 0.9952 / AUPRC: 0.9409\n",
      ">>> [Valid] AUROC: 0.9884 / AUPRC: 0.9019\n"
     ]
    },
    {
     "name": "stderr",
     "output_type": "stream",
     "text": [
      "Trial 1 - Epoch 46/55 - Training: 100%|██████████| 137/137 [00:06<00:00, 19.80it/s]\n"
     ]
    },
    {
     "name": "stdout",
     "output_type": "stream",
     "text": [
      ">>> [Train] AUROC: 0.9951 / AUPRC: 0.9421\n",
      ">>> [Valid] AUROC: 0.9865 / AUPRC: 0.8695\n"
     ]
    },
    {
     "name": "stderr",
     "output_type": "stream",
     "text": [
      "Trial 1 - Epoch 47/55 - Training: 100%|██████████| 137/137 [00:06<00:00, 19.84it/s]\n"
     ]
    },
    {
     "name": "stdout",
     "output_type": "stream",
     "text": [
      ">>> [Train] AUROC: 0.9950 / AUPRC: 0.9313\n",
      ">>> [Valid] AUROC: 0.9880 / AUPRC: 0.8917\n"
     ]
    },
    {
     "name": "stderr",
     "output_type": "stream",
     "text": [
      "Trial 1 - Epoch 48/55 - Training: 100%|██████████| 137/137 [00:06<00:00, 19.87it/s]\n"
     ]
    },
    {
     "name": "stdout",
     "output_type": "stream",
     "text": [
      ">>> [Train] AUROC: 0.9954 / AUPRC: 0.9407\n",
      ">>> [Valid] AUROC: 0.9715 / AUPRC: 0.8696\n"
     ]
    },
    {
     "name": "stderr",
     "output_type": "stream",
     "text": [
      "Trial 1 - Epoch 49/55 - Training: 100%|██████████| 137/137 [00:06<00:00, 19.88it/s]\n"
     ]
    },
    {
     "name": "stdout",
     "output_type": "stream",
     "text": [
      ">>> [Train] AUROC: 0.9962 / AUPRC: 0.9508\n",
      ">>> [Valid] AUROC: 0.9811 / AUPRC: 0.8522\n"
     ]
    },
    {
     "name": "stderr",
     "output_type": "stream",
     "text": [
      "Trial 1 - Epoch 50/55 - Training: 100%|██████████| 137/137 [00:06<00:00, 19.75it/s]\n"
     ]
    },
    {
     "name": "stdout",
     "output_type": "stream",
     "text": [
      ">>> [Train] AUROC: 0.9952 / AUPRC: 0.9396\n",
      ">>> [Valid] AUROC: 0.9877 / AUPRC: 0.8569\n"
     ]
    },
    {
     "name": "stderr",
     "output_type": "stream",
     "text": [
      "Trial 1 - Epoch 51/55 - Training: 100%|██████████| 137/137 [00:06<00:00, 19.71it/s]\n"
     ]
    },
    {
     "name": "stdout",
     "output_type": "stream",
     "text": [
      ">>> [Train] AUROC: 0.9969 / AUPRC: 0.9530\n",
      ">>> [Valid] AUROC: 0.9835 / AUPRC: 0.8523\n",
      "Epoch 00051: reducing learning rate of group 0 to 5.7114e-04.\n"
     ]
    },
    {
     "name": "stderr",
     "output_type": "stream",
     "text": [
      "Trial 1 - Epoch 52/55 - Training: 100%|██████████| 137/137 [00:06<00:00, 19.78it/s]\n"
     ]
    },
    {
     "name": "stdout",
     "output_type": "stream",
     "text": [
      ">>> [Train] AUROC: 0.9976 / AUPRC: 0.9669\n",
      ">>> [Valid] AUROC: 0.9821 / AUPRC: 0.8828\n"
     ]
    },
    {
     "name": "stderr",
     "output_type": "stream",
     "text": [
      "Trial 1 - Epoch 53/55 - Training: 100%|██████████| 137/137 [00:07<00:00, 19.54it/s]\n"
     ]
    },
    {
     "name": "stdout",
     "output_type": "stream",
     "text": [
      ">>> [Train] AUROC: 0.9976 / AUPRC: 0.9733\n",
      ">>> [Valid] AUROC: 0.9818 / AUPRC: 0.8874\n"
     ]
    },
    {
     "name": "stderr",
     "output_type": "stream",
     "text": [
      "Trial 1 - Epoch 54/55 - Training: 100%|██████████| 137/137 [00:06<00:00, 19.65it/s]\n"
     ]
    },
    {
     "name": "stdout",
     "output_type": "stream",
     "text": [
      ">>> [Train] AUROC: 0.9984 / AUPRC: 0.9767\n",
      ">>> [Valid] AUROC: 0.9795 / AUPRC: 0.8810\n"
     ]
    },
    {
     "name": "stderr",
     "output_type": "stream",
     "text": [
      "Trial 1 - Epoch 55/55 - Training: 100%|██████████| 137/137 [00:06<00:00, 19.90it/s]\n"
     ]
    },
    {
     "name": "stdout",
     "output_type": "stream",
     "text": [
      ">>> [Train] AUROC: 0.9982 / AUPRC: 0.9771\n"
     ]
    },
    {
     "name": "stderr",
     "output_type": "stream",
     "text": [
      "[I 2023-12-12 19:50:48,972] Trial 0 finished with value: 0.9019463303557288 and parameters: {'learning_rate': 0.005711383403353251, 'batch_size': 128, 'num_epochs': 55}. Best is trial 0 with value: 0.9019463303557288.\n"
     ]
    },
    {
     "name": "stdout",
     "output_type": "stream",
     "text": [
      ">>> [Valid] AUROC: 0.9835 / AUPRC: 0.8849\n",
      "Early stopping\n",
      "------------------------------------------\n",
      "< Trial {trial.number+1}'s Best Performance>\n",
      "[train_loss]: 0.0391\n",
      "[valid_loss]: 0.0672\n",
      "[train_accuracy]: 0.9868\n",
      "[valid_accuracy]: 0.9725\n",
      "[train_auroc]: 0.9952\n",
      "[valid_auroc]: 0.9884\n",
      "[train_auprc]: 0.9409\n",
      "[valid_auprc]: 0.9019 <- Pick It Up!\n",
      "----------------------------------------\n",
      ">>>>> Trial2 Start...<<<<<\n",
      "----------------------------------------\n",
      "[Learning Rate] : 0.0021646336260511692\n",
      "[Batch Size] : 64\n",
      "[Epochs] : 47\n",
      "[Optimizer] : Adam (\n",
      "Parameter Group 0\n",
      "    amsgrad: False\n",
      "    betas: (0.9, 0.999)\n",
      "    capturable: False\n",
      "    differentiable: False\n",
      "    eps: 1e-08\n",
      "    foreach: None\n",
      "    fused: None\n",
      "    lr: 0.0021646336260511692\n",
      "    maximize: False\n",
      "    weight_decay: 0\n",
      ")\n",
      "-----------------------\n",
      ">>>>> Let's GO!!! <<<<<\n",
      "-----------------------\n"
     ]
    },
    {
     "name": "stderr",
     "output_type": "stream",
     "text": [
      "Trial 2 - Epoch 1/47 - Training: 100%|██████████| 273/273 [00:07<00:00, 35.96it/s]\n"
     ]
    },
    {
     "name": "stdout",
     "output_type": "stream",
     "text": [
      ">>> [Train] AUROC: 0.6296 / AUPRC: 0.0912\n",
      ">>> [Valid] AUROC: 0.8997 / AUPRC: 0.3127\n"
     ]
    },
    {
     "name": "stderr",
     "output_type": "stream",
     "text": [
      "Trial 2 - Epoch 2/47 - Training: 100%|██████████| 273/273 [00:07<00:00, 35.79it/s]\n"
     ]
    },
    {
     "name": "stdout",
     "output_type": "stream",
     "text": [
      ">>> [Train] AUROC: 0.9263 / AUPRC: 0.4199\n",
      ">>> [Valid] AUROC: 0.9676 / AUPRC: 0.5767\n"
     ]
    },
    {
     "name": "stderr",
     "output_type": "stream",
     "text": [
      "Trial 2 - Epoch 3/47 - Training: 100%|██████████| 273/273 [00:07<00:00, 36.40it/s]\n"
     ]
    },
    {
     "name": "stdout",
     "output_type": "stream",
     "text": [
      ">>> [Train] AUROC: 0.9487 / AUPRC: 0.5357\n",
      ">>> [Valid] AUROC: 0.9647 / AUPRC: 0.5888\n"
     ]
    },
    {
     "name": "stderr",
     "output_type": "stream",
     "text": [
      "Trial 2 - Epoch 4/47 - Training: 100%|██████████| 273/273 [00:07<00:00, 36.00it/s]\n"
     ]
    },
    {
     "name": "stdout",
     "output_type": "stream",
     "text": [
      ">>> [Train] AUROC: 0.9623 / AUPRC: 0.6085\n",
      ">>> [Valid] AUROC: 0.9773 / AUPRC: 0.6523\n"
     ]
    },
    {
     "name": "stderr",
     "output_type": "stream",
     "text": [
      "Trial 2 - Epoch 5/47 - Training: 100%|██████████| 273/273 [00:07<00:00, 36.27it/s]\n"
     ]
    },
    {
     "name": "stdout",
     "output_type": "stream",
     "text": [
      ">>> [Train] AUROC: 0.9686 / AUPRC: 0.6483\n",
      ">>> [Valid] AUROC: 0.9792 / AUPRC: 0.6706\n"
     ]
    },
    {
     "name": "stderr",
     "output_type": "stream",
     "text": [
      "Trial 2 - Epoch 6/47 - Training: 100%|██████████| 273/273 [00:07<00:00, 36.44it/s]\n"
     ]
    },
    {
     "name": "stdout",
     "output_type": "stream",
     "text": [
      ">>> [Train] AUROC: 0.9725 / AUPRC: 0.6681\n",
      ">>> [Valid] AUROC: 0.9782 / AUPRC: 0.6540\n"
     ]
    },
    {
     "name": "stderr",
     "output_type": "stream",
     "text": [
      "Trial 2 - Epoch 7/47 - Training: 100%|██████████| 273/273 [00:07<00:00, 36.48it/s]\n"
     ]
    },
    {
     "name": "stdout",
     "output_type": "stream",
     "text": [
      ">>> [Train] AUROC: 0.9733 / AUPRC: 0.6690\n",
      ">>> [Valid] AUROC: 0.9839 / AUPRC: 0.7141\n"
     ]
    },
    {
     "name": "stderr",
     "output_type": "stream",
     "text": [
      "Trial 2 - Epoch 8/47 - Training: 100%|██████████| 273/273 [00:07<00:00, 36.05it/s]\n"
     ]
    },
    {
     "name": "stdout",
     "output_type": "stream",
     "text": [
      ">>> [Train] AUROC: 0.9758 / AUPRC: 0.6884\n",
      ">>> [Valid] AUROC: 0.9790 / AUPRC: 0.6539\n"
     ]
    },
    {
     "name": "stderr",
     "output_type": "stream",
     "text": [
      "Trial 2 - Epoch 9/47 - Training: 100%|██████████| 273/273 [00:07<00:00, 36.25it/s]\n"
     ]
    },
    {
     "name": "stdout",
     "output_type": "stream",
     "text": [
      ">>> [Train] AUROC: 0.9782 / AUPRC: 0.7226\n",
      ">>> [Valid] AUROC: 0.9830 / AUPRC: 0.7194\n"
     ]
    },
    {
     "name": "stderr",
     "output_type": "stream",
     "text": [
      "Trial 2 - Epoch 10/47 - Training: 100%|██████████| 273/273 [00:07<00:00, 36.69it/s]\n"
     ]
    },
    {
     "name": "stdout",
     "output_type": "stream",
     "text": [
      ">>> [Train] AUROC: 0.9798 / AUPRC: 0.7424\n",
      ">>> [Valid] AUROC: 0.9820 / AUPRC: 0.7477\n"
     ]
    },
    {
     "name": "stderr",
     "output_type": "stream",
     "text": [
      "Trial 2 - Epoch 11/47 - Training: 100%|██████████| 273/273 [00:07<00:00, 35.53it/s]\n"
     ]
    },
    {
     "name": "stdout",
     "output_type": "stream",
     "text": [
      ">>> [Train] AUROC: 0.9796 / AUPRC: 0.7407\n",
      ">>> [Valid] AUROC: 0.9779 / AUPRC: 0.7539\n"
     ]
    },
    {
     "name": "stderr",
     "output_type": "stream",
     "text": [
      "Trial 2 - Epoch 12/47 - Training: 100%|██████████| 273/273 [00:07<00:00, 36.13it/s]\n"
     ]
    },
    {
     "name": "stdout",
     "output_type": "stream",
     "text": [
      ">>> [Train] AUROC: 0.9805 / AUPRC: 0.7478\n",
      ">>> [Valid] AUROC: 0.9820 / AUPRC: 0.7250\n"
     ]
    },
    {
     "name": "stderr",
     "output_type": "stream",
     "text": [
      "Trial 2 - Epoch 13/47 - Training: 100%|██████████| 273/273 [00:07<00:00, 36.62it/s]\n"
     ]
    },
    {
     "name": "stdout",
     "output_type": "stream",
     "text": [
      ">>> [Train] AUROC: 0.9834 / AUPRC: 0.7764\n",
      ">>> [Valid] AUROC: 0.9857 / AUPRC: 0.7411\n"
     ]
    },
    {
     "name": "stderr",
     "output_type": "stream",
     "text": [
      "Trial 2 - Epoch 14/47 - Training: 100%|██████████| 273/273 [00:07<00:00, 36.72it/s]\n"
     ]
    },
    {
     "name": "stdout",
     "output_type": "stream",
     "text": [
      ">>> [Train] AUROC: 0.9827 / AUPRC: 0.7449\n",
      ">>> [Valid] AUROC: 0.9843 / AUPRC: 0.7326\n"
     ]
    },
    {
     "name": "stderr",
     "output_type": "stream",
     "text": [
      "Trial 2 - Epoch 15/47 - Training: 100%|██████████| 273/273 [00:07<00:00, 36.25it/s]\n"
     ]
    },
    {
     "name": "stdout",
     "output_type": "stream",
     "text": [
      ">>> [Train] AUROC: 0.9842 / AUPRC: 0.7839\n",
      ">>> [Valid] AUROC: 0.9845 / AUPRC: 0.7473\n"
     ]
    },
    {
     "name": "stderr",
     "output_type": "stream",
     "text": [
      "Trial 2 - Epoch 16/47 - Training: 100%|██████████| 273/273 [00:07<00:00, 35.31it/s]\n"
     ]
    },
    {
     "name": "stdout",
     "output_type": "stream",
     "text": [
      ">>> [Train] AUROC: 0.9840 / AUPRC: 0.7728\n",
      ">>> [Valid] AUROC: 0.9786 / AUPRC: 0.7849\n"
     ]
    },
    {
     "name": "stderr",
     "output_type": "stream",
     "text": [
      "Trial 2 - Epoch 17/47 - Training: 100%|██████████| 273/273 [00:07<00:00, 35.99it/s]\n"
     ]
    },
    {
     "name": "stdout",
     "output_type": "stream",
     "text": [
      ">>> [Train] AUROC: 0.9851 / AUPRC: 0.7871\n",
      ">>> [Valid] AUROC: 0.9807 / AUPRC: 0.7813\n"
     ]
    },
    {
     "name": "stderr",
     "output_type": "stream",
     "text": [
      "Trial 2 - Epoch 18/47 - Training: 100%|██████████| 273/273 [00:07<00:00, 35.72it/s]\n"
     ]
    },
    {
     "name": "stdout",
     "output_type": "stream",
     "text": [
      ">>> [Train] AUROC: 0.9861 / AUPRC: 0.7982\n",
      ">>> [Valid] AUROC: 0.9771 / AUPRC: 0.8000\n"
     ]
    },
    {
     "name": "stderr",
     "output_type": "stream",
     "text": [
      "Trial 2 - Epoch 19/47 - Training: 100%|██████████| 273/273 [00:07<00:00, 35.67it/s]\n"
     ]
    },
    {
     "name": "stdout",
     "output_type": "stream",
     "text": [
      ">>> [Train] AUROC: 0.9874 / AUPRC: 0.7946\n",
      ">>> [Valid] AUROC: 0.9811 / AUPRC: 0.8302\n"
     ]
    },
    {
     "name": "stderr",
     "output_type": "stream",
     "text": [
      "Trial 2 - Epoch 20/47 - Training: 100%|██████████| 273/273 [00:07<00:00, 35.54it/s]\n"
     ]
    },
    {
     "name": "stdout",
     "output_type": "stream",
     "text": [
      ">>> [Train] AUROC: 0.9849 / AUPRC: 0.7918\n",
      ">>> [Valid] AUROC: 0.9775 / AUPRC: 0.8121\n"
     ]
    },
    {
     "name": "stderr",
     "output_type": "stream",
     "text": [
      "Trial 2 - Epoch 21/47 - Training: 100%|██████████| 273/273 [00:07<00:00, 35.65it/s]\n"
     ]
    },
    {
     "name": "stdout",
     "output_type": "stream",
     "text": [
      ">>> [Train] AUROC: 0.9875 / AUPRC: 0.8146\n",
      ">>> [Valid] AUROC: 0.9829 / AUPRC: 0.8180\n"
     ]
    },
    {
     "name": "stderr",
     "output_type": "stream",
     "text": [
      "Trial 2 - Epoch 22/47 - Training: 100%|██████████| 273/273 [00:07<00:00, 36.29it/s]\n"
     ]
    },
    {
     "name": "stdout",
     "output_type": "stream",
     "text": [
      ">>> [Train] AUROC: 0.9887 / AUPRC: 0.8218\n",
      ">>> [Valid] AUROC: 0.9825 / AUPRC: 0.8531\n"
     ]
    },
    {
     "name": "stderr",
     "output_type": "stream",
     "text": [
      "Trial 2 - Epoch 23/47 - Training: 100%|██████████| 273/273 [00:07<00:00, 36.38it/s]\n"
     ]
    },
    {
     "name": "stdout",
     "output_type": "stream",
     "text": [
      ">>> [Train] AUROC: 0.9883 / AUPRC: 0.8226\n",
      ">>> [Valid] AUROC: 0.9765 / AUPRC: 0.8344\n"
     ]
    },
    {
     "name": "stderr",
     "output_type": "stream",
     "text": [
      "Trial 2 - Epoch 24/47 - Training: 100%|██████████| 273/273 [00:07<00:00, 36.39it/s]\n"
     ]
    },
    {
     "name": "stdout",
     "output_type": "stream",
     "text": [
      ">>> [Train] AUROC: 0.9910 / AUPRC: 0.8465\n",
      ">>> [Valid] AUROC: 0.9782 / AUPRC: 0.7768\n"
     ]
    },
    {
     "name": "stderr",
     "output_type": "stream",
     "text": [
      "Trial 2 - Epoch 25/47 - Training: 100%|██████████| 273/273 [00:07<00:00, 36.34it/s]\n"
     ]
    },
    {
     "name": "stdout",
     "output_type": "stream",
     "text": [
      ">>> [Train] AUROC: 0.9899 / AUPRC: 0.8442\n",
      ">>> [Valid] AUROC: 0.9793 / AUPRC: 0.7613\n"
     ]
    },
    {
     "name": "stderr",
     "output_type": "stream",
     "text": [
      "Trial 2 - Epoch 26/47 - Training: 100%|██████████| 273/273 [00:07<00:00, 36.44it/s]\n"
     ]
    },
    {
     "name": "stdout",
     "output_type": "stream",
     "text": [
      ">>> [Train] AUROC: 0.9901 / AUPRC: 0.8386\n",
      ">>> [Valid] AUROC: 0.9829 / AUPRC: 0.8279\n"
     ]
    },
    {
     "name": "stderr",
     "output_type": "stream",
     "text": [
      "Trial 2 - Epoch 27/47 - Training: 100%|██████████| 273/273 [00:07<00:00, 36.35it/s]\n"
     ]
    },
    {
     "name": "stdout",
     "output_type": "stream",
     "text": [
      ">>> [Train] AUROC: 0.9903 / AUPRC: 0.8377\n",
      ">>> [Valid] AUROC: 0.9825 / AUPRC: 0.8440\n"
     ]
    },
    {
     "name": "stderr",
     "output_type": "stream",
     "text": [
      "Trial 2 - Epoch 28/47 - Training: 100%|██████████| 273/273 [00:07<00:00, 36.35it/s]\n"
     ]
    },
    {
     "name": "stdout",
     "output_type": "stream",
     "text": [
      ">>> [Train] AUROC: 0.9900 / AUPRC: 0.8511\n",
      ">>> [Valid] AUROC: 0.9804 / AUPRC: 0.8730\n"
     ]
    },
    {
     "name": "stderr",
     "output_type": "stream",
     "text": [
      "Trial 2 - Epoch 29/47 - Training: 100%|██████████| 273/273 [00:07<00:00, 36.01it/s]\n"
     ]
    },
    {
     "name": "stdout",
     "output_type": "stream",
     "text": [
      ">>> [Train] AUROC: 0.9921 / AUPRC: 0.8642\n",
      ">>> [Valid] AUROC: 0.9674 / AUPRC: 0.8595\n"
     ]
    },
    {
     "name": "stderr",
     "output_type": "stream",
     "text": [
      "Trial 2 - Epoch 30/47 - Training: 100%|██████████| 273/273 [00:07<00:00, 35.92it/s]\n"
     ]
    },
    {
     "name": "stdout",
     "output_type": "stream",
     "text": [
      ">>> [Train] AUROC: 0.9929 / AUPRC: 0.8775\n",
      ">>> [Valid] AUROC: 0.9658 / AUPRC: 0.8257\n"
     ]
    },
    {
     "name": "stderr",
     "output_type": "stream",
     "text": [
      "Trial 2 - Epoch 31/47 - Training: 100%|██████████| 273/273 [00:07<00:00, 36.09it/s]\n"
     ]
    },
    {
     "name": "stdout",
     "output_type": "stream",
     "text": [
      ">>> [Train] AUROC: 0.9927 / AUPRC: 0.8902\n",
      ">>> [Valid] AUROC: 0.9675 / AUPRC: 0.8664\n"
     ]
    },
    {
     "name": "stderr",
     "output_type": "stream",
     "text": [
      "Trial 2 - Epoch 32/47 - Training: 100%|██████████| 273/273 [00:07<00:00, 36.29it/s]\n"
     ]
    },
    {
     "name": "stdout",
     "output_type": "stream",
     "text": [
      ">>> [Train] AUROC: 0.9924 / AUPRC: 0.8948\n",
      ">>> [Valid] AUROC: 0.9678 / AUPRC: 0.8428\n"
     ]
    },
    {
     "name": "stderr",
     "output_type": "stream",
     "text": [
      "Trial 2 - Epoch 33/47 - Training: 100%|██████████| 273/273 [00:07<00:00, 36.29it/s]\n"
     ]
    },
    {
     "name": "stdout",
     "output_type": "stream",
     "text": [
      ">>> [Train] AUROC: 0.9933 / AUPRC: 0.8941\n",
      ">>> [Valid] AUROC: 0.9685 / AUPRC: 0.8526\n"
     ]
    },
    {
     "name": "stderr",
     "output_type": "stream",
     "text": [
      "Trial 2 - Epoch 34/47 - Training: 100%|██████████| 273/273 [00:07<00:00, 36.19it/s]\n"
     ]
    },
    {
     "name": "stdout",
     "output_type": "stream",
     "text": [
      ">>> [Train] AUROC: 0.9946 / AUPRC: 0.8992\n",
      ">>> [Valid] AUROC: 0.9727 / AUPRC: 0.8693\n",
      "Epoch 00034: reducing learning rate of group 0 to 2.1646e-04.\n"
     ]
    },
    {
     "name": "stderr",
     "output_type": "stream",
     "text": [
      "Trial 2 - Epoch 35/47 - Training: 100%|██████████| 273/273 [00:07<00:00, 35.98it/s]\n"
     ]
    },
    {
     "name": "stdout",
     "output_type": "stream",
     "text": [
      ">>> [Train] AUROC: 0.9959 / AUPRC: 0.9324\n",
      ">>> [Valid] AUROC: 0.9724 / AUPRC: 0.8732\n"
     ]
    },
    {
     "name": "stderr",
     "output_type": "stream",
     "text": [
      "Trial 2 - Epoch 36/47 - Training: 100%|██████████| 273/273 [00:07<00:00, 36.19it/s]\n"
     ]
    },
    {
     "name": "stdout",
     "output_type": "stream",
     "text": [
      ">>> [Train] AUROC: 0.9965 / AUPRC: 0.9368\n",
      ">>> [Valid] AUROC: 0.9672 / AUPRC: 0.8758\n"
     ]
    },
    {
     "name": "stderr",
     "output_type": "stream",
     "text": [
      "Trial 2 - Epoch 37/47 - Training: 100%|██████████| 273/273 [00:07<00:00, 36.20it/s]\n"
     ]
    },
    {
     "name": "stdout",
     "output_type": "stream",
     "text": [
      ">>> [Train] AUROC: 0.9974 / AUPRC: 0.9553\n",
      ">>> [Valid] AUROC: 0.9663 / AUPRC: 0.8766\n"
     ]
    },
    {
     "name": "stderr",
     "output_type": "stream",
     "text": [
      "Trial 2 - Epoch 38/47 - Training: 100%|██████████| 273/273 [00:07<00:00, 36.29it/s]\n"
     ]
    },
    {
     "name": "stdout",
     "output_type": "stream",
     "text": [
      ">>> [Train] AUROC: 0.9973 / AUPRC: 0.9534\n",
      ">>> [Valid] AUROC: 0.9678 / AUPRC: 0.8846\n"
     ]
    },
    {
     "name": "stderr",
     "output_type": "stream",
     "text": [
      "Trial 2 - Epoch 39/47 - Training: 100%|██████████| 273/273 [00:07<00:00, 36.35it/s]\n"
     ]
    },
    {
     "name": "stdout",
     "output_type": "stream",
     "text": [
      ">>> [Train] AUROC: 0.9976 / AUPRC: 0.9517\n",
      ">>> [Valid] AUROC: 0.9646 / AUPRC: 0.8734\n"
     ]
    },
    {
     "name": "stderr",
     "output_type": "stream",
     "text": [
      "Trial 2 - Epoch 40/47 - Training: 100%|██████████| 273/273 [00:07<00:00, 36.72it/s]\n"
     ]
    },
    {
     "name": "stdout",
     "output_type": "stream",
     "text": [
      ">>> [Train] AUROC: 0.9977 / AUPRC: 0.9614\n",
      ">>> [Valid] AUROC: 0.9662 / AUPRC: 0.8801\n"
     ]
    },
    {
     "name": "stderr",
     "output_type": "stream",
     "text": [
      "Trial 2 - Epoch 41/47 - Training: 100%|██████████| 273/273 [00:07<00:00, 36.61it/s]\n"
     ]
    },
    {
     "name": "stdout",
     "output_type": "stream",
     "text": [
      ">>> [Train] AUROC: 0.9974 / AUPRC: 0.9603\n",
      ">>> [Valid] AUROC: 0.9696 / AUPRC: 0.8592\n"
     ]
    },
    {
     "name": "stderr",
     "output_type": "stream",
     "text": [
      "Trial 2 - Epoch 42/47 - Training: 100%|██████████| 273/273 [00:07<00:00, 36.79it/s]\n"
     ]
    },
    {
     "name": "stdout",
     "output_type": "stream",
     "text": [
      ">>> [Train] AUROC: 0.9982 / AUPRC: 0.9669\n",
      ">>> [Valid] AUROC: 0.9599 / AUPRC: 0.8671\n"
     ]
    },
    {
     "name": "stderr",
     "output_type": "stream",
     "text": [
      "Trial 2 - Epoch 43/47 - Training: 100%|██████████| 273/273 [00:07<00:00, 36.68it/s]\n"
     ]
    },
    {
     "name": "stdout",
     "output_type": "stream",
     "text": [
      ">>> [Train] AUROC: 0.9977 / AUPRC: 0.9554\n",
      ">>> [Valid] AUROC: 0.9769 / AUPRC: 0.8351\n"
     ]
    },
    {
     "name": "stderr",
     "output_type": "stream",
     "text": [
      "Trial 2 - Epoch 44/47 - Training: 100%|██████████| 273/273 [00:07<00:00, 36.44it/s]\n"
     ]
    },
    {
     "name": "stdout",
     "output_type": "stream",
     "text": [
      ">>> [Train] AUROC: 0.9981 / AUPRC: 0.9663\n",
      ">>> [Valid] AUROC: 0.9594 / AUPRC: 0.8665\n",
      "Epoch 00044: reducing learning rate of group 0 to 2.1646e-05.\n"
     ]
    },
    {
     "name": "stderr",
     "output_type": "stream",
     "text": [
      "Trial 2 - Epoch 45/47 - Training: 100%|██████████| 273/273 [00:07<00:00, 36.34it/s]\n"
     ]
    },
    {
     "name": "stdout",
     "output_type": "stream",
     "text": [
      ">>> [Train] AUROC: 0.9982 / AUPRC: 0.9660\n",
      ">>> [Valid] AUROC: 0.9584 / AUPRC: 0.8680\n"
     ]
    },
    {
     "name": "stderr",
     "output_type": "stream",
     "text": [
      "Trial 2 - Epoch 46/47 - Training: 100%|██████████| 273/273 [00:07<00:00, 36.33it/s]\n"
     ]
    },
    {
     "name": "stdout",
     "output_type": "stream",
     "text": [
      ">>> [Train] AUROC: 0.9984 / AUPRC: 0.9666\n",
      ">>> [Valid] AUROC: 0.9593 / AUPRC: 0.8662\n"
     ]
    },
    {
     "name": "stderr",
     "output_type": "stream",
     "text": [
      "Trial 2 - Epoch 47/47 - Training: 100%|██████████| 273/273 [00:07<00:00, 35.66it/s]\n"
     ]
    },
    {
     "name": "stdout",
     "output_type": "stream",
     "text": [
      ">>> [Train] AUROC: 0.9983 / AUPRC: 0.9676\n"
     ]
    },
    {
     "name": "stderr",
     "output_type": "stream",
     "text": [
      "[I 2023-12-12 19:57:05,552] Trial 1 finished with value: 0.8845819466178725 and parameters: {'learning_rate': 0.0021646336260511692, 'batch_size': 64, 'num_epochs': 47}. Best is trial 0 with value: 0.9019463303557288.\n"
     ]
    },
    {
     "name": "stdout",
     "output_type": "stream",
     "text": [
      ">>> [Valid] AUROC: 0.9603 / AUPRC: 0.8704\n",
      "------------------------------------------\n",
      "< Trial {trial.number+1}'s Best Performance>\n",
      "[train_loss]: 0.0300\n",
      "[valid_loss]: 0.0751\n",
      "[train_accuracy]: 0.9901\n",
      "[valid_accuracy]: 0.9784\n",
      "[train_auroc]: 0.9973\n",
      "[valid_auroc]: 0.9678\n",
      "[train_auprc]: 0.9534\n",
      "[valid_auprc]: 0.8846 <- Pick It Up!\n",
      "----------------------------------------\n",
      ">>>>> Trial3 Start...<<<<<\n",
      "----------------------------------------\n",
      "[Learning Rate] : 0.000627287462894942\n",
      "[Batch Size] : 32\n",
      "[Epochs] : 41\n",
      "[Optimizer] : Adam (\n",
      "Parameter Group 0\n",
      "    amsgrad: False\n",
      "    betas: (0.9, 0.999)\n",
      "    capturable: False\n",
      "    differentiable: False\n",
      "    eps: 1e-08\n",
      "    foreach: None\n",
      "    fused: None\n",
      "    lr: 0.000627287462894942\n",
      "    maximize: False\n",
      "    weight_decay: 0\n",
      ")\n",
      "-----------------------\n",
      ">>>>> Let's GO!!! <<<<<\n",
      "-----------------------\n"
     ]
    },
    {
     "name": "stderr",
     "output_type": "stream",
     "text": [
      "Trial 3 - Epoch 1/41 - Training: 100%|██████████| 545/545 [00:08<00:00, 61.26it/s]\n"
     ]
    },
    {
     "name": "stdout",
     "output_type": "stream",
     "text": [
      ">>> [Train] AUROC: 0.5759 / AUPRC: 0.0809\n",
      ">>> [Valid] AUROC: 0.8856 / AUPRC: 0.2842\n"
     ]
    },
    {
     "name": "stderr",
     "output_type": "stream",
     "text": [
      "Trial 3 - Epoch 2/41 - Training: 100%|██████████| 545/545 [00:08<00:00, 61.55it/s]\n"
     ]
    },
    {
     "name": "stdout",
     "output_type": "stream",
     "text": [
      ">>> [Train] AUROC: 0.9220 / AUPRC: 0.4419\n",
      ">>> [Valid] AUROC: 0.9592 / AUPRC: 0.6136\n"
     ]
    },
    {
     "name": "stderr",
     "output_type": "stream",
     "text": [
      "Trial 3 - Epoch 3/41 - Training: 100%|██████████| 545/545 [00:08<00:00, 61.21it/s]\n"
     ]
    },
    {
     "name": "stdout",
     "output_type": "stream",
     "text": [
      ">>> [Train] AUROC: 0.9536 / AUPRC: 0.5597\n",
      ">>> [Valid] AUROC: 0.9743 / AUPRC: 0.6466\n"
     ]
    },
    {
     "name": "stderr",
     "output_type": "stream",
     "text": [
      "Trial 3 - Epoch 4/41 - Training: 100%|██████████| 545/545 [00:08<00:00, 61.96it/s]\n"
     ]
    },
    {
     "name": "stdout",
     "output_type": "stream",
     "text": [
      ">>> [Train] AUROC: 0.9599 / AUPRC: 0.6017\n",
      ">>> [Valid] AUROC: 0.9674 / AUPRC: 0.6471\n"
     ]
    },
    {
     "name": "stderr",
     "output_type": "stream",
     "text": [
      "Trial 3 - Epoch 5/41 - Training: 100%|██████████| 545/545 [00:08<00:00, 61.55it/s]\n"
     ]
    },
    {
     "name": "stdout",
     "output_type": "stream",
     "text": [
      ">>> [Train] AUROC: 0.9683 / AUPRC: 0.6591\n",
      ">>> [Valid] AUROC: 0.9833 / AUPRC: 0.7097\n"
     ]
    },
    {
     "name": "stderr",
     "output_type": "stream",
     "text": [
      "Trial 3 - Epoch 6/41 - Training: 100%|██████████| 545/545 [00:08<00:00, 61.53it/s]\n"
     ]
    },
    {
     "name": "stdout",
     "output_type": "stream",
     "text": [
      ">>> [Train] AUROC: 0.9705 / AUPRC: 0.6899\n",
      ">>> [Valid] AUROC: 0.9674 / AUPRC: 0.7183\n"
     ]
    },
    {
     "name": "stderr",
     "output_type": "stream",
     "text": [
      "Trial 3 - Epoch 7/41 - Training: 100%|██████████| 545/545 [00:08<00:00, 62.62it/s]\n"
     ]
    },
    {
     "name": "stdout",
     "output_type": "stream",
     "text": [
      ">>> [Train] AUROC: 0.9760 / AUPRC: 0.7076\n",
      ">>> [Valid] AUROC: 0.9837 / AUPRC: 0.7271\n"
     ]
    },
    {
     "name": "stderr",
     "output_type": "stream",
     "text": [
      "Trial 3 - Epoch 8/41 - Training: 100%|██████████| 545/545 [00:08<00:00, 62.30it/s]\n"
     ]
    },
    {
     "name": "stdout",
     "output_type": "stream",
     "text": [
      ">>> [Train] AUROC: 0.9765 / AUPRC: 0.7311\n",
      ">>> [Valid] AUROC: 0.9823 / AUPRC: 0.7336\n"
     ]
    },
    {
     "name": "stderr",
     "output_type": "stream",
     "text": [
      "Trial 3 - Epoch 9/41 - Training: 100%|██████████| 545/545 [00:08<00:00, 63.90it/s]\n"
     ]
    },
    {
     "name": "stdout",
     "output_type": "stream",
     "text": [
      ">>> [Train] AUROC: 0.9787 / AUPRC: 0.7473\n",
      ">>> [Valid] AUROC: 0.9816 / AUPRC: 0.8173\n"
     ]
    },
    {
     "name": "stderr",
     "output_type": "stream",
     "text": [
      "Trial 3 - Epoch 10/41 - Training: 100%|██████████| 545/545 [00:08<00:00, 61.87it/s]\n"
     ]
    },
    {
     "name": "stdout",
     "output_type": "stream",
     "text": [
      ">>> [Train] AUROC: 0.9827 / AUPRC: 0.7711\n",
      ">>> [Valid] AUROC: 0.9830 / AUPRC: 0.8051\n"
     ]
    },
    {
     "name": "stderr",
     "output_type": "stream",
     "text": [
      "Trial 3 - Epoch 11/41 - Training: 100%|██████████| 545/545 [00:08<00:00, 62.56it/s]\n"
     ]
    },
    {
     "name": "stdout",
     "output_type": "stream",
     "text": [
      ">>> [Train] AUROC: 0.9796 / AUPRC: 0.7728\n",
      ">>> [Valid] AUROC: 0.9871 / AUPRC: 0.7992\n"
     ]
    },
    {
     "name": "stderr",
     "output_type": "stream",
     "text": [
      "Trial 3 - Epoch 12/41 - Training: 100%|██████████| 545/545 [00:08<00:00, 63.47it/s]\n"
     ]
    },
    {
     "name": "stdout",
     "output_type": "stream",
     "text": [
      ">>> [Train] AUROC: 0.9816 / AUPRC: 0.7919\n",
      ">>> [Valid] AUROC: 0.9843 / AUPRC: 0.7646\n"
     ]
    },
    {
     "name": "stderr",
     "output_type": "stream",
     "text": [
      "Trial 3 - Epoch 13/41 - Training: 100%|██████████| 545/545 [00:08<00:00, 62.93it/s]\n"
     ]
    },
    {
     "name": "stdout",
     "output_type": "stream",
     "text": [
      ">>> [Train] AUROC: 0.9812 / AUPRC: 0.8076\n",
      ">>> [Valid] AUROC: 0.9806 / AUPRC: 0.8398\n"
     ]
    },
    {
     "name": "stderr",
     "output_type": "stream",
     "text": [
      "Trial 3 - Epoch 14/41 - Training: 100%|██████████| 545/545 [00:08<00:00, 61.55it/s]\n"
     ]
    },
    {
     "name": "stdout",
     "output_type": "stream",
     "text": [
      ">>> [Train] AUROC: 0.9851 / AUPRC: 0.7924\n",
      ">>> [Valid] AUROC: 0.9780 / AUPRC: 0.8145\n"
     ]
    },
    {
     "name": "stderr",
     "output_type": "stream",
     "text": [
      "Trial 3 - Epoch 15/41 - Training: 100%|██████████| 545/545 [00:08<00:00, 61.71it/s]\n"
     ]
    },
    {
     "name": "stdout",
     "output_type": "stream",
     "text": [
      ">>> [Train] AUROC: 0.9854 / AUPRC: 0.8154\n",
      ">>> [Valid] AUROC: 0.9849 / AUPRC: 0.8410\n"
     ]
    },
    {
     "name": "stderr",
     "output_type": "stream",
     "text": [
      "Trial 3 - Epoch 16/41 - Training: 100%|██████████| 545/545 [00:08<00:00, 61.59it/s]\n"
     ]
    },
    {
     "name": "stdout",
     "output_type": "stream",
     "text": [
      ">>> [Train] AUROC: 0.9863 / AUPRC: 0.8253\n",
      ">>> [Valid] AUROC: 0.9809 / AUPRC: 0.8313\n"
     ]
    },
    {
     "name": "stderr",
     "output_type": "stream",
     "text": [
      "Trial 3 - Epoch 17/41 - Training: 100%|██████████| 545/545 [00:08<00:00, 62.27it/s]\n"
     ]
    },
    {
     "name": "stdout",
     "output_type": "stream",
     "text": [
      ">>> [Train] AUROC: 0.9869 / AUPRC: 0.8190\n",
      ">>> [Valid] AUROC: 0.9820 / AUPRC: 0.8325\n"
     ]
    },
    {
     "name": "stderr",
     "output_type": "stream",
     "text": [
      "Trial 3 - Epoch 18/41 - Training: 100%|██████████| 545/545 [00:08<00:00, 62.98it/s]\n"
     ]
    },
    {
     "name": "stdout",
     "output_type": "stream",
     "text": [
      ">>> [Train] AUROC: 0.9878 / AUPRC: 0.8369\n",
      ">>> [Valid] AUROC: 0.9828 / AUPRC: 0.8681\n"
     ]
    },
    {
     "name": "stderr",
     "output_type": "stream",
     "text": [
      "Trial 3 - Epoch 19/41 - Training: 100%|██████████| 545/545 [00:08<00:00, 63.34it/s]\n"
     ]
    },
    {
     "name": "stdout",
     "output_type": "stream",
     "text": [
      ">>> [Train] AUROC: 0.9878 / AUPRC: 0.8400\n",
      ">>> [Valid] AUROC: 0.9853 / AUPRC: 0.8553\n"
     ]
    },
    {
     "name": "stderr",
     "output_type": "stream",
     "text": [
      "Trial 3 - Epoch 20/41 - Training: 100%|██████████| 545/545 [00:08<00:00, 62.63it/s]\n"
     ]
    },
    {
     "name": "stdout",
     "output_type": "stream",
     "text": [
      ">>> [Train] AUROC: 0.9878 / AUPRC: 0.8469\n",
      ">>> [Valid] AUROC: 0.9752 / AUPRC: 0.8241\n"
     ]
    },
    {
     "name": "stderr",
     "output_type": "stream",
     "text": [
      "Trial 3 - Epoch 21/41 - Training: 100%|██████████| 545/545 [00:08<00:00, 62.51it/s]\n"
     ]
    },
    {
     "name": "stdout",
     "output_type": "stream",
     "text": [
      ">>> [Train] AUROC: 0.9885 / AUPRC: 0.8536\n",
      ">>> [Valid] AUROC: 0.9788 / AUPRC: 0.8549\n"
     ]
    },
    {
     "name": "stderr",
     "output_type": "stream",
     "text": [
      "Trial 3 - Epoch 22/41 - Training: 100%|██████████| 545/545 [00:08<00:00, 62.81it/s]\n"
     ]
    },
    {
     "name": "stdout",
     "output_type": "stream",
     "text": [
      ">>> [Train] AUROC: 0.9903 / AUPRC: 0.8630\n",
      ">>> [Valid] AUROC: 0.9790 / AUPRC: 0.8341\n"
     ]
    },
    {
     "name": "stderr",
     "output_type": "stream",
     "text": [
      "Trial 3 - Epoch 23/41 - Training: 100%|██████████| 545/545 [00:08<00:00, 62.89it/s]\n"
     ]
    },
    {
     "name": "stdout",
     "output_type": "stream",
     "text": [
      ">>> [Train] AUROC: 0.9906 / AUPRC: 0.8830\n",
      ">>> [Valid] AUROC: 0.9661 / AUPRC: 0.8590\n"
     ]
    },
    {
     "name": "stderr",
     "output_type": "stream",
     "text": [
      "Trial 3 - Epoch 24/41 - Training: 100%|██████████| 545/545 [00:08<00:00, 62.87it/s]\n"
     ]
    },
    {
     "name": "stdout",
     "output_type": "stream",
     "text": [
      ">>> [Train] AUROC: 0.9917 / AUPRC: 0.8864\n",
      ">>> [Valid] AUROC: 0.9726 / AUPRC: 0.8434\n",
      "Epoch 00024: reducing learning rate of group 0 to 6.2729e-05.\n"
     ]
    },
    {
     "name": "stderr",
     "output_type": "stream",
     "text": [
      "Trial 3 - Epoch 25/41 - Training: 100%|██████████| 545/545 [00:08<00:00, 63.02it/s]\n"
     ]
    },
    {
     "name": "stdout",
     "output_type": "stream",
     "text": [
      ">>> [Train] AUROC: 0.9940 / AUPRC: 0.9172\n",
      ">>> [Valid] AUROC: 0.9799 / AUPRC: 0.8277\n"
     ]
    },
    {
     "name": "stderr",
     "output_type": "stream",
     "text": [
      "Trial 3 - Epoch 26/41 - Training: 100%|██████████| 545/545 [00:08<00:00, 63.30it/s]\n"
     ]
    },
    {
     "name": "stdout",
     "output_type": "stream",
     "text": [
      ">>> [Train] AUROC: 0.9957 / AUPRC: 0.9321\n",
      ">>> [Valid] AUROC: 0.9679 / AUPRC: 0.8570\n"
     ]
    },
    {
     "name": "stderr",
     "output_type": "stream",
     "text": [
      "Trial 3 - Epoch 27/41 - Training: 100%|██████████| 545/545 [00:08<00:00, 63.40it/s]\n"
     ]
    },
    {
     "name": "stdout",
     "output_type": "stream",
     "text": [
      ">>> [Train] AUROC: 0.9957 / AUPRC: 0.9325\n",
      ">>> [Valid] AUROC: 0.9729 / AUPRC: 0.8424\n"
     ]
    },
    {
     "name": "stderr",
     "output_type": "stream",
     "text": [
      "Trial 3 - Epoch 28/41 - Training: 100%|██████████| 545/545 [00:08<00:00, 63.46it/s]\n"
     ]
    },
    {
     "name": "stdout",
     "output_type": "stream",
     "text": [
      ">>> [Train] AUROC: 0.9956 / AUPRC: 0.9414\n"
     ]
    },
    {
     "name": "stderr",
     "output_type": "stream",
     "text": [
      "[I 2023-12-12 20:01:24,901] Trial 2 finished with value: 0.8681346374392271 and parameters: {'learning_rate': 0.000627287462894942, 'batch_size': 32, 'num_epochs': 41}. Best is trial 0 with value: 0.9019463303557288.\n"
     ]
    },
    {
     "name": "stdout",
     "output_type": "stream",
     "text": [
      ">>> [Valid] AUROC: 0.9595 / AUPRC: 0.8396\n",
      "Early stopping\n",
      "------------------------------------------\n",
      "< Trial {trial.number+1}'s Best Performance>\n",
      "[train_loss]: 0.0623\n",
      "[valid_loss]: 0.0646\n",
      "[train_accuracy]: 0.9764\n",
      "[valid_accuracy]: 0.9752\n",
      "[train_auroc]: 0.9878\n",
      "[valid_auroc]: 0.9828\n",
      "[train_auprc]: 0.8369\n",
      "[valid_auprc]: 0.8681 <- Pick It Up!\n",
      "----------------------------------------\n",
      ">>>>> Trial4 Start...<<<<<\n",
      "----------------------------------------\n",
      "[Learning Rate] : 0.0007620655265040313\n",
      "[Batch Size] : 128\n",
      "[Epochs] : 42\n",
      "[Optimizer] : Adam (\n",
      "Parameter Group 0\n",
      "    amsgrad: False\n",
      "    betas: (0.9, 0.999)\n",
      "    capturable: False\n",
      "    differentiable: False\n",
      "    eps: 1e-08\n",
      "    foreach: None\n",
      "    fused: None\n",
      "    lr: 0.0007620655265040313\n",
      "    maximize: False\n",
      "    weight_decay: 0\n",
      ")\n",
      "-----------------------\n",
      ">>>>> Let's GO!!! <<<<<\n",
      "-----------------------\n"
     ]
    },
    {
     "name": "stderr",
     "output_type": "stream",
     "text": [
      "Trial 4 - Epoch 1/42 - Training: 100%|██████████| 137/137 [00:06<00:00, 19.63it/s]\n"
     ]
    },
    {
     "name": "stdout",
     "output_type": "stream",
     "text": [
      ">>> [Train] AUROC: 0.4900 / AUPRC: 0.0682\n",
      ">>> [Valid] AUROC: 0.4694 / AUPRC: 0.0641\n"
     ]
    },
    {
     "name": "stderr",
     "output_type": "stream",
     "text": [
      "Trial 4 - Epoch 2/42 - Training: 100%|██████████| 137/137 [00:06<00:00, 19.70it/s]\n"
     ]
    },
    {
     "name": "stdout",
     "output_type": "stream",
     "text": [
      ">>> [Train] AUROC: 0.5140 / AUPRC: 0.0716\n",
      ">>> [Valid] AUROC: 0.4923 / AUPRC: 0.0801\n"
     ]
    },
    {
     "name": "stderr",
     "output_type": "stream",
     "text": [
      "Trial 4 - Epoch 3/42 - Training: 100%|██████████| 137/137 [00:06<00:00, 19.79it/s]\n"
     ]
    },
    {
     "name": "stdout",
     "output_type": "stream",
     "text": [
      ">>> [Train] AUROC: 0.5180 / AUPRC: 0.0751\n",
      ">>> [Valid] AUROC: 0.4575 / AUPRC: 0.0694\n"
     ]
    },
    {
     "name": "stderr",
     "output_type": "stream",
     "text": [
      "Trial 4 - Epoch 4/42 - Training: 100%|██████████| 137/137 [00:06<00:00, 19.61it/s]\n"
     ]
    },
    {
     "name": "stdout",
     "output_type": "stream",
     "text": [
      ">>> [Train] AUROC: 0.6974 / AUPRC: 0.1875\n",
      ">>> [Valid] AUROC: 0.8964 / AUPRC: 0.5042\n"
     ]
    },
    {
     "name": "stderr",
     "output_type": "stream",
     "text": [
      "Trial 4 - Epoch 5/42 - Training: 100%|██████████| 137/137 [00:07<00:00, 19.34it/s]\n"
     ]
    },
    {
     "name": "stdout",
     "output_type": "stream",
     "text": [
      ">>> [Train] AUROC: 0.9341 / AUPRC: 0.5333\n",
      ">>> [Valid] AUROC: 0.9697 / AUPRC: 0.6331\n"
     ]
    },
    {
     "name": "stderr",
     "output_type": "stream",
     "text": [
      "Trial 4 - Epoch 6/42 - Training: 100%|██████████| 137/137 [00:06<00:00, 19.75it/s]\n"
     ]
    },
    {
     "name": "stdout",
     "output_type": "stream",
     "text": [
      ">>> [Train] AUROC: 0.9627 / AUPRC: 0.6431\n",
      ">>> [Valid] AUROC: 0.9811 / AUPRC: 0.6925\n"
     ]
    },
    {
     "name": "stderr",
     "output_type": "stream",
     "text": [
      "Trial 4 - Epoch 7/42 - Training: 100%|██████████| 137/137 [00:06<00:00, 19.76it/s]\n"
     ]
    },
    {
     "name": "stdout",
     "output_type": "stream",
     "text": [
      ">>> [Train] AUROC: 0.9683 / AUPRC: 0.6744\n",
      ">>> [Valid] AUROC: 0.9832 / AUPRC: 0.6975\n"
     ]
    },
    {
     "name": "stderr",
     "output_type": "stream",
     "text": [
      "Trial 4 - Epoch 8/42 - Training: 100%|██████████| 137/137 [00:06<00:00, 19.60it/s]\n"
     ]
    },
    {
     "name": "stdout",
     "output_type": "stream",
     "text": [
      ">>> [Train] AUROC: 0.9759 / AUPRC: 0.7300\n",
      ">>> [Valid] AUROC: 0.9787 / AUPRC: 0.6468\n"
     ]
    },
    {
     "name": "stderr",
     "output_type": "stream",
     "text": [
      "Trial 4 - Epoch 9/42 - Training: 100%|██████████| 137/137 [00:06<00:00, 19.76it/s]\n"
     ]
    },
    {
     "name": "stdout",
     "output_type": "stream",
     "text": [
      ">>> [Train] AUROC: 0.9767 / AUPRC: 0.7343\n",
      ">>> [Valid] AUROC: 0.9846 / AUPRC: 0.7583\n"
     ]
    },
    {
     "name": "stderr",
     "output_type": "stream",
     "text": [
      "Trial 4 - Epoch 10/42 - Training: 100%|██████████| 137/137 [00:06<00:00, 19.70it/s]\n"
     ]
    },
    {
     "name": "stdout",
     "output_type": "stream",
     "text": [
      ">>> [Train] AUROC: 0.9807 / AUPRC: 0.7634\n",
      ">>> [Valid] AUROC: 0.9855 / AUPRC: 0.7627\n"
     ]
    },
    {
     "name": "stderr",
     "output_type": "stream",
     "text": [
      "Trial 4 - Epoch 11/42 - Training: 100%|██████████| 137/137 [00:06<00:00, 19.77it/s]\n"
     ]
    },
    {
     "name": "stdout",
     "output_type": "stream",
     "text": [
      ">>> [Train] AUROC: 0.9803 / AUPRC: 0.7690\n",
      ">>> [Valid] AUROC: 0.9867 / AUPRC: 0.7610\n"
     ]
    },
    {
     "name": "stderr",
     "output_type": "stream",
     "text": [
      "Trial 4 - Epoch 12/42 - Training: 100%|██████████| 137/137 [00:06<00:00, 19.79it/s]\n"
     ]
    },
    {
     "name": "stdout",
     "output_type": "stream",
     "text": [
      ">>> [Train] AUROC: 0.9820 / AUPRC: 0.7754\n",
      ">>> [Valid] AUROC: 0.9881 / AUPRC: 0.7876\n"
     ]
    },
    {
     "name": "stderr",
     "output_type": "stream",
     "text": [
      "Trial 4 - Epoch 13/42 - Training: 100%|██████████| 137/137 [00:06<00:00, 19.79it/s]\n"
     ]
    },
    {
     "name": "stdout",
     "output_type": "stream",
     "text": [
      ">>> [Train] AUROC: 0.9825 / AUPRC: 0.7847\n",
      ">>> [Valid] AUROC: 0.9888 / AUPRC: 0.8316\n"
     ]
    },
    {
     "name": "stderr",
     "output_type": "stream",
     "text": [
      "Trial 4 - Epoch 14/42 - Training: 100%|██████████| 137/137 [00:06<00:00, 19.77it/s]\n"
     ]
    },
    {
     "name": "stdout",
     "output_type": "stream",
     "text": [
      ">>> [Train] AUROC: 0.9836 / AUPRC: 0.8079\n",
      ">>> [Valid] AUROC: 0.9886 / AUPRC: 0.8322\n"
     ]
    },
    {
     "name": "stderr",
     "output_type": "stream",
     "text": [
      "Trial 4 - Epoch 15/42 - Training: 100%|██████████| 137/137 [00:06<00:00, 19.75it/s]\n"
     ]
    },
    {
     "name": "stdout",
     "output_type": "stream",
     "text": [
      ">>> [Train] AUROC: 0.9842 / AUPRC: 0.8064\n",
      ">>> [Valid] AUROC: 0.9874 / AUPRC: 0.8011\n"
     ]
    },
    {
     "name": "stderr",
     "output_type": "stream",
     "text": [
      "Trial 4 - Epoch 16/42 - Training: 100%|██████████| 137/137 [00:06<00:00, 19.83it/s]\n"
     ]
    },
    {
     "name": "stdout",
     "output_type": "stream",
     "text": [
      ">>> [Train] AUROC: 0.9846 / AUPRC: 0.8406\n",
      ">>> [Valid] AUROC: 0.9892 / AUPRC: 0.8574\n"
     ]
    },
    {
     "name": "stderr",
     "output_type": "stream",
     "text": [
      "Trial 4 - Epoch 17/42 - Training: 100%|██████████| 137/137 [00:06<00:00, 19.60it/s]\n"
     ]
    },
    {
     "name": "stdout",
     "output_type": "stream",
     "text": [
      ">>> [Train] AUROC: 0.9856 / AUPRC: 0.8316\n",
      ">>> [Valid] AUROC: 0.9903 / AUPRC: 0.8648\n"
     ]
    },
    {
     "name": "stderr",
     "output_type": "stream",
     "text": [
      "Trial 4 - Epoch 18/42 - Training: 100%|██████████| 137/137 [00:06<00:00, 19.74it/s]\n"
     ]
    },
    {
     "name": "stdout",
     "output_type": "stream",
     "text": [
      ">>> [Train] AUROC: 0.9874 / AUPRC: 0.8621\n",
      ">>> [Valid] AUROC: 0.9898 / AUPRC: 0.8584\n"
     ]
    },
    {
     "name": "stderr",
     "output_type": "stream",
     "text": [
      "Trial 4 - Epoch 19/42 - Training: 100%|██████████| 137/137 [00:06<00:00, 19.85it/s]\n"
     ]
    },
    {
     "name": "stdout",
     "output_type": "stream",
     "text": [
      ">>> [Train] AUROC: 0.9879 / AUPRC: 0.8621\n",
      ">>> [Valid] AUROC: 0.9871 / AUPRC: 0.8359\n"
     ]
    },
    {
     "name": "stderr",
     "output_type": "stream",
     "text": [
      "Trial 4 - Epoch 20/42 - Training: 100%|██████████| 137/137 [00:07<00:00, 19.50it/s]\n"
     ]
    },
    {
     "name": "stdout",
     "output_type": "stream",
     "text": [
      ">>> [Train] AUROC: 0.9887 / AUPRC: 0.8617\n",
      ">>> [Valid] AUROC: 0.9899 / AUPRC: 0.8941\n"
     ]
    },
    {
     "name": "stderr",
     "output_type": "stream",
     "text": [
      "Trial 4 - Epoch 21/42 - Training: 100%|██████████| 137/137 [00:06<00:00, 19.79it/s]\n"
     ]
    },
    {
     "name": "stdout",
     "output_type": "stream",
     "text": [
      ">>> [Train] AUROC: 0.9881 / AUPRC: 0.8705\n",
      ">>> [Valid] AUROC: 0.9885 / AUPRC: 0.8508\n"
     ]
    },
    {
     "name": "stderr",
     "output_type": "stream",
     "text": [
      "Trial 4 - Epoch 22/42 - Training: 100%|██████████| 137/137 [00:06<00:00, 19.78it/s]\n"
     ]
    },
    {
     "name": "stdout",
     "output_type": "stream",
     "text": [
      ">>> [Train] AUROC: 0.9895 / AUPRC: 0.9015\n",
      ">>> [Valid] AUROC: 0.9892 / AUPRC: 0.8623\n"
     ]
    },
    {
     "name": "stderr",
     "output_type": "stream",
     "text": [
      "Trial 4 - Epoch 23/42 - Training: 100%|██████████| 137/137 [00:06<00:00, 19.77it/s]\n"
     ]
    },
    {
     "name": "stdout",
     "output_type": "stream",
     "text": [
      ">>> [Train] AUROC: 0.9909 / AUPRC: 0.9021\n",
      ">>> [Valid] AUROC: 0.9868 / AUPRC: 0.8585\n"
     ]
    },
    {
     "name": "stderr",
     "output_type": "stream",
     "text": [
      "Trial 4 - Epoch 24/42 - Training: 100%|██████████| 137/137 [00:06<00:00, 19.78it/s]\n"
     ]
    },
    {
     "name": "stdout",
     "output_type": "stream",
     "text": [
      ">>> [Train] AUROC: 0.9925 / AUPRC: 0.9205\n",
      ">>> [Valid] AUROC: 0.9918 / AUPRC: 0.9008\n"
     ]
    },
    {
     "name": "stderr",
     "output_type": "stream",
     "text": [
      "Trial 4 - Epoch 25/42 - Training: 100%|██████████| 137/137 [00:06<00:00, 19.69it/s]\n"
     ]
    },
    {
     "name": "stdout",
     "output_type": "stream",
     "text": [
      ">>> [Train] AUROC: 0.9913 / AUPRC: 0.9200\n",
      ">>> [Valid] AUROC: 0.9856 / AUPRC: 0.8362\n"
     ]
    },
    {
     "name": "stderr",
     "output_type": "stream",
     "text": [
      "Trial 4 - Epoch 26/42 - Training: 100%|██████████| 137/137 [00:06<00:00, 19.61it/s]\n"
     ]
    },
    {
     "name": "stdout",
     "output_type": "stream",
     "text": [
      ">>> [Train] AUROC: 0.9921 / AUPRC: 0.9304\n",
      ">>> [Valid] AUROC: 0.9874 / AUPRC: 0.8683\n"
     ]
    },
    {
     "name": "stderr",
     "output_type": "stream",
     "text": [
      "Trial 4 - Epoch 27/42 - Training: 100%|██████████| 137/137 [00:06<00:00, 19.78it/s]\n"
     ]
    },
    {
     "name": "stdout",
     "output_type": "stream",
     "text": [
      ">>> [Train] AUROC: 0.9923 / AUPRC: 0.9403\n",
      ">>> [Valid] AUROC: 0.9880 / AUPRC: 0.8646\n"
     ]
    },
    {
     "name": "stderr",
     "output_type": "stream",
     "text": [
      "Trial 4 - Epoch 28/42 - Training: 100%|██████████| 137/137 [00:06<00:00, 19.81it/s]\n"
     ]
    },
    {
     "name": "stdout",
     "output_type": "stream",
     "text": [
      ">>> [Train] AUROC: 0.9918 / AUPRC: 0.9426\n",
      ">>> [Valid] AUROC: 0.9905 / AUPRC: 0.9011\n"
     ]
    },
    {
     "name": "stderr",
     "output_type": "stream",
     "text": [
      "Trial 4 - Epoch 29/42 - Training: 100%|██████████| 137/137 [00:06<00:00, 19.72it/s]\n"
     ]
    },
    {
     "name": "stdout",
     "output_type": "stream",
     "text": [
      ">>> [Train] AUROC: 0.9931 / AUPRC: 0.9376\n",
      ">>> [Valid] AUROC: 0.9920 / AUPRC: 0.9163\n"
     ]
    },
    {
     "name": "stderr",
     "output_type": "stream",
     "text": [
      "Trial 4 - Epoch 30/42 - Training: 100%|██████████| 137/137 [00:06<00:00, 19.75it/s]\n"
     ]
    },
    {
     "name": "stdout",
     "output_type": "stream",
     "text": [
      ">>> [Train] AUROC: 0.9932 / AUPRC: 0.9438\n",
      ">>> [Valid] AUROC: 0.9923 / AUPRC: 0.9144\n"
     ]
    },
    {
     "name": "stderr",
     "output_type": "stream",
     "text": [
      "Trial 4 - Epoch 31/42 - Training: 100%|██████████| 137/137 [00:06<00:00, 19.69it/s]\n"
     ]
    },
    {
     "name": "stdout",
     "output_type": "stream",
     "text": [
      ">>> [Train] AUROC: 0.9951 / AUPRC: 0.9525\n",
      ">>> [Valid] AUROC: 0.9865 / AUPRC: 0.8856\n"
     ]
    },
    {
     "name": "stderr",
     "output_type": "stream",
     "text": [
      "Trial 4 - Epoch 32/42 - Training: 100%|██████████| 137/137 [00:06<00:00, 19.79it/s]\n"
     ]
    },
    {
     "name": "stdout",
     "output_type": "stream",
     "text": [
      ">>> [Train] AUROC: 0.9955 / AUPRC: 0.9518\n",
      ">>> [Valid] AUROC: 0.9859 / AUPRC: 0.9091\n"
     ]
    },
    {
     "name": "stderr",
     "output_type": "stream",
     "text": [
      "Trial 4 - Epoch 33/42 - Training: 100%|██████████| 137/137 [00:06<00:00, 19.76it/s]\n"
     ]
    },
    {
     "name": "stdout",
     "output_type": "stream",
     "text": [
      ">>> [Train] AUROC: 0.9948 / AUPRC: 0.9562\n",
      ">>> [Valid] AUROC: 0.9863 / AUPRC: 0.9054\n"
     ]
    },
    {
     "name": "stderr",
     "output_type": "stream",
     "text": [
      "Trial 4 - Epoch 34/42 - Training: 100%|██████████| 137/137 [00:06<00:00, 19.77it/s]\n"
     ]
    },
    {
     "name": "stdout",
     "output_type": "stream",
     "text": [
      ">>> [Train] AUROC: 0.9949 / AUPRC: 0.9533\n",
      ">>> [Valid] AUROC: 0.9828 / AUPRC: 0.8607\n"
     ]
    },
    {
     "name": "stderr",
     "output_type": "stream",
     "text": [
      "Trial 4 - Epoch 35/42 - Training: 100%|██████████| 137/137 [00:06<00:00, 19.69it/s]\n"
     ]
    },
    {
     "name": "stdout",
     "output_type": "stream",
     "text": [
      ">>> [Train] AUROC: 0.9957 / AUPRC: 0.9657\n",
      ">>> [Valid] AUROC: 0.9837 / AUPRC: 0.8953\n",
      "Epoch 00035: reducing learning rate of group 0 to 7.6207e-05.\n"
     ]
    },
    {
     "name": "stderr",
     "output_type": "stream",
     "text": [
      "Trial 4 - Epoch 36/42 - Training: 100%|██████████| 137/137 [00:06<00:00, 19.75it/s]\n"
     ]
    },
    {
     "name": "stdout",
     "output_type": "stream",
     "text": [
      ">>> [Train] AUROC: 0.9963 / AUPRC: 0.9760\n",
      ">>> [Valid] AUROC: 0.9837 / AUPRC: 0.8983\n"
     ]
    },
    {
     "name": "stderr",
     "output_type": "stream",
     "text": [
      "Trial 4 - Epoch 37/42 - Training: 100%|██████████| 137/137 [00:07<00:00, 19.46it/s]\n"
     ]
    },
    {
     "name": "stdout",
     "output_type": "stream",
     "text": [
      ">>> [Train] AUROC: 0.9971 / AUPRC: 0.9812\n",
      ">>> [Valid] AUROC: 0.9833 / AUPRC: 0.8982\n"
     ]
    },
    {
     "name": "stderr",
     "output_type": "stream",
     "text": [
      "Trial 4 - Epoch 38/42 - Training: 100%|██████████| 137/137 [00:07<00:00, 19.25it/s]\n"
     ]
    },
    {
     "name": "stdout",
     "output_type": "stream",
     "text": [
      ">>> [Train] AUROC: 0.9969 / AUPRC: 0.9804\n",
      ">>> [Valid] AUROC: 0.9914 / AUPRC: 0.9260\n"
     ]
    },
    {
     "name": "stderr",
     "output_type": "stream",
     "text": [
      "Trial 4 - Epoch 39/42 - Training: 100%|██████████| 137/137 [00:07<00:00, 19.24it/s]\n"
     ]
    },
    {
     "name": "stdout",
     "output_type": "stream",
     "text": [
      ">>> [Train] AUROC: 0.9980 / AUPRC: 0.9842\n",
      ">>> [Valid] AUROC: 0.9906 / AUPRC: 0.9203\n"
     ]
    },
    {
     "name": "stderr",
     "output_type": "stream",
     "text": [
      "Trial 4 - Epoch 40/42 - Training: 100%|██████████| 137/137 [00:07<00:00, 19.50it/s]\n"
     ]
    },
    {
     "name": "stdout",
     "output_type": "stream",
     "text": [
      ">>> [Train] AUROC: 0.9964 / AUPRC: 0.9807\n",
      ">>> [Valid] AUROC: 0.9837 / AUPRC: 0.8980\n"
     ]
    },
    {
     "name": "stderr",
     "output_type": "stream",
     "text": [
      "Trial 4 - Epoch 41/42 - Training: 100%|██████████| 137/137 [00:06<00:00, 19.81it/s]\n"
     ]
    },
    {
     "name": "stdout",
     "output_type": "stream",
     "text": [
      ">>> [Train] AUROC: 0.9976 / AUPRC: 0.9827\n",
      ">>> [Valid] AUROC: 0.9896 / AUPRC: 0.9092\n"
     ]
    },
    {
     "name": "stderr",
     "output_type": "stream",
     "text": [
      "Trial 4 - Epoch 42/42 - Training: 100%|██████████| 137/137 [00:06<00:00, 19.64it/s]\n"
     ]
    },
    {
     "name": "stdout",
     "output_type": "stream",
     "text": [
      ">>> [Train] AUROC: 0.9974 / AUPRC: 0.9840\n"
     ]
    },
    {
     "name": "stderr",
     "output_type": "stream",
     "text": [
      "[I 2023-12-12 20:06:36,338] Trial 3 finished with value: 0.9260486654205629 and parameters: {'learning_rate': 0.0007620655265040313, 'batch_size': 128, 'num_epochs': 42}. Best is trial 3 with value: 0.9260486654205629.\n"
     ]
    },
    {
     "name": "stdout",
     "output_type": "stream",
     "text": [
      ">>> [Valid] AUROC: 0.9840 / AUPRC: 0.9000\n",
      "------------------------------------------\n",
      "< Trial {trial.number+1}'s Best Performance>\n",
      "[train_loss]: 0.0215\n",
      "[valid_loss]: 0.0580\n",
      "[train_accuracy]: 0.9945\n",
      "[valid_accuracy]: 0.9794\n",
      "[train_auroc]: 0.9969\n",
      "[valid_auroc]: 0.9914\n",
      "[train_auprc]: 0.9804\n",
      "[valid_auprc]: 0.9260 <- Pick It Up!\n",
      "----------------------------------------\n",
      ">>>>> Trial5 Start...<<<<<\n",
      "----------------------------------------\n",
      "[Learning Rate] : 0.009171810030520526\n",
      "[Batch Size] : 64\n",
      "[Epochs] : 39\n",
      "[Optimizer] : Adam (\n",
      "Parameter Group 0\n",
      "    amsgrad: False\n",
      "    betas: (0.9, 0.999)\n",
      "    capturable: False\n",
      "    differentiable: False\n",
      "    eps: 1e-08\n",
      "    foreach: None\n",
      "    fused: None\n",
      "    lr: 0.009171810030520526\n",
      "    maximize: False\n",
      "    weight_decay: 0\n",
      ")\n",
      "-----------------------\n",
      ">>>>> Let's GO!!! <<<<<\n",
      "-----------------------\n"
     ]
    },
    {
     "name": "stderr",
     "output_type": "stream",
     "text": [
      "Trial 5 - Epoch 1/39 - Training: 100%|██████████| 273/273 [00:07<00:00, 35.52it/s]\n"
     ]
    },
    {
     "name": "stdout",
     "output_type": "stream",
     "text": [
      ">>> [Train] AUROC: 0.8218 / AUPRC: 0.2301\n",
      ">>> [Valid] AUROC: 0.9592 / AUPRC: 0.5218\n"
     ]
    },
    {
     "name": "stderr",
     "output_type": "stream",
     "text": [
      "Trial 5 - Epoch 2/39 - Training: 100%|██████████| 273/273 [00:07<00:00, 36.07it/s]\n"
     ]
    },
    {
     "name": "stdout",
     "output_type": "stream",
     "text": [
      ">>> [Train] AUROC: 0.9463 / AUPRC: 0.5037\n",
      ">>> [Valid] AUROC: 0.9758 / AUPRC: 0.6007\n"
     ]
    },
    {
     "name": "stderr",
     "output_type": "stream",
     "text": [
      "Trial 5 - Epoch 3/39 - Training: 100%|██████████| 273/273 [00:07<00:00, 35.89it/s]\n"
     ]
    },
    {
     "name": "stdout",
     "output_type": "stream",
     "text": [
      ">>> [Train] AUROC: 0.9562 / AUPRC: 0.5619\n",
      ">>> [Valid] AUROC: 0.9747 / AUPRC: 0.6064\n"
     ]
    },
    {
     "name": "stderr",
     "output_type": "stream",
     "text": [
      "Trial 5 - Epoch 4/39 - Training: 100%|██████████| 273/273 [00:07<00:00, 36.18it/s]\n"
     ]
    },
    {
     "name": "stdout",
     "output_type": "stream",
     "text": [
      ">>> [Train] AUROC: 0.9614 / AUPRC: 0.6058\n",
      ">>> [Valid] AUROC: 0.9708 / AUPRC: 0.6157\n"
     ]
    },
    {
     "name": "stderr",
     "output_type": "stream",
     "text": [
      "Trial 5 - Epoch 5/39 - Training: 100%|██████████| 273/273 [00:07<00:00, 36.21it/s]\n"
     ]
    },
    {
     "name": "stdout",
     "output_type": "stream",
     "text": [
      ">>> [Train] AUROC: 0.9674 / AUPRC: 0.6361\n",
      ">>> [Valid] AUROC: 0.9792 / AUPRC: 0.6550\n"
     ]
    },
    {
     "name": "stderr",
     "output_type": "stream",
     "text": [
      "Trial 5 - Epoch 6/39 - Training: 100%|██████████| 273/273 [00:07<00:00, 36.26it/s]\n"
     ]
    },
    {
     "name": "stdout",
     "output_type": "stream",
     "text": [
      ">>> [Train] AUROC: 0.9693 / AUPRC: 0.6427\n",
      ">>> [Valid] AUROC: 0.9792 / AUPRC: 0.6507\n"
     ]
    },
    {
     "name": "stderr",
     "output_type": "stream",
     "text": [
      "Trial 5 - Epoch 7/39 - Training: 100%|██████████| 273/273 [00:07<00:00, 36.13it/s]\n"
     ]
    },
    {
     "name": "stdout",
     "output_type": "stream",
     "text": [
      ">>> [Train] AUROC: 0.9736 / AUPRC: 0.6643\n",
      ">>> [Valid] AUROC: 0.9762 / AUPRC: 0.7055\n"
     ]
    },
    {
     "name": "stderr",
     "output_type": "stream",
     "text": [
      "Trial 5 - Epoch 8/39 - Training: 100%|██████████| 273/273 [00:07<00:00, 36.29it/s]\n"
     ]
    },
    {
     "name": "stdout",
     "output_type": "stream",
     "text": [
      ">>> [Train] AUROC: 0.9715 / AUPRC: 0.6551\n",
      ">>> [Valid] AUROC: 0.9762 / AUPRC: 0.6399\n"
     ]
    },
    {
     "name": "stderr",
     "output_type": "stream",
     "text": [
      "Trial 5 - Epoch 9/39 - Training: 100%|██████████| 273/273 [00:07<00:00, 36.34it/s]\n"
     ]
    },
    {
     "name": "stdout",
     "output_type": "stream",
     "text": [
      ">>> [Train] AUROC: 0.9743 / AUPRC: 0.6997\n",
      ">>> [Valid] AUROC: 0.9761 / AUPRC: 0.6860\n"
     ]
    },
    {
     "name": "stderr",
     "output_type": "stream",
     "text": [
      "Trial 5 - Epoch 10/39 - Training: 100%|██████████| 273/273 [00:07<00:00, 35.93it/s]\n"
     ]
    },
    {
     "name": "stdout",
     "output_type": "stream",
     "text": [
      ">>> [Train] AUROC: 0.9770 / AUPRC: 0.7129\n",
      ">>> [Valid] AUROC: 0.9746 / AUPRC: 0.6772\n"
     ]
    },
    {
     "name": "stderr",
     "output_type": "stream",
     "text": [
      "Trial 5 - Epoch 11/39 - Training: 100%|██████████| 273/273 [00:07<00:00, 35.74it/s]\n"
     ]
    },
    {
     "name": "stdout",
     "output_type": "stream",
     "text": [
      ">>> [Train] AUROC: 0.9744 / AUPRC: 0.6854\n",
      ">>> [Valid] AUROC: 0.9777 / AUPRC: 0.6678\n"
     ]
    },
    {
     "name": "stderr",
     "output_type": "stream",
     "text": [
      "Trial 5 - Epoch 12/39 - Training: 100%|██████████| 273/273 [00:07<00:00, 36.25it/s]\n"
     ]
    },
    {
     "name": "stdout",
     "output_type": "stream",
     "text": [
      ">>> [Train] AUROC: 0.9778 / AUPRC: 0.7006\n",
      ">>> [Valid] AUROC: 0.9768 / AUPRC: 0.6553\n"
     ]
    },
    {
     "name": "stderr",
     "output_type": "stream",
     "text": [
      "Trial 5 - Epoch 13/39 - Training: 100%|██████████| 273/273 [00:07<00:00, 36.27it/s]\n"
     ]
    },
    {
     "name": "stdout",
     "output_type": "stream",
     "text": [
      ">>> [Train] AUROC: 0.9790 / AUPRC: 0.7333\n",
      ">>> [Valid] AUROC: 0.9820 / AUPRC: 0.7310\n"
     ]
    },
    {
     "name": "stderr",
     "output_type": "stream",
     "text": [
      "Trial 5 - Epoch 14/39 - Training: 100%|██████████| 273/273 [00:07<00:00, 36.23it/s]\n"
     ]
    },
    {
     "name": "stdout",
     "output_type": "stream",
     "text": [
      ">>> [Train] AUROC: 0.9788 / AUPRC: 0.7161\n",
      ">>> [Valid] AUROC: 0.9785 / AUPRC: 0.6771\n"
     ]
    },
    {
     "name": "stderr",
     "output_type": "stream",
     "text": [
      "Trial 5 - Epoch 15/39 - Training: 100%|██████████| 273/273 [00:07<00:00, 35.92it/s]\n"
     ]
    },
    {
     "name": "stdout",
     "output_type": "stream",
     "text": [
      ">>> [Train] AUROC: 0.9783 / AUPRC: 0.7222\n",
      ">>> [Valid] AUROC: 0.9813 / AUPRC: 0.6552\n"
     ]
    },
    {
     "name": "stderr",
     "output_type": "stream",
     "text": [
      "Trial 5 - Epoch 16/39 - Training: 100%|██████████| 273/273 [00:07<00:00, 36.31it/s]\n"
     ]
    },
    {
     "name": "stdout",
     "output_type": "stream",
     "text": [
      ">>> [Train] AUROC: 0.9793 / AUPRC: 0.7120\n",
      ">>> [Valid] AUROC: 0.9726 / AUPRC: 0.6573\n"
     ]
    },
    {
     "name": "stderr",
     "output_type": "stream",
     "text": [
      "Trial 5 - Epoch 17/39 - Training: 100%|██████████| 273/273 [00:07<00:00, 36.35it/s]\n"
     ]
    },
    {
     "name": "stdout",
     "output_type": "stream",
     "text": [
      ">>> [Train] AUROC: 0.9807 / AUPRC: 0.7283\n",
      ">>> [Valid] AUROC: 0.9762 / AUPRC: 0.7256\n"
     ]
    },
    {
     "name": "stderr",
     "output_type": "stream",
     "text": [
      "Trial 5 - Epoch 18/39 - Training: 100%|██████████| 273/273 [00:07<00:00, 36.30it/s]\n"
     ]
    },
    {
     "name": "stdout",
     "output_type": "stream",
     "text": [
      ">>> [Train] AUROC: 0.9794 / AUPRC: 0.7202\n",
      ">>> [Valid] AUROC: 0.9773 / AUPRC: 0.7594\n"
     ]
    },
    {
     "name": "stderr",
     "output_type": "stream",
     "text": [
      "Trial 5 - Epoch 19/39 - Training: 100%|██████████| 273/273 [00:07<00:00, 36.31it/s]\n"
     ]
    },
    {
     "name": "stdout",
     "output_type": "stream",
     "text": [
      ">>> [Train] AUROC: 0.9817 / AUPRC: 0.7416\n",
      ">>> [Valid] AUROC: 0.9837 / AUPRC: 0.7233\n"
     ]
    },
    {
     "name": "stderr",
     "output_type": "stream",
     "text": [
      "Trial 5 - Epoch 20/39 - Training: 100%|██████████| 273/273 [00:07<00:00, 36.38it/s]\n"
     ]
    },
    {
     "name": "stdout",
     "output_type": "stream",
     "text": [
      ">>> [Train] AUROC: 0.9799 / AUPRC: 0.7464\n",
      ">>> [Valid] AUROC: 0.9798 / AUPRC: 0.7051\n"
     ]
    },
    {
     "name": "stderr",
     "output_type": "stream",
     "text": [
      "Trial 5 - Epoch 21/39 - Training: 100%|██████████| 273/273 [00:07<00:00, 36.42it/s]\n"
     ]
    },
    {
     "name": "stdout",
     "output_type": "stream",
     "text": [
      ">>> [Train] AUROC: 0.9802 / AUPRC: 0.7384\n",
      ">>> [Valid] AUROC: 0.9830 / AUPRC: 0.7348\n"
     ]
    },
    {
     "name": "stderr",
     "output_type": "stream",
     "text": [
      "Trial 5 - Epoch 22/39 - Training: 100%|██████████| 273/273 [00:07<00:00, 36.30it/s]\n"
     ]
    },
    {
     "name": "stdout",
     "output_type": "stream",
     "text": [
      ">>> [Train] AUROC: 0.9818 / AUPRC: 0.7505\n",
      ">>> [Valid] AUROC: 0.9821 / AUPRC: 0.7391\n"
     ]
    },
    {
     "name": "stderr",
     "output_type": "stream",
     "text": [
      "Trial 5 - Epoch 23/39 - Training: 100%|██████████| 273/273 [00:07<00:00, 36.28it/s]\n"
     ]
    },
    {
     "name": "stdout",
     "output_type": "stream",
     "text": [
      ">>> [Train] AUROC: 0.9815 / AUPRC: 0.7258\n",
      ">>> [Valid] AUROC: 0.9740 / AUPRC: 0.7358\n"
     ]
    },
    {
     "name": "stderr",
     "output_type": "stream",
     "text": [
      "Trial 5 - Epoch 24/39 - Training: 100%|██████████| 273/273 [00:07<00:00, 36.45it/s]\n"
     ]
    },
    {
     "name": "stdout",
     "output_type": "stream",
     "text": [
      ">>> [Train] AUROC: 0.9837 / AUPRC: 0.7752\n",
      ">>> [Valid] AUROC: 0.9757 / AUPRC: 0.6927\n",
      "Epoch 00024: reducing learning rate of group 0 to 9.1718e-04.\n"
     ]
    },
    {
     "name": "stderr",
     "output_type": "stream",
     "text": [
      "Trial 5 - Epoch 25/39 - Training: 100%|██████████| 273/273 [00:07<00:00, 36.34it/s]\n"
     ]
    },
    {
     "name": "stdout",
     "output_type": "stream",
     "text": [
      ">>> [Train] AUROC: 0.9858 / AUPRC: 0.7826\n",
      ">>> [Valid] AUROC: 0.9746 / AUPRC: 0.7221\n"
     ]
    },
    {
     "name": "stderr",
     "output_type": "stream",
     "text": [
      "Trial 5 - Epoch 26/39 - Training: 100%|██████████| 273/273 [00:07<00:00, 36.41it/s]\n"
     ]
    },
    {
     "name": "stdout",
     "output_type": "stream",
     "text": [
      ">>> [Train] AUROC: 0.9870 / AUPRC: 0.7896\n",
      ">>> [Valid] AUROC: 0.9736 / AUPRC: 0.7534\n"
     ]
    },
    {
     "name": "stderr",
     "output_type": "stream",
     "text": [
      "Trial 5 - Epoch 27/39 - Training: 100%|██████████| 273/273 [00:07<00:00, 36.35it/s]\n"
     ]
    },
    {
     "name": "stdout",
     "output_type": "stream",
     "text": [
      ">>> [Train] AUROC: 0.9873 / AUPRC: 0.7804\n",
      ">>> [Valid] AUROC: 0.9715 / AUPRC: 0.7264\n"
     ]
    },
    {
     "name": "stderr",
     "output_type": "stream",
     "text": [
      "Trial 5 - Epoch 28/39 - Training: 100%|██████████| 273/273 [00:07<00:00, 36.66it/s]\n"
     ]
    },
    {
     "name": "stdout",
     "output_type": "stream",
     "text": [
      ">>> [Train] AUROC: 0.9877 / AUPRC: 0.7973\n",
      ">>> [Valid] AUROC: 0.9748 / AUPRC: 0.7735\n"
     ]
    },
    {
     "name": "stderr",
     "output_type": "stream",
     "text": [
      "Trial 5 - Epoch 29/39 - Training: 100%|██████████| 273/273 [00:07<00:00, 36.59it/s]\n"
     ]
    },
    {
     "name": "stdout",
     "output_type": "stream",
     "text": [
      ">>> [Train] AUROC: 0.9883 / AUPRC: 0.8092\n",
      ">>> [Valid] AUROC: 0.9738 / AUPRC: 0.7649\n"
     ]
    },
    {
     "name": "stderr",
     "output_type": "stream",
     "text": [
      "Trial 5 - Epoch 30/39 - Training: 100%|██████████| 273/273 [00:07<00:00, 35.56it/s]\n"
     ]
    },
    {
     "name": "stdout",
     "output_type": "stream",
     "text": [
      ">>> [Train] AUROC: 0.9886 / AUPRC: 0.8021\n",
      ">>> [Valid] AUROC: 0.9734 / AUPRC: 0.7579\n"
     ]
    },
    {
     "name": "stderr",
     "output_type": "stream",
     "text": [
      "Trial 5 - Epoch 31/39 - Training: 100%|██████████| 273/273 [00:07<00:00, 35.29it/s]\n"
     ]
    },
    {
     "name": "stdout",
     "output_type": "stream",
     "text": [
      ">>> [Train] AUROC: 0.9895 / AUPRC: 0.8245\n",
      ">>> [Valid] AUROC: 0.9720 / AUPRC: 0.7560\n"
     ]
    },
    {
     "name": "stderr",
     "output_type": "stream",
     "text": [
      "Trial 5 - Epoch 32/39 - Training: 100%|██████████| 273/273 [00:07<00:00, 35.37it/s]\n"
     ]
    },
    {
     "name": "stdout",
     "output_type": "stream",
     "text": [
      ">>> [Train] AUROC: 0.9898 / AUPRC: 0.8132\n",
      ">>> [Valid] AUROC: 0.9717 / AUPRC: 0.7582\n"
     ]
    },
    {
     "name": "stderr",
     "output_type": "stream",
     "text": [
      "Trial 5 - Epoch 33/39 - Training: 100%|██████████| 273/273 [00:07<00:00, 35.39it/s]\n"
     ]
    },
    {
     "name": "stdout",
     "output_type": "stream",
     "text": [
      ">>> [Train] AUROC: 0.9896 / AUPRC: 0.8204\n",
      ">>> [Valid] AUROC: 0.9727 / AUPRC: 0.7679\n"
     ]
    },
    {
     "name": "stderr",
     "output_type": "stream",
     "text": [
      "Trial 5 - Epoch 34/39 - Training: 100%|██████████| 273/273 [00:07<00:00, 35.38it/s]\n"
     ]
    },
    {
     "name": "stdout",
     "output_type": "stream",
     "text": [
      ">>> [Train] AUROC: 0.9897 / AUPRC: 0.8134\n",
      ">>> [Valid] AUROC: 0.9714 / AUPRC: 0.7594\n",
      "Epoch 00034: reducing learning rate of group 0 to 9.1718e-05.\n"
     ]
    },
    {
     "name": "stderr",
     "output_type": "stream",
     "text": [
      "Trial 5 - Epoch 35/39 - Training: 100%|██████████| 273/273 [00:07<00:00, 36.27it/s]\n"
     ]
    },
    {
     "name": "stdout",
     "output_type": "stream",
     "text": [
      ">>> [Train] AUROC: 0.9909 / AUPRC: 0.8414\n",
      ">>> [Valid] AUROC: 0.9719 / AUPRC: 0.7596\n"
     ]
    },
    {
     "name": "stderr",
     "output_type": "stream",
     "text": [
      "Trial 5 - Epoch 36/39 - Training: 100%|██████████| 273/273 [00:07<00:00, 36.26it/s]\n"
     ]
    },
    {
     "name": "stdout",
     "output_type": "stream",
     "text": [
      ">>> [Train] AUROC: 0.9887 / AUPRC: 0.8299\n",
      ">>> [Valid] AUROC: 0.9721 / AUPRC: 0.7613\n"
     ]
    },
    {
     "name": "stderr",
     "output_type": "stream",
     "text": [
      "Trial 5 - Epoch 37/39 - Training: 100%|██████████| 273/273 [00:07<00:00, 36.29it/s]\n"
     ]
    },
    {
     "name": "stdout",
     "output_type": "stream",
     "text": [
      ">>> [Train] AUROC: 0.9899 / AUPRC: 0.8192\n",
      ">>> [Valid] AUROC: 0.9723 / AUPRC: 0.7634\n"
     ]
    },
    {
     "name": "stderr",
     "output_type": "stream",
     "text": [
      "Trial 5 - Epoch 38/39 - Training: 100%|██████████| 273/273 [00:07<00:00, 36.14it/s]\n"
     ]
    },
    {
     "name": "stdout",
     "output_type": "stream",
     "text": [
      ">>> [Train] AUROC: 0.9899 / AUPRC: 0.8292\n"
     ]
    },
    {
     "name": "stderr",
     "output_type": "stream",
     "text": [
      "[I 2023-12-12 20:11:40,202] Trial 4 finished with value: 0.7734612268631829 and parameters: {'learning_rate': 0.009171810030520526, 'batch_size': 64, 'num_epochs': 39}. Best is trial 3 with value: 0.9260486654205629.\n"
     ]
    },
    {
     "name": "stdout",
     "output_type": "stream",
     "text": [
      ">>> [Valid] AUROC: 0.9725 / AUPRC: 0.7556\n",
      "Early stopping\n",
      "------------------------------------------\n",
      "< Trial {trial.number+1}'s Best Performance>\n",
      "[train_loss]: 0.0592\n",
      "[valid_loss]: 0.0847\n",
      "[train_accuracy]: 0.9769\n",
      "[valid_accuracy]: 0.9661\n",
      "[train_auroc]: 0.9877\n",
      "[valid_auroc]: 0.9748\n",
      "[train_auprc]: 0.7973\n",
      "[valid_auprc]: 0.7735 <- Pick It Up!\n",
      "최고 성능을 보인 시도: 4\n",
      "최적의 하이퍼파라미터: {'learning_rate': 0.0007620655265040313, 'batch_size': 128, 'num_epochs': 42}\n"
     ]
    }
   ],
   "source": [
    "# 옵튜나 스터디 객체 생성 및 최적화 실행\n",
    "study = optuna.create_study(direction='maximize')\n",
    "study.optimize(objective, n_trials=5)\n",
    "\n",
    "# 최적의 하이퍼파라미터 출력\n",
    "best_trial = study.best_trial\n",
    "print(f\"최고 성능을 보인 시도: {best_trial.number+1}\")\n",
    "print(\"최적의 하이퍼파라미터: {}\".format(study.best_trial.params))"
   ]
  },
  {
   "cell_type": "markdown",
   "metadata": {},
   "source": [
    "## Train 결과 확인"
   ]
  },
  {
   "cell_type": "code",
   "execution_count": 11,
   "metadata": {},
   "outputs": [
    {
     "data": {
      "image/png": "[encoded data removed]",
      "text/plain": [
       "<Figure size 1000x600 with 4 Axes>"
      ]
     },
     "metadata": {},
     "output_type": "display_data"
    }
   ],
   "source": [
    "def plot_metric_subplot(train_metric, val_metric, metric_name, subplot_position):\n",
    "    \"\"\"\n",
    "    서브플롯 위치에 성능 지표에 대한 그래프를 그립니다.\n",
    "    :param train_metric: 훈련 데이터의 성능 지표\n",
    "    :param val_metric: 검증 데이터의 성능 지표\n",
    "    :param metric_name: 그래프에 표시할 성능 지표의 이름\n",
    "    :param subplot_position: subplot의 위치 (예: 221, 222, 223, 224)\n",
    "    \"\"\"\n",
    "    plt.subplot(subplot_position)\n",
    "    epochs = range(1, len(train_metric) + 1)\n",
    "    plt.plot(epochs, train_metric, 'b-', label='Train', lw=1)\n",
    "    plt.plot(epochs, val_metric, 'r-', label='Valid', lw=1)\n",
    "    plt.title(metric_name, fontsize=12)\n",
    "    plt.xlabel('Epochs', fontsize=8)\n",
    "\n",
    "\n",
    "\n",
    "    # Y축 눈금을 소수점 두 자리 형식으로 설정\n",
    "    ax = plt.gca()\n",
    "    y_vals = ax.get_yticks()\n",
    "    ax.yaxis.set_major_locator(FixedLocator(y_vals))\n",
    "    ax.set_yticklabels(['{:.2f}'.format(y) for y in y_vals])\n",
    "\n",
    "    plt.legend()\n",
    "\n",
    "\n",
    "\n",
    "# 성능 지표를 파일에서 불러오는 함수\n",
    "def load_metrics(filename):\n",
    "    with open(filename, 'r') as file:\n",
    "        data = json.load(file)\n",
    "        train_losses = [epoch_info['train_loss'] for epoch_info in data.values()]\n",
    "        val_losses = [epoch_info['valid_loss'] for epoch_info in data.values()]\n",
    "        train_accuracies = [epoch_info['train_accuracy'] for epoch_info in data.values()]\n",
    "        val_accuracies = [epoch_info['valid_accuracy'] for epoch_info in data.values()]\n",
    "        train_aurocs = [epoch_info['train_auroc'] for epoch_info in data.values()]\n",
    "        val_aurocs = [epoch_info['valid_auroc'] for epoch_info in data.values()]\n",
    "        train_auprcs = [epoch_info['train_auprc'] for epoch_info in data.values()]\n",
    "        val_auprcs = [epoch_info['valid_auprc'] for epoch_info in data.values()]\n",
    "        return train_losses, val_losses, train_accuracies, val_accuracies, train_aurocs, val_aurocs, train_auprcs, val_auprcs\n",
    "\n",
    "# 파일에서 성능 지표를 불러옵니다.\n",
    "train_losses, val_losses, train_accuracies, val_accuracies, train_aurocs, val_aurocs, train_auprcs, val_auprcs = load_metrics('model_info.json')\n",
    "\n",
    "\n",
    "\n",
    "# 2x2 격자 형태로 그래프 그리기\n",
    "plt.figure(figsize=(10, 6))  # 전체 그래프의 크기 설정\n",
    "plt.suptitle('Performance Metrics', fontsize=16)\n",
    "\n",
    "plot_metric_subplot(train_losses, val_losses, 'Loss', 221)\n",
    "plot_metric_subplot(train_accuracies, val_accuracies, 'Accuracy', 222)\n",
    "plot_metric_subplot(train_aurocs, val_aurocs, 'AUROC', 223)\n",
    "plot_metric_subplot(train_auprcs, val_auprcs, 'AUPRC', 224)\n",
    "\n",
    "plt.subplots_adjust(left=0.125, bottom=0.1,  right=0.9, top=0.9, wspace=0.2, hspace=0.6)\n",
    "plt.show()\n"
   ]
  },
  {
   "cell_type": "markdown",
   "metadata": {},
   "source": [
    "# Test"
   ]
  },
  {
   "cell_type": "code",
   "execution_count": 15,
   "metadata": {},
   "outputs": [],
   "source": [
    "\n",
    "\n",
    "# ROC 커브와 PRC 그리기\n",
    "def plot_roc_and_prc(y_true, y_pred, data_name):\n",
    "    # ROC 커브\n",
    "    fpr, tpr, _ = roc_curve(y_true, y_pred)\n",
    "    plt.figure(figsize=(12, 5))\n",
    "    plt.subplot(1, 2, 1)\n",
    "    plt.plot(fpr, tpr, color='darkorange', lw=2, label='ROC curve')\n",
    "    plt.plot([0, 1], [0, 1], color='black', lw=1, linestyle='--')\n",
    "    plt.xlabel('False Positive Rate')\n",
    "    plt.ylabel('True Positive Rate')\n",
    "    plt.title(f'ROC Curve for {data_name}')\n",
    "    plt.legend(loc=\"lower right\")\n",
    "\n",
    "    # PRC\n",
    "    precision, recall, _ = precision_recall_curve(y_true, y_pred)\n",
    "    plt.subplot(1, 2, 2)\n",
    "    plt.plot(recall, precision, color='green', lw=2, label='PR curve')\n",
    "    plt.xlabel('Recall')\n",
    "    plt.ylabel('Precision')\n",
    "    plt.title(f'Precision-Recall Curve for {data_name}')\n",
    "    plt.legend(loc=\"lower left\")\n",
    "    plt.show()\n",
    "\n",
    "# Youden Index를 사용하여 최적의 임계값 찾기\n",
    "def find_optimal_cutoff(y_true, y_pred):\n",
    "    fpr, tpr, thresholds = roc_curve(y_true, y_pred)\n",
    "    youden_index = tpr - fpr\n",
    "    optimal_idx = np.argmax(youden_index)\n",
    "    optimal_threshold = thresholds[optimal_idx]\n",
    "    return optimal_threshold\n",
    "\n",
    "# Confusion Matrix 시각화\n",
    "def plot_confusion_matrix(y_true, y_pred, thresh, data_name):\n",
    "    cm = confusion_matrix(y_true, y_pred > thresh)\n",
    "    sns.heatmap(cm, annot=True, fmt='d', cmap='Blues')\n",
    "    plt.title(f'Confusion Matrix for {data_name}')\n",
    "    plt.ylabel('Actual')\n",
    "    plt.xlabel('Predicted')\n",
    "    plt.show()\n",
    "\n",
    "\n",
    "def test_model(model, test_loader, data_name):\n",
    "    device = torch.device(\"cuda\" if torch.cuda.is_available() else \"cpu\")\n",
    "    model = model.to(device)\n",
    "    model.eval()\n",
    "    criterion = nn.BCEWithLogitsLoss()\n",
    "\n",
    "    test_loss, test_preds, test_targets = 0.0, [], []\n",
    "    with torch.no_grad():\n",
    "        for inputs, labels in tqdm(test_loader, desc=f\"Testing {data_name}\"):\n",
    "            inputs, labels = inputs.to(device), labels.to(device)\n",
    "            outputs = model(inputs)\n",
    "            test_loss += criterion(outputs.view(-1), labels.float()).item()\n",
    "            test_preds.extend(torch.sigmoid(outputs).view(-1).cpu().detach().numpy())\n",
    "            test_targets.extend(labels.cpu().numpy())\n",
    "\n",
    "    optimal_threshold = find_optimal_cutoff(test_targets, test_preds)\n",
    "    test_accuracy = accuracy_score(test_targets, np.array(test_preds) > optimal_threshold)\n",
    "    test_loss /= len(test_loader)\n",
    "    test_auroc = roc_auc_score(test_targets, test_preds)\n",
    "    test_auprc = average_precision_score(test_targets, test_preds)\n",
    "\n",
    "    print(f'[{data_name} Test] AUROC: {test_auroc:.4f} / AUPRC: {test_auprc:.4f} / Accuracy: {test_accuracy * 100:.2f}% / Loss: {test_loss:.4f}')\n",
    "    plot_roc_and_prc(test_targets, test_preds, data_name)\n",
    "    plot_confusion_matrix(test_targets, test_preds, optimal_threshold, data_name)\n",
    "\n",
    "\n",
    "def test_datasets(model_class, model_filename):\n",
    "    try:\n",
    "        model = model_class()\n",
    "        model.load_state_dict(torch.load(model_filename))\n",
    "\n",
    "        # PTB 데이터셋 테스트\n",
    "        _, _, ptb_test_loader = create_dataloaders()\n",
    "        test_model(model, ptb_test_loader, \"PTB\")\n",
    "\n",
    "        # SPH 데이터셋 테스트\n",
    "        sph_test_loader = load_sph_data()\n",
    "        test_model(model, sph_test_loader, \"SPH\")\n",
    "\n",
    "    except Exception as e:\n",
    "        print(f\"Testing failed: {e}\")"
   ]
  },
  {
   "cell_type": "code",
   "execution_count": 19,
   "metadata": {},
   "outputs": [
    {
     "name": "stderr",
     "output_type": "stream",
     "text": [
      "Testing PTB: 100%|██████████| 35/35 [00:00<00:00, 123.05it/s]\n"
     ]
    },
    {
     "name": "stdout",
     "output_type": "stream",
     "text": [
      "[PTB Test] AUROC: 0.9762 / AUPRC: 0.8437 / Accuracy: 96.74% / Loss: 0.0922\n"
     ]
    },
    {
     "data": {
      "image/png": "[encoded data removed]",
      "text/plain": [
       "<Figure size 1200x500 with 2 Axes>"
      ]
     },
     "metadata": {},
     "output_type": "display_data"
    },
    {
     "data": {
      "image/png": "[encoded data removed]",
      "text/plain": [
       "<Figure size 640x480 with 2 Axes>"
      ]
     },
     "metadata": {},
     "output_type": "display_data"
    },
    {
     "name": "stderr",
     "output_type": "stream",
     "text": [
      "Testing SPH: 100%|██████████| 403/403 [00:03<00:00, 124.63it/s]\n"
     ]
    },
    {
     "name": "stdout",
     "output_type": "stream",
     "text": [
      "[SPH Test] AUROC: 0.9931 / AUPRC: 0.8255 / Accuracy: 97.62% / Loss: 0.0361\n"
     ]
    },
    {
     "data": {
      "image/png": "[encoded data removed]",
      "text/plain": [
       "<Figure size 1200x500 with 2 Axes>"
      ]
     },
     "metadata": {},
     "output_type": "display_data"
    },
    {
     "data": {
      "image/png": "[encoded data removed]",
      "text/plain": [
       "<Figure size 640x480 with 2 Axes>"
      ]
     },
     "metadata": {},
     "output_type": "display_data"
    }
   ],
   "source": [
    "# 두 데이터셋을 함께 테스트\n",
    "test_datasets(Custom1DCNN, 'trial_1_best_model.pth')"
   ]
  },
  {
   "cell_type": "code",
   "execution_count": null,
   "metadata": {},
   "outputs": [],
   "source": []
  }
 ],
 "metadata": {
  "kernelspec": {
   "display_name": "Python 3 (ipykernel)",
   "language": "python",
   "name": "python3"
  },
  "language_info": {
   "codemirror_mode": {
    "name": "ipython",
    "version": 3
   },
   "file_extension": ".py",
   "mimetype": "text/x-python",
   "name": "python",
   "nbconvert_exporter": "python",
   "pygments_lexer": "ipython3",
   "version": "3.8.10"
  }
 },
 "nbformat": 4,
 "nbformat_minor": 2
}
