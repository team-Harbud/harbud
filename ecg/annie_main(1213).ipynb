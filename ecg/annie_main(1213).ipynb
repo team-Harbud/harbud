{
 "cells": [
  {
   "cell_type": "code",
   "execution_count": 2,
   "metadata": {},
   "outputs": [
    {
     "name": "stderr",
     "output_type": "stream",
     "text": [
      "/usr/lib/python3/dist-packages/requests/__init__.py:89: RequestsDependencyWarning: urllib3 (2.1.0) or chardet (5.2.0) doesn't match a supported version!\n",
      "  warnings.warn(\"urllib3 ({}) or chardet ({}) doesn't match a supported \"\n",
      "/usr/local/lib/python3.8/dist-packages/tqdm/auto.py:21: TqdmWarning: IProgress not found. Please update jupyter and ipywidgets. See https://ipywidgets.readthedocs.io/en/stable/user_install.html\n",
      "  from .autonotebook import tqdm as notebook_tqdm\n"
     ]
    }
   ],
   "source": [
    "import torch\n",
    "import torch.nn as nn\n",
    "import torch.nn.functional as F\n",
    "import torch.optim as optim\n",
    "from torch.utils.data import DataLoader, TensorDataset\n",
    "\n",
    "import numpy as np\n",
    "import pandas as pd\n",
    "from sklearn.model_selection import train_test_split\n",
    "from sklearn.metrics import (\n",
    "    roc_auc_score, accuracy_score, precision_recall_curve, \n",
    "    precision_score, recall_score, f1_score, confusion_matrix, roc_curve, average_precision_score\n",
    ")\n",
    "\n",
    "import seaborn as sns\n",
    "import matplotlib.pyplot as plt\n",
    "from matplotlib.ticker import FixedLocator\n",
    "from tqdm import tqdm\n",
    "\n",
    "\n",
    "import json\n",
    "import yaml\n",
    "import random\n",
    "import wandb\n",
    "import ast\n",
    "import optuna"
   ]
  },
  {
   "cell_type": "markdown",
   "metadata": {},
   "source": [
    "# Data Load"
   ]
  },
  {
   "cell_type": "code",
   "execution_count": 3,
   "metadata": {},
   "outputs": [],
   "source": [
    "def load_ptb_data():\n",
    "    # PTB-XL 데이터셋 로드 및 전처리\n",
    "    df_ptb = pd.read_csv('./ptb_xl_data/ptbxl_database.csv', index_col='ecg_id')\n",
    "    df_ptb.scp_codes = df_ptb.scp_codes.apply(lambda x: ast.literal_eval(x))\n",
    "    df_ptb.scp_codes = df_ptb.scp_codes.apply(lambda x: list(x.keys()))\n",
    "    df_ptb['label'] = df_ptb.scp_codes.apply(lambda arr: 1 if 'AFIB' in arr else 0)\n",
    "    # 총 21799개 중 AFIB 라벨이 있는 샘플은 1514개로 6.95%에 해당, 샘플 불균형 존재\n",
    "\n",
    "    labels = df_ptb['label'].values\n",
    "    lead1_signals = np.load('./custom_file/annie_ptb_xl_lead1.npy')\n",
    "\n",
    "\n",
    "    # 데이터 정규화 (전체)\n",
    "    lead1_signals_normalized = (lead1_signals - lead1_signals.mean()) / (lead1_signals.std()+1e-7)\n",
    "\n",
    "    # 데이터셋을 텐서로 변환\n",
    "    X = torch.Tensor(lead1_signals_normalized)\n",
    "    y = torch.Tensor(labels).long()\n",
    "\n",
    "    # 데이터 분할 (훈련:검증:테스트 = 8:1:1)\n",
    "    X_train, X_temp, y_train, y_temp = train_test_split(X, y, test_size=0.2, random_state=42, stratify=y)\n",
    "    X_val, X_test, y_val, y_test = train_test_split(X_temp, y_temp, test_size=0.5, random_state=42, stratify=y_temp)\n",
    "\n",
    "    # 채널 수를 1로 추가\n",
    "    X_train = X_train.unsqueeze(1)\n",
    "    X_val = X_val.unsqueeze(1)\n",
    "    X_test = X_test.unsqueeze(1)\n",
    "\n",
    "    return X_train, X_val, X_test, y_train, y_val, y_test\n",
    "\n",
    "\n",
    "\n",
    "def create_dataloaders(batch_size=64):\n",
    "    # DataLoader 생성, batch_size를 변경하려면 함수 호출 시 파라미터 변경\n",
    "    X_train, X_val, X_test, y_train, y_val, y_test = load_ptb_data()\n",
    "\n",
    "    # DataLoader 생성\n",
    "    train_data = TensorDataset(X_train, y_train)\n",
    "    val_data = TensorDataset(X_val, y_val)\n",
    "    test_data = TensorDataset(X_test, y_test)\n",
    "\n",
    "    train_loader = DataLoader(train_data, shuffle=True, batch_size=batch_size)\n",
    "    val_loader = DataLoader(val_data, batch_size=batch_size)\n",
    "    test_loader = DataLoader(test_data, batch_size=batch_size)\n",
    "\n",
    "    return train_loader, val_loader, test_loader\n",
    "\n",
    "\n",
    "\n",
    "def load_sph_data(batch_size=64):\n",
    "    # SPH 데이터 로드 및 전처리\n",
    "    df_sph = pd.read_csv(\"./sph_data/metadata.csv\", index_col='ECG_ID')\n",
    "    # 'AHA_Code' 컬럼의 각 값에 대해 '50'이 포함되어 있는지 확인하고, 'label' 컬럼 생성\n",
    "    def check_contains_50(code):\n",
    "        numbers = code.replace(' ', '').replace('+', ';').split(';')\n",
    "        return '50' in numbers\n",
    "    # 25770 개 중 675개. 2.62% 샘플 불균형\n",
    "\n",
    "    df_sph['label'] = df_sph['AHA_Code'].apply(check_contains_50).astype(int)\n",
    "    \n",
    "    sph_labels = df_sph['label'].values\n",
    "\n",
    "    sph_signals = np.load('./custom_file/annie_sph_lead1.npy')\n",
    "    sph_signals_float = sph_signals.astype(np.float32)\n",
    "    mean = np.mean(sph_signals_float)\n",
    "    std = np.std(sph_signals_float)\n",
    "    sph_signals_normalized = (sph_signals_float - mean) / (std + 1e-7)\n",
    "\n",
    "\n",
    "    # 데이터 정규화 및 텐서 변환\n",
    "    X_sph = torch.Tensor(sph_signals_normalized)\n",
    "    y_sph = torch.Tensor(df_sph['label'].values).long()\n",
    "\n",
    "    X_sph = X_sph.unsqueeze(1)\n",
    "\n",
    "    sph_data = TensorDataset(X_sph, y_sph)\n",
    "    sph_loader = DataLoader(sph_data, batch_size=batch_size)\n",
    "\n",
    "    return sph_loader\n",
    "\n"
   ]
  },
  {
   "cell_type": "markdown",
   "metadata": {},
   "source": [
    "# 1D CNN Modeling"
   ]
  },
  {
   "cell_type": "code",
   "execution_count": 4,
   "metadata": {},
   "outputs": [],
   "source": [
    "# SimpleCNN\n",
    "\n",
    "class SimpleCNN(nn.Module):\n",
    "    def __init__(self):\n",
    "        super(SimpleCNN, self).__init__()\n",
    "        self.conv1 = nn.Conv1d(1, 32, kernel_size=5, stride=2) \n",
    "        self.pool = nn.MaxPool1d(kernel_size=5, stride=1) \n",
    "        self.conv2 = nn.Conv1d(32, 64, kernel_size=5) \n",
    "        self.fc1 = nn.Linear(64 * 2486, 1000) \n",
    "        self.fc2 = nn.Linear(1000, 500)\n",
    "        self.fc3 = nn.Linear(500, 1)\n",
    "\n",
    "    def forward(self, x):\n",
    "        x = self.pool(nn.functional.leaky_relu(self.conv1(x)))\n",
    "        x = self.pool(nn.functional.leaky_relu(self.conv2(x)))\n",
    "        x = x.view(-1, 64 * 2486)\n",
    "        x = nn.functional.leaky_relu(self.fc1(x))\n",
    "        x = nn.functional.leaky_relu(self.fc2(x))\n",
    "        x = self.fc3(x)\n",
    "        return x\n",
    "\n",
    "\n",
    "\n",
    "# 논문 구현 코드\n",
    "\n",
    "class Custom1DCNN(nn.Module):\n",
    "    def __init__(self):\n",
    "        super(Custom1DCNN, self).__init__()\n",
    "\n",
    "        # Convolutional Blocks\n",
    "        self.conv1 = nn.Conv1d(1, 32, kernel_size=5)\n",
    "        self.bn1 = nn.BatchNorm1d(32)\n",
    "        self.relu = nn.ReLU()\n",
    "        self.maxpool1 = nn.MaxPool1d(2)\n",
    "\n",
    "        self.conv2 = nn.Conv1d(32, 32, kernel_size=5)\n",
    "        self.maxpool2 = nn.MaxPool1d(2)\n",
    "\n",
    "        self.conv3 = nn.Conv1d(32, 64, kernel_size=5)\n",
    "        self.maxpool3 = nn.MaxPool1d(2)\n",
    "\n",
    "        self.conv4 = nn.Conv1d(64, 64, kernel_size=5)\n",
    "        self.maxpool4 = nn.MaxPool1d(2)\n",
    "\n",
    "        self.conv5 = nn.Conv1d(64, 128, kernel_size=5)\n",
    "        self.maxpool5 = nn.MaxPool1d(2)\n",
    "\n",
    "        self.conv6 = nn.Conv1d(128, 128, kernel_size=5)\n",
    "        self.maxpool6 = nn.MaxPool1d(2)\n",
    "\n",
    "        self.dropout1 = nn.Dropout(0.3)\n",
    "\n",
    "        self.conv7 = nn.Conv1d(128, 256, kernel_size=5)\n",
    "        self.maxpool7 = nn.MaxPool1d(2)\n",
    "\n",
    "        self.conv8 = nn.Conv1d(256, 256, kernel_size=5)\n",
    "        self.maxpool8 = nn.MaxPool1d(2)\n",
    "\n",
    "        self.dropout2 = nn.Dropout(0.3)\n",
    "\n",
    "        self.conv9 = nn.Conv1d(256, 512, kernel_size=5)\n",
    "        self.maxpool9 = nn.MaxPool1d(2)\n",
    "\n",
    "        self.dropout3 = nn.Dropout(0.3)\n",
    "\n",
    "        self.conv10 = nn.Conv1d(512, 512, kernel_size=5)\n",
    "\n",
    "        # Fully Connected Blocks\n",
    "        self.flatten = nn.Flatten()\n",
    "\n",
    "        self.dense1 = nn.Linear(512, 128)\n",
    "        self.batch_norm_dense1 = nn.BatchNorm1d(128)  # BatchNorm1d for Dense1\n",
    "        self.dropout4 = nn.Dropout(0.3)\n",
    "\n",
    "        self.dense2 = nn.Linear(128, 32)\n",
    "        self.batch_norm_dense2 = nn.BatchNorm1d(32)  # BatchNorm1d for Dense2\n",
    "\n",
    "        self.dense3 = nn.Linear(32, 1)\n",
    "        \n",
    "\n",
    "    def forward(self, x):\n",
    "        # Convolutional Blocks\n",
    "        x = self.maxpool1(self.relu(self.bn1(self.conv1(x))))\n",
    "        x = self.maxpool2(self.relu(self.conv2(x)))\n",
    "        x = self.maxpool3(self.relu(self.conv3(x)))\n",
    "        x = self.maxpool4(self.relu(self.conv4(x)))\n",
    "        x = self.maxpool5(self.relu(self.conv5(x)))\n",
    "        x = self.maxpool6(self.relu(self.conv6(x)))\n",
    "        x = self.dropout1(x)\n",
    "        x = self.maxpool7(self.relu(self.conv7(x)))\n",
    "        x = self.maxpool8(self.relu(self.conv8(x)))\n",
    "        x = self.dropout2(x)\n",
    "        x = self.maxpool9(self.relu(self.conv9(x)))\n",
    "        x = self.dropout3(x)\n",
    "        x = self.conv10(x)\n",
    "\n",
    "        # Fully Connected Blocks\n",
    "        x = self.flatten(x)\n",
    "        x = self.dropout4(self.relu(self.batch_norm_dense1(self.dense1(x))))\n",
    "        x = self.relu(self.batch_norm_dense2(self.dense2(x)))\n",
    "        x = self.dense3(x)\n",
    "\n",
    "        return x"
   ]
  },
  {
   "cell_type": "markdown",
   "metadata": {},
   "source": [
    "# 1D CNN + LSTM Modeling"
   ]
  },
  {
   "cell_type": "code",
   "execution_count": 21,
   "metadata": {},
   "outputs": [],
   "source": [
    "\n",
    "class CNNLSTMModel(nn.Module):\n",
    "    def __init__(self):\n",
    "        super(CNNLSTMModel, self).__init__()\n",
    "        \n",
    "        # 첫번째 Convolutional Block\n",
    "        self.conv1 = nn.Conv1d(in_channels=1, out_channels=64, kernel_size=50, stride=1)\n",
    "        self.relu1 = nn.ReLU()\n",
    "        self.maxpool1 = nn.MaxPool1d(kernel_size=20, stride=2)\n",
    "        self.dropout1 = nn.Dropout(p=0.1)\n",
    "\n",
    "        # 두번째 Convolutional Block\n",
    "        self.conv2 = nn.Conv1d(in_channels=64, out_channels=32, kernel_size=10, stride=1)\n",
    "        self.relu2 = nn.ReLU()\n",
    "        self.maxpool2 = nn.MaxPool1d(kernel_size=10, stride=2)\n",
    "        self.dropout2 = nn.Dropout(p=0.1)\n",
    "\n",
    "        # 세번째 Convolutional Block\n",
    "        self.conv3 = nn.Conv1d(in_channels=32, out_channels=16, kernel_size=5, stride=1)\n",
    "        self.relu3 = nn.ReLU()\n",
    "        self.maxpool3 = nn.MaxPool1d(kernel_size=5, stride=2)\n",
    "        self.dropout3 = nn.Dropout(p=0.1)\n",
    "\n",
    "        # LSTM Block\n",
    "        self.lstm = nn.LSTM(input_size=16, hidden_size=32, batch_first=True)\n",
    "        self.dropout_lstm = nn.Dropout(p=0.1)\n",
    "\n",
    "        # Dense Layers\n",
    "        self.dense1 = nn.Linear(32, 32)\n",
    "        self.relu_dense1 = nn.ReLU()\n",
    "        self.dropout_dense1 = nn.Dropout(p=0.1)\n",
    "\n",
    "        self.dense2 = nn.Linear(32, 16)\n",
    "        self.relu_dense2 = nn.ReLU()\n",
    "\n",
    "        # Output Layer - 이중분류를 위해 출력 유닛을 1로 설정\n",
    "        self.output = nn.Linear(16, 1)\n",
    "\n",
    "    def forward(self, x):\n",
    "        # x: ECG 데이터 (Batch Size, Channels, Length)\n",
    "        \n",
    "        # Convolutional Blocks\n",
    "        x = self.dropout1(self.maxpool1(self.relu1(self.conv1(x))))\n",
    "        x = self.dropout2(self.maxpool2(self.relu2(self.conv2(x))))\n",
    "        x = self.dropout3(self.maxpool3(self.relu3(self.conv3(x))))\n",
    "\n",
    "        # print(x.shape) # (32, 16, 591)\n",
    "\n",
    "        # LSTM Layer - LSTM은 추가적인 차원을 요구하기 때문에 차원 조정이 필요합니다.\n",
    "        x = x.permute(0, 2, 1) # (Batch Size, Sequence Length, Features)\n",
    "        x, (hn, cn) = self.lstm(x)\n",
    "        x = self.dropout_lstm(x[:, -1, :]) # 마지막 시퀀스의 출력만 사용\n",
    "\n",
    "        # Dense Layers\n",
    "        x = self.dropout_dense1(self.relu_dense1(self.dense1(x)))\n",
    "        x = self.relu_dense2(self.dense2(x))\n",
    "\n",
    "        # Output Layer - 시그모이드 활성화 함수를 사용하여 0과 1 사이의 값을 출력\n",
    "        x = torch.sigmoid(self.output(x))\n",
    "        return x\n"
   ]
  },
  {
   "cell_type": "code",
   "execution_count": 22,
   "metadata": {},
   "outputs": [],
   "source": [
    "class SimplifiedCNNLSTMModel(nn.Module):\n",
    "    def __init__(self):\n",
    "        super(SimplifiedCNNLSTMModel, self).__init__()\n",
    "        \n",
    "        # 첫번째 Convolutional Block\n",
    "        self.conv1 = nn.Conv1d(in_channels=1, out_channels=32, kernel_size=5, stride=1)\n",
    "        self.bn1 = nn.BatchNorm1d(32)\n",
    "        self.relu1 = nn.ReLU()\n",
    "        self.maxpool1 = nn.MaxPool1d(kernel_size=2, stride=2)\n",
    "        self.dropout1 = nn.Dropout(p=0.1)\n",
    "\n",
    "        # 두번째 Convolutional Block\n",
    "        self.conv2 = nn.Conv1d(in_channels=32, out_channels=16, kernel_size=5, stride=1)\n",
    "        self.bn2 = nn.BatchNorm1d(16)\n",
    "        self.relu2 = nn.ReLU()\n",
    "        self.maxpool2 = nn.MaxPool1d(kernel_size=2, stride=2)\n",
    "        self.dropout2 = nn.Dropout(p=0.1)\n",
    "\n",
    "        # LSTM Block\n",
    "        self.lstm = nn.LSTM(input_size=16, hidden_size=16, batch_first=True)\n",
    "        self.dropout_lstm = nn.Dropout(p=0.1)\n",
    "\n",
    "        # Dense Layer\n",
    "        self.dense = nn.Linear(16, 16)\n",
    "        self.relu_dense = nn.ReLU()\n",
    "\n",
    "        # Output Layer\n",
    "        self.output = nn.Linear(16, 1)\n",
    "\n",
    "    def forward(self, x):\n",
    "        # Convolutional Blocks\n",
    "        x = self.dropout1(self.maxpool1(self.relu1(self.bn1(self.conv1(x)))))\n",
    "        x = self.dropout2(self.maxpool2(self.relu2(self.bn2(self.conv2(x)))))\n",
    "\n",
    "        # LSTM Layer\n",
    "        x = x.permute(0, 2, 1)\n",
    "        x, (hn, cn) = self.lstm(x)\n",
    "        x = self.dropout_lstm(x[:, -1, :])\n",
    "\n",
    "        # Dense Layer\n",
    "        x = self.relu_dense(self.dense(x))\n",
    "\n",
    "        # Output Layer\n",
    "        x = torch.sigmoid(self.output(x))\n",
    "        return x\n"
   ]
  },
  {
   "cell_type": "markdown",
   "metadata": {},
   "source": [
    "# Training"
   ]
  },
  {
   "cell_type": "code",
   "execution_count": 6,
   "metadata": {},
   "outputs": [
    {
     "name": "stdout",
     "output_type": "stream",
     "text": [
      "-----------------------\n",
      "Learning Rate: 0.00888712339335385\n",
      "Batch Size: 64\n",
      "Number of Epochs: 100\n",
      "-----------------------\n",
      ">>>>> Let's GO!!! <<<<<\n",
      "-----------------------\n"
     ]
    },
    {
     "name": "stderr",
     "output_type": "stream",
     "text": [
      "Epoch 1/100 - Training: 100%|██████████| 273/273 [00:12<00:00, 21.73it/s]\n"
     ]
    },
    {
     "name": "stdout",
     "output_type": "stream",
     "text": [
      ">>> [Train] AUROC: 0.5390 / AUPRC: 0.0794\n",
      ">>> [Valid] AUROC: 0.6010 / AUPRC: 0.1067\n"
     ]
    },
    {
     "name": "stderr",
     "output_type": "stream",
     "text": [
      "Epoch 2/100 - Training: 100%|██████████| 273/273 [00:07<00:00, 37.55it/s]\n"
     ]
    },
    {
     "name": "stdout",
     "output_type": "stream",
     "text": [
      ">>> [Train] AUROC: 0.8484 / AUPRC: 0.3001\n",
      ">>> [Valid] AUROC: 0.9541 / AUPRC: 0.4676\n"
     ]
    },
    {
     "name": "stderr",
     "output_type": "stream",
     "text": [
      "Epoch 3/100 - Training: 100%|██████████| 273/273 [00:07<00:00, 37.04it/s]\n"
     ]
    },
    {
     "name": "stdout",
     "output_type": "stream",
     "text": [
      ">>> [Train] AUROC: 0.9488 / AUPRC: 0.5242\n",
      ">>> [Valid] AUROC: 0.9763 / AUPRC: 0.6227\n"
     ]
    },
    {
     "name": "stderr",
     "output_type": "stream",
     "text": [
      "Epoch 4/100 - Training: 100%|██████████| 273/273 [00:07<00:00, 36.95it/s]\n"
     ]
    },
    {
     "name": "stdout",
     "output_type": "stream",
     "text": [
      ">>> [Train] AUROC: 0.9633 / AUPRC: 0.6003\n",
      ">>> [Valid] AUROC: 0.9771 / AUPRC: 0.6444\n"
     ]
    },
    {
     "name": "stderr",
     "output_type": "stream",
     "text": [
      "Epoch 5/100 - Training: 100%|██████████| 273/273 [00:07<00:00, 37.27it/s]\n"
     ]
    },
    {
     "name": "stdout",
     "output_type": "stream",
     "text": [
      ">>> [Train] AUROC: 0.9655 / AUPRC: 0.6185\n",
      ">>> [Valid] AUROC: 0.9800 / AUPRC: 0.6590\n"
     ]
    },
    {
     "name": "stderr",
     "output_type": "stream",
     "text": [
      "Epoch 6/100 - Training: 100%|██████████| 273/273 [00:07<00:00, 36.64it/s]\n"
     ]
    },
    {
     "name": "stdout",
     "output_type": "stream",
     "text": [
      ">>> [Train] AUROC: 0.9656 / AUPRC: 0.6121\n",
      ">>> [Valid] AUROC: 0.9832 / AUPRC: 0.7179\n"
     ]
    },
    {
     "name": "stderr",
     "output_type": "stream",
     "text": [
      "Epoch 7/100 - Training: 100%|██████████| 273/273 [00:07<00:00, 36.53it/s]\n"
     ]
    },
    {
     "name": "stdout",
     "output_type": "stream",
     "text": [
      ">>> [Train] AUROC: 0.9695 / AUPRC: 0.6581\n",
      ">>> [Valid] AUROC: 0.9819 / AUPRC: 0.6874\n"
     ]
    },
    {
     "name": "stderr",
     "output_type": "stream",
     "text": [
      "Epoch 8/100 - Training: 100%|██████████| 273/273 [00:07<00:00, 36.50it/s]\n"
     ]
    },
    {
     "name": "stdout",
     "output_type": "stream",
     "text": [
      ">>> [Train] AUROC: 0.9704 / AUPRC: 0.6647\n",
      ">>> [Valid] AUROC: 0.9821 / AUPRC: 0.6955\n"
     ]
    },
    {
     "name": "stderr",
     "output_type": "stream",
     "text": [
      "Epoch 9/100 - Training: 100%|██████████| 273/273 [00:07<00:00, 36.14it/s]\n"
     ]
    },
    {
     "name": "stdout",
     "output_type": "stream",
     "text": [
      ">>> [Train] AUROC: 0.9742 / AUPRC: 0.7072\n",
      ">>> [Valid] AUROC: 0.9836 / AUPRC: 0.7143\n"
     ]
    },
    {
     "name": "stderr",
     "output_type": "stream",
     "text": [
      "Epoch 10/100 - Training: 100%|██████████| 273/273 [00:07<00:00, 36.14it/s]\n"
     ]
    },
    {
     "name": "stdout",
     "output_type": "stream",
     "text": [
      ">>> [Train] AUROC: 0.9769 / AUPRC: 0.7201\n",
      ">>> [Valid] AUROC: 0.9819 / AUPRC: 0.7106\n"
     ]
    },
    {
     "name": "stderr",
     "output_type": "stream",
     "text": [
      "Epoch 11/100 - Training: 100%|██████████| 273/273 [00:07<00:00, 36.36it/s]\n"
     ]
    },
    {
     "name": "stdout",
     "output_type": "stream",
     "text": [
      ">>> [Train] AUROC: 0.9764 / AUPRC: 0.7378\n",
      ">>> [Valid] AUROC: 0.9858 / AUPRC: 0.7696\n"
     ]
    },
    {
     "name": "stderr",
     "output_type": "stream",
     "text": [
      "Epoch 12/100 - Training: 100%|██████████| 273/273 [00:07<00:00, 36.45it/s]\n"
     ]
    },
    {
     "name": "stdout",
     "output_type": "stream",
     "text": [
      ">>> [Train] AUROC: 0.9775 / AUPRC: 0.7324\n",
      ">>> [Valid] AUROC: 0.9880 / AUPRC: 0.8249\n"
     ]
    },
    {
     "name": "stderr",
     "output_type": "stream",
     "text": [
      "Epoch 13/100 - Training: 100%|██████████| 273/273 [00:07<00:00, 36.48it/s]\n"
     ]
    },
    {
     "name": "stdout",
     "output_type": "stream",
     "text": [
      ">>> [Train] AUROC: 0.9798 / AUPRC: 0.7751\n",
      ">>> [Valid] AUROC: 0.9895 / AUPRC: 0.8506\n"
     ]
    },
    {
     "name": "stderr",
     "output_type": "stream",
     "text": [
      "Epoch 14/100 - Training: 100%|██████████| 273/273 [00:07<00:00, 36.37it/s]\n"
     ]
    },
    {
     "name": "stdout",
     "output_type": "stream",
     "text": [
      ">>> [Train] AUROC: 0.9818 / AUPRC: 0.7898\n",
      ">>> [Valid] AUROC: 0.9852 / AUPRC: 0.8038\n"
     ]
    },
    {
     "name": "stderr",
     "output_type": "stream",
     "text": [
      "Epoch 15/100 - Training: 100%|██████████| 273/273 [00:07<00:00, 36.45it/s]\n"
     ]
    },
    {
     "name": "stdout",
     "output_type": "stream",
     "text": [
      ">>> [Train] AUROC: 0.9835 / AUPRC: 0.8304\n",
      ">>> [Valid] AUROC: 0.9885 / AUPRC: 0.8762\n"
     ]
    },
    {
     "name": "stderr",
     "output_type": "stream",
     "text": [
      "Epoch 16/100 - Training: 100%|██████████| 273/273 [00:07<00:00, 36.40it/s]\n"
     ]
    },
    {
     "name": "stdout",
     "output_type": "stream",
     "text": [
      ">>> [Train] AUROC: 0.9825 / AUPRC: 0.8235\n",
      ">>> [Valid] AUROC: 0.9853 / AUPRC: 0.8689\n"
     ]
    },
    {
     "name": "stderr",
     "output_type": "stream",
     "text": [
      "Epoch 17/100 - Training: 100%|██████████| 273/273 [00:07<00:00, 36.11it/s]\n"
     ]
    },
    {
     "name": "stdout",
     "output_type": "stream",
     "text": [
      ">>> [Train] AUROC: 0.9864 / AUPRC: 0.8431\n",
      ">>> [Valid] AUROC: 0.9890 / AUPRC: 0.8978\n"
     ]
    },
    {
     "name": "stderr",
     "output_type": "stream",
     "text": [
      "Epoch 18/100 - Training: 100%|██████████| 273/273 [00:07<00:00, 36.27it/s]\n"
     ]
    },
    {
     "name": "stdout",
     "output_type": "stream",
     "text": [
      ">>> [Train] AUROC: 0.9852 / AUPRC: 0.8511\n",
      ">>> [Valid] AUROC: 0.9904 / AUPRC: 0.8907\n"
     ]
    },
    {
     "name": "stderr",
     "output_type": "stream",
     "text": [
      "Epoch 19/100 - Training: 100%|██████████| 273/273 [00:07<00:00, 35.87it/s]\n"
     ]
    },
    {
     "name": "stdout",
     "output_type": "stream",
     "text": [
      ">>> [Train] AUROC: 0.9870 / AUPRC: 0.8591\n",
      ">>> [Valid] AUROC: 0.9906 / AUPRC: 0.9038\n"
     ]
    },
    {
     "name": "stderr",
     "output_type": "stream",
     "text": [
      "Epoch 20/100 - Training: 100%|██████████| 273/273 [00:07<00:00, 36.16it/s]\n"
     ]
    },
    {
     "name": "stdout",
     "output_type": "stream",
     "text": [
      ">>> [Train] AUROC: 0.9870 / AUPRC: 0.8699\n",
      ">>> [Valid] AUROC: 0.9901 / AUPRC: 0.9196\n"
     ]
    },
    {
     "name": "stderr",
     "output_type": "stream",
     "text": [
      "Epoch 21/100 - Training: 100%|██████████| 273/273 [00:07<00:00, 36.10it/s]\n"
     ]
    },
    {
     "name": "stdout",
     "output_type": "stream",
     "text": [
      ">>> [Train] AUROC: 0.9862 / AUPRC: 0.8852\n",
      ">>> [Valid] AUROC: 0.9917 / AUPRC: 0.9161\n"
     ]
    },
    {
     "name": "stderr",
     "output_type": "stream",
     "text": [
      "Epoch 22/100 - Training: 100%|██████████| 273/273 [00:07<00:00, 36.06it/s]\n"
     ]
    },
    {
     "name": "stdout",
     "output_type": "stream",
     "text": [
      ">>> [Train] AUROC: 0.9889 / AUPRC: 0.8945\n",
      ">>> [Valid] AUROC: 0.9924 / AUPRC: 0.9182\n"
     ]
    },
    {
     "name": "stderr",
     "output_type": "stream",
     "text": [
      "Epoch 23/100 - Training: 100%|██████████| 273/273 [00:07<00:00, 36.51it/s]\n"
     ]
    },
    {
     "name": "stdout",
     "output_type": "stream",
     "text": [
      ">>> [Train] AUROC: 0.9881 / AUPRC: 0.8975\n",
      ">>> [Valid] AUROC: 0.9908 / AUPRC: 0.9179\n"
     ]
    },
    {
     "name": "stderr",
     "output_type": "stream",
     "text": [
      "Epoch 24/100 - Training: 100%|██████████| 273/273 [00:07<00:00, 36.53it/s]\n"
     ]
    },
    {
     "name": "stdout",
     "output_type": "stream",
     "text": [
      ">>> [Train] AUROC: 0.9897 / AUPRC: 0.9148\n",
      ">>> [Valid] AUROC: 0.9882 / AUPRC: 0.9086\n"
     ]
    },
    {
     "name": "stderr",
     "output_type": "stream",
     "text": [
      "Epoch 25/100 - Training: 100%|██████████| 273/273 [00:07<00:00, 36.60it/s]\n"
     ]
    },
    {
     "name": "stdout",
     "output_type": "stream",
     "text": [
      ">>> [Train] AUROC: 0.9904 / AUPRC: 0.9148\n",
      ">>> [Valid] AUROC: 0.9910 / AUPRC: 0.8834\n"
     ]
    },
    {
     "name": "stderr",
     "output_type": "stream",
     "text": [
      "Epoch 26/100 - Training: 100%|██████████| 273/273 [00:07<00:00, 36.29it/s]\n"
     ]
    },
    {
     "name": "stdout",
     "output_type": "stream",
     "text": [
      ">>> [Train] AUROC: 0.9900 / AUPRC: 0.9101\n",
      ">>> [Valid] AUROC: 0.9917 / AUPRC: 0.9027\n"
     ]
    },
    {
     "name": "stderr",
     "output_type": "stream",
     "text": [
      "Epoch 27/100 - Training: 100%|██████████| 273/273 [00:07<00:00, 35.97it/s]\n"
     ]
    },
    {
     "name": "stdout",
     "output_type": "stream",
     "text": [
      ">>> [Train] AUROC: 0.9908 / AUPRC: 0.9068\n",
      ">>> [Valid] AUROC: 0.9862 / AUPRC: 0.8892\n"
     ]
    },
    {
     "name": "stderr",
     "output_type": "stream",
     "text": [
      "Epoch 28/100 - Training: 100%|██████████| 273/273 [00:07<00:00, 36.44it/s]\n"
     ]
    },
    {
     "name": "stdout",
     "output_type": "stream",
     "text": [
      ">>> [Train] AUROC: 0.9916 / AUPRC: 0.9267\n",
      ">>> [Valid] AUROC: 0.9835 / AUPRC: 0.9184\n",
      "Epoch 00028: reducing learning rate of group 0 to 8.8871e-04.\n"
     ]
    },
    {
     "name": "stderr",
     "output_type": "stream",
     "text": [
      "Epoch 29/100 - Training: 100%|██████████| 273/273 [00:07<00:00, 36.36it/s]\n"
     ]
    },
    {
     "name": "stdout",
     "output_type": "stream",
     "text": [
      ">>> [Train] AUROC: 0.9946 / AUPRC: 0.9476\n",
      ">>> [Valid] AUROC: 0.9833 / AUPRC: 0.9189\n"
     ]
    },
    {
     "name": "stderr",
     "output_type": "stream",
     "text": [
      "Epoch 30/100 - Training: 100%|██████████| 273/273 [00:07<00:00, 36.16it/s]\n"
     ]
    },
    {
     "name": "stdout",
     "output_type": "stream",
     "text": [
      ">>> [Train] AUROC: 0.9955 / AUPRC: 0.9535\n",
      ">>> [Valid] AUROC: 0.9846 / AUPRC: 0.9179\n"
     ]
    },
    {
     "name": "stderr",
     "output_type": "stream",
     "text": [
      "Epoch 31/100 - Training: 100%|██████████| 273/273 [00:07<00:00, 36.14it/s]\n"
     ]
    },
    {
     "name": "stdout",
     "output_type": "stream",
     "text": [
      ">>> [Train] AUROC: 0.9951 / AUPRC: 0.9530\n",
      ">>> [Valid] AUROC: 0.9801 / AUPRC: 0.9154\n"
     ]
    },
    {
     "name": "stderr",
     "output_type": "stream",
     "text": [
      "Epoch 32/100 - Training: 100%|██████████| 273/273 [00:07<00:00, 36.40it/s]\n"
     ]
    },
    {
     "name": "stdout",
     "output_type": "stream",
     "text": [
      ">>> [Train] AUROC: 0.9962 / AUPRC: 0.9570\n",
      ">>> [Valid] AUROC: 0.9750 / AUPRC: 0.9113\n"
     ]
    },
    {
     "name": "stderr",
     "output_type": "stream",
     "text": [
      "Epoch 33/100 - Training: 100%|██████████| 273/273 [00:07<00:00, 36.42it/s]\n"
     ]
    },
    {
     "name": "stdout",
     "output_type": "stream",
     "text": [
      ">>> [Train] AUROC: 0.9942 / AUPRC: 0.9557\n",
      ">>> [Valid] AUROC: 0.9770 / AUPRC: 0.9158\n"
     ]
    },
    {
     "name": "stderr",
     "output_type": "stream",
     "text": [
      "Epoch 34/100 - Training: 100%|██████████| 273/273 [00:07<00:00, 36.36it/s]\n"
     ]
    },
    {
     "name": "stdout",
     "output_type": "stream",
     "text": [
      ">>> [Train] AUROC: 0.9948 / AUPRC: 0.9615\n",
      ">>> [Valid] AUROC: 0.9758 / AUPRC: 0.9126\n"
     ]
    },
    {
     "name": "stderr",
     "output_type": "stream",
     "text": [
      "Epoch 35/100 - Training: 100%|██████████| 273/273 [00:07<00:00, 36.07it/s]\n"
     ]
    },
    {
     "name": "stdout",
     "output_type": "stream",
     "text": [
      ">>> [Train] AUROC: 0.9955 / AUPRC: 0.9600\n",
      ">>> [Valid] AUROC: 0.9773 / AUPRC: 0.9127\n"
     ]
    },
    {
     "name": "stderr",
     "output_type": "stream",
     "text": [
      "Epoch 36/100 - Training: 100%|██████████| 273/273 [00:07<00:00, 36.51it/s]\n"
     ]
    },
    {
     "name": "stdout",
     "output_type": "stream",
     "text": [
      ">>> [Train] AUROC: 0.9959 / AUPRC: 0.9597\n",
      ">>> [Valid] AUROC: 0.9766 / AUPRC: 0.9132\n",
      "Epoch 00036: reducing learning rate of group 0 to 8.8871e-05.\n"
     ]
    },
    {
     "name": "stderr",
     "output_type": "stream",
     "text": [
      "Epoch 37/100 - Training: 100%|██████████| 273/273 [00:07<00:00, 36.50it/s]\n"
     ]
    },
    {
     "name": "stdout",
     "output_type": "stream",
     "text": [
      ">>> [Train] AUROC: 0.9951 / AUPRC: 0.9625\n",
      ">>> [Valid] AUROC: 0.9754 / AUPRC: 0.9132\n"
     ]
    },
    {
     "name": "stderr",
     "output_type": "stream",
     "text": [
      "Epoch 38/100 - Training: 100%|██████████| 273/273 [00:07<00:00, 36.17it/s]\n"
     ]
    },
    {
     "name": "stdout",
     "output_type": "stream",
     "text": [
      ">>> [Train] AUROC: 0.9957 / AUPRC: 0.9628\n",
      ">>> [Valid] AUROC: 0.9756 / AUPRC: 0.9106\n"
     ]
    },
    {
     "name": "stderr",
     "output_type": "stream",
     "text": [
      "Epoch 39/100 - Training: 100%|██████████| 273/273 [00:07<00:00, 36.08it/s]\n"
     ]
    },
    {
     "name": "stdout",
     "output_type": "stream",
     "text": [
      ">>> [Train] AUROC: 0.9962 / AUPRC: 0.9608\n",
      ">>> [Valid] AUROC: 0.9758 / AUPRC: 0.9127\n"
     ]
    },
    {
     "name": "stderr",
     "output_type": "stream",
     "text": [
      "Epoch 40/100 - Training: 100%|██████████| 273/273 [00:07<00:00, 36.56it/s]\n"
     ]
    },
    {
     "name": "stdout",
     "output_type": "stream",
     "text": [
      ">>> [Train] AUROC: 0.9955 / AUPRC: 0.9648\n",
      ">>> [Valid] AUROC: 0.9752 / AUPRC: 0.9096\n",
      "Early stopping\n",
      "------------------------------------------\n",
      "<Best AUPRC Model's Performance>\n",
      "[train_loss]: 0.0625\n",
      "[valid_loss]: 0.1238\n",
      "[train_accuracy]: 0.9765\n",
      "[valid_accuracy]: 0.9596\n",
      "[train_auroc]: 0.9870\n",
      "[valid_auroc]: 0.9901\n",
      "[train_auprc]: 0.8699\n",
      "[valid_auprc]: 0.9196 <- Pick It Up!\n"
     ]
    }
   ],
   "source": [
    "# 사용자 정의 모듈을 임포트합니다.\n",
    "from annie_data_prep import create_dataloaders, load_sph_data\n",
    "from annie_cnn_model import SimpleCNN, Custom1DCNN, Custom1DCNNWithBatchNormAndDropout\n",
    "from annie_cnnlstm_model import CNNLSTMModel\n",
    "\n",
    "\n",
    "## 모델 시드 고정 \n",
    "seed = 42\n",
    "torch.manual_seed(seed)\n",
    "np.random.seed(seed)\n",
    "random.seed(seed)\n",
    "if torch.cuda.is_available():\n",
    "    torch.cuda.manual_seed(seed)\n",
    "    torch.cuda.manual_seed_all(seed)  # 멀티 GPU를 사용하는 경우\n",
    "    torch.backends.cudnn.deterministic = True\n",
    "    torch.backends.cudnn.benchmark = False\n",
    "    \n",
    "\n",
    "\n",
    "#with open('./annie_hypprm.yaml', 'r') as file:\n",
    "#    hyperparameters = yaml.load(file, Loader=yaml.FullLoader)\n",
    "\n",
    "#learning_rate = hyperparameters['learning_rate']\n",
    "#batch_size = hyperparameters['batch_size']\n",
    "#num_epochs = hyperparameters['num_epochs']\n",
    "\n",
    "\n",
    "\n",
    "learning_rate = 0.00888712339335385\n",
    "batch_size = 64\n",
    "num_epochs = 100\n",
    "\n",
    "\n",
    "# 하이퍼파라미터 출력\n",
    "print(\"-\"*23)\n",
    "print(f\"Learning Rate: {learning_rate}\")\n",
    "print(f\"Batch Size: {batch_size}\")\n",
    "print(f\"Number of Epochs: {num_epochs}\")\n",
    "print(\"-\"*23)\n",
    "print(\">>>>> Let's GO!!! <<<<<\")\n",
    "print(\"-\"*23)\n",
    "\n",
    "#print(f\"Hidden Units: {hidden_units}\")\n",
    "\n",
    "\n",
    "\n",
    "# 모델을 GPU로 옮기기\n",
    "device = torch.device(\"cuda\" if torch.cuda.is_available() else \"cpu\")\n",
    "model = Custom1DCNN().to(device)\n",
    "# Custom1DCNNWithBatchNormAndDropout\n",
    "\n",
    "\n",
    "# 손실 함수 및 옵티마이저 설정\n",
    "criterion = nn.BCEWithLogitsLoss()\n",
    "optimizer = optim.Adam(model.parameters(), lr=learning_rate)\n",
    "scheduler = optim.lr_scheduler.ReduceLROnPlateau(optimizer, 'max', patience=7, factor=0.1, verbose=True)\n",
    "\n",
    "\n",
    "\n",
    "def train_model():\n",
    "    # 학습 및 검증 결과 기록을 위한 사전 선언\n",
    "    model_info = {}\n",
    "\n",
    "    # 학습 및 검증 과정에서의 손실과 정확도 기록\n",
    "    train_losses = []\n",
    "    train_accuracies = []\n",
    "    train_aurocs = []  # 훈련 데이터 AUROC 기록을 위한 리스트\n",
    "    train_auprcs = []  # 훈련 데이터 AUPRC 기록을 위한 리스트\n",
    "    val_losses = []\n",
    "    val_accuracies = []\n",
    "    val_aurocs = []\n",
    "    val_auprcs = []  # AUPRC 기록을 위한 리스트 추가\n",
    "\n",
    "    train_loader, val_loader, _ = create_dataloaders(batch_size)\n",
    "    #best_auroc = float('-inf')  # 최고 AUROC 기록을 위한 초기값 설정\n",
    "    best_auprc = float('-inf')  # 최고 AUPRC 기록을 위한 초기값 설정\n",
    "    best_auprc_info = None  # 최고 AUPRC 값을 가진 모델의 정보를 저장할 변수\n",
    "\n",
    "\n",
    "    epochs_no_improve = 0\n",
    "    early_stop = False\n",
    "    patience = 20\n",
    "\n",
    "    for epoch in range(num_epochs):\n",
    "        # 훈련 루프\n",
    "        model.train()\n",
    "        train_loss = 0.0\n",
    "        train_preds, train_targets = [], []\n",
    "\n",
    "        for inputs, labels in tqdm(train_loader, desc=f\"Epoch {epoch+1}/{num_epochs} - Training\"):\n",
    "            inputs, labels = inputs.to(device), labels.to(device)\n",
    "            optimizer.zero_grad()  # 그래디언트 초기화\n",
    "\n",
    "            # 순전파 및 역전파\n",
    "            outputs = model(inputs)\n",
    "            loss = criterion(outputs.view(-1), labels.float())\n",
    "            loss.backward()\n",
    "            optimizer.step()\n",
    "\n",
    "            train_loss += loss.item()\n",
    "            train_preds.extend(torch.sigmoid(outputs).view(-1).cpu().detach().numpy())\n",
    "            train_targets.extend(labels.cpu().numpy())\n",
    "\n",
    "        train_loss /= len(train_loader)\n",
    "        train_accuracy = accuracy_score(train_targets, np.round(train_preds))\n",
    "        train_auroc = roc_auc_score(train_targets, train_preds)\n",
    "        train_auprc = average_precision_score(train_targets, train_preds)\n",
    "        train_losses.append(train_loss)\n",
    "        train_accuracies.append(train_accuracy)\n",
    "        train_aurocs.append(train_auroc)\n",
    "        train_auprcs.append(train_auprc)\n",
    "        print(f\">>> [Train] AUROC: {train_auroc:.4f} / AUPRC: {train_auprc:.4f}\")\n",
    "\n",
    "\n",
    "\n",
    "        # 검증 루프\n",
    "        model.eval()\n",
    "        val_loss, val_preds, val_targets = 0.0, [], []\n",
    "\n",
    "        with torch.no_grad():\n",
    "            for inputs, labels in val_loader:\n",
    "                inputs, labels = inputs.to(device), labels.to(device)\n",
    "                outputs = model(inputs)\n",
    "                loss = criterion(outputs.view(-1), labels.float())\n",
    "                val_loss += loss.item()\n",
    "                val_preds.extend(torch.sigmoid(outputs).view(-1).cpu().detach().numpy())\n",
    "                val_targets.extend(labels.cpu().numpy())\n",
    "\n",
    "        val_loss /= len(val_loader)\n",
    "        val_accuracy = accuracy_score(val_targets, np.round(val_preds))\n",
    "        val_auroc = roc_auc_score(val_targets, val_preds)\n",
    "        val_auprc = average_precision_score(val_targets, val_preds)\n",
    "        val_losses.append(val_loss)\n",
    "        val_accuracies.append(val_accuracy)\n",
    "        val_aurocs.append(val_auroc)\n",
    "        val_auprcs.append(val_auprc)\n",
    "        print(f\">>> [Valid] AUROC: {val_auroc:.4f} / AUPRC: {val_auprc:.4f}\")\n",
    "\n",
    "\n",
    "        # 에포크 결과 기록\n",
    "        epoch_info = {\n",
    "            'train_loss': train_loss,\n",
    "            'valid_loss': val_loss,\n",
    "            'train_accuracy': train_accuracy,  \n",
    "            'valid_accuracy': val_accuracy,      \n",
    "            'train_auroc': train_auroc,\n",
    "            'valid_auroc': val_auroc,\n",
    "            'train_auprc': train_auprc,        \n",
    "            'valid_auprc': val_auprc\n",
    "        }\n",
    "        model_info[epoch + 1] = epoch_info\n",
    "\n",
    "\n",
    "        # 스케줄러 업데이트\n",
    "        scheduler.step(val_auprc)\n",
    "\n",
    "        # Early Stopping 체크 및 모델 저장\n",
    "        if val_auprc > best_auprc:\n",
    "            best_auprc = val_auprc\n",
    "            epochs_no_improve = 0\n",
    "            best_auprc_info = epoch_info  # 최고 AUPRC 값을 갱신할 때 정보 저장\n",
    "            torch.save(model.state_dict(), 'Deep_best_model.pth')\n",
    "        else:\n",
    "            epochs_no_improve += 1\n",
    "            if epochs_no_improve == patience:\n",
    "                print(\"Early stopping\")\n",
    "                break\n",
    "    \n",
    "\n",
    "    # 전체 학습 과정의 결과를 JSON 파일로 저장\n",
    "    with open('Deep_model_info.json', 'w') as f:\n",
    "        json.dump(model_info, f, indent=4)\n",
    "\n",
    "\n",
    "\n",
    "    # 최고 AUPRC 값을 가진 모델의 정보 출력\n",
    "    print(\"-\" * 42)\n",
    "    print(\"<Best AUPRC Model's Performance>\")\n",
    "    if best_auprc_info is not None:\n",
    "        items = list(best_auprc_info.items())\n",
    "        for i, (key, value) in enumerate(items):\n",
    "            print(f\"[{key}]: {value:.4f}\" + (\" <- Pick It Up!\" if i == len(items) - 1 else \"\"))\n",
    "\n",
    "\n",
    "\n",
    "train_model()"
   ]
  },
  {
   "cell_type": "markdown",
   "metadata": {},
   "source": [
    "## Train 결과 확인"
   ]
  },
  {
   "cell_type": "code",
   "execution_count": 11,
   "metadata": {},
   "outputs": [
    {
     "data": {
      "image/png": "[encoded data removed]",
      "text/plain": [
       "<Figure size 1000x600 with 4 Axes>"
      ]
     },
     "metadata": {},
     "output_type": "display_data"
    }
   ],
   "source": [
    "def plot_prediction_comparison(true_labels, predicted_labels, subplot_position):\n",
    "    \"\"\"\n",
    "    서브플롯 위치에 실제 라벨과 예측 라벨을 비교하는 그래프를 그립니다.\n",
    "    :param true_labels: 실제 라벨\n",
    "    :param predicted_labels: 예측 라벨\n",
    "    :param subplot_position: subplot의 위치\n",
    "    \"\"\"\n",
    "    plt.subplot(subplot_position)\n",
    "    plt.plot(true_labels, label='실제 라벨', lw=1)\n",
    "    plt.plot(predicted_labels, label='예측 라벨', linestyle='--')\n",
    "    plt.title('실제 라벨 vs 예측 라벨', fontsize=12)\n",
    "    plt.xlabel('Sample', fontsize=8)\n",
    "    plt.ylabel('Label', fontsize=8)\n",
    "    plt.legend()\n",
    "\n",
    "\n",
    "def plot_metric_subplot(train_metric, val_metric, metric_name, subplot_position):\n",
    "    \"\"\"\n",
    "    서브플롯 위치에 성능 지표에 대한 그래프를 그립니다.\n",
    "    :param train_metric: 훈련 데이터의 성능 지표\n",
    "    :param val_metric: 검증 데이터의 성능 지표\n",
    "    :param metric_name: 그래프에 표시할 성능 지표의 이름\n",
    "    :param subplot_position: subplot의 위치 (예: 221, 222, 223, 224)\n",
    "    \"\"\"\n",
    "    plt.subplot(subplot_position)\n",
    "    epochs = range(1, len(train_metric) + 1)\n",
    "    plt.plot(epochs, train_metric, 'b-', label='Train', lw=1)\n",
    "    plt.plot(epochs, val_metric, 'r-', label='Valid', lw=1)\n",
    "    plt.title(metric_name, fontsize=12)\n",
    "    plt.xlabel('Epochs', fontsize=8)\n",
    "\n",
    "\n",
    "\n",
    "    # Y축 눈금을 소수점 두 자리 형식으로 설정\n",
    "    ax = plt.gca()\n",
    "    y_vals = ax.get_yticks()\n",
    "    ax.yaxis.set_major_locator(FixedLocator(y_vals))\n",
    "    ax.set_yticklabels(['{:.2f}'.format(y) for y in y_vals])\n",
    "\n",
    "    plt.legend()\n",
    "\n",
    "\n",
    "\n",
    "# 성능 지표를 파일에서 불러오는 함수\n",
    "def load_metrics(filename):\n",
    "    with open(filename, 'r') as file:\n",
    "        data = json.load(file)\n",
    "        train_losses = [epoch_info['train_loss'] for epoch_info in data.values()]\n",
    "        val_losses = [epoch_info['valid_loss'] for epoch_info in data.values()]\n",
    "        train_accuracies = [epoch_info['train_accuracy'] for epoch_info in data.values()]\n",
    "        val_accuracies = [epoch_info['valid_accuracy'] for epoch_info in data.values()]\n",
    "        train_aurocs = [epoch_info['train_auroc'] for epoch_info in data.values()]\n",
    "        val_aurocs = [epoch_info['valid_auroc'] for epoch_info in data.values()]\n",
    "        train_auprcs = [epoch_info['train_auprc'] for epoch_info in data.values()]\n",
    "        val_auprcs = [epoch_info['valid_auprc'] for epoch_info in data.values()]\n",
    "        return train_losses, val_losses, train_accuracies, val_accuracies, train_aurocs, val_aurocs, train_auprcs, val_auprcs\n",
    "\n",
    "# 파일에서 성능 지표를 불러옵니다.\n",
    "train_losses, val_losses, train_accuracies, val_accuracies, train_aurocs, val_aurocs, train_auprcs, val_auprcs = load_metrics('/DATA/workspace/harbud/ecg/save_model/trial_17_performance.json')\n",
    "\n",
    "\n",
    "\n",
    "# 2x2 격자 형태로 그래프 그리기\n",
    "plt.figure(figsize=(10, 6))  # 전체 그래프의 크기 설정\n",
    "plt.suptitle('Performance Metrics', fontsize=16)\n",
    "\n",
    "plot_metric_subplot(train_losses, val_losses, 'Loss', 221)\n",
    "plot_metric_subplot(train_accuracies, val_accuracies, 'Accuracy', 222)\n",
    "plot_metric_subplot(train_aurocs, val_aurocs, 'AUROC', 223)\n",
    "plot_metric_subplot(train_auprcs, val_auprcs, 'AUPRC', 224)\n",
    "\n",
    "plt.subplots_adjust(left=0.125, bottom=0.1,  right=0.9, top=0.9, wspace=0.2, hspace=0.6)\n",
    "plt.show()\n"
   ]
  },
  {
   "cell_type": "markdown",
   "metadata": {},
   "source": [
    "# Test"
   ]
  },
  {
   "cell_type": "code",
   "execution_count": 8,
   "metadata": {},
   "outputs": [],
   "source": [
    "# ROC 커브와 PRC 그리기\n",
    "def plot_roc_and_prc(y_true, y_pred, data_name):\n",
    "    # ROC 커브\n",
    "    fpr, tpr, _ = roc_curve(y_true, y_pred)\n",
    "    plt.figure(figsize=(12, 5))\n",
    "    plt.subplot(1, 2, 1)\n",
    "    plt.plot(fpr, tpr, color='darkorange', lw=2, label='ROC curve')\n",
    "    plt.plot([0, 1], [0, 1], color='black', lw=1, linestyle='--')\n",
    "    plt.xlabel('False Positive Rate')\n",
    "    plt.ylabel('True Positive Rate')\n",
    "    plt.title(f'ROC Curve for {data_name}')\n",
    "    plt.legend(loc=\"lower right\")\n",
    "\n",
    "    # PRC\n",
    "    precision, recall, _ = precision_recall_curve(y_true, y_pred)\n",
    "    plt.subplot(1, 2, 2)\n",
    "    plt.plot(recall, precision, color='green', lw=2, label='PR curve')\n",
    "    plt.xlabel('Recall')\n",
    "    plt.ylabel('Precision')\n",
    "    plt.title(f'Precision-Recall Curve for {data_name}')\n",
    "    plt.legend(loc=\"lower left\")\n",
    "    plt.show()\n",
    "\n",
    "\n",
    "# # Youden Index를 사용하여 최적의 임계값 찾기\n",
    "# def find_optimal_cutoff(y_true, y_pred):\n",
    "#     fpr, tpr, thresholds = roc_curve(y_true, y_pred)\n",
    "#     youden_index = tpr - fpr\n",
    "#     optimal_idx = np.argmax(youden_index)\n",
    "#     optimal_threshold = thresholds[optimal_idx]\n",
    "#     return optimal_threshold\n",
    "\n",
    "\n",
    "# AUPRC를 사용하여 최적의 임계값 찾기\n",
    "def find_optimal_threshold_by_auprc(y_true, y_pred):\n",
    "    precision, recall, thresholds = precision_recall_curve(y_true, y_pred)\n",
    "    f1_scores = []\n",
    "\n",
    "    for p, r in zip(precision, recall):\n",
    "        if p + r == 0:\n",
    "            f1_scores.append(0)\n",
    "        else:\n",
    "            f1_scores.append(2 * p * r / (p + r))\n",
    "\n",
    "    optimal_idx = np.argmax(f1_scores)\n",
    "    optimal_threshold = thresholds[optimal_idx]\n",
    "    return optimal_threshold\n",
    "\n",
    "\n",
    "# Confusion Matrix 시각화 및 정밀도, 재현율, F1 점수 출력\n",
    "def plot_confusion_matrix(y_true, y_pred, thresh, data_name):\n",
    "    cm = confusion_matrix(y_true, y_pred > thresh)\n",
    "    sns.heatmap(cm, annot=True, fmt='d', cmap='Blues')\n",
    "    plt.title(f'Confusion Matrix for {data_name}')\n",
    "    plt.ylabel('Actual')\n",
    "    plt.xlabel('Predicted')\n",
    "    plt.show()\n",
    "\n",
    "    # 혼동 행렬로부터 TP, FP, FN, TN 추출\n",
    "    TP = cm[1, 1]\n",
    "    FP = cm[0, 1]\n",
    "    FN = cm[1, 0]\n",
    "    TN = cm[0, 0]\n",
    "\n",
    "    # 정밀도, 재현율, F1 점수 계산\n",
    "    precision = TP / (TP + FP)\n",
    "    recall = TP / (TP + FN)\n",
    "    f1_score = 2 * (precision * recall) / (precision + recall)\n",
    "\n",
    "    # 계산된 지표 출력\n",
    "    print(f\"정밀도 (Precision): {precision:.4f}\")\n",
    "    print(f\"재현율 (Recall): {recall:.4f}\")\n",
    "    print(f\"F1 점수 (F1 Score): {f1_score:.4f}\")\n",
    "\n",
    "\n",
    "criterion = nn.BCEWithLogitsLoss()\n",
    "\n",
    "def test_model(model, test_loader, data_name):\n",
    "    device = torch.device(\"cuda\" if torch.cuda.is_available() else \"cpu\")\n",
    "    model = model.to(device)\n",
    "    model.eval()\n",
    "\n",
    "    test_loss, test_preds, test_targets = 0.0, [], []\n",
    "    with torch.no_grad():\n",
    "        for inputs, labels in tqdm(test_loader, desc=f\"Testing {data_name}\"):\n",
    "            inputs, labels = inputs.to(device), labels.to(device)\n",
    "            outputs = model(inputs)\n",
    "            test_loss += criterion(outputs.view(-1), labels.float()).item()\n",
    "            test_preds.extend(torch.sigmoid(outputs).view(-1).cpu().detach().numpy())\n",
    "            test_targets.extend(labels.cpu().numpy())\n",
    "\n",
    "    # AUPRC를 기반으로 계산된 최적의 임계값을 얻기 위해 위에서 정의한 함수를 호출합니다.\n",
    "    optimal_threshold = find_optimal_threshold_by_auprc(test_targets, test_preds)\n",
    "    test_accuracy = accuracy_score(test_targets, np.array(test_preds) > optimal_threshold)\n",
    "    test_loss /= len(test_loader)\n",
    "    test_auroc = roc_auc_score(test_targets, test_preds)\n",
    "    test_auprc = average_precision_score(test_targets, test_preds)\n",
    "\n",
    "    print(f'[{data_name} Test] AUROC: {test_auroc:.4f} / AUPRC: {test_auprc:.4f} / Accuracy: {test_accuracy * 100:.2f}% / Loss: {test_loss:.4f}')\n",
    "    \n",
    "    plot_roc_and_prc(test_targets, test_preds, data_name)\n",
    "    plot_confusion_matrix(test_targets, test_preds, optimal_threshold, data_name)\n",
    "\n",
    "\n",
    "def test_datasets(model_class, model_filename):\n",
    "    try:\n",
    "        model = model_class()\n",
    "        model.load_state_dict(torch.load(model_filename))\n",
    "\n",
    "        # PTB 데이터셋 테스트\n",
    "        _, _, ptb_test_loader = create_dataloaders()\n",
    "        test_model(model, ptb_test_loader, \"PTB\")\n",
    "\n",
    "        # SPH 데이터셋 테스트\n",
    "        sph_test_loader = load_sph_data()\n",
    "        test_model(model, sph_test_loader, \"SPH\")\n",
    "\n",
    "    except Exception as e:\n",
    "        print(f\"Testing failed: {e}\")"
   ]
  },
  {
   "cell_type": "code",
   "execution_count": 9,
   "metadata": {},
   "outputs": [
    {
     "name": "stderr",
     "output_type": "stream",
     "text": [
      "Testing PTB: 100%|██████████| 35/35 [00:00<00:00, 115.39it/s]\n"
     ]
    },
    {
     "name": "stdout",
     "output_type": "stream",
     "text": [
      "[PTB Test] AUROC: 0.9860 / AUPRC: 0.8646 / Accuracy: 98.17% / Loss: 0.1421\n"
     ]
    },
    {
     "data": {
      "image/png": "[encoded data removed]",
      "text/plain": [
       "<Figure size 1200x500 with 2 Axes>"
      ]
     },
     "metadata": {},
     "output_type": "display_data"
    },
    {
     "data": {
      "image/png": "[encoded data removed]",
      "text/plain": [
       "<Figure size 640x480 with 2 Axes>"
      ]
     },
     "metadata": {},
     "output_type": "display_data"
    },
    {
     "name": "stdout",
     "output_type": "stream",
     "text": [
      "정밀도 (Precision): 0.8447\n",
      "재현율 (Recall): 0.9007\n",
      "F1 점수 (F1 Score): 0.8718\n"
     ]
    },
    {
     "name": "stderr",
     "output_type": "stream",
     "text": [
      "Testing SPH: 100%|██████████| 403/403 [00:03<00:00, 118.10it/s]\n"
     ]
    },
    {
     "name": "stdout",
     "output_type": "stream",
     "text": [
      "[SPH Test] AUROC: 0.9969 / AUPRC: 0.8629 / Accuracy: 99.18% / Loss: 0.0252\n"
     ]
    },
    {
     "data": {
      "image/png": "[encoded data removed]",
      "text/plain": [
       "<Figure size 1200x500 with 2 Axes>"
      ]
     },
     "metadata": {},
     "output_type": "display_data"
    },
    {
     "data": {
      "image/png": "[encoded data removed]",
      "text/plain": [
       "<Figure size 640x480 with 2 Axes>"
      ]
     },
     "metadata": {},
     "output_type": "display_data"
    },
    {
     "name": "stdout",
     "output_type": "stream",
     "text": [
      "정밀도 (Precision): 0.8091\n",
      "재현율 (Recall): 0.8978\n",
      "F1 점수 (F1 Score): 0.8511\n"
     ]
    }
   ],
   "source": [
    "# 두 데이터셋을 함께 테스트\n",
    "test_datasets(Custom1DCNN, 'Deep_best_model.pth')"
   ]
  },
  {
   "cell_type": "code",
   "execution_count": null,
   "metadata": {},
   "outputs": [],
   "source": []
  }
 ],
 "metadata": {
  "kernelspec": {
   "display_name": "Python 3",
   "language": "python",
   "name": "python3"
  },
  "language_info": {
   "codemirror_mode": {
    "name": "ipython",
    "version": 3
   },
   "file_extension": ".py",
   "mimetype": "text/x-python",
   "name": "python",
   "nbconvert_exporter": "python",
   "pygments_lexer": "ipython3",
   "version": "3.8.10"
  }
 },
 "nbformat": 4,
 "nbformat_minor": 2
}
