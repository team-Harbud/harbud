{
 "cells": [
  {
   "cell_type": "code",
   "execution_count": 3,
   "metadata": {},
   "outputs": [
    {
     "name": "stderr",
     "output_type": "stream",
     "text": [
      "/usr/lib/python3/dist-packages/requests/__init__.py:89: RequestsDependencyWarning: urllib3 (2.1.0) or chardet (5.2.0) doesn't match a supported version!\n",
      "  warnings.warn(\"urllib3 ({}) or chardet ({}) doesn't match a supported \"\n",
      "/usr/local/lib/python3.8/dist-packages/tqdm/auto.py:21: TqdmWarning: IProgress not found. Please update jupyter and ipywidgets. See https://ipywidgets.readthedocs.io/en/stable/user_install.html\n",
      "  from .autonotebook import tqdm as notebook_tqdm\n"
     ]
    }
   ],
   "source": [
    "import torch\n",
    "import torch.nn as nn\n",
    "import torch.nn.functional as F\n",
    "import torch.optim as optim\n",
    "from torch.utils.data import DataLoader, TensorDataset\n",
    "\n",
    "import numpy as np\n",
    "import pandas as pd\n",
    "from sklearn.model_selection import train_test_split\n",
    "from sklearn.metrics import (\n",
    "    roc_auc_score, accuracy_score, precision_recall_curve, \n",
    "    precision_score, recall_score, f1_score, confusion_matrix, roc_curve, average_precision_score\n",
    ")\n",
    "\n",
    "import seaborn as sns\n",
    "import matplotlib.pyplot as plt\n",
    "from matplotlib.ticker import FixedLocator\n",
    "from tqdm import tqdm\n",
    "\n",
    "\n",
    "import json\n",
    "import yaml\n",
    "import random\n",
    "import wandb\n",
    "import ast\n",
    "import optuna"
   ]
  },
  {
   "cell_type": "markdown",
   "metadata": {},
   "source": [
    "# Data Load"
   ]
  },
  {
   "cell_type": "code",
   "execution_count": 4,
   "metadata": {},
   "outputs": [],
   "source": [
    "def load_ptb_data():\n",
    "    # PTB-XL 데이터셋 로드 및 전처리\n",
    "    df_ptb = pd.read_csv('./ptb_xl_data/ptbxl_database.csv', index_col='ecg_id')\n",
    "    df_ptb.scp_codes = df_ptb.scp_codes.apply(lambda x: ast.literal_eval(x))\n",
    "    df_ptb.scp_codes = df_ptb.scp_codes.apply(lambda x: list(x.keys()))\n",
    "    df_ptb['label'] = df_ptb.scp_codes.apply(lambda arr: 1 if 'AFIB' in arr else 0)\n",
    "    # 총 21799개 중 AFIB 라벨이 있는 샘플은 1514개로 6.95%에 해당, 샘플 불균형 존재\n",
    "\n",
    "    labels = df_ptb['label'].values\n",
    "    lead1_signals = np.load('./custom_file/annie_ptb_xl_lead1.npy')\n",
    "\n",
    "\n",
    "    # 데이터 정규화 (전체)\n",
    "    lead1_signals_normalized = (lead1_signals - lead1_signals.mean()) / (lead1_signals.std()+1e-7)\n",
    "\n",
    "    # 데이터셋을 텐서로 변환\n",
    "    X = torch.Tensor(lead1_signals_normalized)\n",
    "    y = torch.Tensor(labels).long()\n",
    "\n",
    "    # 데이터 분할 (훈련:검증:테스트 = 8:1:1)\n",
    "    X_train, X_temp, y_train, y_temp = train_test_split(X, y, test_size=0.2, random_state=42, stratify=y)\n",
    "    X_val, X_test, y_val, y_test = train_test_split(X_temp, y_temp, test_size=0.5, random_state=42, stratify=y_temp)\n",
    "\n",
    "    # 채널 수를 1로 추가\n",
    "    X_train = X_train.unsqueeze(1)\n",
    "    X_val = X_val.unsqueeze(1)\n",
    "    X_test = X_test.unsqueeze(1)\n",
    "\n",
    "    return X_train, X_val, X_test, y_train, y_val, y_test\n",
    "\n",
    "\n",
    "\n",
    "def create_dataloaders(batch_size=64):\n",
    "    # DataLoader 생성, batch_size를 변경하려면 함수 호출 시 파라미터 변경\n",
    "    X_train, X_val, X_test, y_train, y_val, y_test = load_ptb_data()\n",
    "\n",
    "    # DataLoader 생성\n",
    "    train_data = TensorDataset(X_train, y_train)\n",
    "    val_data = TensorDataset(X_val, y_val)\n",
    "    test_data = TensorDataset(X_test, y_test)\n",
    "\n",
    "    train_loader = DataLoader(train_data, shuffle=True, batch_size=batch_size)\n",
    "    val_loader = DataLoader(val_data, batch_size=batch_size)\n",
    "    test_loader = DataLoader(test_data, batch_size=batch_size)\n",
    "\n",
    "    return train_loader, val_loader, test_loader\n",
    "\n",
    "\n",
    "\n",
    "def load_sph_data(batch_size=64):\n",
    "    # SPH 데이터 로드 및 전처리\n",
    "    df_sph = pd.read_csv(\"./sph_data/metadata.csv\", index_col='ECG_ID')\n",
    "    # 'AHA_Code' 컬럼의 각 값에 대해 '50'이 포함되어 있는지 확인하고, 'label' 컬럼 생성\n",
    "    def check_contains_50(code):\n",
    "        numbers = code.replace(' ', '').replace('+', ';').split(';')\n",
    "        return '50' in numbers\n",
    "\n",
    "    df_sph['label'] = df_sph['AHA_Code'].apply(check_contains_50).astype(int)\n",
    "    \n",
    "    sph_labels = df_sph['label'].values\n",
    "\n",
    "    sph_signals = np.load('./custom_file/annie_sph_lead1.npy')\n",
    "    sph_signals_float = sph_signals.astype(np.float32)\n",
    "    mean = np.mean(sph_signals_float)\n",
    "    std = np.std(sph_signals_float)\n",
    "    sph_signals_normalized = (sph_signals_float - mean) / (std + 1e-7)\n",
    "\n",
    "\n",
    "    # 데이터 정규화 및 텐서 변환\n",
    "    X_sph = torch.Tensor(sph_signals_normalized)\n",
    "    y_sph = torch.Tensor(df_sph['label'].values).long()\n",
    "\n",
    "    X_sph = X_sph.unsqueeze(1)\n",
    "\n",
    "    sph_data = TensorDataset(X_sph, y_sph)\n",
    "    sph_loader = DataLoader(sph_data, batch_size=batch_size)\n",
    "\n",
    "    return sph_loader\n",
    "\n"
   ]
  },
  {
   "cell_type": "markdown",
   "metadata": {},
   "source": [
    "# 1D CNN Modeling"
   ]
  },
  {
   "cell_type": "code",
   "execution_count": 5,
   "metadata": {},
   "outputs": [],
   "source": [
    "# SimpleCNN\n",
    "\n",
    "class SimpleCNN(nn.Module):\n",
    "    def __init__(self):\n",
    "        super(SimpleCNN, self).__init__()\n",
    "        self.conv1 = nn.Conv1d(1, 32, kernel_size=5, stride=2) \n",
    "        self.pool = nn.MaxPool1d(kernel_size=5, stride=1) \n",
    "        self.conv2 = nn.Conv1d(32, 64, kernel_size=5) \n",
    "        self.fc1 = nn.Linear(64 * 2486, 1000) \n",
    "        self.fc2 = nn.Linear(1000, 500)\n",
    "        self.fc3 = nn.Linear(500, 1)\n",
    "\n",
    "    def forward(self, x):\n",
    "        x = self.pool(nn.functional.leaky_relu(self.conv1(x)))\n",
    "        x = self.pool(nn.functional.leaky_relu(self.conv2(x)))\n",
    "        x = x.view(-1, 64 * 2486)\n",
    "        x = nn.functional.leaky_relu(self.fc1(x))\n",
    "        x = nn.functional.leaky_relu(self.fc2(x))\n",
    "        x = self.fc3(x)\n",
    "        return x\n",
    "\n",
    "\n",
    "\n",
    "# 충원님 코드\n",
    "\n",
    "class Custom1DCNN(nn.Module):\n",
    "    def __init__(self):\n",
    "        super(Custom1DCNN, self).__init__()\n",
    "\n",
    "        # Convolutional Blocks\n",
    "        self.conv1 = nn.Conv1d(1, 32, kernel_size=5)\n",
    "        self.bn1 = nn.BatchNorm1d(32)\n",
    "        self.relu = nn.ReLU()\n",
    "        self.maxpool1 = nn.MaxPool1d(2)\n",
    "\n",
    "        self.conv2 = nn.Conv1d(32, 32, kernel_size=5)\n",
    "        self.maxpool2 = nn.MaxPool1d(2)\n",
    "\n",
    "        self.conv3 = nn.Conv1d(32, 64, kernel_size=5)\n",
    "        self.maxpool3 = nn.MaxPool1d(2)\n",
    "\n",
    "        self.conv4 = nn.Conv1d(64, 64, kernel_size=5)\n",
    "        self.maxpool4 = nn.MaxPool1d(2)\n",
    "\n",
    "        self.conv5 = nn.Conv1d(64, 128, kernel_size=5)\n",
    "        self.maxpool5 = nn.MaxPool1d(2)\n",
    "\n",
    "        self.conv6 = nn.Conv1d(128, 128, kernel_size=5)\n",
    "        self.maxpool6 = nn.MaxPool1d(2)\n",
    "\n",
    "        self.dropout1 = nn.Dropout(0.5)\n",
    "\n",
    "        self.conv7 = nn.Conv1d(128, 256, kernel_size=5)\n",
    "        self.maxpool7 = nn.MaxPool1d(2)\n",
    "\n",
    "        self.conv8 = nn.Conv1d(256, 256, kernel_size=5)\n",
    "        self.maxpool8 = nn.MaxPool1d(2)\n",
    "\n",
    "        self.dropout2 = nn.Dropout(0.5)\n",
    "\n",
    "        self.conv9 = nn.Conv1d(256, 512, kernel_size=5)\n",
    "        self.maxpool9 = nn.MaxPool1d(2)\n",
    "\n",
    "        self.dropout3 = nn.Dropout(0.5)\n",
    "\n",
    "        self.conv10 = nn.Conv1d(512, 512, kernel_size=5)\n",
    "\n",
    "        # Fully Connected Blocks\n",
    "        self.flatten = nn.Flatten()\n",
    "\n",
    "        self.dense1 = nn.Linear(512, 128)\n",
    "        self.batch_norm_dense1 = nn.BatchNorm1d(128)  # BatchNorm1d for Dense1\n",
    "        self.dropout4 = nn.Dropout(0.5)\n",
    "\n",
    "        self.dense2 = nn.Linear(128, 32)\n",
    "        self.batch_norm_dense2 = nn.BatchNorm1d(32)  # BatchNorm1d for Dense2\n",
    "\n",
    "        self.dense3 = nn.Linear(32, 1)\n",
    "        \n",
    "\n",
    "    def forward(self, x):\n",
    "        # Convolutional Blocks\n",
    "        x = self.maxpool1(self.relu(self.bn1(self.conv1(x))))\n",
    "        x = self.maxpool2(self.relu(self.conv2(x)))\n",
    "        x = self.maxpool3(self.relu(self.conv3(x)))\n",
    "        x = self.maxpool4(self.relu(self.conv4(x)))\n",
    "        x = self.maxpool5(self.relu(self.conv5(x)))\n",
    "        x = self.maxpool6(self.relu(self.conv6(x)))\n",
    "        x = self.dropout1(x)\n",
    "        x = self.maxpool7(self.relu(self.conv7(x)))\n",
    "        x = self.maxpool8(self.relu(self.conv8(x)))\n",
    "        x = self.dropout2(x)\n",
    "        x = self.maxpool9(self.relu(self.conv9(x)))\n",
    "        x = self.dropout3(x)\n",
    "        x = self.conv10(x)\n",
    "\n",
    "        # Fully Connected Blocks\n",
    "        x = self.flatten(x)\n",
    "        x = self.dropout4(self.relu(self.batch_norm_dense1(self.dense1(x))))\n",
    "        x = self.relu(self.batch_norm_dense2(self.dense2(x)))\n",
    "        x = self.dense3(x)\n",
    "\n",
    "        return x"
   ]
  },
  {
   "cell_type": "markdown",
   "metadata": {},
   "source": [
    "# 1D CNN + LSTM Modeling"
   ]
  },
  {
   "cell_type": "code",
   "execution_count": 6,
   "metadata": {},
   "outputs": [],
   "source": [
    "\n",
    "class CNNLSTMModel(nn.Module):\n",
    "    def __init__(self):\n",
    "        super(CNNLSTMModel, self).__init__()\n",
    "        \n",
    "        # 첫번째 Convolutional Block\n",
    "        self.conv1 = nn.Conv1d(in_channels=1, out_channels=64, kernel_size=50, stride=1)\n",
    "        self.relu1 = nn.ReLU()\n",
    "        self.maxpool1 = nn.MaxPool1d(kernel_size=20, stride=2)\n",
    "        self.dropout1 = nn.Dropout(p=0.1)\n",
    "\n",
    "        # 두번째 Convolutional Block\n",
    "        self.conv2 = nn.Conv1d(in_channels=64, out_channels=32, kernel_size=10, stride=1)\n",
    "        self.relu2 = nn.ReLU()\n",
    "        self.maxpool2 = nn.MaxPool1d(kernel_size=10, stride=2)\n",
    "        self.dropout2 = nn.Dropout(p=0.1)\n",
    "\n",
    "        # 세번째 Convolutional Block\n",
    "        self.conv3 = nn.Conv1d(in_channels=32, out_channels=16, kernel_size=5, stride=1)\n",
    "        self.relu3 = nn.ReLU()\n",
    "        self.maxpool3 = nn.MaxPool1d(kernel_size=5, stride=2)\n",
    "        self.dropout3 = nn.Dropout(p=0.1)\n",
    "\n",
    "        # LSTM Block\n",
    "        self.lstm = nn.LSTM(input_size=16, hidden_size=32, batch_first=True)\n",
    "        self.dropout_lstm = nn.Dropout(p=0.1)\n",
    "\n",
    "        # Dense Layers\n",
    "        self.dense1 = nn.Linear(32, 32)\n",
    "        self.relu_dense1 = nn.ReLU()\n",
    "        self.dropout_dense1 = nn.Dropout(p=0.1)\n",
    "\n",
    "        self.dense2 = nn.Linear(32, 16)\n",
    "        self.relu_dense2 = nn.ReLU()\n",
    "\n",
    "        # Output Layer - 이중분류를 위해 출력 유닛을 1로 설정\n",
    "        self.output = nn.Linear(16, 1)\n",
    "\n",
    "    def forward(self, x):\n",
    "        # x: ECG 데이터 (Batch Size, Channels, Length)\n",
    "        \n",
    "        # Convolutional Blocks\n",
    "        x = self.dropout1(self.maxpool1(self.relu1(self.conv1(x))))\n",
    "        x = self.dropout2(self.maxpool2(self.relu2(self.conv2(x))))\n",
    "        x = self.dropout3(self.maxpool3(self.relu3(self.conv3(x))))\n",
    "\n",
    "        # print(x.shape) # (32, 16, 591)\n",
    "\n",
    "        # LSTM Layer - LSTM은 추가적인 차원을 요구하기 때문에 차원 조정이 필요합니다.\n",
    "        x = x.permute(0, 2, 1) # (Batch Size, Sequence Length, Features)\n",
    "        x, (hn, cn) = self.lstm(x)\n",
    "        x = self.dropout_lstm(x[:, -1, :]) # 마지막 시퀀스의 출력만 사용\n",
    "\n",
    "        # Dense Layers\n",
    "        x = self.dropout_dense1(self.relu_dense1(self.dense1(x)))\n",
    "        x = self.relu_dense2(self.dense2(x))\n",
    "\n",
    "        # Output Layer - 시그모이드 활성화 함수를 사용하여 0과 1 사이의 값을 출력\n",
    "        x = torch.sigmoid(self.output(x))\n",
    "        return x\n"
   ]
  },
  {
   "cell_type": "code",
   "execution_count": 6,
   "metadata": {},
   "outputs": [],
   "source": [
    "class SimplifiedCNNLSTMModel(nn.Module):\n",
    "    def __init__(self):\n",
    "        super(SimplifiedCNNLSTMModel, self).__init__()\n",
    "        \n",
    "        # 첫번째 Convolutional Block\n",
    "        self.conv1 = nn.Conv1d(in_channels=1, out_channels=32, kernel_size=5, stride=1)\n",
    "        self.bn1 = nn.BatchNorm1d(32)\n",
    "        self.relu1 = nn.ReLU()\n",
    "        self.maxpool1 = nn.MaxPool1d(kernel_size=2, stride=2)\n",
    "        self.dropout1 = nn.Dropout(p=0.1)\n",
    "\n",
    "        # 두번째 Convolutional Block\n",
    "        self.conv2 = nn.Conv1d(in_channels=32, out_channels=16, kernel_size=5, stride=1)\n",
    "        self.bn2 = nn.BatchNorm1d(16)\n",
    "        self.relu2 = nn.ReLU()\n",
    "        self.maxpool2 = nn.MaxPool1d(kernel_size=2, stride=2)\n",
    "        self.dropout2 = nn.Dropout(p=0.1)\n",
    "\n",
    "        # LSTM Block\n",
    "        self.lstm = nn.LSTM(input_size=16, hidden_size=16, batch_first=True)\n",
    "        self.dropout_lstm = nn.Dropout(p=0.1)\n",
    "\n",
    "        # Dense Layer\n",
    "        self.dense = nn.Linear(16, 16)\n",
    "        self.relu_dense = nn.ReLU()\n",
    "\n",
    "        # Output Layer\n",
    "        self.output = nn.Linear(16, 1)\n",
    "\n",
    "    def forward(self, x):\n",
    "        # Convolutional Blocks\n",
    "        x = self.dropout1(self.maxpool1(self.relu1(self.bn1(self.conv1(x)))))\n",
    "        x = self.dropout2(self.maxpool2(self.relu2(self.bn2(self.conv2(x)))))\n",
    "\n",
    "        # LSTM Layer\n",
    "        x = x.permute(0, 2, 1)\n",
    "        x, (hn, cn) = self.lstm(x)\n",
    "        x = self.dropout_lstm(x[:, -1, :])\n",
    "\n",
    "        # Dense Layer\n",
    "        x = self.relu_dense(self.dense(x))\n",
    "\n",
    "        # Output Layer\n",
    "        x = torch.sigmoid(self.output(x))\n",
    "        return x\n"
   ]
  },
  {
   "cell_type": "markdown",
   "metadata": {},
   "source": [
    "# Transformer model"
   ]
  },
  {
   "cell_type": "code",
   "execution_count": 8,
   "metadata": {},
   "outputs": [
    {
     "ename": "ModuleNotFoundError",
     "evalue": "No module named 'model_utils'",
     "output_type": "error",
     "traceback": [
      "\u001b[0;31m---------------------------------------------------------------------------\u001b[0m",
      "\u001b[0;31mModuleNotFoundError\u001b[0m                       Traceback (most recent call last)",
      "Cell \u001b[0;32mIn[8], line 6\u001b[0m\n\u001b[1;32m      3\u001b[0m \u001b[38;5;28;01mfrom\u001b[39;00m \u001b[38;5;21;01mtorch\u001b[39;00m\u001b[38;5;21;01m.\u001b[39;00m\u001b[38;5;21;01mnn\u001b[39;00m \u001b[38;5;28;01mimport\u001b[39;00m TransformerEncoder, TransformerEncoderLayer\n\u001b[1;32m      4\u001b[0m \u001b[38;5;28;01mimport\u001b[39;00m \u001b[38;5;21;01mmath\u001b[39;00m\n\u001b[0;32m----> 6\u001b[0m \u001b[38;5;28;01mfrom\u001b[39;00m \u001b[38;5;21;01mmodel_utils\u001b[39;00m \u001b[38;5;28;01mimport\u001b[39;00m PositionalEncoding, SelfAttentionPooling\n\u001b[1;32m      8\u001b[0m \u001b[38;5;28;01mclass\u001b[39;00m \u001b[38;5;21;01mTransformerModel\u001b[39;00m(nn\u001b[38;5;241m.\u001b[39mModule):\n\u001b[1;32m     10\u001b[0m     \u001b[38;5;28;01mdef\u001b[39;00m \u001b[38;5;21m__init__\u001b[39m(\u001b[38;5;28mself\u001b[39m, d_model, nhead, dim_feedforward, nlayers, n_conv_layers\u001b[38;5;241m=\u001b[39m\u001b[38;5;241m2\u001b[39m, n_class\u001b[38;5;241m=\u001b[39m\u001b[38;5;241m2\u001b[39m, dropout\u001b[38;5;241m=\u001b[39m\u001b[38;5;241m0.5\u001b[39m, dropout_other\u001b[38;5;241m=\u001b[39m\u001b[38;5;241m0.1\u001b[39m):\n",
      "\u001b[0;31mModuleNotFoundError\u001b[0m: No module named 'model_utils'"
     ]
    }
   ],
   "source": [
    "import torch\n",
    "import torch.nn as nn\n",
    "from torch.nn import TransformerEncoder, TransformerEncoderLayer\n",
    "import math\n",
    "\n",
    "from model_utils import PositionalEncoding, SelfAttentionPooling\n",
    "\n",
    "class TransformerModel(nn.Module):\n",
    "\n",
    "    def __init__(self, d_model, nhead, dim_feedforward, nlayers, n_conv_layers=2, n_class=2, dropout=0.5, dropout_other=0.1):\n",
    "        super(TransformerModel, self).__init__()\n",
    "        self.model_type = 'Transformer'\n",
    "        self.n_class = n_class\n",
    "        self.n_conv_layers = n_conv_layers\n",
    "        self.relu = torch.nn.ReLU()\n",
    "        self.pos_encoder = PositionalEncoding(d_model, dropout)  # 차원을 d_model로 통일\n",
    "        self.self_att_pool = SelfAttentionPooling(d_model)\n",
    "        encoder_layers = TransformerEncoderLayer(d_model=d_model, \n",
    "                                                 nhead=nhead, \n",
    "                                                 dim_feedforward=dim_feedforward, \n",
    "                                                 dropout=dropout)\n",
    "        self.transformer_encoder = TransformerEncoder(encoder_layers, nlayers)\n",
    "        self.d_model = d_model\n",
    "        self.flatten_layer = torch.nn.Flatten()\n",
    "\n",
    "        # 이진 분류를 위한 선형 출력 레이어 정의\n",
    "        self.decoder = nn.Sequential(nn.Linear(d_model, d_model), \n",
    "                                     nn.Dropout(dropout_other),\n",
    "                                     nn.Linear(d_model, d_model), \n",
    "                                     nn.Linear(d_model, 64))\n",
    "\n",
    "        # 최종 출력 레이어에서 시그모이드 함수 사용\n",
    "        self.fc_out1 = torch.nn.Linear(64, 64)\n",
    "        self.fc_out2 = torch.nn.Linear(64, 1)  # 이진 분류 문제\n",
    "        self.sigmoid = torch.nn.Sigmoid()\n",
    "\n",
    "        # 컨볼루션 레이어와 RRI 레이어 정의\n",
    "        self.conv_layers = nn.ModuleList([torch.nn.Conv1d(in_channels=d_model, out_channels=d_model, kernel_size=3, stride=1, padding=0) for _ in range(n_conv_layers)])\n",
    "        self.conv1_rri = torch.nn.Conv1d(in_channels=1, out_channels=128, kernel_size=3, stride=2)  # RRI 데이터에 적합한 커널 크기와 스트라이드 설정\n",
    "        self.conv2_rri = torch.nn.Conv1d(in_channels=128, out_channels=d_model, kernel_size=3, stride=2)\n",
    "\n",
    "        self.maxpool = torch.nn.MaxPool1d(kernel_size=2)\n",
    "        self.dropout = torch.nn.Dropout(p=0.1)\n",
    "\n",
    "        self.init_weights()  # 가중치 초기화 메소드 활성화\n",
    "\n",
    "    def init_weights(self):\n",
    "        initrange = 0.1\n",
    "        for conv_layer in self.conv_layers:\n",
    "            conv_layer.weight.data.uniform_(-initrange, initrange)\n",
    "            conv_layer.bias.data.zero_()\n",
    "        self.decoder[0].weight.data.uniform_(-initrange, initrange)\n",
    "        self.decoder[2].weight.data.uniform_(-initrange, initrange)\n",
    "\n",
    "    def forward(self, src, src2):\n",
    "        src = src.view(-1, 1, src.shape[1]) \n",
    "        src = self.relu(self.conv_layers[0](src))\n",
    "        for conv_layer in self.conv_layers[1:]:\n",
    "            src = self.relu(conv_layer(src))\n",
    "            src = self.maxpool(src)\n",
    "\n",
    "        src = self.pos_encoder(src)\n",
    "        src = src.permute(2, 0, 1)\n",
    "        output = self.transformer_encoder(src)\n",
    "        output = output.permute(1, 0, 2)\n",
    "        output = self.self_att_pool(output)\n",
    "        logits = self.decoder(output)\n",
    "\n",
    "        src2 = src2.view(-1, 1, src2.shape[1]) \n",
    "        src2 = self.relu(self.conv1_rri(src2))\n",
    "        src2 = self.relu(self.conv2_rri(src2))\n",
    "\n",
    "        # 나머지 RRI 처리 및 출력 레이어 코드\n",
    "\n",
    "        logits = self.sigmoid(self.fc_out2(self.dropout(self.relu(self.fc_out1(logits)))))  # 시그모이드 활성화 함수 적용\n",
    "        return logits\n"
   ]
  },
  {
   "cell_type": "markdown",
   "metadata": {},
   "source": [
    "# Training"
   ]
  },
  {
   "cell_type": "code",
   "execution_count": 7,
   "metadata": {},
   "outputs": [],
   "source": [
    "# 사용자 정의 모듈을 임포트합니다.\n",
    "from annie_data_prep import create_dataloaders, load_sph_data\n",
    "from annie_cnn_model import SimpleCNN, Custom1DCNN, Custom1DCNNWithBatchNormAndDropout\n",
    "from annie_cnnlstm_model import CNNLSTMModel\n",
    "\n",
    "\n",
    "\n",
    "def objective(trial):\n",
    "    ## 모델 시드 고정 \n",
    "    seed = 42\n",
    "    torch.manual_seed(seed)\n",
    "    np.random.seed(seed)\n",
    "    random.seed(seed)\n",
    "    if torch.cuda.is_available():\n",
    "        torch.cuda.manual_seed(seed)\n",
    "        torch.cuda.manual_seed_all(seed)  # 멀티 GPU를 사용하는 경우\n",
    "        torch.backends.cudnn.deterministic = True\n",
    "        torch.backends.cudnn.benchmark = False\n",
    "    \n",
    "\n",
    "    # 옵튜나를 이용한 하이퍼파라미터 제안\n",
    "    learning_rate = trial.suggest_float('learning_rate', 1e-5, 1e-2)\n",
    "    batch_size = trial.suggest_categorical('batch_size', [64, 128])\n",
    "    num_epochs = trial.suggest_int('num_epochs', 40, 100)  # Epoch 수를 동적으로 선택\n",
    "    optimizer_name = trial.suggest_categorical('optimizer', ['Adam', 'SGD'])\n",
    "\n",
    "\n",
    "    # 모델을 GPU로 옮기기\n",
    "    device = torch.device(\"cuda\" if torch.cuda.is_available() else \"cpu\")\n",
    "    model = CNNLSTMModel().to(device)\n",
    "\n",
    "\n",
    "    # 손실 함수 및 옵티마이저 설정\n",
    "    criterion = nn.BCEWithLogitsLoss()\n",
    "    if optimizer_name == 'Adam':\n",
    "        optimizer = optim.Adam(model.parameters(), lr=learning_rate)\n",
    "    elif optimizer_name == 'SGD':\n",
    "        optimizer = optim.SGD(model.parameters(), lr=learning_rate, momentum=0.9)\n",
    "    optimizer = optim.Adam(model.parameters(), lr=learning_rate)\n",
    "    num_epochs = 100\n",
    "    #batch_size = 128\n",
    "    scheduler = optim.lr_scheduler.ReduceLROnPlateau(optimizer, 'max', patience=10, factor=0.1, verbose=True)\n",
    "    \n",
    "    train_loader, val_loader, _ = create_dataloaders(batch_size)\n",
    "    \n",
    "\n",
    "    # 하이퍼파라미터 출력\n",
    "    print(\"-\"*40)\n",
    "    print(f\">>>>> Trial {trial.number+1} Start...<<<<<\")\n",
    "    print(\"-\"*40)\n",
    "    print(f\"[Learning Rate] : {learning_rate}\")\n",
    "    print(f\"[Batch Size] : {batch_size}\")\n",
    "    print(f\"[Epochs] : {num_epochs}\")  # 수정된 부분\n",
    "    print(f\"[Optimizer] : {optimizer}\")\n",
    "    print(\"-\"*23)\n",
    "    print(\">>>>> Let's GO!!! <<<<<\")\n",
    "    print(\"-\"*23)\n",
    "\n",
    "    #print(f\"Hidden Units: {hidden_units}\")\n",
    "\n",
    "\n",
    "    # 학습 및 검증 결과 기록을 위한 사전 선언\n",
    "    model_info = {}\n",
    "\n",
    "    # 학습 및 검증 과정에서의 손실과 정확도 기록\n",
    "    train_losses = []\n",
    "    train_accuracies = []\n",
    "    train_aurocs = []  # 훈련 데이터 AUROC 기록을 위한 리스트\n",
    "    train_auprcs = []  # 훈련 데이터 AUPRC 기록을 위한 리스트\n",
    "    val_losses = []\n",
    "    val_accuracies = []\n",
    "    val_aurocs = []\n",
    "    val_auprcs = []  # AUPRC 기록을 위한 리스트 추가\n",
    "\n",
    "    \n",
    "    #best_auroc = float('-inf')  # 최고 AUROC 기록을 위한 초기값 설정\n",
    "    best_auprc = float('-inf')  # 최고 AUPRC 기록을 위한 초기값 설정\n",
    "    best_auprc_info = None  # 최고 AUPRC 값을 가진 모델의 정보를 저장할 변수\n",
    "\n",
    "    epochs_no_improve = 0\n",
    "    early_stop = False\n",
    "    patience = 20\n",
    "\n",
    "    for epoch in range(num_epochs):\n",
    "        # 훈련 루프\n",
    "        model.train()\n",
    "        train_loss = 0.0\n",
    "        train_preds, train_targets = [], []\n",
    "\n",
    "        for inputs, labels in tqdm(train_loader, desc=f\"Trial {trial.number+1} - Epoch {epoch+1}/{num_epochs} - Training\"):\n",
    "            inputs, labels = inputs.to(device), labels.to(device)\n",
    "            optimizer.zero_grad()  # 그래디언트 초기화\n",
    "\n",
    "            # 순전파 및 역전파\n",
    "            outputs = model(inputs)\n",
    "            loss = criterion(outputs.view(-1), labels.float())\n",
    "            loss.backward()\n",
    "            optimizer.step()\n",
    "\n",
    "            train_loss += loss.item()\n",
    "            train_preds.extend(torch.sigmoid(outputs).view(-1).cpu().detach().numpy())\n",
    "            train_targets.extend(labels.cpu().numpy())\n",
    "\n",
    "        train_loss /= len(train_loader)\n",
    "        train_accuracy = accuracy_score(train_targets, np.round(train_preds))\n",
    "        train_auroc = roc_auc_score(train_targets, train_preds)\n",
    "        train_auprc = average_precision_score(train_targets, train_preds)\n",
    "        train_losses.append(train_loss)\n",
    "        train_accuracies.append(train_accuracy)\n",
    "        train_aurocs.append(train_auroc)\n",
    "        train_auprcs.append(train_auprc)\n",
    "        print(f\">>> [Train] AUROC: {train_auroc:.4f} / AUPRC: {train_auprc:.4f}\")\n",
    "\n",
    "\n",
    "\n",
    "        # 검증 루프\n",
    "        model.eval()\n",
    "        val_loss, val_preds, val_targets = 0.0, [], []\n",
    "\n",
    "        with torch.no_grad():\n",
    "            for inputs, labels in val_loader:\n",
    "                inputs, labels = inputs.to(device), labels.to(device)\n",
    "                outputs = model(inputs)\n",
    "                loss = criterion(outputs.view(-1), labels.float())\n",
    "                val_loss += loss.item()\n",
    "                val_preds.extend(torch.sigmoid(outputs).view(-1).cpu().detach().numpy())\n",
    "                val_targets.extend(labels.cpu().numpy())\n",
    "\n",
    "        val_loss /= len(val_loader)\n",
    "        val_accuracy = accuracy_score(val_targets, np.round(val_preds))\n",
    "        val_auroc = roc_auc_score(val_targets, val_preds)\n",
    "        val_auprc = average_precision_score(val_targets, val_preds)\n",
    "        val_losses.append(val_loss)\n",
    "        val_accuracies.append(val_accuracy)\n",
    "        val_aurocs.append(val_auroc)\n",
    "        val_auprcs.append(val_auprc)\n",
    "\n",
    "        print(f\">>> [Valid] AUROC: {val_auroc:.4f} / AUPRC: {val_auprc:.4f}\")\n",
    "\n",
    "\n",
    "        # 에포크 결과 기록\n",
    "        epoch_info = {\n",
    "            'train_loss': train_loss,\n",
    "            'valid_loss': val_loss,\n",
    "            'train_accuracy': train_accuracy,  \n",
    "            'valid_accuracy': val_accuracy,      \n",
    "            'train_auroc': train_auroc,\n",
    "            'valid_auroc': val_auroc,\n",
    "            'train_auprc': train_auprc,        \n",
    "            'valid_auprc': val_auprc\n",
    "        }\n",
    "        model_info[epoch + 1] = epoch_info\n",
    "\n",
    "\n",
    "        # 스케줄러 업데이트\n",
    "        scheduler.step(val_auprc)\n",
    "\n",
    "        # Early Stopping 체크 및 모델 저장\n",
    "        if val_auprc > best_auprc:\n",
    "            best_auprc = val_auprc\n",
    "            epochs_no_improve = 0\n",
    "            best_auprc_info = epoch_info  # 최고 AUPRC 값을 갱신할 때 정보 저장\n",
    "            # 최고 성능 모델 저장\n",
    "            torch.save(model.state_dict(), f'CL_trial_{trial.number+1}_best_model.pth')\n",
    "            \n",
    "        else:\n",
    "            epochs_no_improve += 1\n",
    "            if epochs_no_improve == patience:\n",
    "                print(\"Early stopping\")\n",
    "                break\n",
    "    \n",
    "\n",
    "        # 전체 학습 과정의 결과를 JSON 파일로 저장\n",
    "        with open(f'CL_trial_{trial.number+1}_performance.json', 'w') as f:\n",
    "            json.dump(model_info, f, indent=4)\n",
    "\n",
    "\n",
    "\n",
    "    # 최고 AUPRC 값을 가진 모델의 정보 출력\n",
    "    print(\"-\" * 42)\n",
    "    print(f\"< Trial {trial.number+1}'s Best Performance>\")\n",
    "    if best_auprc_info is not None:\n",
    "        items = list(best_auprc_info.items())\n",
    "        for i, (key, value) in enumerate(items):\n",
    "            print(f\"[{key}]: {value:.4f}\" + (\" <- Pick It Up!\" if i == len(items) - 1 else \"\"))\n",
    "\n",
    "    return best_auprc\n",
    "\n"
   ]
  },
  {
   "cell_type": "code",
   "execution_count": 8,
   "metadata": {},
   "outputs": [
    {
     "name": "stderr",
     "output_type": "stream",
     "text": [
      "[I 2023-12-14 12:45:49,225] A new study created in memory with name: no-name-3a661b10-586c-4812-8616-fea82af0822c\n"
     ]
    },
    {
     "name": "stdout",
     "output_type": "stream",
     "text": [
      "----------------------------------------\n",
      ">>>>> Trial 1 Start...<<<<<\n",
      "----------------------------------------\n",
      "[Learning Rate] : 0.009675563452177868\n",
      "[Batch Size] : 64\n",
      "[Epochs] : 100\n",
      "[Optimizer] : Adam (\n",
      "Parameter Group 0\n",
      "    amsgrad: False\n",
      "    betas: (0.9, 0.999)\n",
      "    capturable: False\n",
      "    differentiable: False\n",
      "    eps: 1e-08\n",
      "    foreach: None\n",
      "    fused: None\n",
      "    lr: 0.009675563452177868\n",
      "    maximize: False\n",
      "    weight_decay: 0\n",
      ")\n",
      "-----------------------\n",
      ">>>>> Let's GO!!! <<<<<\n",
      "-----------------------\n"
     ]
    },
    {
     "name": "stderr",
     "output_type": "stream",
     "text": [
      "Trial 1 - Epoch 1/100 - Training: 100%|██████████| 273/273 [00:10<00:00, 25.66it/s]\n"
     ]
    },
    {
     "name": "stdout",
     "output_type": "stream",
     "text": [
      ">>> [Train] AUROC: 0.4976 / AUPRC: 0.0697\n",
      ">>> [Valid] AUROC: 0.5000 / AUPRC: 0.0697\n"
     ]
    },
    {
     "name": "stderr",
     "output_type": "stream",
     "text": [
      "Trial 1 - Epoch 2/100 - Training: 100%|██████████| 273/273 [00:08<00:00, 33.20it/s]\n"
     ]
    },
    {
     "name": "stdout",
     "output_type": "stream",
     "text": [
      ">>> [Train] AUROC: 0.5000 / AUPRC: 0.0694\n",
      ">>> [Valid] AUROC: 0.5000 / AUPRC: 0.0697\n"
     ]
    },
    {
     "name": "stderr",
     "output_type": "stream",
     "text": [
      "Trial 1 - Epoch 3/100 - Training: 100%|██████████| 273/273 [00:08<00:00, 33.12it/s]\n"
     ]
    },
    {
     "name": "stdout",
     "output_type": "stream",
     "text": [
      ">>> [Train] AUROC: 0.5000 / AUPRC: 0.0694\n",
      ">>> [Valid] AUROC: 0.5000 / AUPRC: 0.0697\n"
     ]
    },
    {
     "name": "stderr",
     "output_type": "stream",
     "text": [
      "Trial 1 - Epoch 4/100 - Training: 100%|██████████| 273/273 [00:08<00:00, 33.05it/s]\n"
     ]
    },
    {
     "name": "stdout",
     "output_type": "stream",
     "text": [
      ">>> [Train] AUROC: 0.5000 / AUPRC: 0.0694\n",
      ">>> [Valid] AUROC: 0.5000 / AUPRC: 0.0697\n"
     ]
    },
    {
     "name": "stderr",
     "output_type": "stream",
     "text": [
      "Trial 1 - Epoch 5/100 - Training: 100%|██████████| 273/273 [00:08<00:00, 32.90it/s]\n"
     ]
    },
    {
     "name": "stdout",
     "output_type": "stream",
     "text": [
      ">>> [Train] AUROC: 0.5000 / AUPRC: 0.0694\n",
      ">>> [Valid] AUROC: 0.5000 / AUPRC: 0.0697\n"
     ]
    },
    {
     "name": "stderr",
     "output_type": "stream",
     "text": [
      "Trial 1 - Epoch 6/100 - Training: 100%|██████████| 273/273 [00:08<00:00, 32.93it/s]\n"
     ]
    },
    {
     "name": "stdout",
     "output_type": "stream",
     "text": [
      ">>> [Train] AUROC: 0.5000 / AUPRC: 0.0694\n",
      ">>> [Valid] AUROC: 0.5000 / AUPRC: 0.0697\n"
     ]
    },
    {
     "name": "stderr",
     "output_type": "stream",
     "text": [
      "Trial 1 - Epoch 7/100 - Training: 100%|██████████| 273/273 [00:08<00:00, 32.86it/s]\n"
     ]
    },
    {
     "name": "stdout",
     "output_type": "stream",
     "text": [
      ">>> [Train] AUROC: 0.5000 / AUPRC: 0.0694\n",
      ">>> [Valid] AUROC: 0.5000 / AUPRC: 0.0697\n"
     ]
    },
    {
     "name": "stderr",
     "output_type": "stream",
     "text": [
      "Trial 1 - Epoch 8/100 - Training: 100%|██████████| 273/273 [00:08<00:00, 32.80it/s]\n"
     ]
    },
    {
     "name": "stdout",
     "output_type": "stream",
     "text": [
      ">>> [Train] AUROC: 0.5000 / AUPRC: 0.0694\n",
      ">>> [Valid] AUROC: 0.5000 / AUPRC: 0.0697\n"
     ]
    },
    {
     "name": "stderr",
     "output_type": "stream",
     "text": [
      "Trial 1 - Epoch 9/100 - Training: 100%|██████████| 273/273 [00:08<00:00, 32.93it/s]\n"
     ]
    },
    {
     "name": "stdout",
     "output_type": "stream",
     "text": [
      ">>> [Train] AUROC: 0.5000 / AUPRC: 0.0694\n",
      ">>> [Valid] AUROC: 0.5000 / AUPRC: 0.0697\n"
     ]
    },
    {
     "name": "stderr",
     "output_type": "stream",
     "text": [
      "Trial 1 - Epoch 10/100 - Training: 100%|██████████| 273/273 [00:08<00:00, 32.93it/s]\n"
     ]
    },
    {
     "name": "stdout",
     "output_type": "stream",
     "text": [
      ">>> [Train] AUROC: 0.5000 / AUPRC: 0.0694\n",
      ">>> [Valid] AUROC: 0.5000 / AUPRC: 0.0697\n"
     ]
    },
    {
     "name": "stderr",
     "output_type": "stream",
     "text": [
      "Trial 1 - Epoch 11/100 - Training: 100%|██████████| 273/273 [00:08<00:00, 32.93it/s]\n"
     ]
    },
    {
     "name": "stdout",
     "output_type": "stream",
     "text": [
      ">>> [Train] AUROC: 0.5000 / AUPRC: 0.0694\n",
      ">>> [Valid] AUROC: 0.5000 / AUPRC: 0.0697\n"
     ]
    },
    {
     "name": "stderr",
     "output_type": "stream",
     "text": [
      "Trial 1 - Epoch 12/100 - Training: 100%|██████████| 273/273 [00:08<00:00, 32.89it/s]\n"
     ]
    },
    {
     "name": "stdout",
     "output_type": "stream",
     "text": [
      ">>> [Train] AUROC: 0.5000 / AUPRC: 0.0694\n",
      ">>> [Valid] AUROC: 0.5000 / AUPRC: 0.0697\n",
      "Epoch 00012: reducing learning rate of group 0 to 9.6756e-04.\n"
     ]
    },
    {
     "name": "stderr",
     "output_type": "stream",
     "text": [
      "Trial 1 - Epoch 13/100 - Training: 100%|██████████| 273/273 [00:08<00:00, 32.69it/s]\n"
     ]
    },
    {
     "name": "stdout",
     "output_type": "stream",
     "text": [
      ">>> [Train] AUROC: 0.5000 / AUPRC: 0.0694\n",
      ">>> [Valid] AUROC: 0.5000 / AUPRC: 0.0697\n"
     ]
    },
    {
     "name": "stderr",
     "output_type": "stream",
     "text": [
      "Trial 1 - Epoch 14/100 - Training: 100%|██████████| 273/273 [00:08<00:00, 32.85it/s]\n"
     ]
    },
    {
     "name": "stdout",
     "output_type": "stream",
     "text": [
      ">>> [Train] AUROC: 0.5000 / AUPRC: 0.0694\n",
      ">>> [Valid] AUROC: 0.5000 / AUPRC: 0.0697\n"
     ]
    },
    {
     "name": "stderr",
     "output_type": "stream",
     "text": [
      "Trial 1 - Epoch 15/100 - Training: 100%|██████████| 273/273 [00:08<00:00, 32.82it/s]\n"
     ]
    },
    {
     "name": "stdout",
     "output_type": "stream",
     "text": [
      ">>> [Train] AUROC: 0.5000 / AUPRC: 0.0694\n",
      ">>> [Valid] AUROC: 0.5000 / AUPRC: 0.0697\n"
     ]
    },
    {
     "name": "stderr",
     "output_type": "stream",
     "text": [
      "Trial 1 - Epoch 16/100 - Training: 100%|██████████| 273/273 [00:08<00:00, 32.88it/s]\n"
     ]
    },
    {
     "name": "stdout",
     "output_type": "stream",
     "text": [
      ">>> [Train] AUROC: 0.5000 / AUPRC: 0.0694\n",
      ">>> [Valid] AUROC: 0.5000 / AUPRC: 0.0697\n"
     ]
    },
    {
     "name": "stderr",
     "output_type": "stream",
     "text": [
      "Trial 1 - Epoch 17/100 - Training: 100%|██████████| 273/273 [00:08<00:00, 32.87it/s]\n"
     ]
    },
    {
     "name": "stdout",
     "output_type": "stream",
     "text": [
      ">>> [Train] AUROC: 0.5000 / AUPRC: 0.0694\n",
      ">>> [Valid] AUROC: 0.5000 / AUPRC: 0.0697\n"
     ]
    },
    {
     "name": "stderr",
     "output_type": "stream",
     "text": [
      "Trial 1 - Epoch 18/100 - Training: 100%|██████████| 273/273 [00:08<00:00, 32.88it/s]\n"
     ]
    },
    {
     "name": "stdout",
     "output_type": "stream",
     "text": [
      ">>> [Train] AUROC: 0.5000 / AUPRC: 0.0694\n",
      ">>> [Valid] AUROC: 0.5000 / AUPRC: 0.0697\n"
     ]
    },
    {
     "name": "stderr",
     "output_type": "stream",
     "text": [
      "Trial 1 - Epoch 19/100 - Training: 100%|██████████| 273/273 [00:08<00:00, 32.90it/s]\n"
     ]
    },
    {
     "name": "stdout",
     "output_type": "stream",
     "text": [
      ">>> [Train] AUROC: 0.5000 / AUPRC: 0.0694\n",
      ">>> [Valid] AUROC: 0.5000 / AUPRC: 0.0697\n"
     ]
    },
    {
     "name": "stderr",
     "output_type": "stream",
     "text": [
      "Trial 1 - Epoch 20/100 - Training: 100%|██████████| 273/273 [00:08<00:00, 32.84it/s]\n"
     ]
    },
    {
     "name": "stdout",
     "output_type": "stream",
     "text": [
      ">>> [Train] AUROC: 0.5000 / AUPRC: 0.0694\n",
      ">>> [Valid] AUROC: 0.5000 / AUPRC: 0.0697\n"
     ]
    },
    {
     "name": "stderr",
     "output_type": "stream",
     "text": [
      "Trial 1 - Epoch 21/100 - Training: 100%|██████████| 273/273 [00:08<00:00, 32.87it/s]\n"
     ]
    },
    {
     "name": "stdout",
     "output_type": "stream",
     "text": [
      ">>> [Train] AUROC: 0.5000 / AUPRC: 0.0694\n"
     ]
    },
    {
     "name": "stderr",
     "output_type": "stream",
     "text": [
      "[I 2023-12-14 12:49:01,709] Trial 0 finished with value: 0.06972477064220184 and parameters: {'learning_rate': 0.009675563452177868, 'batch_size': 64, 'num_epochs': 63, 'optimizer': 'SGD'}. Best is trial 0 with value: 0.06972477064220184.\n"
     ]
    },
    {
     "name": "stdout",
     "output_type": "stream",
     "text": [
      ">>> [Valid] AUROC: 0.5000 / AUPRC: 0.0697\n",
      "Early stopping\n",
      "------------------------------------------\n",
      "< Trial 1's Best Performance>\n",
      "[train_loss]: 0.6967\n",
      "[valid_loss]: 0.6931\n",
      "[train_accuracy]: 0.8884\n",
      "[valid_accuracy]: 0.9303\n",
      "[train_auroc]: 0.4976\n",
      "[valid_auroc]: 0.5000\n",
      "[train_auprc]: 0.0697\n",
      "[valid_auprc]: 0.0697 <- Pick It Up!\n",
      "----------------------------------------\n",
      ">>>>> Trial 2 Start...<<<<<\n",
      "----------------------------------------\n",
      "[Learning Rate] : 0.0036949919016174898\n",
      "[Batch Size] : 64\n",
      "[Epochs] : 100\n",
      "[Optimizer] : Adam (\n",
      "Parameter Group 0\n",
      "    amsgrad: False\n",
      "    betas: (0.9, 0.999)\n",
      "    capturable: False\n",
      "    differentiable: False\n",
      "    eps: 1e-08\n",
      "    foreach: None\n",
      "    fused: None\n",
      "    lr: 0.0036949919016174898\n",
      "    maximize: False\n",
      "    weight_decay: 0\n",
      ")\n",
      "-----------------------\n",
      ">>>>> Let's GO!!! <<<<<\n",
      "-----------------------\n"
     ]
    },
    {
     "name": "stderr",
     "output_type": "stream",
     "text": [
      "Trial 2 - Epoch 1/100 - Training: 100%|██████████| 273/273 [00:08<00:00, 32.77it/s]\n"
     ]
    },
    {
     "name": "stdout",
     "output_type": "stream",
     "text": [
      ">>> [Train] AUROC: 0.5006 / AUPRC: 0.0692\n",
      ">>> [Valid] AUROC: 0.5028 / AUPRC: 0.0758\n"
     ]
    },
    {
     "name": "stderr",
     "output_type": "stream",
     "text": [
      "Trial 2 - Epoch 2/100 - Training: 100%|██████████| 273/273 [00:08<00:00, 32.82it/s]\n"
     ]
    },
    {
     "name": "stdout",
     "output_type": "stream",
     "text": [
      ">>> [Train] AUROC: 0.5019 / AUPRC: 0.0705\n",
      ">>> [Valid] AUROC: 0.5030 / AUPRC: 0.0726\n"
     ]
    },
    {
     "name": "stderr",
     "output_type": "stream",
     "text": [
      "Trial 2 - Epoch 3/100 - Training: 100%|██████████| 273/273 [00:08<00:00, 32.83it/s]\n"
     ]
    },
    {
     "name": "stdout",
     "output_type": "stream",
     "text": [
      ">>> [Train] AUROC: 0.5055 / AUPRC: 0.0712\n",
      ">>> [Valid] AUROC: 0.5000 / AUPRC: 0.0697\n"
     ]
    },
    {
     "name": "stderr",
     "output_type": "stream",
     "text": [
      "Trial 2 - Epoch 4/100 - Training: 100%|██████████| 273/273 [00:08<00:00, 32.83it/s]\n"
     ]
    },
    {
     "name": "stdout",
     "output_type": "stream",
     "text": [
      ">>> [Train] AUROC: 0.5028 / AUPRC: 0.0706\n",
      ">>> [Valid] AUROC: 0.5000 / AUPRC: 0.0697\n"
     ]
    },
    {
     "name": "stderr",
     "output_type": "stream",
     "text": [
      "Trial 2 - Epoch 5/100 - Training: 100%|██████████| 273/273 [00:08<00:00, 32.93it/s]\n"
     ]
    },
    {
     "name": "stdout",
     "output_type": "stream",
     "text": [
      ">>> [Train] AUROC: 0.5008 / AUPRC: 0.0700\n",
      ">>> [Valid] AUROC: 0.5000 / AUPRC: 0.0697\n"
     ]
    },
    {
     "name": "stderr",
     "output_type": "stream",
     "text": [
      "Trial 2 - Epoch 6/100 - Training: 100%|██████████| 273/273 [00:08<00:00, 32.90it/s]\n"
     ]
    },
    {
     "name": "stdout",
     "output_type": "stream",
     "text": [
      ">>> [Train] AUROC: 0.5026 / AUPRC: 0.0697\n",
      ">>> [Valid] AUROC: 0.5000 / AUPRC: 0.0697\n"
     ]
    },
    {
     "name": "stderr",
     "output_type": "stream",
     "text": [
      "Trial 2 - Epoch 7/100 - Training: 100%|██████████| 273/273 [00:08<00:00, 32.52it/s]\n"
     ]
    },
    {
     "name": "stdout",
     "output_type": "stream",
     "text": [
      ">>> [Train] AUROC: 0.4997 / AUPRC: 0.0704\n",
      ">>> [Valid] AUROC: 0.5000 / AUPRC: 0.0697\n"
     ]
    },
    {
     "name": "stderr",
     "output_type": "stream",
     "text": [
      "Trial 2 - Epoch 8/100 - Training: 100%|██████████| 273/273 [00:08<00:00, 32.63it/s]\n"
     ]
    },
    {
     "name": "stdout",
     "output_type": "stream",
     "text": [
      ">>> [Train] AUROC: 0.4974 / AUPRC: 0.0690\n",
      ">>> [Valid] AUROC: 0.5000 / AUPRC: 0.0697\n"
     ]
    },
    {
     "name": "stderr",
     "output_type": "stream",
     "text": [
      "Trial 2 - Epoch 9/100 - Training: 100%|██████████| 273/273 [00:08<00:00, 32.65it/s]\n"
     ]
    },
    {
     "name": "stdout",
     "output_type": "stream",
     "text": [
      ">>> [Train] AUROC: 0.5032 / AUPRC: 0.0696\n",
      ">>> [Valid] AUROC: 0.5000 / AUPRC: 0.0697\n"
     ]
    },
    {
     "name": "stderr",
     "output_type": "stream",
     "text": [
      "Trial 2 - Epoch 10/100 - Training: 100%|██████████| 273/273 [00:08<00:00, 32.81it/s]\n"
     ]
    },
    {
     "name": "stdout",
     "output_type": "stream",
     "text": [
      ">>> [Train] AUROC: 0.5037 / AUPRC: 0.0703\n",
      ">>> [Valid] AUROC: 0.5000 / AUPRC: 0.0697\n"
     ]
    },
    {
     "name": "stderr",
     "output_type": "stream",
     "text": [
      "Trial 2 - Epoch 11/100 - Training: 100%|██████████| 273/273 [00:08<00:00, 32.53it/s]\n"
     ]
    },
    {
     "name": "stdout",
     "output_type": "stream",
     "text": [
      ">>> [Train] AUROC: 0.5054 / AUPRC: 0.0703\n",
      ">>> [Valid] AUROC: 0.5000 / AUPRC: 0.0697\n"
     ]
    },
    {
     "name": "stderr",
     "output_type": "stream",
     "text": [
      "Trial 2 - Epoch 12/100 - Training: 100%|██████████| 273/273 [00:08<00:00, 32.59it/s]\n"
     ]
    },
    {
     "name": "stdout",
     "output_type": "stream",
     "text": [
      ">>> [Train] AUROC: 0.5009 / AUPRC: 0.0704\n",
      ">>> [Valid] AUROC: 0.5000 / AUPRC: 0.0697\n",
      "Epoch 00012: reducing learning rate of group 0 to 3.6950e-04.\n"
     ]
    },
    {
     "name": "stderr",
     "output_type": "stream",
     "text": [
      "Trial 2 - Epoch 13/100 - Training: 100%|██████████| 273/273 [00:08<00:00, 32.92it/s]\n"
     ]
    },
    {
     "name": "stdout",
     "output_type": "stream",
     "text": [
      ">>> [Train] AUROC: 0.5053 / AUPRC: 0.0704\n",
      ">>> [Valid] AUROC: 0.5000 / AUPRC: 0.0697\n"
     ]
    },
    {
     "name": "stderr",
     "output_type": "stream",
     "text": [
      "Trial 2 - Epoch 14/100 - Training: 100%|██████████| 273/273 [00:08<00:00, 32.56it/s]\n"
     ]
    },
    {
     "name": "stdout",
     "output_type": "stream",
     "text": [
      ">>> [Train] AUROC: 0.5026 / AUPRC: 0.0698\n",
      ">>> [Valid] AUROC: 0.5000 / AUPRC: 0.0697\n"
     ]
    },
    {
     "name": "stderr",
     "output_type": "stream",
     "text": [
      "Trial 2 - Epoch 15/100 - Training: 100%|██████████| 273/273 [00:08<00:00, 32.78it/s]\n"
     ]
    },
    {
     "name": "stdout",
     "output_type": "stream",
     "text": [
      ">>> [Train] AUROC: 0.5008 / AUPRC: 0.0706\n",
      ">>> [Valid] AUROC: 0.5000 / AUPRC: 0.0697\n"
     ]
    },
    {
     "name": "stderr",
     "output_type": "stream",
     "text": [
      "Trial 2 - Epoch 16/100 - Training: 100%|██████████| 273/273 [00:08<00:00, 32.47it/s]\n"
     ]
    },
    {
     "name": "stdout",
     "output_type": "stream",
     "text": [
      ">>> [Train] AUROC: 0.5013 / AUPRC: 0.0699\n",
      ">>> [Valid] AUROC: 0.5000 / AUPRC: 0.0697\n"
     ]
    },
    {
     "name": "stderr",
     "output_type": "stream",
     "text": [
      "Trial 2 - Epoch 17/100 - Training: 100%|██████████| 273/273 [00:08<00:00, 32.36it/s]\n"
     ]
    },
    {
     "name": "stdout",
     "output_type": "stream",
     "text": [
      ">>> [Train] AUROC: 0.5019 / AUPRC: 0.0704\n",
      ">>> [Valid] AUROC: 0.5000 / AUPRC: 0.0697\n"
     ]
    },
    {
     "name": "stderr",
     "output_type": "stream",
     "text": [
      "Trial 2 - Epoch 18/100 - Training: 100%|██████████| 273/273 [00:08<00:00, 32.39it/s]\n"
     ]
    },
    {
     "name": "stdout",
     "output_type": "stream",
     "text": [
      ">>> [Train] AUROC: 0.4980 / AUPRC: 0.0691\n",
      ">>> [Valid] AUROC: 0.5000 / AUPRC: 0.0697\n"
     ]
    },
    {
     "name": "stderr",
     "output_type": "stream",
     "text": [
      "Trial 2 - Epoch 19/100 - Training: 100%|██████████| 273/273 [00:08<00:00, 32.87it/s]\n"
     ]
    },
    {
     "name": "stdout",
     "output_type": "stream",
     "text": [
      ">>> [Train] AUROC: 0.4985 / AUPRC: 0.0693\n",
      ">>> [Valid] AUROC: 0.5000 / AUPRC: 0.0697\n"
     ]
    },
    {
     "name": "stderr",
     "output_type": "stream",
     "text": [
      "Trial 2 - Epoch 20/100 - Training: 100%|██████████| 273/273 [00:08<00:00, 32.93it/s]\n"
     ]
    },
    {
     "name": "stdout",
     "output_type": "stream",
     "text": [
      ">>> [Train] AUROC: 0.5004 / AUPRC: 0.0697\n",
      ">>> [Valid] AUROC: 0.5000 / AUPRC: 0.0697\n"
     ]
    },
    {
     "name": "stderr",
     "output_type": "stream",
     "text": [
      "Trial 2 - Epoch 21/100 - Training: 100%|██████████| 273/273 [00:08<00:00, 32.92it/s]\n"
     ]
    },
    {
     "name": "stdout",
     "output_type": "stream",
     "text": [
      ">>> [Train] AUROC: 0.5006 / AUPRC: 0.0695\n"
     ]
    },
    {
     "name": "stderr",
     "output_type": "stream",
     "text": [
      "[I 2023-12-14 12:52:06,439] Trial 1 finished with value: 0.07584500241429262 and parameters: {'learning_rate': 0.0036949919016174898, 'batch_size': 64, 'num_epochs': 60, 'optimizer': 'Adam'}. Best is trial 1 with value: 0.07584500241429262.\n"
     ]
    },
    {
     "name": "stdout",
     "output_type": "stream",
     "text": [
      ">>> [Valid] AUROC: 0.5000 / AUPRC: 0.0697\n",
      "Early stopping\n",
      "------------------------------------------\n",
      "< Trial 2's Best Performance>\n",
      "[train_loss]: 0.7010\n",
      "[valid_loss]: 0.6931\n",
      "[train_accuracy]: 0.5486\n",
      "[valid_accuracy]: 0.9298\n",
      "[train_auroc]: 0.5006\n",
      "[valid_auroc]: 0.5028\n",
      "[train_auprc]: 0.0692\n",
      "[valid_auprc]: 0.0758 <- Pick It Up!\n",
      "----------------------------------------\n",
      ">>>>> Trial 3 Start...<<<<<\n",
      "----------------------------------------\n",
      "[Learning Rate] : 0.0053888582507206064\n",
      "[Batch Size] : 128\n",
      "[Epochs] : 100\n",
      "[Optimizer] : Adam (\n",
      "Parameter Group 0\n",
      "    amsgrad: False\n",
      "    betas: (0.9, 0.999)\n",
      "    capturable: False\n",
      "    differentiable: False\n",
      "    eps: 1e-08\n",
      "    foreach: None\n",
      "    fused: None\n",
      "    lr: 0.0053888582507206064\n",
      "    maximize: False\n",
      "    weight_decay: 0\n",
      ")\n",
      "-----------------------\n",
      ">>>>> Let's GO!!! <<<<<\n",
      "-----------------------\n"
     ]
    },
    {
     "name": "stderr",
     "output_type": "stream",
     "text": [
      "Trial 3 - Epoch 1/100 - Training: 100%|██████████| 137/137 [00:05<00:00, 24.45it/s]\n"
     ]
    },
    {
     "name": "stdout",
     "output_type": "stream",
     "text": [
      ">>> [Train] AUROC: 0.4956 / AUPRC: 0.0692\n",
      ">>> [Valid] AUROC: 0.5000 / AUPRC: 0.0697\n"
     ]
    },
    {
     "name": "stderr",
     "output_type": "stream",
     "text": [
      "Trial 3 - Epoch 2/100 - Training: 100%|██████████| 137/137 [00:05<00:00, 24.59it/s]\n"
     ]
    },
    {
     "name": "stdout",
     "output_type": "stream",
     "text": [
      ">>> [Train] AUROC: 0.5008 / AUPRC: 0.0696\n",
      ">>> [Valid] AUROC: 0.5000 / AUPRC: 0.0697\n"
     ]
    },
    {
     "name": "stderr",
     "output_type": "stream",
     "text": [
      "Trial 3 - Epoch 3/100 - Training: 100%|██████████| 137/137 [00:05<00:00, 24.69it/s]\n"
     ]
    },
    {
     "name": "stdout",
     "output_type": "stream",
     "text": [
      ">>> [Train] AUROC: 0.4992 / AUPRC: 0.0694\n",
      ">>> [Valid] AUROC: 0.5000 / AUPRC: 0.0697\n"
     ]
    },
    {
     "name": "stderr",
     "output_type": "stream",
     "text": [
      "Trial 3 - Epoch 4/100 - Training: 100%|██████████| 137/137 [00:05<00:00, 24.58it/s]\n"
     ]
    },
    {
     "name": "stdout",
     "output_type": "stream",
     "text": [
      ">>> [Train] AUROC: 0.5000 / AUPRC: 0.0695\n",
      ">>> [Valid] AUROC: 0.5000 / AUPRC: 0.0697\n"
     ]
    },
    {
     "name": "stderr",
     "output_type": "stream",
     "text": [
      "Trial 3 - Epoch 5/100 - Training: 100%|██████████| 137/137 [00:05<00:00, 24.52it/s]\n"
     ]
    },
    {
     "name": "stdout",
     "output_type": "stream",
     "text": [
      ">>> [Train] AUROC: 0.4995 / AUPRC: 0.0694\n",
      ">>> [Valid] AUROC: 0.5000 / AUPRC: 0.0697\n"
     ]
    },
    {
     "name": "stderr",
     "output_type": "stream",
     "text": [
      "Trial 3 - Epoch 6/100 - Training: 100%|██████████| 137/137 [00:05<00:00, 24.64it/s]\n"
     ]
    },
    {
     "name": "stdout",
     "output_type": "stream",
     "text": [
      ">>> [Train] AUROC: 0.4985 / AUPRC: 0.0694\n",
      ">>> [Valid] AUROC: 0.5000 / AUPRC: 0.0697\n"
     ]
    },
    {
     "name": "stderr",
     "output_type": "stream",
     "text": [
      "Trial 3 - Epoch 7/100 - Training: 100%|██████████| 137/137 [00:05<00:00, 24.52it/s]\n"
     ]
    },
    {
     "name": "stdout",
     "output_type": "stream",
     "text": [
      ">>> [Train] AUROC: 0.5010 / AUPRC: 0.0701\n",
      ">>> [Valid] AUROC: 0.5000 / AUPRC: 0.0697\n"
     ]
    },
    {
     "name": "stderr",
     "output_type": "stream",
     "text": [
      "Trial 3 - Epoch 8/100 - Training: 100%|██████████| 137/137 [00:05<00:00, 24.59it/s]\n"
     ]
    },
    {
     "name": "stdout",
     "output_type": "stream",
     "text": [
      ">>> [Train] AUROC: 0.4995 / AUPRC: 0.0694\n",
      ">>> [Valid] AUROC: 0.5000 / AUPRC: 0.0697\n"
     ]
    },
    {
     "name": "stderr",
     "output_type": "stream",
     "text": [
      "Trial 3 - Epoch 9/100 - Training: 100%|██████████| 137/137 [00:05<00:00, 24.73it/s]\n"
     ]
    },
    {
     "name": "stdout",
     "output_type": "stream",
     "text": [
      ">>> [Train] AUROC: 0.4991 / AUPRC: 0.0702\n",
      ">>> [Valid] AUROC: 0.5000 / AUPRC: 0.0697\n"
     ]
    },
    {
     "name": "stderr",
     "output_type": "stream",
     "text": [
      "Trial 3 - Epoch 10/100 - Training: 100%|██████████| 137/137 [00:05<00:00, 24.70it/s]\n"
     ]
    },
    {
     "name": "stdout",
     "output_type": "stream",
     "text": [
      ">>> [Train] AUROC: 0.4990 / AUPRC: 0.0702\n",
      ">>> [Valid] AUROC: 0.5000 / AUPRC: 0.0697\n"
     ]
    },
    {
     "name": "stderr",
     "output_type": "stream",
     "text": [
      "Trial 3 - Epoch 11/100 - Training: 100%|██████████| 137/137 [00:05<00:00, 24.59it/s]\n"
     ]
    },
    {
     "name": "stdout",
     "output_type": "stream",
     "text": [
      ">>> [Train] AUROC: 0.4995 / AUPRC: 0.0694\n",
      ">>> [Valid] AUROC: 0.5000 / AUPRC: 0.0697\n"
     ]
    },
    {
     "name": "stderr",
     "output_type": "stream",
     "text": [
      "Trial 3 - Epoch 12/100 - Training: 100%|██████████| 137/137 [00:05<00:00, 24.64it/s]\n"
     ]
    },
    {
     "name": "stdout",
     "output_type": "stream",
     "text": [
      ">>> [Train] AUROC: 0.4998 / AUPRC: 0.0709\n",
      ">>> [Valid] AUROC: 0.5000 / AUPRC: 0.0697\n",
      "Epoch 00012: reducing learning rate of group 0 to 5.3889e-04.\n"
     ]
    },
    {
     "name": "stderr",
     "output_type": "stream",
     "text": [
      "Trial 3 - Epoch 13/100 - Training: 100%|██████████| 137/137 [00:05<00:00, 24.66it/s]\n"
     ]
    },
    {
     "name": "stdout",
     "output_type": "stream",
     "text": [
      ">>> [Train] AUROC: 0.5004 / AUPRC: 0.0696\n",
      ">>> [Valid] AUROC: 0.5000 / AUPRC: 0.0697\n"
     ]
    },
    {
     "name": "stderr",
     "output_type": "stream",
     "text": [
      "Trial 3 - Epoch 14/100 - Training: 100%|██████████| 137/137 [00:05<00:00, 24.67it/s]\n"
     ]
    },
    {
     "name": "stdout",
     "output_type": "stream",
     "text": [
      ">>> [Train] AUROC: 0.4993 / AUPRC: 0.0694\n",
      ">>> [Valid] AUROC: 0.5000 / AUPRC: 0.0697\n"
     ]
    },
    {
     "name": "stderr",
     "output_type": "stream",
     "text": [
      "Trial 3 - Epoch 15/100 - Training: 100%|██████████| 137/137 [00:05<00:00, 24.68it/s]\n"
     ]
    },
    {
     "name": "stdout",
     "output_type": "stream",
     "text": [
      ">>> [Train] AUROC: 0.5008 / AUPRC: 0.0696\n",
      ">>> [Valid] AUROC: 0.5000 / AUPRC: 0.0697\n"
     ]
    },
    {
     "name": "stderr",
     "output_type": "stream",
     "text": [
      "Trial 3 - Epoch 16/100 - Training: 100%|██████████| 137/137 [00:05<00:00, 24.68it/s]\n"
     ]
    },
    {
     "name": "stdout",
     "output_type": "stream",
     "text": [
      ">>> [Train] AUROC: 0.4998 / AUPRC: 0.0694\n",
      ">>> [Valid] AUROC: 0.5000 / AUPRC: 0.0697\n"
     ]
    },
    {
     "name": "stderr",
     "output_type": "stream",
     "text": [
      "Trial 3 - Epoch 17/100 - Training: 100%|██████████| 137/137 [00:05<00:00, 24.69it/s]\n"
     ]
    },
    {
     "name": "stdout",
     "output_type": "stream",
     "text": [
      ">>> [Train] AUROC: 0.4988 / AUPRC: 0.0694\n",
      ">>> [Valid] AUROC: 0.5000 / AUPRC: 0.0697\n"
     ]
    },
    {
     "name": "stderr",
     "output_type": "stream",
     "text": [
      "Trial 3 - Epoch 18/100 - Training: 100%|██████████| 137/137 [00:05<00:00, 24.68it/s]\n"
     ]
    },
    {
     "name": "stdout",
     "output_type": "stream",
     "text": [
      ">>> [Train] AUROC: 0.5009 / AUPRC: 0.0701\n",
      ">>> [Valid] AUROC: 0.5000 / AUPRC: 0.0697\n"
     ]
    },
    {
     "name": "stderr",
     "output_type": "stream",
     "text": [
      "Trial 3 - Epoch 19/100 - Training: 100%|██████████| 137/137 [00:05<00:00, 24.68it/s]\n"
     ]
    },
    {
     "name": "stdout",
     "output_type": "stream",
     "text": [
      ">>> [Train] AUROC: 0.5004 / AUPRC: 0.0695\n",
      ">>> [Valid] AUROC: 0.5000 / AUPRC: 0.0697\n"
     ]
    },
    {
     "name": "stderr",
     "output_type": "stream",
     "text": [
      "Trial 3 - Epoch 20/100 - Training: 100%|██████████| 137/137 [00:05<00:00, 24.69it/s]\n"
     ]
    },
    {
     "name": "stdout",
     "output_type": "stream",
     "text": [
      ">>> [Train] AUROC: 0.5003 / AUPRC: 0.0695\n",
      ">>> [Valid] AUROC: 0.5000 / AUPRC: 0.0697\n"
     ]
    },
    {
     "name": "stderr",
     "output_type": "stream",
     "text": [
      "Trial 3 - Epoch 21/100 - Training: 100%|██████████| 137/137 [00:05<00:00, 24.67it/s]\n"
     ]
    },
    {
     "name": "stdout",
     "output_type": "stream",
     "text": [
      ">>> [Train] AUROC: 0.4991 / AUPRC: 0.0694\n"
     ]
    },
    {
     "name": "stderr",
     "output_type": "stream",
     "text": [
      "[I 2023-12-14 12:54:11,505] Trial 2 finished with value: 0.06972477064220184 and parameters: {'learning_rate': 0.0053888582507206064, 'batch_size': 128, 'num_epochs': 76, 'optimizer': 'SGD'}. Best is trial 1 with value: 0.07584500241429262.\n"
     ]
    },
    {
     "name": "stdout",
     "output_type": "stream",
     "text": [
      ">>> [Valid] AUROC: 0.5000 / AUPRC: 0.0697\n",
      "Early stopping\n",
      "------------------------------------------\n",
      "< Trial 3's Best Performance>\n",
      "[train_loss]: 0.7047\n",
      "[valid_loss]: 0.6931\n",
      "[train_accuracy]: 0.7687\n",
      "[valid_accuracy]: 0.9303\n",
      "[train_auroc]: 0.4956\n",
      "[valid_auroc]: 0.5000\n",
      "[train_auprc]: 0.0692\n",
      "[valid_auprc]: 0.0697 <- Pick It Up!\n",
      "----------------------------------------\n",
      ">>>>> Trial 4 Start...<<<<<\n",
      "----------------------------------------\n",
      "[Learning Rate] : 0.0021524406659397385\n",
      "[Batch Size] : 128\n",
      "[Epochs] : 100\n",
      "[Optimizer] : Adam (\n",
      "Parameter Group 0\n",
      "    amsgrad: False\n",
      "    betas: (0.9, 0.999)\n",
      "    capturable: False\n",
      "    differentiable: False\n",
      "    eps: 1e-08\n",
      "    foreach: None\n",
      "    fused: None\n",
      "    lr: 0.0021524406659397385\n",
      "    maximize: False\n",
      "    weight_decay: 0\n",
      ")\n",
      "-----------------------\n",
      ">>>>> Let's GO!!! <<<<<\n",
      "-----------------------\n"
     ]
    },
    {
     "name": "stderr",
     "output_type": "stream",
     "text": [
      "Trial 4 - Epoch 1/100 - Training: 100%|██████████| 137/137 [00:05<00:00, 23.92it/s]\n"
     ]
    },
    {
     "name": "stdout",
     "output_type": "stream",
     "text": [
      ">>> [Train] AUROC: 0.4939 / AUPRC: 0.0683\n",
      ">>> [Valid] AUROC: 0.4909 / AUPRC: 0.0833\n"
     ]
    },
    {
     "name": "stderr",
     "output_type": "stream",
     "text": [
      "Trial 4 - Epoch 2/100 - Training: 100%|██████████| 137/137 [00:05<00:00, 24.60it/s]\n"
     ]
    },
    {
     "name": "stdout",
     "output_type": "stream",
     "text": [
      ">>> [Train] AUROC: 0.4997 / AUPRC: 0.0686\n",
      ">>> [Valid] AUROC: 0.4903 / AUPRC: 0.0815\n"
     ]
    },
    {
     "name": "stderr",
     "output_type": "stream",
     "text": [
      "Trial 4 - Epoch 3/100 - Training: 100%|██████████| 137/137 [00:05<00:00, 24.38it/s]\n"
     ]
    },
    {
     "name": "stdout",
     "output_type": "stream",
     "text": [
      ">>> [Train] AUROC: 0.5062 / AUPRC: 0.0706\n",
      ">>> [Valid] AUROC: 0.4897 / AUPRC: 0.0770\n"
     ]
    },
    {
     "name": "stderr",
     "output_type": "stream",
     "text": [
      "Trial 4 - Epoch 4/100 - Training: 100%|██████████| 137/137 [00:05<00:00, 24.32it/s]\n"
     ]
    },
    {
     "name": "stdout",
     "output_type": "stream",
     "text": [
      ">>> [Train] AUROC: 0.4966 / AUPRC: 0.0687\n",
      ">>> [Valid] AUROC: 0.5283 / AUPRC: 0.0794\n"
     ]
    },
    {
     "name": "stderr",
     "output_type": "stream",
     "text": [
      "Trial 4 - Epoch 5/100 - Training: 100%|██████████| 137/137 [00:05<00:00, 24.23it/s]\n"
     ]
    },
    {
     "name": "stdout",
     "output_type": "stream",
     "text": [
      ">>> [Train] AUROC: 0.5115 / AUPRC: 0.0707\n",
      ">>> [Valid] AUROC: 0.5224 / AUPRC: 0.0788\n"
     ]
    },
    {
     "name": "stderr",
     "output_type": "stream",
     "text": [
      "Trial 4 - Epoch 6/100 - Training: 100%|██████████| 137/137 [00:05<00:00, 24.53it/s]\n"
     ]
    },
    {
     "name": "stdout",
     "output_type": "stream",
     "text": [
      ">>> [Train] AUROC: 0.5084 / AUPRC: 0.0698\n",
      ">>> [Valid] AUROC: 0.5026 / AUPRC: 0.0726\n"
     ]
    },
    {
     "name": "stderr",
     "output_type": "stream",
     "text": [
      "Trial 4 - Epoch 7/100 - Training: 100%|██████████| 137/137 [00:05<00:00, 23.81it/s]\n"
     ]
    },
    {
     "name": "stdout",
     "output_type": "stream",
     "text": [
      ">>> [Train] AUROC: 0.5070 / AUPRC: 0.0706\n",
      ">>> [Valid] AUROC: 0.5028 / AUPRC: 0.0715\n"
     ]
    },
    {
     "name": "stderr",
     "output_type": "stream",
     "text": [
      "Trial 4 - Epoch 8/100 - Training: 100%|██████████| 137/137 [00:05<00:00, 23.62it/s]\n"
     ]
    },
    {
     "name": "stdout",
     "output_type": "stream",
     "text": [
      ">>> [Train] AUROC: 0.5001 / AUPRC: 0.0719\n",
      ">>> [Valid] AUROC: 0.5274 / AUPRC: 0.0750\n"
     ]
    },
    {
     "name": "stderr",
     "output_type": "stream",
     "text": [
      "Trial 4 - Epoch 9/100 - Training: 100%|██████████| 137/137 [00:05<00:00, 23.62it/s]\n"
     ]
    },
    {
     "name": "stdout",
     "output_type": "stream",
     "text": [
      ">>> [Train] AUROC: 0.5104 / AUPRC: 0.0716\n",
      ">>> [Valid] AUROC: 0.5021 / AUPRC: 0.0704\n"
     ]
    },
    {
     "name": "stderr",
     "output_type": "stream",
     "text": [
      "Trial 4 - Epoch 10/100 - Training: 100%|██████████| 137/137 [00:05<00:00, 24.46it/s]\n"
     ]
    },
    {
     "name": "stdout",
     "output_type": "stream",
     "text": [
      ">>> [Train] AUROC: 0.4932 / AUPRC: 0.0695\n",
      ">>> [Valid] AUROC: 0.5025 / AUPRC: 0.0709\n"
     ]
    },
    {
     "name": "stderr",
     "output_type": "stream",
     "text": [
      "Trial 4 - Epoch 11/100 - Training: 100%|██████████| 137/137 [00:05<00:00, 23.63it/s]\n"
     ]
    },
    {
     "name": "stdout",
     "output_type": "stream",
     "text": [
      ">>> [Train] AUROC: 0.4994 / AUPRC: 0.0706\n",
      ">>> [Valid] AUROC: 0.5025 / AUPRC: 0.0709\n"
     ]
    },
    {
     "name": "stderr",
     "output_type": "stream",
     "text": [
      "Trial 4 - Epoch 12/100 - Training: 100%|██████████| 137/137 [00:05<00:00, 23.61it/s]\n"
     ]
    },
    {
     "name": "stdout",
     "output_type": "stream",
     "text": [
      ">>> [Train] AUROC: 0.5081 / AUPRC: 0.0710\n",
      ">>> [Valid] AUROC: 0.5025 / AUPRC: 0.0709\n",
      "Epoch 00012: reducing learning rate of group 0 to 2.1524e-04.\n"
     ]
    },
    {
     "name": "stderr",
     "output_type": "stream",
     "text": [
      "Trial 4 - Epoch 13/100 - Training: 100%|██████████| 137/137 [00:05<00:00, 23.60it/s]\n"
     ]
    },
    {
     "name": "stdout",
     "output_type": "stream",
     "text": [
      ">>> [Train] AUROC: 0.4953 / AUPRC: 0.0687\n",
      ">>> [Valid] AUROC: 0.5028 / AUPRC: 0.0715\n"
     ]
    },
    {
     "name": "stderr",
     "output_type": "stream",
     "text": [
      "Trial 4 - Epoch 14/100 - Training: 100%|██████████| 137/137 [00:05<00:00, 23.61it/s]\n"
     ]
    },
    {
     "name": "stdout",
     "output_type": "stream",
     "text": [
      ">>> [Train] AUROC: 0.4909 / AUPRC: 0.0680\n",
      ">>> [Valid] AUROC: 0.5028 / AUPRC: 0.0715\n"
     ]
    },
    {
     "name": "stderr",
     "output_type": "stream",
     "text": [
      "Trial 4 - Epoch 15/100 - Training: 100%|██████████| 137/137 [00:05<00:00, 23.65it/s]\n"
     ]
    },
    {
     "name": "stdout",
     "output_type": "stream",
     "text": [
      ">>> [Train] AUROC: 0.4993 / AUPRC: 0.0695\n",
      ">>> [Valid] AUROC: 0.5028 / AUPRC: 0.0715\n"
     ]
    },
    {
     "name": "stderr",
     "output_type": "stream",
     "text": [
      "Trial 4 - Epoch 16/100 - Training: 100%|██████████| 137/137 [00:05<00:00, 23.60it/s]\n"
     ]
    },
    {
     "name": "stdout",
     "output_type": "stream",
     "text": [
      ">>> [Train] AUROC: 0.4974 / AUPRC: 0.0685\n",
      ">>> [Valid] AUROC: 0.5028 / AUPRC: 0.0715\n"
     ]
    },
    {
     "name": "stderr",
     "output_type": "stream",
     "text": [
      "Trial 4 - Epoch 17/100 - Training: 100%|██████████| 137/137 [00:05<00:00, 23.66it/s]\n"
     ]
    },
    {
     "name": "stdout",
     "output_type": "stream",
     "text": [
      ">>> [Train] AUROC: 0.5013 / AUPRC: 0.0698\n",
      ">>> [Valid] AUROC: 0.5028 / AUPRC: 0.0715\n"
     ]
    },
    {
     "name": "stderr",
     "output_type": "stream",
     "text": [
      "Trial 4 - Epoch 18/100 - Training: 100%|██████████| 137/137 [00:05<00:00, 23.90it/s]\n"
     ]
    },
    {
     "name": "stdout",
     "output_type": "stream",
     "text": [
      ">>> [Train] AUROC: 0.4998 / AUPRC: 0.0695\n",
      ">>> [Valid] AUROC: 0.5030 / AUPRC: 0.0726\n"
     ]
    },
    {
     "name": "stderr",
     "output_type": "stream",
     "text": [
      "Trial 4 - Epoch 19/100 - Training: 100%|██████████| 137/137 [00:05<00:00, 24.65it/s]\n"
     ]
    },
    {
     "name": "stdout",
     "output_type": "stream",
     "text": [
      ">>> [Train] AUROC: 0.4995 / AUPRC: 0.0696\n",
      ">>> [Valid] AUROC: 0.5030 / AUPRC: 0.0726\n"
     ]
    },
    {
     "name": "stderr",
     "output_type": "stream",
     "text": [
      "Trial 4 - Epoch 20/100 - Training: 100%|██████████| 137/137 [00:05<00:00, 24.41it/s]\n"
     ]
    },
    {
     "name": "stdout",
     "output_type": "stream",
     "text": [
      ">>> [Train] AUROC: 0.5042 / AUPRC: 0.0699\n",
      ">>> [Valid] AUROC: 0.5030 / AUPRC: 0.0726\n"
     ]
    },
    {
     "name": "stderr",
     "output_type": "stream",
     "text": [
      "Trial 4 - Epoch 21/100 - Training: 100%|██████████| 137/137 [00:05<00:00, 24.32it/s]\n"
     ]
    },
    {
     "name": "stdout",
     "output_type": "stream",
     "text": [
      ">>> [Train] AUROC: 0.5018 / AUPRC: 0.0694\n"
     ]
    },
    {
     "name": "stderr",
     "output_type": "stream",
     "text": [
      "[I 2023-12-14 12:56:20,765] Trial 3 finished with value: 0.08327414600988571 and parameters: {'learning_rate': 0.0021524406659397385, 'batch_size': 128, 'num_epochs': 88, 'optimizer': 'Adam'}. Best is trial 3 with value: 0.08327414600988571.\n"
     ]
    },
    {
     "name": "stdout",
     "output_type": "stream",
     "text": [
      ">>> [Valid] AUROC: 0.5030 / AUPRC: 0.0726\n",
      "Early stopping\n",
      "------------------------------------------\n",
      "< Trial 4's Best Performance>\n",
      "[train_loss]: 0.7171\n",
      "[valid_loss]: 0.6931\n",
      "[train_accuracy]: 0.0694\n",
      "[valid_accuracy]: 0.0697\n",
      "[train_auroc]: 0.4939\n",
      "[valid_auroc]: 0.4909\n",
      "[train_auprc]: 0.0683\n",
      "[valid_auprc]: 0.0833 <- Pick It Up!\n",
      "----------------------------------------\n",
      ">>>>> Trial 5 Start...<<<<<\n",
      "----------------------------------------\n",
      "[Learning Rate] : 0.0036061854201000173\n",
      "[Batch Size] : 64\n",
      "[Epochs] : 100\n",
      "[Optimizer] : Adam (\n",
      "Parameter Group 0\n",
      "    amsgrad: False\n",
      "    betas: (0.9, 0.999)\n",
      "    capturable: False\n",
      "    differentiable: False\n",
      "    eps: 1e-08\n",
      "    foreach: None\n",
      "    fused: None\n",
      "    lr: 0.0036061854201000173\n",
      "    maximize: False\n",
      "    weight_decay: 0\n",
      ")\n",
      "-----------------------\n",
      ">>>>> Let's GO!!! <<<<<\n",
      "-----------------------\n"
     ]
    },
    {
     "name": "stderr",
     "output_type": "stream",
     "text": [
      "Trial 5 - Epoch 1/100 - Training: 100%|██████████| 273/273 [00:08<00:00, 32.88it/s]\n"
     ]
    },
    {
     "name": "stdout",
     "output_type": "stream",
     "text": [
      ">>> [Train] AUROC: 0.4985 / AUPRC: 0.0690\n",
      ">>> [Valid] AUROC: 0.5028 / AUPRC: 0.0758\n"
     ]
    },
    {
     "name": "stderr",
     "output_type": "stream",
     "text": [
      "Trial 5 - Epoch 2/100 - Training: 100%|██████████| 273/273 [00:08<00:00, 32.90it/s]\n"
     ]
    },
    {
     "name": "stdout",
     "output_type": "stream",
     "text": [
      ">>> [Train] AUROC: 0.5012 / AUPRC: 0.0705\n",
      ">>> [Valid] AUROC: 0.5030 / AUPRC: 0.0726\n"
     ]
    },
    {
     "name": "stderr",
     "output_type": "stream",
     "text": [
      "Trial 5 - Epoch 3/100 - Training: 100%|██████████| 273/273 [00:08<00:00, 32.73it/s]\n"
     ]
    },
    {
     "name": "stdout",
     "output_type": "stream",
     "text": [
      ">>> [Train] AUROC: 0.5066 / AUPRC: 0.0711\n",
      ">>> [Valid] AUROC: 0.5000 / AUPRC: 0.0697\n"
     ]
    },
    {
     "name": "stderr",
     "output_type": "stream",
     "text": [
      "Trial 5 - Epoch 4/100 - Training: 100%|██████████| 273/273 [00:08<00:00, 32.87it/s]\n"
     ]
    },
    {
     "name": "stdout",
     "output_type": "stream",
     "text": [
      ">>> [Train] AUROC: 0.5033 / AUPRC: 0.0707\n",
      ">>> [Valid] AUROC: 0.5000 / AUPRC: 0.0697\n"
     ]
    },
    {
     "name": "stderr",
     "output_type": "stream",
     "text": [
      "Trial 5 - Epoch 5/100 - Training: 100%|██████████| 273/273 [00:08<00:00, 32.63it/s]\n"
     ]
    },
    {
     "name": "stdout",
     "output_type": "stream",
     "text": [
      ">>> [Train] AUROC: 0.5011 / AUPRC: 0.0701\n",
      ">>> [Valid] AUROC: 0.5000 / AUPRC: 0.0697\n"
     ]
    },
    {
     "name": "stderr",
     "output_type": "stream",
     "text": [
      "Trial 5 - Epoch 6/100 - Training: 100%|██████████| 273/273 [00:08<00:00, 32.85it/s]\n"
     ]
    },
    {
     "name": "stdout",
     "output_type": "stream",
     "text": [
      ">>> [Train] AUROC: 0.5023 / AUPRC: 0.0698\n",
      ">>> [Valid] AUROC: 0.5000 / AUPRC: 0.0697\n"
     ]
    },
    {
     "name": "stderr",
     "output_type": "stream",
     "text": [
      "Trial 5 - Epoch 7/100 - Training: 100%|██████████| 273/273 [00:08<00:00, 32.58it/s]\n"
     ]
    },
    {
     "name": "stdout",
     "output_type": "stream",
     "text": [
      ">>> [Train] AUROC: 0.5020 / AUPRC: 0.0706\n",
      ">>> [Valid] AUROC: 0.5000 / AUPRC: 0.0697\n"
     ]
    },
    {
     "name": "stderr",
     "output_type": "stream",
     "text": [
      "Trial 5 - Epoch 8/100 - Training: 100%|██████████| 273/273 [00:08<00:00, 32.79it/s]\n"
     ]
    },
    {
     "name": "stdout",
     "output_type": "stream",
     "text": [
      ">>> [Train] AUROC: 0.4993 / AUPRC: 0.0691\n",
      ">>> [Valid] AUROC: 0.5000 / AUPRC: 0.0697\n"
     ]
    },
    {
     "name": "stderr",
     "output_type": "stream",
     "text": [
      "Trial 5 - Epoch 9/100 - Training: 100%|██████████| 273/273 [00:08<00:00, 32.87it/s]\n"
     ]
    },
    {
     "name": "stdout",
     "output_type": "stream",
     "text": [
      ">>> [Train] AUROC: 0.5029 / AUPRC: 0.0694\n",
      ">>> [Valid] AUROC: 0.5000 / AUPRC: 0.0697\n"
     ]
    },
    {
     "name": "stderr",
     "output_type": "stream",
     "text": [
      "Trial 5 - Epoch 10/100 - Training: 100%|██████████| 273/273 [00:08<00:00, 32.90it/s]\n"
     ]
    },
    {
     "name": "stdout",
     "output_type": "stream",
     "text": [
      ">>> [Train] AUROC: 0.5075 / AUPRC: 0.0709\n",
      ">>> [Valid] AUROC: 0.5000 / AUPRC: 0.0697\n"
     ]
    },
    {
     "name": "stderr",
     "output_type": "stream",
     "text": [
      "Trial 5 - Epoch 11/100 - Training: 100%|██████████| 273/273 [00:08<00:00, 32.88it/s]\n"
     ]
    },
    {
     "name": "stdout",
     "output_type": "stream",
     "text": [
      ">>> [Train] AUROC: 0.5041 / AUPRC: 0.0702\n",
      ">>> [Valid] AUROC: 0.5000 / AUPRC: 0.0697\n"
     ]
    },
    {
     "name": "stderr",
     "output_type": "stream",
     "text": [
      "Trial 5 - Epoch 12/100 - Training: 100%|██████████| 273/273 [00:08<00:00, 32.87it/s]\n"
     ]
    },
    {
     "name": "stdout",
     "output_type": "stream",
     "text": [
      ">>> [Train] AUROC: 0.5001 / AUPRC: 0.0703\n",
      ">>> [Valid] AUROC: 0.5000 / AUPRC: 0.0697\n",
      "Epoch 00012: reducing learning rate of group 0 to 3.6062e-04.\n"
     ]
    },
    {
     "name": "stderr",
     "output_type": "stream",
     "text": [
      "Trial 5 - Epoch 13/100 - Training: 100%|██████████| 273/273 [00:08<00:00, 32.94it/s]\n"
     ]
    },
    {
     "name": "stdout",
     "output_type": "stream",
     "text": [
      ">>> [Train] AUROC: 0.5042 / AUPRC: 0.0702\n",
      ">>> [Valid] AUROC: 0.5000 / AUPRC: 0.0697\n"
     ]
    },
    {
     "name": "stderr",
     "output_type": "stream",
     "text": [
      "Trial 5 - Epoch 14/100 - Training: 100%|██████████| 273/273 [00:08<00:00, 32.89it/s]\n"
     ]
    },
    {
     "name": "stdout",
     "output_type": "stream",
     "text": [
      ">>> [Train] AUROC: 0.5027 / AUPRC: 0.0699\n",
      ">>> [Valid] AUROC: 0.5000 / AUPRC: 0.0697\n"
     ]
    },
    {
     "name": "stderr",
     "output_type": "stream",
     "text": [
      "Trial 5 - Epoch 15/100 - Training: 100%|██████████| 273/273 [00:08<00:00, 32.80it/s]\n"
     ]
    },
    {
     "name": "stdout",
     "output_type": "stream",
     "text": [
      ">>> [Train] AUROC: 0.5022 / AUPRC: 0.0708\n",
      ">>> [Valid] AUROC: 0.5000 / AUPRC: 0.0697\n"
     ]
    },
    {
     "name": "stderr",
     "output_type": "stream",
     "text": [
      "Trial 5 - Epoch 16/100 - Training: 100%|██████████| 273/273 [00:08<00:00, 32.81it/s]\n"
     ]
    },
    {
     "name": "stdout",
     "output_type": "stream",
     "text": [
      ">>> [Train] AUROC: 0.5011 / AUPRC: 0.0700\n",
      ">>> [Valid] AUROC: 0.5000 / AUPRC: 0.0697\n"
     ]
    },
    {
     "name": "stderr",
     "output_type": "stream",
     "text": [
      "Trial 5 - Epoch 17/100 - Training: 100%|██████████| 273/273 [00:08<00:00, 32.94it/s]\n"
     ]
    },
    {
     "name": "stdout",
     "output_type": "stream",
     "text": [
      ">>> [Train] AUROC: 0.5021 / AUPRC: 0.0704\n",
      ">>> [Valid] AUROC: 0.5000 / AUPRC: 0.0697\n"
     ]
    },
    {
     "name": "stderr",
     "output_type": "stream",
     "text": [
      "Trial 5 - Epoch 18/100 - Training: 100%|██████████| 273/273 [00:08<00:00, 32.90it/s]\n"
     ]
    },
    {
     "name": "stdout",
     "output_type": "stream",
     "text": [
      ">>> [Train] AUROC: 0.4967 / AUPRC: 0.0690\n",
      ">>> [Valid] AUROC: 0.5000 / AUPRC: 0.0697\n"
     ]
    },
    {
     "name": "stderr",
     "output_type": "stream",
     "text": [
      "Trial 5 - Epoch 19/100 - Training: 100%|██████████| 273/273 [00:08<00:00, 32.86it/s]\n"
     ]
    },
    {
     "name": "stdout",
     "output_type": "stream",
     "text": [
      ">>> [Train] AUROC: 0.4976 / AUPRC: 0.0693\n",
      ">>> [Valid] AUROC: 0.5000 / AUPRC: 0.0697\n"
     ]
    },
    {
     "name": "stderr",
     "output_type": "stream",
     "text": [
      "Trial 5 - Epoch 20/100 - Training: 100%|██████████| 273/273 [00:08<00:00, 32.82it/s]\n"
     ]
    },
    {
     "name": "stdout",
     "output_type": "stream",
     "text": [
      ">>> [Train] AUROC: 0.5001 / AUPRC: 0.0697\n",
      ">>> [Valid] AUROC: 0.5000 / AUPRC: 0.0697\n"
     ]
    },
    {
     "name": "stderr",
     "output_type": "stream",
     "text": [
      "Trial 5 - Epoch 21/100 - Training: 100%|██████████| 273/273 [00:08<00:00, 32.81it/s]\n"
     ]
    },
    {
     "name": "stdout",
     "output_type": "stream",
     "text": [
      ">>> [Train] AUROC: 0.5007 / AUPRC: 0.0694\n"
     ]
    },
    {
     "name": "stderr",
     "output_type": "stream",
     "text": [
      "[I 2023-12-14 12:59:24,888] Trial 4 finished with value: 0.07584500241429262 and parameters: {'learning_rate': 0.0036061854201000173, 'batch_size': 64, 'num_epochs': 91, 'optimizer': 'SGD'}. Best is trial 3 with value: 0.08327414600988571.\n"
     ]
    },
    {
     "name": "stdout",
     "output_type": "stream",
     "text": [
      ">>> [Valid] AUROC: 0.5000 / AUPRC: 0.0697\n",
      "Early stopping\n",
      "------------------------------------------\n",
      "< Trial 5's Best Performance>\n",
      "[train_loss]: 0.7011\n",
      "[valid_loss]: 0.6931\n",
      "[train_accuracy]: 0.4996\n",
      "[valid_accuracy]: 0.9298\n",
      "[train_auroc]: 0.4985\n",
      "[valid_auroc]: 0.5028\n",
      "[train_auprc]: 0.0690\n",
      "[valid_auprc]: 0.0758 <- Pick It Up!\n",
      "----------------------------------------\n",
      ">>>>> Trial 6 Start...<<<<<\n",
      "----------------------------------------\n",
      "[Learning Rate] : 0.0022666872103461544\n",
      "[Batch Size] : 64\n",
      "[Epochs] : 100\n",
      "[Optimizer] : Adam (\n",
      "Parameter Group 0\n",
      "    amsgrad: False\n",
      "    betas: (0.9, 0.999)\n",
      "    capturable: False\n",
      "    differentiable: False\n",
      "    eps: 1e-08\n",
      "    foreach: None\n",
      "    fused: None\n",
      "    lr: 0.0022666872103461544\n",
      "    maximize: False\n",
      "    weight_decay: 0\n",
      ")\n",
      "-----------------------\n",
      ">>>>> Let's GO!!! <<<<<\n",
      "-----------------------\n"
     ]
    },
    {
     "name": "stderr",
     "output_type": "stream",
     "text": [
      "Trial 6 - Epoch 1/100 - Training: 100%|██████████| 273/273 [00:08<00:00, 32.81it/s]\n"
     ]
    },
    {
     "name": "stdout",
     "output_type": "stream",
     "text": [
      ">>> [Train] AUROC: 0.4947 / AUPRC: 0.0688\n",
      ">>> [Valid] AUROC: 0.5197 / AUPRC: 0.0847\n"
     ]
    },
    {
     "name": "stderr",
     "output_type": "stream",
     "text": [
      "Trial 6 - Epoch 2/100 - Training: 100%|██████████| 273/273 [00:08<00:00, 32.66it/s]\n"
     ]
    },
    {
     "name": "stdout",
     "output_type": "stream",
     "text": [
      ">>> [Train] AUROC: 0.5086 / AUPRC: 0.0715\n",
      ">>> [Valid] AUROC: 0.5302 / AUPRC: 0.0843\n"
     ]
    },
    {
     "name": "stderr",
     "output_type": "stream",
     "text": [
      "Trial 6 - Epoch 3/100 - Training: 100%|██████████| 273/273 [00:08<00:00, 32.72it/s]\n"
     ]
    },
    {
     "name": "stdout",
     "output_type": "stream",
     "text": [
      ">>> [Train] AUROC: 0.5063 / AUPRC: 0.0724\n",
      ">>> [Valid] AUROC: 0.5028 / AUPRC: 0.0758\n"
     ]
    },
    {
     "name": "stderr",
     "output_type": "stream",
     "text": [
      "Trial 6 - Epoch 4/100 - Training: 100%|██████████| 273/273 [00:08<00:00, 32.85it/s]\n"
     ]
    },
    {
     "name": "stdout",
     "output_type": "stream",
     "text": [
      ">>> [Train] AUROC: 0.5084 / AUPRC: 0.0724\n",
      ">>> [Valid] AUROC: 0.5275 / AUPRC: 0.0741\n"
     ]
    },
    {
     "name": "stderr",
     "output_type": "stream",
     "text": [
      "Trial 6 - Epoch 5/100 - Training: 100%|██████████| 273/273 [00:08<00:00, 32.89it/s]\n"
     ]
    },
    {
     "name": "stdout",
     "output_type": "stream",
     "text": [
      ">>> [Train] AUROC: 0.5085 / AUPRC: 0.0709\n",
      ">>> [Valid] AUROC: 0.5025 / AUPRC: 0.0709\n"
     ]
    },
    {
     "name": "stderr",
     "output_type": "stream",
     "text": [
      "Trial 6 - Epoch 6/100 - Training: 100%|██████████| 273/273 [00:08<00:00, 32.87it/s]\n"
     ]
    },
    {
     "name": "stdout",
     "output_type": "stream",
     "text": [
      ">>> [Train] AUROC: 0.5014 / AUPRC: 0.0699\n",
      ">>> [Valid] AUROC: 0.5030 / AUPRC: 0.0726\n"
     ]
    },
    {
     "name": "stderr",
     "output_type": "stream",
     "text": [
      "Trial 6 - Epoch 7/100 - Training: 100%|██████████| 273/273 [00:08<00:00, 32.95it/s]\n"
     ]
    },
    {
     "name": "stdout",
     "output_type": "stream",
     "text": [
      ">>> [Train] AUROC: 0.5019 / AUPRC: 0.0705\n",
      ">>> [Valid] AUROC: 0.5000 / AUPRC: 0.0697\n"
     ]
    },
    {
     "name": "stderr",
     "output_type": "stream",
     "text": [
      "Trial 6 - Epoch 8/100 - Training: 100%|██████████| 273/273 [00:08<00:00, 32.91it/s]\n"
     ]
    },
    {
     "name": "stdout",
     "output_type": "stream",
     "text": [
      ">>> [Train] AUROC: 0.5008 / AUPRC: 0.0690\n",
      ">>> [Valid] AUROC: 0.5000 / AUPRC: 0.0697\n"
     ]
    },
    {
     "name": "stderr",
     "output_type": "stream",
     "text": [
      "Trial 6 - Epoch 9/100 - Training: 100%|██████████| 273/273 [00:08<00:00, 32.93it/s]\n"
     ]
    },
    {
     "name": "stdout",
     "output_type": "stream",
     "text": [
      ">>> [Train] AUROC: 0.5047 / AUPRC: 0.0696\n",
      ">>> [Valid] AUROC: 0.5000 / AUPRC: 0.0697\n"
     ]
    },
    {
     "name": "stderr",
     "output_type": "stream",
     "text": [
      "Trial 6 - Epoch 10/100 - Training: 100%|██████████| 273/273 [00:08<00:00, 32.92it/s]\n"
     ]
    },
    {
     "name": "stdout",
     "output_type": "stream",
     "text": [
      ">>> [Train] AUROC: 0.5049 / AUPRC: 0.0711\n",
      ">>> [Valid] AUROC: 0.5000 / AUPRC: 0.0697\n"
     ]
    },
    {
     "name": "stderr",
     "output_type": "stream",
     "text": [
      "Trial 6 - Epoch 11/100 - Training: 100%|██████████| 273/273 [00:08<00:00, 32.90it/s]\n"
     ]
    },
    {
     "name": "stdout",
     "output_type": "stream",
     "text": [
      ">>> [Train] AUROC: 0.5061 / AUPRC: 0.0712\n",
      ">>> [Valid] AUROC: 0.5000 / AUPRC: 0.0697\n"
     ]
    },
    {
     "name": "stderr",
     "output_type": "stream",
     "text": [
      "Trial 6 - Epoch 12/100 - Training: 100%|██████████| 273/273 [00:08<00:00, 32.93it/s]\n"
     ]
    },
    {
     "name": "stdout",
     "output_type": "stream",
     "text": [
      ">>> [Train] AUROC: 0.4980 / AUPRC: 0.0696\n",
      ">>> [Valid] AUROC: 0.5000 / AUPRC: 0.0697\n",
      "Epoch 00012: reducing learning rate of group 0 to 2.2667e-04.\n"
     ]
    },
    {
     "name": "stderr",
     "output_type": "stream",
     "text": [
      "Trial 6 - Epoch 13/100 - Training: 100%|██████████| 273/273 [00:08<00:00, 32.78it/s]\n"
     ]
    },
    {
     "name": "stdout",
     "output_type": "stream",
     "text": [
      ">>> [Train] AUROC: 0.5019 / AUPRC: 0.0699\n",
      ">>> [Valid] AUROC: 0.5000 / AUPRC: 0.0697\n"
     ]
    },
    {
     "name": "stderr",
     "output_type": "stream",
     "text": [
      "Trial 6 - Epoch 14/100 - Training: 100%|██████████| 273/273 [00:08<00:00, 32.91it/s]\n"
     ]
    },
    {
     "name": "stdout",
     "output_type": "stream",
     "text": [
      ">>> [Train] AUROC: 0.5019 / AUPRC: 0.0701\n",
      ">>> [Valid] AUROC: 0.5000 / AUPRC: 0.0697\n"
     ]
    },
    {
     "name": "stderr",
     "output_type": "stream",
     "text": [
      "Trial 6 - Epoch 15/100 - Training: 100%|██████████| 273/273 [00:08<00:00, 32.91it/s]\n"
     ]
    },
    {
     "name": "stdout",
     "output_type": "stream",
     "text": [
      ">>> [Train] AUROC: 0.5088 / AUPRC: 0.0708\n",
      ">>> [Valid] AUROC: 0.5000 / AUPRC: 0.0697\n"
     ]
    },
    {
     "name": "stderr",
     "output_type": "stream",
     "text": [
      "Trial 6 - Epoch 16/100 - Training: 100%|██████████| 273/273 [00:08<00:00, 32.94it/s]\n"
     ]
    },
    {
     "name": "stdout",
     "output_type": "stream",
     "text": [
      ">>> [Train] AUROC: 0.5067 / AUPRC: 0.0705\n",
      ">>> [Valid] AUROC: 0.5000 / AUPRC: 0.0697\n"
     ]
    },
    {
     "name": "stderr",
     "output_type": "stream",
     "text": [
      "Trial 6 - Epoch 17/100 - Training: 100%|██████████| 273/273 [00:08<00:00, 32.94it/s]\n"
     ]
    },
    {
     "name": "stdout",
     "output_type": "stream",
     "text": [
      ">>> [Train] AUROC: 0.4998 / AUPRC: 0.0701\n",
      ">>> [Valid] AUROC: 0.5000 / AUPRC: 0.0697\n"
     ]
    },
    {
     "name": "stderr",
     "output_type": "stream",
     "text": [
      "Trial 6 - Epoch 18/100 - Training: 100%|██████████| 273/273 [00:08<00:00, 32.80it/s]\n"
     ]
    },
    {
     "name": "stdout",
     "output_type": "stream",
     "text": [
      ">>> [Train] AUROC: 0.4913 / AUPRC: 0.0685\n",
      ">>> [Valid] AUROC: 0.5000 / AUPRC: 0.0697\n"
     ]
    },
    {
     "name": "stderr",
     "output_type": "stream",
     "text": [
      "Trial 6 - Epoch 19/100 - Training: 100%|██████████| 273/273 [00:08<00:00, 32.74it/s]\n"
     ]
    },
    {
     "name": "stdout",
     "output_type": "stream",
     "text": [
      ">>> [Train] AUROC: 0.4950 / AUPRC: 0.0689\n",
      ">>> [Valid] AUROC: 0.5000 / AUPRC: 0.0697\n"
     ]
    },
    {
     "name": "stderr",
     "output_type": "stream",
     "text": [
      "Trial 6 - Epoch 20/100 - Training: 100%|██████████| 273/273 [00:08<00:00, 32.84it/s]\n"
     ]
    },
    {
     "name": "stdout",
     "output_type": "stream",
     "text": [
      ">>> [Train] AUROC: 0.4981 / AUPRC: 0.0695\n",
      ">>> [Valid] AUROC: 0.5000 / AUPRC: 0.0697\n"
     ]
    },
    {
     "name": "stderr",
     "output_type": "stream",
     "text": [
      "Trial 6 - Epoch 21/100 - Training: 100%|██████████| 273/273 [00:08<00:00, 32.78it/s]\n"
     ]
    },
    {
     "name": "stdout",
     "output_type": "stream",
     "text": [
      ">>> [Train] AUROC: 0.5038 / AUPRC: 0.0696\n"
     ]
    },
    {
     "name": "stderr",
     "output_type": "stream",
     "text": [
      "[I 2023-12-14 13:02:28,959] Trial 5 finished with value: 0.08472156611177689 and parameters: {'learning_rate': 0.0022666872103461544, 'batch_size': 64, 'num_epochs': 58, 'optimizer': 'Adam'}. Best is trial 5 with value: 0.08472156611177689.\n"
     ]
    },
    {
     "name": "stdout",
     "output_type": "stream",
     "text": [
      ">>> [Valid] AUROC: 0.5000 / AUPRC: 0.0697\n",
      "Early stopping\n",
      "------------------------------------------\n",
      "< Trial 6's Best Performance>\n",
      "[train_loss]: 0.7048\n",
      "[valid_loss]: 0.6931\n",
      "[train_accuracy]: 0.0694\n",
      "[valid_accuracy]: 0.0697\n",
      "[train_auroc]: 0.4947\n",
      "[valid_auroc]: 0.5197\n",
      "[train_auprc]: 0.0688\n",
      "[valid_auprc]: 0.0847 <- Pick It Up!\n",
      "----------------------------------------\n",
      ">>>>> Trial 7 Start...<<<<<\n",
      "----------------------------------------\n",
      "[Learning Rate] : 0.005251116561515167\n",
      "[Batch Size] : 64\n",
      "[Epochs] : 100\n",
      "[Optimizer] : Adam (\n",
      "Parameter Group 0\n",
      "    amsgrad: False\n",
      "    betas: (0.9, 0.999)\n",
      "    capturable: False\n",
      "    differentiable: False\n",
      "    eps: 1e-08\n",
      "    foreach: None\n",
      "    fused: None\n",
      "    lr: 0.005251116561515167\n",
      "    maximize: False\n",
      "    weight_decay: 0\n",
      ")\n",
      "-----------------------\n",
      ">>>>> Let's GO!!! <<<<<\n",
      "-----------------------\n"
     ]
    },
    {
     "name": "stderr",
     "output_type": "stream",
     "text": [
      "Trial 7 - Epoch 1/100 - Training: 100%|██████████| 273/273 [00:08<00:00, 32.86it/s]\n"
     ]
    },
    {
     "name": "stdout",
     "output_type": "stream",
     "text": [
      ">>> [Train] AUROC: 0.4962 / AUPRC: 0.0694\n",
      ">>> [Valid] AUROC: 0.5000 / AUPRC: 0.0697\n"
     ]
    },
    {
     "name": "stderr",
     "output_type": "stream",
     "text": [
      "Trial 7 - Epoch 2/100 - Training: 100%|██████████| 273/273 [00:08<00:00, 32.93it/s]\n"
     ]
    },
    {
     "name": "stdout",
     "output_type": "stream",
     "text": [
      ">>> [Train] AUROC: 0.5004 / AUPRC: 0.0703\n",
      ">>> [Valid] AUROC: 0.5000 / AUPRC: 0.0697\n"
     ]
    },
    {
     "name": "stderr",
     "output_type": "stream",
     "text": [
      "Trial 7 - Epoch 3/100 - Training: 100%|██████████| 273/273 [00:08<00:00, 32.91it/s]\n"
     ]
    },
    {
     "name": "stdout",
     "output_type": "stream",
     "text": [
      ">>> [Train] AUROC: 0.5001 / AUPRC: 0.0697\n",
      ">>> [Valid] AUROC: 0.5000 / AUPRC: 0.0697\n"
     ]
    },
    {
     "name": "stderr",
     "output_type": "stream",
     "text": [
      "Trial 7 - Epoch 4/100 - Training: 100%|██████████| 273/273 [00:08<00:00, 32.91it/s]\n"
     ]
    },
    {
     "name": "stdout",
     "output_type": "stream",
     "text": [
      ">>> [Train] AUROC: 0.5010 / AUPRC: 0.0708\n",
      ">>> [Valid] AUROC: 0.5000 / AUPRC: 0.0697\n"
     ]
    },
    {
     "name": "stderr",
     "output_type": "stream",
     "text": [
      "Trial 7 - Epoch 5/100 - Training: 100%|██████████| 273/273 [00:08<00:00, 32.84it/s]\n"
     ]
    },
    {
     "name": "stdout",
     "output_type": "stream",
     "text": [
      ">>> [Train] AUROC: 0.4999 / AUPRC: 0.0696\n",
      ">>> [Valid] AUROC: 0.5000 / AUPRC: 0.0697\n"
     ]
    },
    {
     "name": "stderr",
     "output_type": "stream",
     "text": [
      "Trial 7 - Epoch 6/100 - Training: 100%|██████████| 273/273 [00:08<00:00, 32.82it/s]\n"
     ]
    },
    {
     "name": "stdout",
     "output_type": "stream",
     "text": [
      ">>> [Train] AUROC: 0.4992 / AUPRC: 0.0694\n",
      ">>> [Valid] AUROC: 0.5000 / AUPRC: 0.0697\n"
     ]
    },
    {
     "name": "stderr",
     "output_type": "stream",
     "text": [
      "Trial 7 - Epoch 7/100 - Training: 100%|██████████| 273/273 [00:08<00:00, 32.88it/s]\n"
     ]
    },
    {
     "name": "stdout",
     "output_type": "stream",
     "text": [
      ">>> [Train] AUROC: 0.5002 / AUPRC: 0.0697\n",
      ">>> [Valid] AUROC: 0.5000 / AUPRC: 0.0697\n"
     ]
    },
    {
     "name": "stderr",
     "output_type": "stream",
     "text": [
      "Trial 7 - Epoch 8/100 - Training: 100%|██████████| 273/273 [00:08<00:00, 32.86it/s]\n"
     ]
    },
    {
     "name": "stdout",
     "output_type": "stream",
     "text": [
      ">>> [Train] AUROC: 0.5000 / AUPRC: 0.0694\n",
      ">>> [Valid] AUROC: 0.5000 / AUPRC: 0.0697\n"
     ]
    },
    {
     "name": "stderr",
     "output_type": "stream",
     "text": [
      "Trial 7 - Epoch 9/100 - Training: 100%|██████████| 273/273 [00:08<00:00, 32.77it/s]\n"
     ]
    },
    {
     "name": "stdout",
     "output_type": "stream",
     "text": [
      ">>> [Train] AUROC: 0.5000 / AUPRC: 0.0704\n",
      ">>> [Valid] AUROC: 0.5000 / AUPRC: 0.0697\n"
     ]
    },
    {
     "name": "stderr",
     "output_type": "stream",
     "text": [
      "Trial 7 - Epoch 10/100 - Training: 100%|██████████| 273/273 [00:08<00:00, 32.73it/s]\n"
     ]
    },
    {
     "name": "stdout",
     "output_type": "stream",
     "text": [
      ">>> [Train] AUROC: 0.5010 / AUPRC: 0.0697\n",
      ">>> [Valid] AUROC: 0.5000 / AUPRC: 0.0697\n"
     ]
    },
    {
     "name": "stderr",
     "output_type": "stream",
     "text": [
      "Trial 7 - Epoch 11/100 - Training: 100%|██████████| 273/273 [00:08<00:00, 32.72it/s]\n"
     ]
    },
    {
     "name": "stdout",
     "output_type": "stream",
     "text": [
      ">>> [Train] AUROC: 0.5002 / AUPRC: 0.0695\n",
      ">>> [Valid] AUROC: 0.5000 / AUPRC: 0.0697\n"
     ]
    },
    {
     "name": "stderr",
     "output_type": "stream",
     "text": [
      "Trial 7 - Epoch 12/100 - Training: 100%|██████████| 273/273 [00:08<00:00, 32.93it/s]\n"
     ]
    },
    {
     "name": "stdout",
     "output_type": "stream",
     "text": [
      ">>> [Train] AUROC: 0.5003 / AUPRC: 0.0695\n",
      ">>> [Valid] AUROC: 0.5000 / AUPRC: 0.0697\n",
      "Epoch 00012: reducing learning rate of group 0 to 5.2511e-04.\n"
     ]
    },
    {
     "name": "stderr",
     "output_type": "stream",
     "text": [
      "Trial 7 - Epoch 13/100 - Training: 100%|██████████| 273/273 [00:08<00:00, 32.88it/s]\n"
     ]
    },
    {
     "name": "stdout",
     "output_type": "stream",
     "text": [
      ">>> [Train] AUROC: 0.4999 / AUPRC: 0.0695\n",
      ">>> [Valid] AUROC: 0.5000 / AUPRC: 0.0697\n"
     ]
    },
    {
     "name": "stderr",
     "output_type": "stream",
     "text": [
      "Trial 7 - Epoch 14/100 - Training: 100%|██████████| 273/273 [00:08<00:00, 32.88it/s]\n"
     ]
    },
    {
     "name": "stdout",
     "output_type": "stream",
     "text": [
      ">>> [Train] AUROC: 0.4994 / AUPRC: 0.0694\n",
      ">>> [Valid] AUROC: 0.5000 / AUPRC: 0.0697\n"
     ]
    },
    {
     "name": "stderr",
     "output_type": "stream",
     "text": [
      "Trial 7 - Epoch 15/100 - Training: 100%|██████████| 273/273 [00:08<00:00, 32.82it/s]\n"
     ]
    },
    {
     "name": "stdout",
     "output_type": "stream",
     "text": [
      ">>> [Train] AUROC: 0.5001 / AUPRC: 0.0695\n",
      ">>> [Valid] AUROC: 0.5000 / AUPRC: 0.0697\n"
     ]
    },
    {
     "name": "stderr",
     "output_type": "stream",
     "text": [
      "Trial 7 - Epoch 16/100 - Training: 100%|██████████| 273/273 [00:08<00:00, 32.87it/s]\n"
     ]
    },
    {
     "name": "stdout",
     "output_type": "stream",
     "text": [
      ">>> [Train] AUROC: 0.4992 / AUPRC: 0.0694\n",
      ">>> [Valid] AUROC: 0.5000 / AUPRC: 0.0697\n"
     ]
    },
    {
     "name": "stderr",
     "output_type": "stream",
     "text": [
      "Trial 7 - Epoch 17/100 - Training: 100%|██████████| 273/273 [00:08<00:00, 32.92it/s]\n"
     ]
    },
    {
     "name": "stdout",
     "output_type": "stream",
     "text": [
      ">>> [Train] AUROC: 0.5009 / AUPRC: 0.0697\n",
      ">>> [Valid] AUROC: 0.5000 / AUPRC: 0.0697\n"
     ]
    },
    {
     "name": "stderr",
     "output_type": "stream",
     "text": [
      "Trial 7 - Epoch 18/100 - Training: 100%|██████████| 273/273 [00:08<00:00, 32.89it/s]\n"
     ]
    },
    {
     "name": "stdout",
     "output_type": "stream",
     "text": [
      ">>> [Train] AUROC: 0.4998 / AUPRC: 0.0694\n",
      ">>> [Valid] AUROC: 0.5000 / AUPRC: 0.0697\n"
     ]
    },
    {
     "name": "stderr",
     "output_type": "stream",
     "text": [
      "Trial 7 - Epoch 19/100 - Training: 100%|██████████| 273/273 [00:08<00:00, 32.90it/s]\n"
     ]
    },
    {
     "name": "stdout",
     "output_type": "stream",
     "text": [
      ">>> [Train] AUROC: 0.4990 / AUPRC: 0.0694\n",
      ">>> [Valid] AUROC: 0.5000 / AUPRC: 0.0697\n"
     ]
    },
    {
     "name": "stderr",
     "output_type": "stream",
     "text": [
      "Trial 7 - Epoch 20/100 - Training: 100%|██████████| 273/273 [00:08<00:00, 32.92it/s]\n"
     ]
    },
    {
     "name": "stdout",
     "output_type": "stream",
     "text": [
      ">>> [Train] AUROC: 0.5004 / AUPRC: 0.0695\n",
      ">>> [Valid] AUROC: 0.5000 / AUPRC: 0.0697\n"
     ]
    },
    {
     "name": "stderr",
     "output_type": "stream",
     "text": [
      "Trial 7 - Epoch 21/100 - Training: 100%|██████████| 273/273 [00:08<00:00, 32.92it/s]\n"
     ]
    },
    {
     "name": "stdout",
     "output_type": "stream",
     "text": [
      ">>> [Train] AUROC: 0.5007 / AUPRC: 0.0699\n"
     ]
    },
    {
     "name": "stderr",
     "output_type": "stream",
     "text": [
      "[I 2023-12-14 13:05:32,943] Trial 6 finished with value: 0.06972477064220184 and parameters: {'learning_rate': 0.005251116561515167, 'batch_size': 64, 'num_epochs': 61, 'optimizer': 'Adam'}. Best is trial 5 with value: 0.08472156611177689.\n"
     ]
    },
    {
     "name": "stdout",
     "output_type": "stream",
     "text": [
      ">>> [Valid] AUROC: 0.5000 / AUPRC: 0.0697\n",
      "Early stopping\n",
      "------------------------------------------\n",
      "< Trial 7's Best Performance>\n",
      "[train_loss]: 0.6990\n",
      "[valid_loss]: 0.6931\n",
      "[train_accuracy]: 0.8447\n",
      "[valid_accuracy]: 0.9303\n",
      "[train_auroc]: 0.4962\n",
      "[valid_auroc]: 0.5000\n",
      "[train_auprc]: 0.0694\n",
      "[valid_auprc]: 0.0697 <- Pick It Up!\n",
      "----------------------------------------\n",
      ">>>>> Trial 8 Start...<<<<<\n",
      "----------------------------------------\n",
      "[Learning Rate] : 0.009330075708664788\n",
      "[Batch Size] : 64\n",
      "[Epochs] : 100\n",
      "[Optimizer] : Adam (\n",
      "Parameter Group 0\n",
      "    amsgrad: False\n",
      "    betas: (0.9, 0.999)\n",
      "    capturable: False\n",
      "    differentiable: False\n",
      "    eps: 1e-08\n",
      "    foreach: None\n",
      "    fused: None\n",
      "    lr: 0.009330075708664788\n",
      "    maximize: False\n",
      "    weight_decay: 0\n",
      ")\n",
      "-----------------------\n",
      ">>>>> Let's GO!!! <<<<<\n",
      "-----------------------\n"
     ]
    },
    {
     "name": "stderr",
     "output_type": "stream",
     "text": [
      "Trial 8 - Epoch 1/100 - Training: 100%|██████████| 273/273 [00:08<00:00, 32.87it/s]\n"
     ]
    },
    {
     "name": "stdout",
     "output_type": "stream",
     "text": [
      ">>> [Train] AUROC: 0.4979 / AUPRC: 0.0697\n",
      ">>> [Valid] AUROC: 0.5000 / AUPRC: 0.0697\n"
     ]
    },
    {
     "name": "stderr",
     "output_type": "stream",
     "text": [
      "Trial 8 - Epoch 2/100 - Training: 100%|██████████| 273/273 [00:08<00:00, 32.87it/s]\n"
     ]
    },
    {
     "name": "stdout",
     "output_type": "stream",
     "text": [
      ">>> [Train] AUROC: 0.5000 / AUPRC: 0.0694\n",
      ">>> [Valid] AUROC: 0.5000 / AUPRC: 0.0697\n"
     ]
    },
    {
     "name": "stderr",
     "output_type": "stream",
     "text": [
      "Trial 8 - Epoch 3/100 - Training: 100%|██████████| 273/273 [00:08<00:00, 32.90it/s]\n"
     ]
    },
    {
     "name": "stdout",
     "output_type": "stream",
     "text": [
      ">>> [Train] AUROC: 0.5000 / AUPRC: 0.0694\n",
      ">>> [Valid] AUROC: 0.5000 / AUPRC: 0.0697\n"
     ]
    },
    {
     "name": "stderr",
     "output_type": "stream",
     "text": [
      "Trial 8 - Epoch 4/100 - Training: 100%|██████████| 273/273 [00:08<00:00, 32.95it/s]\n"
     ]
    },
    {
     "name": "stdout",
     "output_type": "stream",
     "text": [
      ">>> [Train] AUROC: 0.5000 / AUPRC: 0.0694\n",
      ">>> [Valid] AUROC: 0.5000 / AUPRC: 0.0697\n"
     ]
    },
    {
     "name": "stderr",
     "output_type": "stream",
     "text": [
      "Trial 8 - Epoch 5/100 - Training: 100%|██████████| 273/273 [00:08<00:00, 32.93it/s]\n"
     ]
    },
    {
     "name": "stdout",
     "output_type": "stream",
     "text": [
      ">>> [Train] AUROC: 0.5000 / AUPRC: 0.0694\n",
      ">>> [Valid] AUROC: 0.5000 / AUPRC: 0.0697\n"
     ]
    },
    {
     "name": "stderr",
     "output_type": "stream",
     "text": [
      "Trial 8 - Epoch 6/100 - Training: 100%|██████████| 273/273 [00:08<00:00, 32.93it/s]\n"
     ]
    },
    {
     "name": "stdout",
     "output_type": "stream",
     "text": [
      ">>> [Train] AUROC: 0.5000 / AUPRC: 0.0694\n",
      ">>> [Valid] AUROC: 0.5000 / AUPRC: 0.0697\n"
     ]
    },
    {
     "name": "stderr",
     "output_type": "stream",
     "text": [
      "Trial 8 - Epoch 7/100 - Training: 100%|██████████| 273/273 [00:08<00:00, 32.93it/s]\n"
     ]
    },
    {
     "name": "stdout",
     "output_type": "stream",
     "text": [
      ">>> [Train] AUROC: 0.5000 / AUPRC: 0.0694\n",
      ">>> [Valid] AUROC: 0.5000 / AUPRC: 0.0697\n"
     ]
    },
    {
     "name": "stderr",
     "output_type": "stream",
     "text": [
      "Trial 8 - Epoch 8/100 - Training: 100%|██████████| 273/273 [00:08<00:00, 32.92it/s]\n"
     ]
    },
    {
     "name": "stdout",
     "output_type": "stream",
     "text": [
      ">>> [Train] AUROC: 0.5000 / AUPRC: 0.0694\n",
      ">>> [Valid] AUROC: 0.5000 / AUPRC: 0.0697\n"
     ]
    },
    {
     "name": "stderr",
     "output_type": "stream",
     "text": [
      "Trial 8 - Epoch 9/100 - Training: 100%|██████████| 273/273 [00:08<00:00, 32.89it/s]\n"
     ]
    },
    {
     "name": "stdout",
     "output_type": "stream",
     "text": [
      ">>> [Train] AUROC: 0.5000 / AUPRC: 0.0694\n",
      ">>> [Valid] AUROC: 0.5000 / AUPRC: 0.0697\n"
     ]
    },
    {
     "name": "stderr",
     "output_type": "stream",
     "text": [
      "Trial 8 - Epoch 10/100 - Training: 100%|██████████| 273/273 [00:08<00:00, 32.88it/s]\n"
     ]
    },
    {
     "name": "stdout",
     "output_type": "stream",
     "text": [
      ">>> [Train] AUROC: 0.5000 / AUPRC: 0.0694\n",
      ">>> [Valid] AUROC: 0.5000 / AUPRC: 0.0697\n"
     ]
    },
    {
     "name": "stderr",
     "output_type": "stream",
     "text": [
      "Trial 8 - Epoch 11/100 - Training: 100%|██████████| 273/273 [00:08<00:00, 32.92it/s]\n"
     ]
    },
    {
     "name": "stdout",
     "output_type": "stream",
     "text": [
      ">>> [Train] AUROC: 0.5000 / AUPRC: 0.0694\n",
      ">>> [Valid] AUROC: 0.5000 / AUPRC: 0.0697\n"
     ]
    },
    {
     "name": "stderr",
     "output_type": "stream",
     "text": [
      "Trial 8 - Epoch 12/100 - Training: 100%|██████████| 273/273 [00:08<00:00, 32.93it/s]\n"
     ]
    },
    {
     "name": "stdout",
     "output_type": "stream",
     "text": [
      ">>> [Train] AUROC: 0.5000 / AUPRC: 0.0694\n",
      ">>> [Valid] AUROC: 0.5000 / AUPRC: 0.0697\n",
      "Epoch 00012: reducing learning rate of group 0 to 9.3301e-04.\n"
     ]
    },
    {
     "name": "stderr",
     "output_type": "stream",
     "text": [
      "Trial 8 - Epoch 13/100 - Training: 100%|██████████| 273/273 [00:08<00:00, 32.92it/s]\n"
     ]
    },
    {
     "name": "stdout",
     "output_type": "stream",
     "text": [
      ">>> [Train] AUROC: 0.5000 / AUPRC: 0.0694\n",
      ">>> [Valid] AUROC: 0.5000 / AUPRC: 0.0697\n"
     ]
    },
    {
     "name": "stderr",
     "output_type": "stream",
     "text": [
      "Trial 8 - Epoch 14/100 - Training: 100%|██████████| 273/273 [00:08<00:00, 32.94it/s]\n"
     ]
    },
    {
     "name": "stdout",
     "output_type": "stream",
     "text": [
      ">>> [Train] AUROC: 0.5000 / AUPRC: 0.0694\n",
      ">>> [Valid] AUROC: 0.5000 / AUPRC: 0.0697\n"
     ]
    },
    {
     "name": "stderr",
     "output_type": "stream",
     "text": [
      "Trial 8 - Epoch 15/100 - Training: 100%|██████████| 273/273 [00:08<00:00, 32.93it/s]\n"
     ]
    },
    {
     "name": "stdout",
     "output_type": "stream",
     "text": [
      ">>> [Train] AUROC: 0.5000 / AUPRC: 0.0694\n",
      ">>> [Valid] AUROC: 0.5000 / AUPRC: 0.0697\n"
     ]
    },
    {
     "name": "stderr",
     "output_type": "stream",
     "text": [
      "Trial 8 - Epoch 16/100 - Training: 100%|██████████| 273/273 [00:08<00:00, 32.92it/s]\n"
     ]
    },
    {
     "name": "stdout",
     "output_type": "stream",
     "text": [
      ">>> [Train] AUROC: 0.5000 / AUPRC: 0.0694\n",
      ">>> [Valid] AUROC: 0.5000 / AUPRC: 0.0697\n"
     ]
    },
    {
     "name": "stderr",
     "output_type": "stream",
     "text": [
      "Trial 8 - Epoch 17/100 - Training: 100%|██████████| 273/273 [00:08<00:00, 32.86it/s]\n"
     ]
    },
    {
     "name": "stdout",
     "output_type": "stream",
     "text": [
      ">>> [Train] AUROC: 0.5000 / AUPRC: 0.0694\n",
      ">>> [Valid] AUROC: 0.5000 / AUPRC: 0.0697\n"
     ]
    },
    {
     "name": "stderr",
     "output_type": "stream",
     "text": [
      "Trial 8 - Epoch 18/100 - Training: 100%|██████████| 273/273 [00:08<00:00, 32.87it/s]\n"
     ]
    },
    {
     "name": "stdout",
     "output_type": "stream",
     "text": [
      ">>> [Train] AUROC: 0.5000 / AUPRC: 0.0694\n",
      ">>> [Valid] AUROC: 0.5000 / AUPRC: 0.0697\n"
     ]
    },
    {
     "name": "stderr",
     "output_type": "stream",
     "text": [
      "Trial 8 - Epoch 19/100 - Training: 100%|██████████| 273/273 [00:08<00:00, 32.93it/s]\n"
     ]
    },
    {
     "name": "stdout",
     "output_type": "stream",
     "text": [
      ">>> [Train] AUROC: 0.5000 / AUPRC: 0.0694\n",
      ">>> [Valid] AUROC: 0.5000 / AUPRC: 0.0697\n"
     ]
    },
    {
     "name": "stderr",
     "output_type": "stream",
     "text": [
      "Trial 8 - Epoch 20/100 - Training: 100%|██████████| 273/273 [00:08<00:00, 32.93it/s]\n"
     ]
    },
    {
     "name": "stdout",
     "output_type": "stream",
     "text": [
      ">>> [Train] AUROC: 0.5000 / AUPRC: 0.0694\n",
      ">>> [Valid] AUROC: 0.5000 / AUPRC: 0.0697\n"
     ]
    },
    {
     "name": "stderr",
     "output_type": "stream",
     "text": [
      "Trial 8 - Epoch 21/100 - Training: 100%|██████████| 273/273 [00:08<00:00, 32.93it/s]\n"
     ]
    },
    {
     "name": "stdout",
     "output_type": "stream",
     "text": [
      ">>> [Train] AUROC: 0.5000 / AUPRC: 0.0694\n"
     ]
    },
    {
     "name": "stderr",
     "output_type": "stream",
     "text": [
      "[I 2023-12-14 13:08:36,606] Trial 7 finished with value: 0.06972477064220184 and parameters: {'learning_rate': 0.009330075708664788, 'batch_size': 64, 'num_epochs': 58, 'optimizer': 'Adam'}. Best is trial 5 with value: 0.08472156611177689.\n"
     ]
    },
    {
     "name": "stdout",
     "output_type": "stream",
     "text": [
      ">>> [Valid] AUROC: 0.5000 / AUPRC: 0.0697\n",
      "Early stopping\n",
      "------------------------------------------\n",
      "< Trial 8's Best Performance>\n",
      "[train_loss]: 0.6968\n",
      "[valid_loss]: 0.6931\n",
      "[train_accuracy]: 0.8867\n",
      "[valid_accuracy]: 0.9303\n",
      "[train_auroc]: 0.4979\n",
      "[valid_auroc]: 0.5000\n",
      "[train_auprc]: 0.0697\n",
      "[valid_auprc]: 0.0697 <- Pick It Up!\n",
      "----------------------------------------\n",
      ">>>>> Trial 9 Start...<<<<<\n",
      "----------------------------------------\n",
      "[Learning Rate] : 0.009136553274355648\n",
      "[Batch Size] : 64\n",
      "[Epochs] : 100\n",
      "[Optimizer] : Adam (\n",
      "Parameter Group 0\n",
      "    amsgrad: False\n",
      "    betas: (0.9, 0.999)\n",
      "    capturable: False\n",
      "    differentiable: False\n",
      "    eps: 1e-08\n",
      "    foreach: None\n",
      "    fused: None\n",
      "    lr: 0.009136553274355648\n",
      "    maximize: False\n",
      "    weight_decay: 0\n",
      ")\n",
      "-----------------------\n",
      ">>>>> Let's GO!!! <<<<<\n",
      "-----------------------\n"
     ]
    },
    {
     "name": "stderr",
     "output_type": "stream",
     "text": [
      "Trial 9 - Epoch 1/100 - Training: 100%|██████████| 273/273 [00:08<00:00, 32.90it/s]\n"
     ]
    },
    {
     "name": "stdout",
     "output_type": "stream",
     "text": [
      ">>> [Train] AUROC: 0.4975 / AUPRC: 0.0697\n",
      ">>> [Valid] AUROC: 0.5000 / AUPRC: 0.0697\n"
     ]
    },
    {
     "name": "stderr",
     "output_type": "stream",
     "text": [
      "Trial 9 - Epoch 2/100 - Training: 100%|██████████| 273/273 [00:08<00:00, 32.93it/s]\n"
     ]
    },
    {
     "name": "stdout",
     "output_type": "stream",
     "text": [
      ">>> [Train] AUROC: 0.5000 / AUPRC: 0.0694\n",
      ">>> [Valid] AUROC: 0.5000 / AUPRC: 0.0697\n"
     ]
    },
    {
     "name": "stderr",
     "output_type": "stream",
     "text": [
      "Trial 9 - Epoch 3/100 - Training: 100%|██████████| 273/273 [00:08<00:00, 32.92it/s]\n"
     ]
    },
    {
     "name": "stdout",
     "output_type": "stream",
     "text": [
      ">>> [Train] AUROC: 0.5000 / AUPRC: 0.0694\n",
      ">>> [Valid] AUROC: 0.5000 / AUPRC: 0.0697\n"
     ]
    },
    {
     "name": "stderr",
     "output_type": "stream",
     "text": [
      "Trial 9 - Epoch 4/100 - Training: 100%|██████████| 273/273 [00:08<00:00, 32.88it/s]\n"
     ]
    },
    {
     "name": "stdout",
     "output_type": "stream",
     "text": [
      ">>> [Train] AUROC: 0.5000 / AUPRC: 0.0694\n",
      ">>> [Valid] AUROC: 0.5000 / AUPRC: 0.0697\n"
     ]
    },
    {
     "name": "stderr",
     "output_type": "stream",
     "text": [
      "Trial 9 - Epoch 5/100 - Training: 100%|██████████| 273/273 [00:08<00:00, 32.89it/s]\n"
     ]
    },
    {
     "name": "stdout",
     "output_type": "stream",
     "text": [
      ">>> [Train] AUROC: 0.5000 / AUPRC: 0.0694\n",
      ">>> [Valid] AUROC: 0.5000 / AUPRC: 0.0697\n"
     ]
    },
    {
     "name": "stderr",
     "output_type": "stream",
     "text": [
      "Trial 9 - Epoch 6/100 - Training: 100%|██████████| 273/273 [00:08<00:00, 32.93it/s]\n"
     ]
    },
    {
     "name": "stdout",
     "output_type": "stream",
     "text": [
      ">>> [Train] AUROC: 0.5000 / AUPRC: 0.0694\n",
      ">>> [Valid] AUROC: 0.5000 / AUPRC: 0.0697\n"
     ]
    },
    {
     "name": "stderr",
     "output_type": "stream",
     "text": [
      "Trial 9 - Epoch 7/100 - Training: 100%|██████████| 273/273 [00:08<00:00, 32.93it/s]\n"
     ]
    },
    {
     "name": "stdout",
     "output_type": "stream",
     "text": [
      ">>> [Train] AUROC: 0.5000 / AUPRC: 0.0694\n",
      ">>> [Valid] AUROC: 0.5000 / AUPRC: 0.0697\n"
     ]
    },
    {
     "name": "stderr",
     "output_type": "stream",
     "text": [
      "Trial 9 - Epoch 8/100 - Training: 100%|██████████| 273/273 [00:08<00:00, 32.92it/s]\n"
     ]
    },
    {
     "name": "stdout",
     "output_type": "stream",
     "text": [
      ">>> [Train] AUROC: 0.5000 / AUPRC: 0.0694\n",
      ">>> [Valid] AUROC: 0.5000 / AUPRC: 0.0697\n"
     ]
    },
    {
     "name": "stderr",
     "output_type": "stream",
     "text": [
      "Trial 9 - Epoch 9/100 - Training: 100%|██████████| 273/273 [00:08<00:00, 32.93it/s]\n"
     ]
    },
    {
     "name": "stdout",
     "output_type": "stream",
     "text": [
      ">>> [Train] AUROC: 0.5000 / AUPRC: 0.0694\n",
      ">>> [Valid] AUROC: 0.5000 / AUPRC: 0.0697\n"
     ]
    },
    {
     "name": "stderr",
     "output_type": "stream",
     "text": [
      "Trial 9 - Epoch 10/100 - Training: 100%|██████████| 273/273 [00:08<00:00, 32.99it/s]\n"
     ]
    },
    {
     "name": "stdout",
     "output_type": "stream",
     "text": [
      ">>> [Train] AUROC: 0.5000 / AUPRC: 0.0694\n",
      ">>> [Valid] AUROC: 0.5000 / AUPRC: 0.0697\n"
     ]
    },
    {
     "name": "stderr",
     "output_type": "stream",
     "text": [
      "Trial 9 - Epoch 11/100 - Training: 100%|██████████| 273/273 [00:08<00:00, 32.89it/s]\n"
     ]
    },
    {
     "name": "stdout",
     "output_type": "stream",
     "text": [
      ">>> [Train] AUROC: 0.5000 / AUPRC: 0.0694\n",
      ">>> [Valid] AUROC: 0.5000 / AUPRC: 0.0697\n"
     ]
    },
    {
     "name": "stderr",
     "output_type": "stream",
     "text": [
      "Trial 9 - Epoch 12/100 - Training: 100%|██████████| 273/273 [00:08<00:00, 32.80it/s]\n"
     ]
    },
    {
     "name": "stdout",
     "output_type": "stream",
     "text": [
      ">>> [Train] AUROC: 0.5000 / AUPRC: 0.0694\n",
      ">>> [Valid] AUROC: 0.5000 / AUPRC: 0.0697\n",
      "Epoch 00012: reducing learning rate of group 0 to 9.1366e-04.\n"
     ]
    },
    {
     "name": "stderr",
     "output_type": "stream",
     "text": [
      "Trial 9 - Epoch 13/100 - Training: 100%|██████████| 273/273 [00:08<00:00, 32.97it/s]\n"
     ]
    },
    {
     "name": "stdout",
     "output_type": "stream",
     "text": [
      ">>> [Train] AUROC: 0.5000 / AUPRC: 0.0694\n",
      ">>> [Valid] AUROC: 0.5000 / AUPRC: 0.0697\n"
     ]
    },
    {
     "name": "stderr",
     "output_type": "stream",
     "text": [
      "Trial 9 - Epoch 14/100 - Training: 100%|██████████| 273/273 [00:08<00:00, 32.97it/s]\n"
     ]
    },
    {
     "name": "stdout",
     "output_type": "stream",
     "text": [
      ">>> [Train] AUROC: 0.5000 / AUPRC: 0.0694\n",
      ">>> [Valid] AUROC: 0.5000 / AUPRC: 0.0697\n"
     ]
    },
    {
     "name": "stderr",
     "output_type": "stream",
     "text": [
      "Trial 9 - Epoch 15/100 - Training: 100%|██████████| 273/273 [00:08<00:00, 33.01it/s]\n"
     ]
    },
    {
     "name": "stdout",
     "output_type": "stream",
     "text": [
      ">>> [Train] AUROC: 0.5000 / AUPRC: 0.0694\n",
      ">>> [Valid] AUROC: 0.5000 / AUPRC: 0.0697\n"
     ]
    },
    {
     "name": "stderr",
     "output_type": "stream",
     "text": [
      "Trial 9 - Epoch 16/100 - Training: 100%|██████████| 273/273 [00:08<00:00, 32.94it/s]\n"
     ]
    },
    {
     "name": "stdout",
     "output_type": "stream",
     "text": [
      ">>> [Train] AUROC: 0.5000 / AUPRC: 0.0694\n",
      ">>> [Valid] AUROC: 0.5000 / AUPRC: 0.0697\n"
     ]
    },
    {
     "name": "stderr",
     "output_type": "stream",
     "text": [
      "Trial 9 - Epoch 17/100 - Training: 100%|██████████| 273/273 [00:08<00:00, 32.85it/s]\n"
     ]
    },
    {
     "name": "stdout",
     "output_type": "stream",
     "text": [
      ">>> [Train] AUROC: 0.5000 / AUPRC: 0.0694\n",
      ">>> [Valid] AUROC: 0.5000 / AUPRC: 0.0697\n"
     ]
    },
    {
     "name": "stderr",
     "output_type": "stream",
     "text": [
      "Trial 9 - Epoch 18/100 - Training: 100%|██████████| 273/273 [00:08<00:00, 32.86it/s]\n"
     ]
    },
    {
     "name": "stdout",
     "output_type": "stream",
     "text": [
      ">>> [Train] AUROC: 0.5000 / AUPRC: 0.0694\n",
      ">>> [Valid] AUROC: 0.5000 / AUPRC: 0.0697\n"
     ]
    },
    {
     "name": "stderr",
     "output_type": "stream",
     "text": [
      "Trial 9 - Epoch 19/100 - Training: 100%|██████████| 273/273 [00:08<00:00, 32.86it/s]\n"
     ]
    },
    {
     "name": "stdout",
     "output_type": "stream",
     "text": [
      ">>> [Train] AUROC: 0.5000 / AUPRC: 0.0694\n",
      ">>> [Valid] AUROC: 0.5000 / AUPRC: 0.0697\n"
     ]
    },
    {
     "name": "stderr",
     "output_type": "stream",
     "text": [
      "Trial 9 - Epoch 20/100 - Training: 100%|██████████| 273/273 [00:08<00:00, 32.98it/s]\n"
     ]
    },
    {
     "name": "stdout",
     "output_type": "stream",
     "text": [
      ">>> [Train] AUROC: 0.5000 / AUPRC: 0.0694\n",
      ">>> [Valid] AUROC: 0.5000 / AUPRC: 0.0697\n"
     ]
    },
    {
     "name": "stderr",
     "output_type": "stream",
     "text": [
      "Trial 9 - Epoch 21/100 - Training: 100%|██████████| 273/273 [00:08<00:00, 32.97it/s]\n"
     ]
    },
    {
     "name": "stdout",
     "output_type": "stream",
     "text": [
      ">>> [Train] AUROC: 0.5000 / AUPRC: 0.0694\n"
     ]
    },
    {
     "name": "stderr",
     "output_type": "stream",
     "text": [
      "[I 2023-12-14 13:11:40,312] Trial 8 finished with value: 0.06972477064220184 and parameters: {'learning_rate': 0.009136553274355648, 'batch_size': 64, 'num_epochs': 93, 'optimizer': 'SGD'}. Best is trial 5 with value: 0.08472156611177689.\n"
     ]
    },
    {
     "name": "stdout",
     "output_type": "stream",
     "text": [
      ">>> [Valid] AUROC: 0.5000 / AUPRC: 0.0697\n",
      "Early stopping\n",
      "------------------------------------------\n",
      "< Trial 9's Best Performance>\n",
      "[train_loss]: 0.6969\n",
      "[valid_loss]: 0.6931\n",
      "[train_accuracy]: 0.8860\n",
      "[valid_accuracy]: 0.9303\n",
      "[train_auroc]: 0.4975\n",
      "[valid_auroc]: 0.5000\n",
      "[train_auprc]: 0.0697\n",
      "[valid_auprc]: 0.0697 <- Pick It Up!\n",
      "----------------------------------------\n",
      ">>>>> Trial 10 Start...<<<<<\n",
      "----------------------------------------\n",
      "[Learning Rate] : 0.0021258888773883536\n",
      "[Batch Size] : 64\n",
      "[Epochs] : 100\n",
      "[Optimizer] : Adam (\n",
      "Parameter Group 0\n",
      "    amsgrad: False\n",
      "    betas: (0.9, 0.999)\n",
      "    capturable: False\n",
      "    differentiable: False\n",
      "    eps: 1e-08\n",
      "    foreach: None\n",
      "    fused: None\n",
      "    lr: 0.0021258888773883536\n",
      "    maximize: False\n",
      "    weight_decay: 0\n",
      ")\n",
      "-----------------------\n",
      ">>>>> Let's GO!!! <<<<<\n",
      "-----------------------\n"
     ]
    },
    {
     "name": "stderr",
     "output_type": "stream",
     "text": [
      "Trial 10 - Epoch 1/100 - Training: 100%|██████████| 273/273 [00:08<00:00, 32.89it/s]\n"
     ]
    },
    {
     "name": "stdout",
     "output_type": "stream",
     "text": [
      ">>> [Train] AUROC: 0.4977 / AUPRC: 0.0691\n",
      ">>> [Valid] AUROC: 0.5028 / AUPRC: 0.0758\n"
     ]
    },
    {
     "name": "stderr",
     "output_type": "stream",
     "text": [
      "Trial 10 - Epoch 2/100 - Training: 100%|██████████| 273/273 [00:08<00:00, 32.91it/s]\n"
     ]
    },
    {
     "name": "stdout",
     "output_type": "stream",
     "text": [
      ">>> [Train] AUROC: 0.5101 / AUPRC: 0.0705\n",
      ">>> [Valid] AUROC: 0.5030 / AUPRC: 0.0726\n"
     ]
    },
    {
     "name": "stderr",
     "output_type": "stream",
     "text": [
      "Trial 10 - Epoch 3/100 - Training: 100%|██████████| 273/273 [00:08<00:00, 32.86it/s]\n"
     ]
    },
    {
     "name": "stdout",
     "output_type": "stream",
     "text": [
      ">>> [Train] AUROC: 0.5075 / AUPRC: 0.0724\n",
      ">>> [Valid] AUROC: 0.5000 / AUPRC: 0.0697\n"
     ]
    },
    {
     "name": "stderr",
     "output_type": "stream",
     "text": [
      "Trial 10 - Epoch 4/100 - Training: 100%|██████████| 273/273 [00:08<00:00, 32.80it/s]\n"
     ]
    },
    {
     "name": "stdout",
     "output_type": "stream",
     "text": [
      ">>> [Train] AUROC: 0.5075 / AUPRC: 0.0718\n",
      ">>> [Valid] AUROC: 0.5000 / AUPRC: 0.0697\n"
     ]
    },
    {
     "name": "stderr",
     "output_type": "stream",
     "text": [
      "Trial 10 - Epoch 5/100 - Training: 100%|██████████| 273/273 [00:08<00:00, 32.85it/s]\n"
     ]
    },
    {
     "name": "stdout",
     "output_type": "stream",
     "text": [
      ">>> [Train] AUROC: 0.4988 / AUPRC: 0.0697\n",
      ">>> [Valid] AUROC: 0.5000 / AUPRC: 0.0697\n"
     ]
    },
    {
     "name": "stderr",
     "output_type": "stream",
     "text": [
      "Trial 10 - Epoch 6/100 - Training: 100%|██████████| 273/273 [00:08<00:00, 32.79it/s]\n"
     ]
    },
    {
     "name": "stdout",
     "output_type": "stream",
     "text": [
      ">>> [Train] AUROC: 0.4990 / AUPRC: 0.0698\n",
      ">>> [Valid] AUROC: 0.5000 / AUPRC: 0.0697\n"
     ]
    },
    {
     "name": "stderr",
     "output_type": "stream",
     "text": [
      "Trial 10 - Epoch 7/100 - Training: 100%|██████████| 273/273 [00:08<00:00, 32.66it/s]\n"
     ]
    },
    {
     "name": "stdout",
     "output_type": "stream",
     "text": [
      ">>> [Train] AUROC: 0.5011 / AUPRC: 0.0707\n",
      ">>> [Valid] AUROC: 0.5000 / AUPRC: 0.0697\n"
     ]
    },
    {
     "name": "stderr",
     "output_type": "stream",
     "text": [
      "Trial 10 - Epoch 8/100 - Training: 100%|██████████| 273/273 [00:08<00:00, 32.68it/s]\n"
     ]
    },
    {
     "name": "stdout",
     "output_type": "stream",
     "text": [
      ">>> [Train] AUROC: 0.5012 / AUPRC: 0.0687\n",
      ">>> [Valid] AUROC: 0.5000 / AUPRC: 0.0697\n"
     ]
    },
    {
     "name": "stderr",
     "output_type": "stream",
     "text": [
      "Trial 10 - Epoch 9/100 - Training: 100%|██████████| 273/273 [00:08<00:00, 32.90it/s]\n"
     ]
    },
    {
     "name": "stdout",
     "output_type": "stream",
     "text": [
      ">>> [Train] AUROC: 0.5035 / AUPRC: 0.0694\n",
      ">>> [Valid] AUROC: 0.5000 / AUPRC: 0.0697\n"
     ]
    },
    {
     "name": "stderr",
     "output_type": "stream",
     "text": [
      "Trial 10 - Epoch 10/100 - Training: 100%|██████████| 273/273 [00:08<00:00, 32.92it/s]\n"
     ]
    },
    {
     "name": "stdout",
     "output_type": "stream",
     "text": [
      ">>> [Train] AUROC: 0.5063 / AUPRC: 0.0711\n",
      ">>> [Valid] AUROC: 0.5000 / AUPRC: 0.0697\n"
     ]
    },
    {
     "name": "stderr",
     "output_type": "stream",
     "text": [
      "Trial 10 - Epoch 11/100 - Training: 100%|██████████| 273/273 [00:08<00:00, 32.92it/s]\n"
     ]
    },
    {
     "name": "stdout",
     "output_type": "stream",
     "text": [
      ">>> [Train] AUROC: 0.5086 / AUPRC: 0.0710\n",
      ">>> [Valid] AUROC: 0.5000 / AUPRC: 0.0697\n"
     ]
    },
    {
     "name": "stderr",
     "output_type": "stream",
     "text": [
      "Trial 10 - Epoch 12/100 - Training: 100%|██████████| 273/273 [00:08<00:00, 32.90it/s]\n"
     ]
    },
    {
     "name": "stdout",
     "output_type": "stream",
     "text": [
      ">>> [Train] AUROC: 0.4985 / AUPRC: 0.0700\n",
      ">>> [Valid] AUROC: 0.5000 / AUPRC: 0.0697\n",
      "Epoch 00012: reducing learning rate of group 0 to 2.1259e-04.\n"
     ]
    },
    {
     "name": "stderr",
     "output_type": "stream",
     "text": [
      "Trial 10 - Epoch 13/100 - Training: 100%|██████████| 273/273 [00:08<00:00, 32.90it/s]\n"
     ]
    },
    {
     "name": "stdout",
     "output_type": "stream",
     "text": [
      ">>> [Train] AUROC: 0.5015 / AUPRC: 0.0701\n",
      ">>> [Valid] AUROC: 0.5000 / AUPRC: 0.0697\n"
     ]
    },
    {
     "name": "stderr",
     "output_type": "stream",
     "text": [
      "Trial 10 - Epoch 14/100 - Training: 100%|██████████| 273/273 [00:08<00:00, 32.87it/s]\n"
     ]
    },
    {
     "name": "stdout",
     "output_type": "stream",
     "text": [
      ">>> [Train] AUROC: 0.5013 / AUPRC: 0.0701\n",
      ">>> [Valid] AUROC: 0.5000 / AUPRC: 0.0697\n"
     ]
    },
    {
     "name": "stderr",
     "output_type": "stream",
     "text": [
      "Trial 10 - Epoch 15/100 - Training: 100%|██████████| 273/273 [00:08<00:00, 32.89it/s]\n"
     ]
    },
    {
     "name": "stdout",
     "output_type": "stream",
     "text": [
      ">>> [Train] AUROC: 0.5012 / AUPRC: 0.0703\n",
      ">>> [Valid] AUROC: 0.5000 / AUPRC: 0.0697\n"
     ]
    },
    {
     "name": "stderr",
     "output_type": "stream",
     "text": [
      "Trial 10 - Epoch 16/100 - Training: 100%|██████████| 273/273 [00:08<00:00, 32.91it/s]\n"
     ]
    },
    {
     "name": "stdout",
     "output_type": "stream",
     "text": [
      ">>> [Train] AUROC: 0.5033 / AUPRC: 0.0704\n",
      ">>> [Valid] AUROC: 0.5000 / AUPRC: 0.0697\n"
     ]
    },
    {
     "name": "stderr",
     "output_type": "stream",
     "text": [
      "Trial 10 - Epoch 17/100 - Training: 100%|██████████| 273/273 [00:08<00:00, 32.80it/s]\n"
     ]
    },
    {
     "name": "stdout",
     "output_type": "stream",
     "text": [
      ">>> [Train] AUROC: 0.4970 / AUPRC: 0.0704\n",
      ">>> [Valid] AUROC: 0.5000 / AUPRC: 0.0697\n"
     ]
    },
    {
     "name": "stderr",
     "output_type": "stream",
     "text": [
      "Trial 10 - Epoch 18/100 - Training: 100%|██████████| 273/273 [00:08<00:00, 32.90it/s]\n"
     ]
    },
    {
     "name": "stdout",
     "output_type": "stream",
     "text": [
      ">>> [Train] AUROC: 0.4942 / AUPRC: 0.0686\n",
      ">>> [Valid] AUROC: 0.5000 / AUPRC: 0.0697\n"
     ]
    },
    {
     "name": "stderr",
     "output_type": "stream",
     "text": [
      "Trial 10 - Epoch 19/100 - Training: 100%|██████████| 273/273 [00:08<00:00, 32.69it/s]\n"
     ]
    },
    {
     "name": "stdout",
     "output_type": "stream",
     "text": [
      ">>> [Train] AUROC: 0.4994 / AUPRC: 0.0692\n",
      ">>> [Valid] AUROC: 0.5000 / AUPRC: 0.0697\n"
     ]
    },
    {
     "name": "stderr",
     "output_type": "stream",
     "text": [
      "Trial 10 - Epoch 20/100 - Training: 100%|██████████| 273/273 [00:08<00:00, 32.82it/s]\n"
     ]
    },
    {
     "name": "stdout",
     "output_type": "stream",
     "text": [
      ">>> [Train] AUROC: 0.4990 / AUPRC: 0.0696\n",
      ">>> [Valid] AUROC: 0.5000 / AUPRC: 0.0697\n"
     ]
    },
    {
     "name": "stderr",
     "output_type": "stream",
     "text": [
      "Trial 10 - Epoch 21/100 - Training: 100%|██████████| 273/273 [00:08<00:00, 32.89it/s]\n"
     ]
    },
    {
     "name": "stdout",
     "output_type": "stream",
     "text": [
      ">>> [Train] AUROC: 0.5054 / AUPRC: 0.0700\n"
     ]
    },
    {
     "name": "stderr",
     "output_type": "stream",
     "text": [
      "[I 2023-12-14 13:14:45,418] Trial 9 finished with value: 0.07584500241429262 and parameters: {'learning_rate': 0.0021258888773883536, 'batch_size': 64, 'num_epochs': 78, 'optimizer': 'SGD'}. Best is trial 5 with value: 0.08472156611177689.\n"
     ]
    },
    {
     "name": "stdout",
     "output_type": "stream",
     "text": [
      ">>> [Valid] AUROC: 0.5000 / AUPRC: 0.0697\n",
      "Early stopping\n",
      "------------------------------------------\n",
      "< Trial 10's Best Performance>\n",
      "[train_loss]: 0.7054\n",
      "[valid_loss]: 0.6931\n",
      "[train_accuracy]: 0.1326\n",
      "[valid_accuracy]: 0.0697\n",
      "[train_auroc]: 0.4977\n",
      "[valid_auroc]: 0.5028\n",
      "[train_auprc]: 0.0691\n",
      "[valid_auprc]: 0.0758 <- Pick It Up!\n",
      "최고 성능을 보인 시도: 6\n",
      "최적의 하이퍼파라미터: {'learning_rate': 0.0022666872103461544, 'batch_size': 64, 'num_epochs': 58, 'optimizer': 'Adam'}\n"
     ]
    }
   ],
   "source": [
    "# 옵튜나 스터디 객체 생성 및 최적화 실행\n",
    "study = optuna.create_study(direction='maximize')\n",
    "study.optimize(objective, n_trials=10)\n",
    "\n",
    "# 최적의 하이퍼파라미터 출력\n",
    "best_trial = study.best_trial\n",
    "best_model_path = f'trial_{best_trial.number+1}_best_model.pth'\n",
    "best_performance_path = f'trial_{best_trial.number+1}_best_performance.json'\n",
    "\n",
    "print(f\"최고 성능을 보인 시도: {best_trial.number+1}\")\n",
    "print(\"최적의 하이퍼파라미터: {}\".format(study.best_trial.params))"
   ]
  },
  {
   "cell_type": "markdown",
   "metadata": {},
   "source": [
    "## Train 결과 확인"
   ]
  },
  {
   "cell_type": "code",
   "execution_count": 11,
   "metadata": {},
   "outputs": [
    {
     "data": {
      "image/png": "[encoded data removed]",
      "text/plain": [
       "<Figure size 1000x600 with 4 Axes>"
      ]
     },
     "metadata": {},
     "output_type": "display_data"
    }
   ],
   "source": [
    "def plot_metric_subplot(train_metric, val_metric, metric_name, subplot_position):\n",
    "    \"\"\"\n",
    "    서브플롯 위치에 성능 지표에 대한 그래프를 그립니다.\n",
    "    :param train_metric: 훈련 데이터의 성능 지표\n",
    "    :param val_metric: 검증 데이터의 성능 지표\n",
    "    :param metric_name: 그래프에 표시할 성능 지표의 이름\n",
    "    :param subplot_position: subplot의 위치 (예: 221, 222, 223, 224)\n",
    "    \"\"\"\n",
    "    plt.subplot(subplot_position)\n",
    "    epochs = range(1, len(train_metric) + 1)\n",
    "    plt.plot(epochs, train_metric, 'b-', label='Train', lw=1)\n",
    "    plt.plot(epochs, val_metric, 'r-', label='Valid', lw=1)\n",
    "    plt.title(metric_name, fontsize=12)\n",
    "    plt.xlabel('Epochs', fontsize=8)\n",
    "\n",
    "\n",
    "\n",
    "    # Y축 눈금을 소수점 두 자리 형식으로 설정\n",
    "    ax = plt.gca()\n",
    "    y_vals = ax.get_yticks()\n",
    "    ax.yaxis.set_major_locator(FixedLocator(y_vals))\n",
    "    ax.set_yticklabels(['{:.2f}'.format(y) for y in y_vals])\n",
    "\n",
    "    plt.legend()\n",
    "\n",
    "\n",
    "\n",
    "# 성능 지표를 파일에서 불러오는 함수\n",
    "def load_metrics(filename):\n",
    "    with open(filename, 'r') as file:\n",
    "        data = json.load(file)\n",
    "        train_losses = [epoch_info['train_loss'] for epoch_info in data.values()]\n",
    "        val_losses = [epoch_info['valid_loss'] for epoch_info in data.values()]\n",
    "        train_accuracies = [epoch_info['train_accuracy'] for epoch_info in data.values()]\n",
    "        val_accuracies = [epoch_info['valid_accuracy'] for epoch_info in data.values()]\n",
    "        train_aurocs = [epoch_info['train_auroc'] for epoch_info in data.values()]\n",
    "        val_aurocs = [epoch_info['valid_auroc'] for epoch_info in data.values()]\n",
    "        train_auprcs = [epoch_info['train_auprc'] for epoch_info in data.values()]\n",
    "        val_auprcs = [epoch_info['valid_auprc'] for epoch_info in data.values()]\n",
    "        return train_losses, val_losses, train_accuracies, val_accuracies, train_aurocs, val_aurocs, train_auprcs, val_auprcs\n",
    "\n",
    "# 파일에서 성능 지표를 불러옵니다.\n",
    "train_losses, val_losses, train_accuracies, val_accuracies, train_aurocs, val_aurocs, train_auprcs, val_auprcs = load_metrics('model_info.json')\n",
    "\n",
    "\n",
    "\n",
    "# 2x2 격자 형태로 그래프 그리기\n",
    "plt.figure(figsize=(10, 6))  # 전체 그래프의 크기 설정\n",
    "plt.suptitle('Performance Metrics', fontsize=16)\n",
    "\n",
    "plot_metric_subplot(train_losses, val_losses, 'Loss', 221)\n",
    "plot_metric_subplot(train_accuracies, val_accuracies, 'Accuracy', 222)\n",
    "plot_metric_subplot(train_aurocs, val_aurocs, 'AUROC', 223)\n",
    "plot_metric_subplot(train_auprcs, val_auprcs, 'AUPRC', 224)\n",
    "\n",
    "plt.subplots_adjust(left=0.125, bottom=0.1,  right=0.9, top=0.9, wspace=0.2, hspace=0.6)\n",
    "plt.show()\n"
   ]
  },
  {
   "cell_type": "markdown",
   "metadata": {},
   "source": [
    "# Test"
   ]
  },
  {
   "cell_type": "code",
   "execution_count": 10,
   "metadata": {},
   "outputs": [],
   "source": [
    "\n",
    "\n",
    "# ROC 커브와 PRC 그리기\n",
    "def plot_roc_and_prc(y_true, y_pred, data_name):\n",
    "    # ROC 커브\n",
    "    fpr, tpr, _ = roc_curve(y_true, y_pred)\n",
    "    plt.figure(figsize=(12, 5))\n",
    "    plt.subplot(1, 2, 1)\n",
    "    plt.plot(fpr, tpr, color='darkorange', lw=2, label='ROC curve')\n",
    "    plt.plot([0, 1], [0, 1], color='black', lw=1, linestyle='--')\n",
    "    plt.xlabel('False Positive Rate')\n",
    "    plt.ylabel('True Positive Rate')\n",
    "    plt.title(f'ROC Curve for {data_name}')\n",
    "    plt.legend(loc=\"lower right\")\n",
    "\n",
    "    # PRC\n",
    "    precision, recall, _ = precision_recall_curve(y_true, y_pred)\n",
    "    plt.subplot(1, 2, 2)\n",
    "    plt.plot(recall, precision, color='green', lw=2, label='PR curve')\n",
    "    plt.xlabel('Recall')\n",
    "    plt.ylabel('Precision')\n",
    "    plt.title(f'Precision-Recall Curve for {data_name}')\n",
    "    plt.legend(loc=\"lower left\")\n",
    "    plt.show()\n",
    "\n",
    "# Youden Index를 사용하여 최적의 임계값 찾기\n",
    "def find_optimal_cutoff(y_true, y_pred):\n",
    "    fpr, tpr, thresholds = roc_curve(y_true, y_pred)\n",
    "    youden_index = tpr - fpr\n",
    "    optimal_idx = np.argmax(youden_index)\n",
    "    optimal_threshold = thresholds[optimal_idx]\n",
    "    return optimal_threshold\n",
    "\n",
    "# Confusion Matrix 시각화\n",
    "def plot_confusion_matrix(y_true, y_pred, thresh, data_name):\n",
    "    cm = confusion_matrix(y_true, y_pred > thresh)\n",
    "    sns.heatmap(cm, annot=True, fmt='d', cmap='Blues')\n",
    "    plt.title(f'Confusion Matrix for {data_name}')\n",
    "    plt.ylabel('Actual')\n",
    "    plt.xlabel('Predicted')\n",
    "    plt.show()\n",
    "\n",
    "\n",
    "def test_model(model, test_loader, data_name):\n",
    "    device = torch.device(\"cuda\" if torch.cuda.is_available() else \"cpu\")\n",
    "    model = model.to(device)\n",
    "    model.eval()\n",
    "    criterion = nn.BCEWithLogitsLoss()\n",
    "\n",
    "    test_loss, test_preds, test_targets = 0.0, [], []\n",
    "    with torch.no_grad():\n",
    "        for inputs, labels in tqdm(test_loader, desc=f\"Testing {data_name}\"):\n",
    "            inputs, labels = inputs.to(device), labels.to(device)\n",
    "            outputs = model(inputs)\n",
    "            test_loss += criterion(outputs.view(-1), labels.float()).item()\n",
    "            test_preds.extend(torch.sigmoid(outputs).view(-1).cpu().detach().numpy())\n",
    "            test_targets.extend(labels.cpu().numpy())\n",
    "\n",
    "    optimal_threshold = find_optimal_cutoff(test_targets, test_preds)\n",
    "    test_accuracy = accuracy_score(test_targets, np.array(test_preds) > optimal_threshold)\n",
    "    test_loss /= len(test_loader)\n",
    "    test_auroc = roc_auc_score(test_targets, test_preds)\n",
    "    test_auprc = average_precision_score(test_targets, test_preds)\n",
    "\n",
    "    print(f'[{data_name} Test] AUROC: {test_auroc:.4f} / AUPRC: {test_auprc:.4f} / Accuracy: {test_accuracy * 100:.2f}% / Loss: {test_loss:.4f}')\n",
    "    plot_roc_and_prc(test_targets, test_preds, data_name)\n",
    "    plot_confusion_matrix(test_targets, test_preds, optimal_threshold, data_name)\n",
    "\n",
    "\n",
    "def test_datasets(model_class, model_filename):\n",
    "    try:\n",
    "        model = model_class()\n",
    "        model.load_state_dict(torch.load(model_filename))\n",
    "\n",
    "        # PTB 데이터셋 테스트\n",
    "        _, _, ptb_test_loader = create_dataloaders()\n",
    "        test_model(model, ptb_test_loader, \"PTB\")\n",
    "\n",
    "        # SPH 데이터셋 테스트\n",
    "        sph_test_loader = load_sph_data()\n",
    "        test_model(model, sph_test_loader, \"SPH\")\n",
    "\n",
    "    except Exception as e:\n",
    "        print(f\"Testing failed: {e}\")"
   ]
  },
  {
   "cell_type": "code",
   "execution_count": 11,
   "metadata": {},
   "outputs": [
    {
     "name": "stderr",
     "output_type": "stream",
     "text": [
      "Testing PTB: 100%|██████████| 35/35 [00:00<00:00, 125.27it/s]\n"
     ]
    },
    {
     "name": "stdout",
     "output_type": "stream",
     "text": [
      "[PTB Test] AUROC: 0.5349 / AUPRC: 0.0747 / Accuracy: 89.45% / Loss: 0.6931\n"
     ]
    },
    {
     "data": {
      "image/png": "[encoded data removed]",
      "text/plain": [
       "<Figure size 1200x500 with 2 Axes>"
      ]
     },
     "metadata": {},
     "output_type": "display_data"
    },
    {
     "data": {
      "image/png": "[encoded data removed]",
      "text/plain": [
       "<Figure size 640x480 with 2 Axes>"
      ]
     },
     "metadata": {},
     "output_type": "display_data"
    },
    {
     "name": "stderr",
     "output_type": "stream",
     "text": [
      "Testing SPH: 100%|██████████| 403/403 [00:03<00:00, 122.94it/s]\n"
     ]
    },
    {
     "name": "stdout",
     "output_type": "stream",
     "text": [
      "[SPH Test] AUROC: 0.4597 / AUPRC: 0.0239 / Accuracy: 97.38% / Loss: 0.6931\n"
     ]
    },
    {
     "data": {
      "image/png": "[encoded data removed]",
      "text/plain": [
       "<Figure size 1200x500 with 2 Axes>"
      ]
     },
     "metadata": {},
     "output_type": "display_data"
    },
    {
     "data": {
      "image/png": "[encoded data removed]",
      "text/plain": [
       "<Figure size 640x480 with 2 Axes>"
      ]
     },
     "metadata": {},
     "output_type": "display_data"
    }
   ],
   "source": [
    "# 두 데이터셋을 함께 테스트\n",
    "test_datasets(CNNLSTMModel, '/DATA/workspace/harbud/ecg/CL_trial_6_best_model.pth')"
   ]
  },
  {
   "cell_type": "code",
   "execution_count": null,
   "metadata": {},
   "outputs": [],
   "source": []
  }
 ],
 "metadata": {
  "kernelspec": {
   "display_name": "Python 3",
   "language": "python",
   "name": "python3"
  },
  "language_info": {
   "codemirror_mode": {
    "name": "ipython",
    "version": 3
   },
   "file_extension": ".py",
   "mimetype": "text/x-python",
   "name": "python",
   "nbconvert_exporter": "python",
   "pygments_lexer": "ipython3",
   "version": "3.8.10"
  }
 },
 "nbformat": 4,
 "nbformat_minor": 2
}
