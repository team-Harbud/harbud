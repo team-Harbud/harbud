{
 "cells": [
  {
   "cell_type": "code",
   "execution_count": 2,
   "metadata": {},
   "outputs": [
    {
     "name": "stderr",
     "output_type": "stream",
     "text": [
      "/usr/lib/python3/dist-packages/requests/__init__.py:89: RequestsDependencyWarning: urllib3 (2.1.0) or chardet (5.2.0) doesn't match a supported version!\n",
      "  warnings.warn(\"urllib3 ({}) or chardet ({}) doesn't match a supported \"\n",
      "/usr/local/lib/python3.8/dist-packages/tqdm/auto.py:21: TqdmWarning: IProgress not found. Please update jupyter and ipywidgets. See https://ipywidgets.readthedocs.io/en/stable/user_install.html\n",
      "  from .autonotebook import tqdm as notebook_tqdm\n"
     ]
    }
   ],
   "source": [
    "import torch\n",
    "import torch.nn as nn\n",
    "import torch.nn.functional as F\n",
    "import torch.optim as optim\n",
    "from torch.utils.data import DataLoader, TensorDataset\n",
    "\n",
    "import numpy as np\n",
    "import pandas as pd\n",
    "from sklearn.model_selection import train_test_split\n",
    "from sklearn.metrics import (\n",
    "    roc_auc_score, accuracy_score, precision_recall_curve, \n",
    "    precision_score, recall_score, f1_score, confusion_matrix, roc_curve, average_precision_score\n",
    ")\n",
    "\n",
    "import seaborn as sns\n",
    "import matplotlib.pyplot as plt\n",
    "from matplotlib.ticker import FixedLocator\n",
    "from tqdm import tqdm\n",
    "\n",
    "\n",
    "import json\n",
    "import yaml\n",
    "import random\n",
    "import wandb\n",
    "import ast\n",
    "import optuna"
   ]
  },
  {
   "cell_type": "markdown",
   "metadata": {},
   "source": [
    "# Data Load"
   ]
  },
  {
   "cell_type": "code",
   "execution_count": 3,
   "metadata": {},
   "outputs": [],
   "source": [
    "def load_ptb_data():\n",
    "    # PTB-XL 데이터셋 로드 및 전처리\n",
    "    df_ptb = pd.read_csv('./ptb_xl_data/ptbxl_database.csv', index_col='ecg_id')\n",
    "    df_ptb.scp_codes = df_ptb.scp_codes.apply(lambda x: ast.literal_eval(x))\n",
    "    df_ptb.scp_codes = df_ptb.scp_codes.apply(lambda x: list(x.keys()))\n",
    "    df_ptb['label'] = df_ptb.scp_codes.apply(lambda arr: 1 if 'AFIB' in arr else 0)\n",
    "    # 총 21799개 중 AFIB 라벨이 있는 샘플은 1514개로 6.95%에 해당, 샘플 불균형 존재\n",
    "\n",
    "    labels = df_ptb['label'].values\n",
    "    lead1_signals = np.load('./custom_file/annie_ptb_xl_lead1.npy')\n",
    "\n",
    "\n",
    "    # 데이터 정규화 (전체)\n",
    "    lead1_signals_normalized = (lead1_signals - lead1_signals.mean()) / (lead1_signals.std()+1e-7)\n",
    "\n",
    "    # 데이터셋을 텐서로 변환\n",
    "    X = torch.Tensor(lead1_signals_normalized)\n",
    "    y = torch.Tensor(labels).long()\n",
    "\n",
    "    # 데이터 분할 (훈련:검증:테스트 = 8:1:1)\n",
    "    X_train, X_temp, y_train, y_temp = train_test_split(X, y, test_size=0.2, random_state=42, stratify=y)\n",
    "    X_val, X_test, y_val, y_test = train_test_split(X_temp, y_temp, test_size=0.5, random_state=42, stratify=y_temp)\n",
    "\n",
    "    # 채널 수를 1로 추가\n",
    "    X_train = X_train.unsqueeze(1)\n",
    "    X_val = X_val.unsqueeze(1)\n",
    "    X_test = X_test.unsqueeze(1)\n",
    "\n",
    "    return X_train, X_val, X_test, y_train, y_val, y_test\n",
    "\n",
    "\n",
    "\n",
    "def create_dataloaders(batch_size=64):\n",
    "    # DataLoader 생성, batch_size를 변경하려면 함수 호출 시 파라미터 변경\n",
    "    X_train, X_val, X_test, y_train, y_val, y_test = load_ptb_data()\n",
    "\n",
    "    # DataLoader 생성\n",
    "    train_data = TensorDataset(X_train, y_train)\n",
    "    val_data = TensorDataset(X_val, y_val)\n",
    "    test_data = TensorDataset(X_test, y_test)\n",
    "\n",
    "    train_loader = DataLoader(train_data, shuffle=True, batch_size=batch_size)\n",
    "    val_loader = DataLoader(val_data, batch_size=batch_size)\n",
    "    test_loader = DataLoader(test_data, batch_size=batch_size)\n",
    "\n",
    "    return train_loader, val_loader, test_loader\n",
    "\n",
    "\n",
    "\n",
    "def load_sph_data(batch_size=64):\n",
    "    # SPH 데이터 로드 및 전처리\n",
    "    df_sph = pd.read_csv(\"./sph_data/metadata.csv\", index_col='ECG_ID')\n",
    "    # 'AHA_Code' 컬럼의 각 값에 대해 '50'이 포함되어 있는지 확인하고, 'label' 컬럼 생성\n",
    "    def check_contains_50(code):\n",
    "        numbers = code.replace(' ', '').replace('+', ';').split(';')\n",
    "        return '50' in numbers\n",
    "\n",
    "    df_sph['label'] = df_sph['AHA_Code'].apply(check_contains_50).astype(int)\n",
    "    \n",
    "    sph_labels = df_sph['label'].values\n",
    "\n",
    "    sph_signals = np.load('./custom_file/annie_sph_lead1.npy')\n",
    "    sph_signals_float = sph_signals.astype(np.float32)\n",
    "    mean = np.mean(sph_signals_float)\n",
    "    std = np.std(sph_signals_float)\n",
    "    sph_signals_normalized = (sph_signals_float - mean) / (std + 1e-7)\n",
    "\n",
    "\n",
    "    # 데이터 정규화 및 텐서 변환\n",
    "    X_sph = torch.Tensor(sph_signals_normalized)\n",
    "    y_sph = torch.Tensor(df_sph['label'].values).long()\n",
    "\n",
    "    X_sph = X_sph.unsqueeze(1)\n",
    "\n",
    "    sph_data = TensorDataset(X_sph, y_sph)\n",
    "    sph_loader = DataLoader(sph_data, batch_size=batch_size)\n",
    "\n",
    "    return sph_loader\n",
    "\n"
   ]
  },
  {
   "cell_type": "markdown",
   "metadata": {},
   "source": [
    "# 1D CNN Modeling"
   ]
  },
  {
   "cell_type": "code",
   "execution_count": 4,
   "metadata": {},
   "outputs": [],
   "source": [
    "# SimpleCNN\n",
    "\n",
    "class SimpleCNN(nn.Module):\n",
    "    def __init__(self):\n",
    "        super(SimpleCNN, self).__init__()\n",
    "        self.conv1 = nn.Conv1d(1, 32, kernel_size=5, stride=2) \n",
    "        self.pool = nn.MaxPool1d(kernel_size=5, stride=1) \n",
    "        self.conv2 = nn.Conv1d(32, 64, kernel_size=5) \n",
    "        self.fc1 = nn.Linear(64 * 2486, 1000) \n",
    "        self.fc2 = nn.Linear(1000, 500)\n",
    "        self.fc3 = nn.Linear(500, 1)\n",
    "\n",
    "    def forward(self, x):\n",
    "        x = self.pool(nn.functional.leaky_relu(self.conv1(x)))\n",
    "        x = self.pool(nn.functional.leaky_relu(self.conv2(x)))\n",
    "        x = x.view(-1, 64 * 2486)\n",
    "        x = nn.functional.leaky_relu(self.fc1(x))\n",
    "        x = nn.functional.leaky_relu(self.fc2(x))\n",
    "        x = self.fc3(x)\n",
    "        return x\n",
    "\n",
    "\n",
    "\n",
    "# 논문 구현 코드\n",
    "\n",
    "class Custom1DCNN(nn.Module):\n",
    "    def __init__(self):\n",
    "        super(Custom1DCNN, self).__init__()\n",
    "\n",
    "        # Convolutional Blocks\n",
    "        self.conv1 = nn.Conv1d(1, 32, kernel_size=5)\n",
    "        self.bn1 = nn.BatchNorm1d(32)\n",
    "        self.relu = nn.ReLU()\n",
    "        self.maxpool1 = nn.MaxPool1d(2)\n",
    "\n",
    "        self.conv2 = nn.Conv1d(32, 32, kernel_size=5)\n",
    "        self.maxpool2 = nn.MaxPool1d(2)\n",
    "\n",
    "        self.conv3 = nn.Conv1d(32, 64, kernel_size=5)\n",
    "        self.maxpool3 = nn.MaxPool1d(2)\n",
    "\n",
    "        self.conv4 = nn.Conv1d(64, 64, kernel_size=5)\n",
    "        self.maxpool4 = nn.MaxPool1d(2)\n",
    "\n",
    "        self.conv5 = nn.Conv1d(64, 128, kernel_size=5)\n",
    "        self.maxpool5 = nn.MaxPool1d(2)\n",
    "\n",
    "        self.conv6 = nn.Conv1d(128, 128, kernel_size=5)\n",
    "        self.maxpool6 = nn.MaxPool1d(2)\n",
    "\n",
    "        self.dropout1 = nn.Dropout(0.5)\n",
    "\n",
    "        self.conv7 = nn.Conv1d(128, 256, kernel_size=5)\n",
    "        self.maxpool7 = nn.MaxPool1d(2)\n",
    "\n",
    "        self.conv8 = nn.Conv1d(256, 256, kernel_size=5)\n",
    "        self.maxpool8 = nn.MaxPool1d(2)\n",
    "\n",
    "        self.dropout2 = nn.Dropout(0.5)\n",
    "\n",
    "        self.conv9 = nn.Conv1d(256, 512, kernel_size=5)\n",
    "        self.maxpool9 = nn.MaxPool1d(2)\n",
    "\n",
    "        self.dropout3 = nn.Dropout(0.5)\n",
    "\n",
    "        self.conv10 = nn.Conv1d(512, 512, kernel_size=5)\n",
    "\n",
    "        # Fully Connected Blocks\n",
    "        self.flatten = nn.Flatten()\n",
    "\n",
    "        self.dense1 = nn.Linear(512, 128)\n",
    "        self.batch_norm_dense1 = nn.BatchNorm1d(128)  # BatchNorm1d for Dense1\n",
    "        self.dropout4 = nn.Dropout(0.5)\n",
    "\n",
    "        self.dense2 = nn.Linear(128, 32)\n",
    "        self.batch_norm_dense2 = nn.BatchNorm1d(32)  # BatchNorm1d for Dense2\n",
    "\n",
    "        self.dense3 = nn.Linear(32, 1)\n",
    "        \n",
    "\n",
    "    def forward(self, x):\n",
    "        # Convolutional Blocks\n",
    "        x = self.maxpool1(self.relu(self.bn1(self.conv1(x))))\n",
    "        x = self.maxpool2(self.relu(self.conv2(x)))\n",
    "        x = self.maxpool3(self.relu(self.conv3(x)))\n",
    "        x = self.maxpool4(self.relu(self.conv4(x)))\n",
    "        x = self.maxpool5(self.relu(self.conv5(x)))\n",
    "        x = self.maxpool6(self.relu(self.conv6(x)))\n",
    "        x = self.dropout1(x)\n",
    "        x = self.maxpool7(self.relu(self.conv7(x)))\n",
    "        x = self.maxpool8(self.relu(self.conv8(x)))\n",
    "        x = self.dropout2(x)\n",
    "        x = self.maxpool9(self.relu(self.conv9(x)))\n",
    "        x = self.dropout3(x)\n",
    "        x = self.conv10(x)\n",
    "\n",
    "        # Fully Connected Blocks\n",
    "        x = self.flatten(x)\n",
    "        x = self.dropout4(self.relu(self.batch_norm_dense1(self.dense1(x))))\n",
    "        x = self.relu(self.batch_norm_dense2(self.dense2(x)))\n",
    "        x = self.dense3(x)\n",
    "\n",
    "        return x"
   ]
  },
  {
   "cell_type": "markdown",
   "metadata": {},
   "source": [
    "# 1D CNN + LSTM Modeling"
   ]
  },
  {
   "cell_type": "code",
   "execution_count": 21,
   "metadata": {},
   "outputs": [],
   "source": [
    "\n",
    "class CNNLSTMModel(nn.Module):\n",
    "    def __init__(self):\n",
    "        super(CNNLSTMModel, self).__init__()\n",
    "        \n",
    "        # 첫번째 Convolutional Block\n",
    "        self.conv1 = nn.Conv1d(in_channels=1, out_channels=64, kernel_size=50, stride=1)\n",
    "        self.relu1 = nn.ReLU()\n",
    "        self.maxpool1 = nn.MaxPool1d(kernel_size=20, stride=2)\n",
    "        self.dropout1 = nn.Dropout(p=0.1)\n",
    "\n",
    "        # 두번째 Convolutional Block\n",
    "        self.conv2 = nn.Conv1d(in_channels=64, out_channels=32, kernel_size=10, stride=1)\n",
    "        self.relu2 = nn.ReLU()\n",
    "        self.maxpool2 = nn.MaxPool1d(kernel_size=10, stride=2)\n",
    "        self.dropout2 = nn.Dropout(p=0.1)\n",
    "\n",
    "        # 세번째 Convolutional Block\n",
    "        self.conv3 = nn.Conv1d(in_channels=32, out_channels=16, kernel_size=5, stride=1)\n",
    "        self.relu3 = nn.ReLU()\n",
    "        self.maxpool3 = nn.MaxPool1d(kernel_size=5, stride=2)\n",
    "        self.dropout3 = nn.Dropout(p=0.1)\n",
    "\n",
    "        # LSTM Block\n",
    "        self.lstm = nn.LSTM(input_size=16, hidden_size=32, batch_first=True)\n",
    "        self.dropout_lstm = nn.Dropout(p=0.1)\n",
    "\n",
    "        # Dense Layers\n",
    "        self.dense1 = nn.Linear(32, 32)\n",
    "        self.relu_dense1 = nn.ReLU()\n",
    "        self.dropout_dense1 = nn.Dropout(p=0.1)\n",
    "\n",
    "        self.dense2 = nn.Linear(32, 16)\n",
    "        self.relu_dense2 = nn.ReLU()\n",
    "\n",
    "        # Output Layer - 이중분류를 위해 출력 유닛을 1로 설정\n",
    "        self.output = nn.Linear(16, 1)\n",
    "\n",
    "    def forward(self, x):\n",
    "        # x: ECG 데이터 (Batch Size, Channels, Length)\n",
    "        \n",
    "        # Convolutional Blocks\n",
    "        x = self.dropout1(self.maxpool1(self.relu1(self.conv1(x))))\n",
    "        x = self.dropout2(self.maxpool2(self.relu2(self.conv2(x))))\n",
    "        x = self.dropout3(self.maxpool3(self.relu3(self.conv3(x))))\n",
    "\n",
    "        # print(x.shape) # (32, 16, 591)\n",
    "\n",
    "        # LSTM Layer - LSTM은 추가적인 차원을 요구하기 때문에 차원 조정이 필요합니다.\n",
    "        x = x.permute(0, 2, 1) # (Batch Size, Sequence Length, Features)\n",
    "        x, (hn, cn) = self.lstm(x)\n",
    "        x = self.dropout_lstm(x[:, -1, :]) # 마지막 시퀀스의 출력만 사용\n",
    "\n",
    "        # Dense Layers\n",
    "        x = self.dropout_dense1(self.relu_dense1(self.dense1(x)))\n",
    "        x = self.relu_dense2(self.dense2(x))\n",
    "\n",
    "        # Output Layer - 시그모이드 활성화 함수를 사용하여 0과 1 사이의 값을 출력\n",
    "        x = torch.sigmoid(self.output(x))\n",
    "        return x\n"
   ]
  },
  {
   "cell_type": "code",
   "execution_count": 22,
   "metadata": {},
   "outputs": [],
   "source": [
    "class SimplifiedCNNLSTMModel(nn.Module):\n",
    "    def __init__(self):\n",
    "        super(SimplifiedCNNLSTMModel, self).__init__()\n",
    "        \n",
    "        # 첫번째 Convolutional Block\n",
    "        self.conv1 = nn.Conv1d(in_channels=1, out_channels=32, kernel_size=5, stride=1)\n",
    "        self.bn1 = nn.BatchNorm1d(32)\n",
    "        self.relu1 = nn.ReLU()\n",
    "        self.maxpool1 = nn.MaxPool1d(kernel_size=2, stride=2)\n",
    "        self.dropout1 = nn.Dropout(p=0.1)\n",
    "\n",
    "        # 두번째 Convolutional Block\n",
    "        self.conv2 = nn.Conv1d(in_channels=32, out_channels=16, kernel_size=5, stride=1)\n",
    "        self.bn2 = nn.BatchNorm1d(16)\n",
    "        self.relu2 = nn.ReLU()\n",
    "        self.maxpool2 = nn.MaxPool1d(kernel_size=2, stride=2)\n",
    "        self.dropout2 = nn.Dropout(p=0.1)\n",
    "\n",
    "        # LSTM Block\n",
    "        self.lstm = nn.LSTM(input_size=16, hidden_size=16, batch_first=True)\n",
    "        self.dropout_lstm = nn.Dropout(p=0.1)\n",
    "\n",
    "        # Dense Layer\n",
    "        self.dense = nn.Linear(16, 16)\n",
    "        self.relu_dense = nn.ReLU()\n",
    "\n",
    "        # Output Layer\n",
    "        self.output = nn.Linear(16, 1)\n",
    "\n",
    "    def forward(self, x):\n",
    "        # Convolutional Blocks\n",
    "        x = self.dropout1(self.maxpool1(self.relu1(self.bn1(self.conv1(x)))))\n",
    "        x = self.dropout2(self.maxpool2(self.relu2(self.bn2(self.conv2(x)))))\n",
    "\n",
    "        # LSTM Layer\n",
    "        x = x.permute(0, 2, 1)\n",
    "        x, (hn, cn) = self.lstm(x)\n",
    "        x = self.dropout_lstm(x[:, -1, :])\n",
    "\n",
    "        # Dense Layer\n",
    "        x = self.relu_dense(self.dense(x))\n",
    "\n",
    "        # Output Layer\n",
    "        x = torch.sigmoid(self.output(x))\n",
    "        return x\n"
   ]
  },
  {
   "cell_type": "markdown",
   "metadata": {},
   "source": [
    "# Training"
   ]
  },
  {
   "cell_type": "code",
   "execution_count": 6,
   "metadata": {},
   "outputs": [
    {
     "name": "stdout",
     "output_type": "stream",
     "text": [
      "-----------------------\n",
      "Learning Rate: 0.001\n",
      "Batch Size: 64\n",
      "Number of Epochs: 100\n",
      "-----------------------\n",
      ">>>>> Let's GO!!! <<<<<\n",
      "-----------------------\n"
     ]
    },
    {
     "name": "stderr",
     "output_type": "stream",
     "text": [
      "Epoch 1/100 - Training: 100%|██████████| 273/273 [00:11<00:00, 23.53it/s]\n"
     ]
    },
    {
     "name": "stdout",
     "output_type": "stream",
     "text": [
      ">>> [Train] AUROC: 0.4926 / AUPRC: 0.0694\n",
      ">>> [Valid] AUROC: 0.5080 / AUPRC: 0.0683\n"
     ]
    },
    {
     "name": "stderr",
     "output_type": "stream",
     "text": [
      "Epoch 2/100 - Training: 100%|██████████| 273/273 [00:07<00:00, 36.84it/s]\n"
     ]
    },
    {
     "name": "stdout",
     "output_type": "stream",
     "text": [
      ">>> [Train] AUROC: 0.5058 / AUPRC: 0.0714\n",
      ">>> [Valid] AUROC: 0.5377 / AUPRC: 0.0860\n"
     ]
    },
    {
     "name": "stderr",
     "output_type": "stream",
     "text": [
      "Epoch 3/100 - Training: 100%|██████████| 273/273 [00:07<00:00, 36.93it/s]\n"
     ]
    },
    {
     "name": "stdout",
     "output_type": "stream",
     "text": [
      ">>> [Train] AUROC: 0.5126 / AUPRC: 0.0745\n",
      ">>> [Valid] AUROC: 0.5295 / AUPRC: 0.0768\n"
     ]
    },
    {
     "name": "stderr",
     "output_type": "stream",
     "text": [
      "Epoch 4/100 - Training: 100%|██████████| 273/273 [00:07<00:00, 36.49it/s]\n"
     ]
    },
    {
     "name": "stdout",
     "output_type": "stream",
     "text": [
      ">>> [Train] AUROC: 0.5149 / AUPRC: 0.0825\n",
      ">>> [Valid] AUROC: 0.5343 / AUPRC: 0.0839\n"
     ]
    },
    {
     "name": "stderr",
     "output_type": "stream",
     "text": [
      "Epoch 5/100 - Training: 100%|██████████| 273/273 [00:07<00:00, 36.41it/s]\n"
     ]
    },
    {
     "name": "stdout",
     "output_type": "stream",
     "text": [
      ">>> [Train] AUROC: 0.5587 / AUPRC: 0.0929\n",
      ">>> [Valid] AUROC: 0.5922 / AUPRC: 0.1018\n"
     ]
    },
    {
     "name": "stderr",
     "output_type": "stream",
     "text": [
      "Epoch 6/100 - Training: 100%|██████████| 273/273 [00:07<00:00, 36.58it/s]\n"
     ]
    },
    {
     "name": "stdout",
     "output_type": "stream",
     "text": [
      ">>> [Train] AUROC: 0.7147 / AUPRC: 0.1638\n",
      ">>> [Valid] AUROC: 0.9469 / AUPRC: 0.5096\n"
     ]
    },
    {
     "name": "stderr",
     "output_type": "stream",
     "text": [
      "Epoch 7/100 - Training: 100%|██████████| 273/273 [00:07<00:00, 36.63it/s]\n"
     ]
    },
    {
     "name": "stdout",
     "output_type": "stream",
     "text": [
      ">>> [Train] AUROC: 0.9467 / AUPRC: 0.5369\n",
      ">>> [Valid] AUROC: 0.9788 / AUPRC: 0.6749\n"
     ]
    },
    {
     "name": "stderr",
     "output_type": "stream",
     "text": [
      "Epoch 8/100 - Training: 100%|██████████| 273/273 [00:07<00:00, 36.87it/s]\n"
     ]
    },
    {
     "name": "stdout",
     "output_type": "stream",
     "text": [
      ">>> [Train] AUROC: 0.9647 / AUPRC: 0.6424\n",
      ">>> [Valid] AUROC: 0.9753 / AUPRC: 0.6283\n"
     ]
    },
    {
     "name": "stderr",
     "output_type": "stream",
     "text": [
      "Epoch 9/100 - Training: 100%|██████████| 273/273 [00:07<00:00, 36.49it/s]\n"
     ]
    },
    {
     "name": "stdout",
     "output_type": "stream",
     "text": [
      ">>> [Train] AUROC: 0.9730 / AUPRC: 0.7020\n",
      ">>> [Valid] AUROC: 0.9830 / AUPRC: 0.6979\n"
     ]
    },
    {
     "name": "stderr",
     "output_type": "stream",
     "text": [
      "Epoch 10/100 - Training: 100%|██████████| 273/273 [00:07<00:00, 35.65it/s]\n"
     ]
    },
    {
     "name": "stdout",
     "output_type": "stream",
     "text": [
      ">>> [Train] AUROC: 0.9765 / AUPRC: 0.7184\n",
      ">>> [Valid] AUROC: 0.9845 / AUPRC: 0.7401\n"
     ]
    },
    {
     "name": "stderr",
     "output_type": "stream",
     "text": [
      "Epoch 11/100 - Training: 100%|██████████| 273/273 [00:07<00:00, 35.86it/s]\n"
     ]
    },
    {
     "name": "stdout",
     "output_type": "stream",
     "text": [
      ">>> [Train] AUROC: 0.9748 / AUPRC: 0.7161\n",
      ">>> [Valid] AUROC: 0.9857 / AUPRC: 0.7667\n"
     ]
    },
    {
     "name": "stderr",
     "output_type": "stream",
     "text": [
      "Epoch 12/100 - Training: 100%|██████████| 273/273 [00:07<00:00, 36.48it/s]\n"
     ]
    },
    {
     "name": "stdout",
     "output_type": "stream",
     "text": [
      ">>> [Train] AUROC: 0.9770 / AUPRC: 0.7293\n",
      ">>> [Valid] AUROC: 0.9850 / AUPRC: 0.7661\n"
     ]
    },
    {
     "name": "stderr",
     "output_type": "stream",
     "text": [
      "Epoch 13/100 - Training: 100%|██████████| 273/273 [00:07<00:00, 35.47it/s]\n"
     ]
    },
    {
     "name": "stdout",
     "output_type": "stream",
     "text": [
      ">>> [Train] AUROC: 0.9791 / AUPRC: 0.7621\n",
      ">>> [Valid] AUROC: 0.9882 / AUPRC: 0.8163\n"
     ]
    },
    {
     "name": "stderr",
     "output_type": "stream",
     "text": [
      "Epoch 14/100 - Training: 100%|██████████| 273/273 [00:07<00:00, 35.80it/s]\n"
     ]
    },
    {
     "name": "stdout",
     "output_type": "stream",
     "text": [
      ">>> [Train] AUROC: 0.9823 / AUPRC: 0.7602\n",
      ">>> [Valid] AUROC: 0.9850 / AUPRC: 0.7787\n"
     ]
    },
    {
     "name": "stderr",
     "output_type": "stream",
     "text": [
      "Epoch 15/100 - Training: 100%|██████████| 273/273 [00:07<00:00, 35.87it/s]\n"
     ]
    },
    {
     "name": "stdout",
     "output_type": "stream",
     "text": [
      ">>> [Train] AUROC: 0.9819 / AUPRC: 0.7952\n",
      ">>> [Valid] AUROC: 0.9868 / AUPRC: 0.8332\n"
     ]
    },
    {
     "name": "stderr",
     "output_type": "stream",
     "text": [
      "Epoch 16/100 - Training: 100%|██████████| 273/273 [00:07<00:00, 36.27it/s]\n"
     ]
    },
    {
     "name": "stdout",
     "output_type": "stream",
     "text": [
      ">>> [Train] AUROC: 0.9806 / AUPRC: 0.7761\n",
      ">>> [Valid] AUROC: 0.9855 / AUPRC: 0.7963\n"
     ]
    },
    {
     "name": "stderr",
     "output_type": "stream",
     "text": [
      "Epoch 17/100 - Training: 100%|██████████| 273/273 [00:07<00:00, 36.25it/s]\n"
     ]
    },
    {
     "name": "stdout",
     "output_type": "stream",
     "text": [
      ">>> [Train] AUROC: 0.9829 / AUPRC: 0.7881\n",
      ">>> [Valid] AUROC: 0.9903 / AUPRC: 0.8730\n"
     ]
    },
    {
     "name": "stderr",
     "output_type": "stream",
     "text": [
      "Epoch 18/100 - Training: 100%|██████████| 273/273 [00:07<00:00, 36.25it/s]\n"
     ]
    },
    {
     "name": "stdout",
     "output_type": "stream",
     "text": [
      ">>> [Train] AUROC: 0.9835 / AUPRC: 0.8038\n",
      ">>> [Valid] AUROC: 0.9896 / AUPRC: 0.8708\n"
     ]
    },
    {
     "name": "stderr",
     "output_type": "stream",
     "text": [
      "Epoch 19/100 - Training: 100%|██████████| 273/273 [00:07<00:00, 36.07it/s]\n"
     ]
    },
    {
     "name": "stdout",
     "output_type": "stream",
     "text": [
      ">>> [Train] AUROC: 0.9863 / AUPRC: 0.8111\n",
      ">>> [Valid] AUROC: 0.9911 / AUPRC: 0.8977\n"
     ]
    },
    {
     "name": "stderr",
     "output_type": "stream",
     "text": [
      "Epoch 20/100 - Training: 100%|██████████| 273/273 [00:07<00:00, 36.14it/s]\n"
     ]
    },
    {
     "name": "stdout",
     "output_type": "stream",
     "text": [
      ">>> [Train] AUROC: 0.9853 / AUPRC: 0.8119\n",
      ">>> [Valid] AUROC: 0.9902 / AUPRC: 0.8779\n"
     ]
    },
    {
     "name": "stderr",
     "output_type": "stream",
     "text": [
      "Epoch 21/100 - Training: 100%|██████████| 273/273 [00:07<00:00, 35.62it/s]\n"
     ]
    },
    {
     "name": "stdout",
     "output_type": "stream",
     "text": [
      ">>> [Train] AUROC: 0.9864 / AUPRC: 0.8489\n",
      ">>> [Valid] AUROC: 0.9838 / AUPRC: 0.8770\n"
     ]
    },
    {
     "name": "stderr",
     "output_type": "stream",
     "text": [
      "Epoch 22/100 - Training: 100%|██████████| 273/273 [00:07<00:00, 35.97it/s]\n"
     ]
    },
    {
     "name": "stdout",
     "output_type": "stream",
     "text": [
      ">>> [Train] AUROC: 0.9883 / AUPRC: 0.8490\n",
      ">>> [Valid] AUROC: 0.9904 / AUPRC: 0.8825\n"
     ]
    },
    {
     "name": "stderr",
     "output_type": "stream",
     "text": [
      "Epoch 23/100 - Training: 100%|██████████| 273/273 [00:07<00:00, 36.23it/s]\n"
     ]
    },
    {
     "name": "stdout",
     "output_type": "stream",
     "text": [
      ">>> [Train] AUROC: 0.9891 / AUPRC: 0.8548\n",
      ">>> [Valid] AUROC: 0.9917 / AUPRC: 0.9144\n"
     ]
    },
    {
     "name": "stderr",
     "output_type": "stream",
     "text": [
      "Epoch 24/100 - Training: 100%|██████████| 273/273 [00:07<00:00, 36.25it/s]\n"
     ]
    },
    {
     "name": "stdout",
     "output_type": "stream",
     "text": [
      ">>> [Train] AUROC: 0.9899 / AUPRC: 0.8643\n",
      ">>> [Valid] AUROC: 0.9918 / AUPRC: 0.9103\n"
     ]
    },
    {
     "name": "stderr",
     "output_type": "stream",
     "text": [
      "Epoch 25/100 - Training: 100%|██████████| 273/273 [00:07<00:00, 36.36it/s]\n"
     ]
    },
    {
     "name": "stdout",
     "output_type": "stream",
     "text": [
      ">>> [Train] AUROC: 0.9901 / AUPRC: 0.8844\n",
      ">>> [Valid] AUROC: 0.9854 / AUPRC: 0.8195\n"
     ]
    },
    {
     "name": "stderr",
     "output_type": "stream",
     "text": [
      "Epoch 26/100 - Training: 100%|██████████| 273/273 [00:07<00:00, 36.35it/s]\n"
     ]
    },
    {
     "name": "stdout",
     "output_type": "stream",
     "text": [
      ">>> [Train] AUROC: 0.9906 / AUPRC: 0.8969\n",
      ">>> [Valid] AUROC: 0.9911 / AUPRC: 0.8952\n"
     ]
    },
    {
     "name": "stderr",
     "output_type": "stream",
     "text": [
      "Epoch 27/100 - Training: 100%|██████████| 273/273 [00:07<00:00, 36.43it/s]\n"
     ]
    },
    {
     "name": "stdout",
     "output_type": "stream",
     "text": [
      ">>> [Train] AUROC: 0.9914 / AUPRC: 0.8889\n",
      ">>> [Valid] AUROC: 0.9871 / AUPRC: 0.8566\n"
     ]
    },
    {
     "name": "stderr",
     "output_type": "stream",
     "text": [
      "Epoch 28/100 - Training: 100%|██████████| 273/273 [00:07<00:00, 36.01it/s]\n"
     ]
    },
    {
     "name": "stdout",
     "output_type": "stream",
     "text": [
      ">>> [Train] AUROC: 0.9923 / AUPRC: 0.9071\n",
      ">>> [Valid] AUROC: 0.9878 / AUPRC: 0.8938\n"
     ]
    },
    {
     "name": "stderr",
     "output_type": "stream",
     "text": [
      "Epoch 29/100 - Training: 100%|██████████| 273/273 [00:07<00:00, 35.31it/s]\n"
     ]
    },
    {
     "name": "stdout",
     "output_type": "stream",
     "text": [
      ">>> [Train] AUROC: 0.9921 / AUPRC: 0.9007\n",
      ">>> [Valid] AUROC: 0.9905 / AUPRC: 0.9014\n"
     ]
    },
    {
     "name": "stderr",
     "output_type": "stream",
     "text": [
      "Epoch 30/100 - Training: 100%|██████████| 273/273 [00:07<00:00, 35.59it/s]\n"
     ]
    },
    {
     "name": "stdout",
     "output_type": "stream",
     "text": [
      ">>> [Train] AUROC: 0.9930 / AUPRC: 0.9152\n",
      ">>> [Valid] AUROC: 0.9895 / AUPRC: 0.9174\n"
     ]
    },
    {
     "name": "stderr",
     "output_type": "stream",
     "text": [
      "Epoch 31/100 - Training: 100%|██████████| 273/273 [00:07<00:00, 35.93it/s]\n"
     ]
    },
    {
     "name": "stdout",
     "output_type": "stream",
     "text": [
      ">>> [Train] AUROC: 0.9944 / AUPRC: 0.9278\n",
      ">>> [Valid] AUROC: 0.9836 / AUPRC: 0.9056\n"
     ]
    },
    {
     "name": "stderr",
     "output_type": "stream",
     "text": [
      "Epoch 32/100 - Training: 100%|██████████| 273/273 [00:07<00:00, 36.22it/s]\n"
     ]
    },
    {
     "name": "stdout",
     "output_type": "stream",
     "text": [
      ">>> [Train] AUROC: 0.9943 / AUPRC: 0.9271\n",
      ">>> [Valid] AUROC: 0.9928 / AUPRC: 0.9229\n"
     ]
    },
    {
     "name": "stderr",
     "output_type": "stream",
     "text": [
      "Epoch 33/100 - Training: 100%|██████████| 273/273 [00:07<00:00, 36.47it/s]\n"
     ]
    },
    {
     "name": "stdout",
     "output_type": "stream",
     "text": [
      ">>> [Train] AUROC: 0.9946 / AUPRC: 0.9355\n",
      ">>> [Valid] AUROC: 0.9865 / AUPRC: 0.9058\n"
     ]
    },
    {
     "name": "stderr",
     "output_type": "stream",
     "text": [
      "Epoch 34/100 - Training: 100%|██████████| 273/273 [00:07<00:00, 36.55it/s]\n"
     ]
    },
    {
     "name": "stdout",
     "output_type": "stream",
     "text": [
      ">>> [Train] AUROC: 0.9946 / AUPRC: 0.9349\n",
      ">>> [Valid] AUROC: 0.9893 / AUPRC: 0.9073\n"
     ]
    },
    {
     "name": "stderr",
     "output_type": "stream",
     "text": [
      "Epoch 35/100 - Training: 100%|██████████| 273/273 [00:07<00:00, 36.46it/s]\n"
     ]
    },
    {
     "name": "stdout",
     "output_type": "stream",
     "text": [
      ">>> [Train] AUROC: 0.9934 / AUPRC: 0.9426\n",
      ">>> [Valid] AUROC: 0.9878 / AUPRC: 0.9180\n"
     ]
    },
    {
     "name": "stderr",
     "output_type": "stream",
     "text": [
      "Epoch 36/100 - Training: 100%|██████████| 273/273 [00:07<00:00, 36.59it/s]\n"
     ]
    },
    {
     "name": "stdout",
     "output_type": "stream",
     "text": [
      ">>> [Train] AUROC: 0.9951 / AUPRC: 0.9498\n",
      ">>> [Valid] AUROC: 0.9898 / AUPRC: 0.9240\n"
     ]
    },
    {
     "name": "stderr",
     "output_type": "stream",
     "text": [
      "Epoch 37/100 - Training: 100%|██████████| 273/273 [00:07<00:00, 35.42it/s]\n"
     ]
    },
    {
     "name": "stdout",
     "output_type": "stream",
     "text": [
      ">>> [Train] AUROC: 0.9950 / AUPRC: 0.9498\n",
      ">>> [Valid] AUROC: 0.9882 / AUPRC: 0.9192\n"
     ]
    },
    {
     "name": "stderr",
     "output_type": "stream",
     "text": [
      "Epoch 38/100 - Training: 100%|██████████| 273/273 [00:07<00:00, 36.06it/s]\n"
     ]
    },
    {
     "name": "stdout",
     "output_type": "stream",
     "text": [
      ">>> [Train] AUROC: 0.9960 / AUPRC: 0.9568\n",
      ">>> [Valid] AUROC: 0.9873 / AUPRC: 0.9164\n"
     ]
    },
    {
     "name": "stderr",
     "output_type": "stream",
     "text": [
      "Epoch 39/100 - Training:  59%|█████▊    | 160/273 [00:04<00:03, 35.17it/s]"
     ]
    }
   ],
   "source": [
    "# 사용자 정의 모듈을 임포트합니다.\n",
    "from annie_data_prep import create_dataloaders, load_sph_data\n",
    "from annie_cnn_model import SimpleCNN, Custom1DCNN, Custom1DCNNWithBatchNormAndDropout\n",
    "from annie_cnnlstm_model import CNNLSTMModel\n",
    "\n",
    "\n",
    "## 모델 시드 고정 \n",
    "seed = 42\n",
    "torch.manual_seed(seed)\n",
    "np.random.seed(seed)\n",
    "random.seed(seed)\n",
    "if torch.cuda.is_available():\n",
    "    torch.cuda.manual_seed(seed)\n",
    "    torch.cuda.manual_seed_all(seed)  # 멀티 GPU를 사용하는 경우\n",
    "    torch.backends.cudnn.deterministic = True\n",
    "    torch.backends.cudnn.benchmark = False\n",
    "    \n",
    "\n",
    "\n",
    "#with open('./annie_hypprm.yaml', 'r') as file:\n",
    "#    hyperparameters = yaml.load(file, Loader=yaml.FullLoader)\n",
    "\n",
    "#learning_rate = hyperparameters['learning_rate']\n",
    "#batch_size = hyperparameters['batch_size']\n",
    "#num_epochs = hyperparameters['num_epochs']\n",
    "\n",
    "\n",
    "\n",
    "learning_rate = 0.001\n",
    "batch_size = 64\n",
    "num_epochs = 100\n",
    "\n",
    "\n",
    "# 하이퍼파라미터 출력\n",
    "print(\"-\"*23)\n",
    "print(f\"Learning Rate: {learning_rate}\")\n",
    "print(f\"Batch Size: {batch_size}\")\n",
    "print(f\"Number of Epochs: {num_epochs}\")\n",
    "print(\"-\"*23)\n",
    "print(\">>>>> Let's GO!!! <<<<<\")\n",
    "print(\"-\"*23)\n",
    "\n",
    "#print(f\"Hidden Units: {hidden_units}\")\n",
    "\n",
    "\n",
    "\n",
    "# 모델을 GPU로 옮기기\n",
    "device = torch.device(\"cuda\" if torch.cuda.is_available() else \"cpu\")\n",
    "model = Custom1DCNN().to(device)\n",
    "# Custom1DCNNWithBatchNormAndDropout\n",
    "\n",
    "\n",
    "# 손실 함수 및 옵티마이저 설정\n",
    "criterion = nn.BCEWithLogitsLoss()\n",
    "optimizer = optim.Adam(model.parameters(), lr=learning_rate)\n",
    "scheduler = optim.lr_scheduler.ReduceLROnPlateau(optimizer, 'max', patience=7, factor=0.1, verbose=True)\n",
    "\n",
    "\n",
    "\n",
    "def train_model():\n",
    "    # 학습 및 검증 결과 기록을 위한 사전 선언\n",
    "    model_info = {}\n",
    "\n",
    "    # 학습 및 검증 과정에서의 손실과 정확도 기록\n",
    "    train_losses = []\n",
    "    train_accuracies = []\n",
    "    train_aurocs = []  # 훈련 데이터 AUROC 기록을 위한 리스트\n",
    "    train_auprcs = []  # 훈련 데이터 AUPRC 기록을 위한 리스트\n",
    "    val_losses = []\n",
    "    val_accuracies = []\n",
    "    val_aurocs = []\n",
    "    val_auprcs = []  # AUPRC 기록을 위한 리스트 추가\n",
    "\n",
    "    train_loader, val_loader, _ = create_dataloaders(batch_size)\n",
    "    #best_auroc = float('-inf')  # 최고 AUROC 기록을 위한 초기값 설정\n",
    "    best_auprc = float('-inf')  # 최고 AUPRC 기록을 위한 초기값 설정\n",
    "    best_auprc_info = None  # 최고 AUPRC 값을 가진 모델의 정보를 저장할 변수\n",
    "\n",
    "\n",
    "    epochs_no_improve = 0\n",
    "    early_stop = False\n",
    "    patience = 10\n",
    "\n",
    "    for epoch in range(num_epochs):\n",
    "        # 훈련 루프\n",
    "        model.train()\n",
    "        train_loss = 0.0\n",
    "        train_preds, train_targets = [], []\n",
    "\n",
    "        for inputs, labels in tqdm(train_loader, desc=f\"Epoch {epoch+1}/{num_epochs} - Training\"):\n",
    "            inputs, labels = inputs.to(device), labels.to(device)\n",
    "            optimizer.zero_grad()  # 그래디언트 초기화\n",
    "\n",
    "            # 순전파 및 역전파\n",
    "            outputs = model(inputs)\n",
    "            loss = criterion(outputs.view(-1), labels.float())\n",
    "            loss.backward()\n",
    "            optimizer.step()\n",
    "\n",
    "            train_loss += loss.item()\n",
    "            train_preds.extend(torch.sigmoid(outputs).view(-1).cpu().detach().numpy())\n",
    "            train_targets.extend(labels.cpu().numpy())\n",
    "\n",
    "        train_loss /= len(train_loader)\n",
    "        train_accuracy = accuracy_score(train_targets, np.round(train_preds))\n",
    "        train_auroc = roc_auc_score(train_targets, train_preds)\n",
    "        train_auprc = average_precision_score(train_targets, train_preds)\n",
    "        train_losses.append(train_loss)\n",
    "        train_accuracies.append(train_accuracy)\n",
    "        train_aurocs.append(train_auroc)\n",
    "        train_auprcs.append(train_auprc)\n",
    "        print(f\">>> [Train] AUROC: {train_auroc:.4f} / AUPRC: {train_auprc:.4f}\")\n",
    "\n",
    "\n",
    "\n",
    "        # 검증 루프\n",
    "        model.eval()\n",
    "        val_loss, val_preds, val_targets = 0.0, [], []\n",
    "\n",
    "        with torch.no_grad():\n",
    "            for inputs, labels in val_loader:\n",
    "                inputs, labels = inputs.to(device), labels.to(device)\n",
    "                outputs = model(inputs)\n",
    "                loss = criterion(outputs.view(-1), labels.float())\n",
    "                val_loss += loss.item()\n",
    "                val_preds.extend(torch.sigmoid(outputs).view(-1).cpu().detach().numpy())\n",
    "                val_targets.extend(labels.cpu().numpy())\n",
    "\n",
    "        val_loss /= len(val_loader)\n",
    "        val_accuracy = accuracy_score(val_targets, np.round(val_preds))\n",
    "        val_auroc = roc_auc_score(val_targets, val_preds)\n",
    "        val_auprc = average_precision_score(val_targets, val_preds)\n",
    "        val_losses.append(val_loss)\n",
    "        val_accuracies.append(val_accuracy)\n",
    "        val_aurocs.append(val_auroc)\n",
    "        val_auprcs.append(val_auprc)\n",
    "        print(f\">>> [Valid] AUROC: {val_auroc:.4f} / AUPRC: {val_auprc:.4f}\")\n",
    "\n",
    "\n",
    "        # 에포크 결과 기록\n",
    "        epoch_info = {\n",
    "            'train_loss': train_loss,\n",
    "            'valid_loss': val_loss,\n",
    "            'train_accuracy': train_accuracy,  \n",
    "            'valid_accuracy': val_accuracy,      \n",
    "            'train_auroc': train_auroc,\n",
    "            'valid_auroc': val_auroc,\n",
    "            'train_auprc': train_auprc,        \n",
    "            'valid_auprc': val_auprc\n",
    "        }\n",
    "        model_info[epoch + 1] = epoch_info\n",
    "\n",
    "\n",
    "        # 스케줄러 업데이트\n",
    "        scheduler.step(val_auprc)\n",
    "\n",
    "        # Early Stopping 체크 및 모델 저장\n",
    "        if val_auprc > best_auprc:\n",
    "            best_auprc = val_auprc\n",
    "            epochs_no_improve = 0\n",
    "            best_auprc_info = epoch_info  # 최고 AUPRC 값을 갱신할 때 정보 저장\n",
    "            torch.save(model.state_dict(), 'Deep_best_model.pth')\n",
    "        else:\n",
    "            epochs_no_improve += 1\n",
    "            if epochs_no_improve == patience:\n",
    "                print(\"Early stopping\")\n",
    "                break\n",
    "    \n",
    "\n",
    "    # 전체 학습 과정의 결과를 JSON 파일로 저장\n",
    "    with open('Deep_model_info.json', 'w') as f:\n",
    "        json.dump(model_info, f, indent=4)\n",
    "\n",
    "\n",
    "\n",
    "    # 최고 AUPRC 값을 가진 모델의 정보 출력\n",
    "    print(\"-\" * 42)\n",
    "    print(\"<Best AUPRC Model's Performance>\")\n",
    "    if best_auprc_info is not None:\n",
    "        items = list(best_auprc_info.items())\n",
    "        for i, (key, value) in enumerate(items):\n",
    "            print(f\"[{key}]: {value:.4f}\" + (\" <- Pick It Up!\" if i == len(items) - 1 else \"\"))\n",
    "\n",
    "\n",
    "\n",
    "train_model()"
   ]
  },
  {
   "cell_type": "markdown",
   "metadata": {},
   "source": [
    "## Train 결과 확인"
   ]
  },
  {
   "cell_type": "code",
   "execution_count": 4,
   "metadata": {},
   "outputs": [
    {
     "data": {
      "image/png": "[encoded data removed]",
      "text/plain": [
       "<Figure size 1000x600 with 4 Axes>"
      ]
     },
     "metadata": {},
     "output_type": "display_data"
    }
   ],
   "source": [
    "def plot_prediction_comparison(true_labels, predicted_labels, subplot_position):\n",
    "    \"\"\"\n",
    "    서브플롯 위치에 실제 라벨과 예측 라벨을 비교하는 그래프를 그립니다.\n",
    "    :param true_labels: 실제 라벨\n",
    "    :param predicted_labels: 예측 라벨\n",
    "    :param subplot_position: subplot의 위치\n",
    "    \"\"\"\n",
    "    plt.subplot(subplot_position)\n",
    "    plt.plot(true_labels, label='실제 라벨', lw=1)\n",
    "    plt.plot(predicted_labels, label='예측 라벨', linestyle='--')\n",
    "    plt.title('실제 라벨 vs 예측 라벨', fontsize=12)\n",
    "    plt.xlabel('Sample', fontsize=8)\n",
    "    plt.ylabel('Label', fontsize=8)\n",
    "    plt.legend()\n",
    "\n",
    "\n",
    "def plot_metric_subplot(train_metric, val_metric, metric_name, subplot_position):\n",
    "    \"\"\"\n",
    "    서브플롯 위치에 성능 지표에 대한 그래프를 그립니다.\n",
    "    :param train_metric: 훈련 데이터의 성능 지표\n",
    "    :param val_metric: 검증 데이터의 성능 지표\n",
    "    :param metric_name: 그래프에 표시할 성능 지표의 이름\n",
    "    :param subplot_position: subplot의 위치 (예: 221, 222, 223, 224)\n",
    "    \"\"\"\n",
    "    plt.subplot(subplot_position)\n",
    "    epochs = range(1, len(train_metric) + 1)\n",
    "    plt.plot(epochs, train_metric, 'b-', label='Train', lw=1)\n",
    "    plt.plot(epochs, val_metric, 'r-', label='Valid', lw=1)\n",
    "    plt.title(metric_name, fontsize=12)\n",
    "    plt.xlabel('Epochs', fontsize=8)\n",
    "\n",
    "\n",
    "\n",
    "    # Y축 눈금을 소수점 두 자리 형식으로 설정\n",
    "    ax = plt.gca()\n",
    "    y_vals = ax.get_yticks()\n",
    "    ax.yaxis.set_major_locator(FixedLocator(y_vals))\n",
    "    ax.set_yticklabels(['{:.2f}'.format(y) for y in y_vals])\n",
    "\n",
    "    plt.legend()\n",
    "\n",
    "\n",
    "\n",
    "# 성능 지표를 파일에서 불러오는 함수\n",
    "def load_metrics(filename):\n",
    "    with open(filename, 'r') as file:\n",
    "        data = json.load(file)\n",
    "        train_losses = [epoch_info['train_loss'] for epoch_info in data.values()]\n",
    "        val_losses = [epoch_info['valid_loss'] for epoch_info in data.values()]\n",
    "        train_accuracies = [epoch_info['train_accuracy'] for epoch_info in data.values()]\n",
    "        val_accuracies = [epoch_info['valid_accuracy'] for epoch_info in data.values()]\n",
    "        train_aurocs = [epoch_info['train_auroc'] for epoch_info in data.values()]\n",
    "        val_aurocs = [epoch_info['valid_auroc'] for epoch_info in data.values()]\n",
    "        train_auprcs = [epoch_info['train_auprc'] for epoch_info in data.values()]\n",
    "        val_auprcs = [epoch_info['valid_auprc'] for epoch_info in data.values()]\n",
    "        return train_losses, val_losses, train_accuracies, val_accuracies, train_aurocs, val_aurocs, train_auprcs, val_auprcs\n",
    "\n",
    "# 파일에서 성능 지표를 불러옵니다.\n",
    "train_losses, val_losses, train_accuracies, val_accuracies, train_aurocs, val_aurocs, train_auprcs, val_auprcs = load_metrics('model_info.json')\n",
    "\n",
    "\n",
    "\n",
    "# 2x2 격자 형태로 그래프 그리기\n",
    "plt.figure(figsize=(10, 6))  # 전체 그래프의 크기 설정\n",
    "plt.suptitle('Performance Metrics', fontsize=16)\n",
    "\n",
    "plot_metric_subplot(train_losses, val_losses, 'Loss', 221)\n",
    "plot_metric_subplot(train_accuracies, val_accuracies, 'Accuracy', 222)\n",
    "plot_metric_subplot(train_aurocs, val_aurocs, 'AUROC', 223)\n",
    "plot_metric_subplot(train_auprcs, val_auprcs, 'AUPRC', 224)\n",
    "\n",
    "plt.subplots_adjust(left=0.125, bottom=0.1,  right=0.9, top=0.9, wspace=0.2, hspace=0.6)\n",
    "plt.show()\n"
   ]
  },
  {
   "cell_type": "markdown",
   "metadata": {},
   "source": [
    "# Test"
   ]
  },
  {
   "cell_type": "code",
   "execution_count": 23,
   "metadata": {},
   "outputs": [],
   "source": [
    "# ROC 커브와 PRC 그리기\n",
    "def plot_roc_and_prc(y_true, y_pred, data_name):\n",
    "    # ROC 커브\n",
    "    fpr, tpr, _ = roc_curve(y_true, y_pred)\n",
    "    plt.figure(figsize=(12, 5))\n",
    "    plt.subplot(1, 2, 1)\n",
    "    plt.plot(fpr, tpr, color='darkorange', lw=2, label='ROC curve')\n",
    "    plt.plot([0, 1], [0, 1], color='black', lw=1, linestyle='--')\n",
    "    plt.xlabel('False Positive Rate')\n",
    "    plt.ylabel('True Positive Rate')\n",
    "    plt.title(f'ROC Curve for {data_name}')\n",
    "    plt.legend(loc=\"lower right\")\n",
    "\n",
    "    # PRC\n",
    "    precision, recall, _ = precision_recall_curve(y_true, y_pred)\n",
    "    plt.subplot(1, 2, 2)\n",
    "    plt.plot(recall, precision, color='green', lw=2, label='PR curve')\n",
    "    plt.xlabel('Recall')\n",
    "    plt.ylabel('Precision')\n",
    "    plt.title(f'Precision-Recall Curve for {data_name}')\n",
    "    plt.legend(loc=\"lower left\")\n",
    "    plt.show()\n",
    "\n",
    "\n",
    "# # Youden Index를 사용하여 최적의 임계값 찾기\n",
    "# def find_optimal_cutoff(y_true, y_pred):\n",
    "#     fpr, tpr, thresholds = roc_curve(y_true, y_pred)\n",
    "#     youden_index = tpr - fpr\n",
    "#     optimal_idx = np.argmax(youden_index)\n",
    "#     optimal_threshold = thresholds[optimal_idx]\n",
    "#     return optimal_threshold\n",
    "\n",
    "\n",
    "# AUPRC를 사용하여 최적의 임계값 찾기\n",
    "def find_optimal_threshold_by_auprc(y_true, y_pred):\n",
    "    precision, recall, thresholds = precision_recall_curve(y_true, y_pred)\n",
    "    f1_scores = []\n",
    "\n",
    "    for p, r in zip(precision, recall):\n",
    "        if p + r == 0:\n",
    "            f1_scores.append(0)\n",
    "        else:\n",
    "            f1_scores.append(2 * p * r / (p + r))\n",
    "\n",
    "    optimal_idx = np.argmax(f1_scores)\n",
    "    optimal_threshold = thresholds[optimal_idx]\n",
    "    return optimal_threshold\n",
    "\n",
    "\n",
    "# Confusion Matrix 시각화 및 정밀도, 재현율, F1 점수 출력\n",
    "def plot_confusion_matrix(y_true, y_pred, thresh, data_name):\n",
    "    cm = confusion_matrix(y_true, y_pred > thresh)\n",
    "    sns.heatmap(cm, annot=True, fmt='d', cmap='Blues')\n",
    "    plt.title(f'Confusion Matrix for {data_name}')\n",
    "    plt.ylabel('Actual')\n",
    "    plt.xlabel('Predicted')\n",
    "    plt.show()\n",
    "\n",
    "    # 혼동 행렬로부터 TP, FP, FN, TN 추출\n",
    "    TP = cm[1, 1]\n",
    "    FP = cm[0, 1]\n",
    "    FN = cm[1, 0]\n",
    "    TN = cm[0, 0]\n",
    "\n",
    "    # 정밀도, 재현율, F1 점수 계산\n",
    "    precision = TP / (TP + FP)\n",
    "    recall = TP / (TP + FN)\n",
    "    f1_score = 2 * (precision * recall) / (precision + recall)\n",
    "\n",
    "    # 계산된 지표 출력\n",
    "    print(f\"정밀도 (Precision): {precision:.4f}\")\n",
    "    print(f\"재현율 (Recall): {recall:.4f}\")\n",
    "    print(f\"F1 점수 (F1 Score): {f1_score:.4f}\")\n",
    "\n",
    "\n",
    "criterion = nn.BCEWithLogitsLoss()\n",
    "\n",
    "def test_model(model, test_loader, data_name):\n",
    "    device = torch.device(\"cuda\" if torch.cuda.is_available() else \"cpu\")\n",
    "    model = model.to(device)\n",
    "    model.eval()\n",
    "\n",
    "    test_loss, test_preds, test_targets = 0.0, [], []\n",
    "    with torch.no_grad():\n",
    "        for inputs, labels in tqdm(test_loader, desc=f\"Testing {data_name}\"):\n",
    "            inputs, labels = inputs.to(device), labels.to(device)\n",
    "            outputs = model(inputs)\n",
    "            test_loss += criterion(outputs.view(-1), labels.float()).item()\n",
    "            test_preds.extend(torch.sigmoid(outputs).view(-1).cpu().detach().numpy())\n",
    "            test_targets.extend(labels.cpu().numpy())\n",
    "\n",
    "    # AUPRC를 기반으로 계산된 최적의 임계값을 얻기 위해 위에서 정의한 함수를 호출합니다.\n",
    "    optimal_threshold = find_optimal_threshold_by_auprc(test_targets, test_preds)\n",
    "    test_accuracy = accuracy_score(test_targets, np.array(test_preds) > optimal_threshold)\n",
    "    test_loss /= len(test_loader)\n",
    "    test_auroc = roc_auc_score(test_targets, test_preds)\n",
    "    test_auprc = average_precision_score(test_targets, test_preds)\n",
    "\n",
    "    print(f'[{data_name} Test] AUROC: {test_auroc:.4f} / AUPRC: {test_auprc:.4f} / Accuracy: {test_accuracy * 100:.2f}% / Loss: {test_loss:.4f}')\n",
    "    \n",
    "    plot_roc_and_prc(test_targets, test_preds, data_name)\n",
    "    plot_confusion_matrix(test_targets, test_preds, optimal_threshold, data_name)\n",
    "\n",
    "\n",
    "def test_datasets(model_class, model_filename):\n",
    "    try:\n",
    "        model = model_class()\n",
    "        model.load_state_dict(torch.load(model_filename))\n",
    "\n",
    "        # PTB 데이터셋 테스트\n",
    "        _, _, ptb_test_loader = create_dataloaders()\n",
    "        test_model(model, ptb_test_loader, \"PTB\")\n",
    "\n",
    "        # SPH 데이터셋 테스트\n",
    "        sph_test_loader = load_sph_data()\n",
    "        test_model(model, sph_test_loader, \"SPH\")\n",
    "\n",
    "    except Exception as e:\n",
    "        print(f\"Testing failed: {e}\")"
   ]
  },
  {
   "cell_type": "code",
   "execution_count": 25,
   "metadata": {},
   "outputs": [
    {
     "name": "stdout",
     "output_type": "stream",
     "text": [
      "Testing failed: Error(s) in loading state_dict for CNNLSTMModel:\n",
      "\tMissing key(s) in state_dict: \"bn1.weight\", \"bn1.bias\", \"bn1.running_mean\", \"bn1.running_var\", \"bn2.weight\", \"bn2.bias\", \"bn2.running_mean\", \"bn2.running_var\", \"bn3.weight\", \"bn3.bias\", \"bn3.running_mean\", \"bn3.running_var\". \n",
      "\tsize mismatch for conv1.weight: copying a param with shape torch.Size([64, 1, 20]) from checkpoint, the shape in current model is torch.Size([64, 1, 5]).\n",
      "\tsize mismatch for conv2.weight: copying a param with shape torch.Size([32, 64, 10]) from checkpoint, the shape in current model is torch.Size([32, 64, 5]).\n"
     ]
    }
   ],
   "source": [
    "# 두 데이터셋을 함께 테스트\n",
    "test_datasets(CNNLSTMModel, '/DATA/workspace/harbud/ecg/custom_file/CNNLSTMModel_adam.pth')"
   ]
  },
  {
   "cell_type": "code",
   "execution_count": null,
   "metadata": {},
   "outputs": [],
   "source": []
  }
 ],
 "metadata": {
  "kernelspec": {
   "display_name": "Python 3",
   "language": "python",
   "name": "python3"
  },
  "language_info": {
   "codemirror_mode": {
    "name": "ipython",
    "version": 3
   },
   "file_extension": ".py",
   "mimetype": "text/x-python",
   "name": "python",
   "nbconvert_exporter": "python",
   "pygments_lexer": "ipython3",
   "version": "3.8.10"
  }
 },
 "nbformat": 4,
 "nbformat_minor": 2
}
